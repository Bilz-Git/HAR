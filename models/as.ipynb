{
 "cells": [
  {
   "cell_type": "code",
   "execution_count": 6,
   "metadata": {},
   "outputs": [
    {
     "name": "stdout",
     "output_type": "stream",
     "text": [
      " * Serving Flask app '__main__'\n",
      " * Debug mode: off\n"
     ]
    },
    {
     "name": "stderr",
     "output_type": "stream",
     "text": [
      "\u001b[31m\u001b[1mWARNING: This is a development server. Do not use it in a production deployment. Use a production WSGI server instead.\u001b[0m\n",
      " * Running on all addresses (0.0.0.0)\n",
      " * Running on http://127.0.0.1:8888\n",
      " * Running on http://143.248.57.55:8888\n",
      "\u001b[33mPress CTRL+C to quit\u001b[0m\n"
     ]
    }
   ],
   "source": [
    "from flask import Flask, request, jsonify\n",
    "\n",
    "app = Flask(__name__)\n",
    "\n",
    "@app.route('/api/accelerometer', methods=['POST'])\n",
    "def predict_activity():\n",
    "    data = request.get_json()\n",
    "    x = data['x']\n",
    "    y = data['y']\n",
    "    z = data['z']\n",
    "    \n",
    "    # TODO: Add your prediction code here\n",
    "    # Replace 'walking' with your actual prediction\n",
    "    prediction = 'walking'\n",
    "    \n",
    "    return jsonify({'prediction': prediction})\n",
    "\n",
    "if __name__ == '__main__':\n",
    "    #app.run()\n",
    "    app.run(host='0.0.0.0', port=8888)\n"
   ]
  },
  {
   "cell_type": "code",
   "execution_count": 2,
   "metadata": {},
   "outputs": [
    {
     "name": "stdout",
     "output_type": "stream",
     "text": [
      " * Serving Flask app \"__main__\" (lazy loading)\n",
      " * Environment: production\n",
      "\u001b[31m   WARNING: This is a development server. Do not use it in a production deployment.\u001b[0m\n",
      "\u001b[2m   Use a production WSGI server instead.\u001b[0m\n",
      " * Debug mode: off\n"
     ]
    },
    {
     "name": "stderr",
     "output_type": "stream",
     "text": [
      " * Running on all addresses.\n",
      "   WARNING: This is a development server. Do not use it in a production deployment.\n",
      " * Running on http://143.248.57.55:11111/ (Press CTRL+C to quit)\n",
      "143.248.53.23 - - [28/Feb/2023 19:33:07] \"GET /api/accelerometer?x=-134.00&y=630.00&z=-804.00 HTTP/1.1\" 200 -\n"
     ]
    },
    {
     "name": "stdout",
     "output_type": "stream",
     "text": [
      "Received !!!\n",
      "x =  -134.00 y =  630.00  and z=  -804.00\n",
      "Received !!!\n",
      "x =  -137.00 y =  630.00  and z=  -820.00\n"
     ]
    },
    {
     "name": "stderr",
     "output_type": "stream",
     "text": [
      "143.248.53.23 - - [28/Feb/2023 19:33:07] \"GET /api/accelerometer?x=-137.00&y=630.00&z=-820.00 HTTP/1.1\" 200 -\n",
      "143.248.53.23 - - [28/Feb/2023 19:33:07] \"GET /api/accelerometer?x=-138.00&y=629.00&z=-818.00 HTTP/1.1\" 200 -\n",
      "143.248.53.23 - - [28/Feb/2023 19:33:07] \"GET /api/accelerometer?x=-143.00&y=625.00&z=-809.00 HTTP/1.1\" 200 -\n"
     ]
    },
    {
     "name": "stdout",
     "output_type": "stream",
     "text": [
      "Received !!!\n",
      "x =  -138.00 y =  629.00  and z=  -818.00\n",
      "Received !!!\n",
      "x =  -143.00 y =  625.00  and z=  -809.00\n"
     ]
    },
    {
     "name": "stderr",
     "output_type": "stream",
     "text": [
      "143.248.53.23 - - [28/Feb/2023 19:33:07] \"GET /api/accelerometer?x=-132.00&y=630.00&z=-814.00 HTTP/1.1\" 200 -\n",
      "143.248.53.23 - - [28/Feb/2023 19:33:08] \"GET /api/accelerometer?x=-156.00&y=629.00&z=-819.00 HTTP/1.1\" 200 -\n"
     ]
    },
    {
     "name": "stdout",
     "output_type": "stream",
     "text": [
      "Received !!!\n",
      "x =  -132.00 y =  630.00  and z=  -814.00\n",
      "Received !!!\n",
      "x =  -156.00 y =  629.00  and z=  -819.00\n"
     ]
    },
    {
     "name": "stderr",
     "output_type": "stream",
     "text": [
      "143.248.53.23 - - [28/Feb/2023 19:33:08] \"GET /api/accelerometer?x=-149.00&y=628.00&z=-814.00 HTTP/1.1\" 200 -\n"
     ]
    },
    {
     "name": "stdout",
     "output_type": "stream",
     "text": [
      "Received !!!\n",
      "x =  -149.00 y =  628.00  and z=  -814.00\n"
     ]
    },
    {
     "name": "stderr",
     "output_type": "stream",
     "text": [
      "143.248.53.23 - - [28/Feb/2023 19:33:08] \"GET /api/accelerometer?x=-146.00&y=630.00&z=-817.00 HTTP/1.1\" 200 -\n",
      "143.248.53.23 - - [28/Feb/2023 19:33:08] \"GET /api/accelerometer?x=-150.00&y=627.00&z=-811.00 HTTP/1.1\" 200 -\n"
     ]
    },
    {
     "name": "stdout",
     "output_type": "stream",
     "text": [
      "Received !!!\n",
      "x =  -146.00 y =  630.00  and z=  -817.00\n",
      "Received !!!\n",
      "x =  -150.00 y =  627.00  and z=  -811.00\n"
     ]
    },
    {
     "name": "stderr",
     "output_type": "stream",
     "text": [
      "143.248.53.23 - - [28/Feb/2023 19:33:08] \"GET /api/accelerometer?x=-139.00&y=631.00&z=-814.00 HTTP/1.1\" 200 -\n"
     ]
    },
    {
     "name": "stdout",
     "output_type": "stream",
     "text": [
      "Received !!!\n",
      "x =  -139.00 y =  631.00  and z=  -814.00\n"
     ]
    },
    {
     "name": "stderr",
     "output_type": "stream",
     "text": [
      "143.248.53.23 - - [28/Feb/2023 19:33:09] \"GET /api/accelerometer?x=-200.00&y=602.00&z=-836.00 HTTP/1.1\" 200 -\n"
     ]
    },
    {
     "name": "stdout",
     "output_type": "stream",
     "text": [
      "Received !!!\n",
      "x =  -200.00 y =  602.00  and z=  -836.00\n"
     ]
    },
    {
     "name": "stderr",
     "output_type": "stream",
     "text": [
      "143.248.53.23 - - [28/Feb/2023 19:33:09] \"GET /api/accelerometer?x=-208.00&y=573.00&z=-834.00 HTTP/1.1\" 200 -\n"
     ]
    },
    {
     "name": "stdout",
     "output_type": "stream",
     "text": [
      "Received !!!\n",
      "x =  -208.00 y =  573.00  and z=  -834.00\n"
     ]
    },
    {
     "name": "stderr",
     "output_type": "stream",
     "text": [
      "143.248.53.23 - - [28/Feb/2023 19:33:10] \"GET /api/accelerometer?x=-380.00&y=462.00&z=-844.00 HTTP/1.1\" 200 -\n"
     ]
    },
    {
     "name": "stdout",
     "output_type": "stream",
     "text": [
      "Received !!!\n",
      "x =  -380.00 y =  462.00  and z=  -844.00\n"
     ]
    },
    {
     "name": "stderr",
     "output_type": "stream",
     "text": [
      "143.248.53.23 - - [28/Feb/2023 19:33:10] \"GET /api/accelerometer?x=-498.00&y=297.00&z=-983.00 HTTP/1.1\" 200 -\n",
      "143.248.53.23 - - [28/Feb/2023 19:33:10] \"GET /api/accelerometer?x=-462.00&y=292.00&z=-876.00 HTTP/1.1\" 200 -\n"
     ]
    },
    {
     "name": "stdout",
     "output_type": "stream",
     "text": [
      "Received !!!\n",
      "x =  -498.00 y =  297.00  and z=  -983.00\n",
      "Received !!!\n",
      "x =  -462.00 y =  292.00  and z=  -876.00\n"
     ]
    },
    {
     "name": "stderr",
     "output_type": "stream",
     "text": [
      "143.248.53.23 - - [28/Feb/2023 19:33:10] \"GET /api/accelerometer?x=-471.00&y=288.00&z=-873.00 HTTP/1.1\" 200 -\n",
      "143.248.53.23 - - [28/Feb/2023 19:33:10] \"GET /api/accelerometer?x=-475.00&y=281.00&z=-873.00 HTTP/1.1\" 200 -\n"
     ]
    },
    {
     "name": "stdout",
     "output_type": "stream",
     "text": [
      "Received !!!\n",
      "x =  -471.00 y =  288.00  and z=  -873.00\n",
      "Received !!!\n",
      "x =  -475.00 y =  281.00  and z=  -873.00\n"
     ]
    },
    {
     "name": "stderr",
     "output_type": "stream",
     "text": [
      "143.248.53.23 - - [28/Feb/2023 19:33:11] \"GET /api/accelerometer?x=-479.00&y=281.00&z=-869.00 HTTP/1.1\" 200 -\n",
      "143.248.53.23 - - [28/Feb/2023 19:33:11] \"GET /api/accelerometer?x=-486.00&y=278.00&z=-867.00 HTTP/1.1\" 200 -\n"
     ]
    },
    {
     "name": "stdout",
     "output_type": "stream",
     "text": [
      "Received !!!\n",
      "x =  -479.00 y =  281.00  and z=  -869.00\n",
      "Received !!!\n",
      "x =  -486.00 y =  278.00  and z=  -867.00\n"
     ]
    },
    {
     "name": "stderr",
     "output_type": "stream",
     "text": [
      "143.248.53.23 - - [28/Feb/2023 19:33:11] \"GET /api/accelerometer?x=-489.00&y=277.00&z=-865.00 HTTP/1.1\" 200 -\n",
      "143.248.53.23 - - [28/Feb/2023 19:33:11] \"GET /api/accelerometer?x=-493.00&y=276.00&z=-865.00 HTTP/1.1\" 200 -\n"
     ]
    },
    {
     "name": "stdout",
     "output_type": "stream",
     "text": [
      "Received !!!\n",
      "x =  -489.00 y =  277.00  and z=  -865.00\n",
      "Received !!!\n",
      "x =  -493.00 y =  276.00  and z=  -865.00\n"
     ]
    },
    {
     "name": "stderr",
     "output_type": "stream",
     "text": [
      "143.248.53.23 - - [28/Feb/2023 19:33:11] \"GET /api/accelerometer?x=-496.00&y=271.00&z=-860.00 HTTP/1.1\" 200 -\n",
      "143.248.53.23 - - [28/Feb/2023 19:33:11] \"GET /api/accelerometer?x=-500.00&y=271.00&z=-859.00 HTTP/1.1\" 200 -\n"
     ]
    },
    {
     "name": "stdout",
     "output_type": "stream",
     "text": [
      "Received !!!\n",
      "x =  -496.00 y =  271.00  and z=  -860.00\n",
      "Received !!!\n",
      "x =  -500.00 y =  271.00  and z=  -859.00\n"
     ]
    },
    {
     "name": "stderr",
     "output_type": "stream",
     "text": [
      "143.248.53.23 - - [28/Feb/2023 19:33:12] \"GET /api/accelerometer?x=-505.00&y=269.00&z=-860.00 HTTP/1.1\" 200 -\n",
      "143.248.53.23 - - [28/Feb/2023 19:33:12] \"GET /api/accelerometer?x=-506.00&y=270.00&z=-857.00 HTTP/1.1\" 200 -\n"
     ]
    },
    {
     "name": "stdout",
     "output_type": "stream",
     "text": [
      "Received !!!\n",
      "x =  -505.00 y =  269.00  and z=  -860.00\n",
      "Received !!!\n",
      "x =  -506.00 y =  270.00  and z=  -857.00\n"
     ]
    },
    {
     "name": "stderr",
     "output_type": "stream",
     "text": [
      "143.248.53.23 - - [28/Feb/2023 19:33:12] \"GET /api/accelerometer?x=-509.00&y=269.00&z=-856.00 HTTP/1.1\" 200 -\n",
      "143.248.53.23 - - [28/Feb/2023 19:33:12] \"GET /api/accelerometer?x=-510.00&y=269.00&z=-856.00 HTTP/1.1\" 200 -\n"
     ]
    },
    {
     "name": "stdout",
     "output_type": "stream",
     "text": [
      "Received !!!\n",
      "x =  -509.00 y =  269.00  and z=  -856.00\n",
      "Received !!!\n",
      "x =  -510.00 y =  269.00  and z=  -856.00\n"
     ]
    },
    {
     "name": "stderr",
     "output_type": "stream",
     "text": [
      "143.248.53.23 - - [28/Feb/2023 19:33:12] \"GET /api/accelerometer?x=-514.00&y=265.00&z=-854.00 HTTP/1.1\" 200 -\n",
      "143.248.53.23 - - [28/Feb/2023 19:33:12] \"GET /api/accelerometer?x=-516.00&y=269.00&z=-852.00 HTTP/1.1\" 200 -\n"
     ]
    },
    {
     "name": "stdout",
     "output_type": "stream",
     "text": [
      "Received !!!\n",
      "x =  -514.00 y =  265.00  and z=  -854.00\n",
      "Received !!!\n",
      "x =  -516.00 y =  269.00  and z=  -852.00\n"
     ]
    },
    {
     "name": "stderr",
     "output_type": "stream",
     "text": [
      "143.248.53.23 - - [28/Feb/2023 19:33:12] \"GET /api/accelerometer?x=-518.00&y=267.00&z=-851.00 HTTP/1.1\" 200 -\n",
      "143.248.53.23 - - [28/Feb/2023 19:33:13] \"GET /api/accelerometer?x=-520.00&y=265.00&z=-854.00 HTTP/1.1\" 200 -\n"
     ]
    },
    {
     "name": "stdout",
     "output_type": "stream",
     "text": [
      "Received !!!\n",
      "x =  -518.00 y =  267.00  and z=  -851.00\n",
      "Received !!!\n",
      "x =  -520.00 y =  265.00  and z=  -854.00\n"
     ]
    },
    {
     "name": "stderr",
     "output_type": "stream",
     "text": [
      "143.248.53.23 - - [28/Feb/2023 19:33:13] \"GET /api/accelerometer?x=-524.00&y=265.00&z=-849.00 HTTP/1.1\" 200 -\n",
      "143.248.53.23 - - [28/Feb/2023 19:33:13] \"GET /api/accelerometer?x=-524.00&y=264.00&z=-848.00 HTTP/1.1\" 200 -\n"
     ]
    },
    {
     "name": "stdout",
     "output_type": "stream",
     "text": [
      "Received !!!\n",
      "x =  -524.00 y =  265.00  and z=  -849.00\n",
      "Received !!!\n",
      "x =  -524.00 y =  264.00  and z=  -848.00\n"
     ]
    },
    {
     "name": "stderr",
     "output_type": "stream",
     "text": [
      "143.248.53.23 - - [28/Feb/2023 19:33:13] \"GET /api/accelerometer?x=-527.00&y=262.00&z=-848.00 HTTP/1.1\" 200 -\n",
      "143.248.53.23 - - [28/Feb/2023 19:33:13] \"GET /api/accelerometer?x=-529.00&y=264.00&z=-847.00 HTTP/1.1\" 200 -\n"
     ]
    },
    {
     "name": "stdout",
     "output_type": "stream",
     "text": [
      "Received !!!\n",
      "x =  -527.00 y =  262.00  and z=  -848.00\n",
      "Received !!!\n",
      "x =  -529.00 y =  264.00  and z=  -847.00\n"
     ]
    },
    {
     "name": "stderr",
     "output_type": "stream",
     "text": [
      "143.248.53.23 - - [28/Feb/2023 19:33:13] \"GET /api/accelerometer?x=-531.00&y=263.00&z=-844.00 HTTP/1.1\" 200 -\n",
      "143.248.53.23 - - [28/Feb/2023 19:33:14] \"GET /api/accelerometer?x=-533.00&y=263.00&z=-846.00 HTTP/1.1\" 200 -\n"
     ]
    },
    {
     "name": "stdout",
     "output_type": "stream",
     "text": [
      "Received !!!\n",
      "x =  -531.00 y =  263.00  and z=  -844.00\n",
      "Received !!!\n",
      "x =  -533.00 y =  263.00  and z=  -846.00\n"
     ]
    },
    {
     "name": "stderr",
     "output_type": "stream",
     "text": [
      "143.248.53.23 - - [28/Feb/2023 19:33:14] \"GET /api/accelerometer?x=-535.00&y=261.00&z=-844.00 HTTP/1.1\" 200 -\n",
      "143.248.53.23 - - [28/Feb/2023 19:33:14] \"GET /api/accelerometer?x=-537.00&y=261.00&z=-843.00 HTTP/1.1\" 200 -\n"
     ]
    },
    {
     "name": "stdout",
     "output_type": "stream",
     "text": [
      "Received !!!\n",
      "x =  -535.00 y =  261.00  and z=  -844.00\n",
      "Received !!!\n",
      "x =  -537.00 y =  261.00  and z=  -843.00\n"
     ]
    },
    {
     "name": "stderr",
     "output_type": "stream",
     "text": [
      "143.248.53.23 - - [28/Feb/2023 19:33:14] \"GET /api/accelerometer?x=-537.00&y=260.00&z=-842.00 HTTP/1.1\" 200 -\n",
      "143.248.53.23 - - [28/Feb/2023 19:33:14] \"GET /api/accelerometer?x=-540.00&y=260.00&z=-841.00 HTTP/1.1\" 200 -\n"
     ]
    },
    {
     "name": "stdout",
     "output_type": "stream",
     "text": [
      "Received !!!\n",
      "x =  -537.00 y =  260.00  and z=  -842.00\n",
      "Received !!!\n",
      "x =  -540.00 y =  260.00  and z=  -841.00\n"
     ]
    },
    {
     "name": "stderr",
     "output_type": "stream",
     "text": [
      "143.248.53.23 - - [28/Feb/2023 19:33:15] \"GET /api/accelerometer?x=-540.00&y=260.00&z=-840.00 HTTP/1.1\" 200 -\n",
      "143.248.53.23 - - [28/Feb/2023 19:33:15] \"GET /api/accelerometer?x=-543.00&y=259.00&z=-841.00 HTTP/1.1\" 200 -\n"
     ]
    },
    {
     "name": "stdout",
     "output_type": "stream",
     "text": [
      "Received !!!\n",
      "x =  -540.00 y =  260.00  and z=  -840.00\n",
      "Received !!!\n",
      "x =  -543.00 y =  259.00  and z=  -841.00\n"
     ]
    },
    {
     "name": "stderr",
     "output_type": "stream",
     "text": [
      "143.248.53.23 - - [28/Feb/2023 19:33:15] \"GET /api/accelerometer?x=-544.00&y=259.00&z=-839.00 HTTP/1.1\" 200 -\n"
     ]
    },
    {
     "name": "stdout",
     "output_type": "stream",
     "text": [
      "Received !!!\n",
      "x =  -544.00 y =  259.00  and z=  -839.00\n"
     ]
    },
    {
     "name": "stderr",
     "output_type": "stream",
     "text": [
      "143.248.53.23 - - [28/Feb/2023 19:33:15] \"GET /api/accelerometer?x=-546.00&y=257.00&z=-837.00 HTTP/1.1\" 200 -\n",
      "143.248.53.23 - - [28/Feb/2023 19:33:15] \"GET /api/accelerometer?x=-547.00&y=257.00&z=-838.00 HTTP/1.1\" 200 -\n"
     ]
    },
    {
     "name": "stdout",
     "output_type": "stream",
     "text": [
      "Received !!!\n",
      "x =  -546.00 y =  257.00  and z=  -837.00\n",
      "Received !!!\n",
      "x =  -547.00 y =  257.00  and z=  -838.00\n"
     ]
    },
    {
     "name": "stderr",
     "output_type": "stream",
     "text": [
      "143.248.53.23 - - [28/Feb/2023 19:33:15] \"GET /api/accelerometer?x=-547.00&y=257.00&z=-837.00 HTTP/1.1\" 200 -\n",
      "143.248.53.23 - - [28/Feb/2023 19:33:16] \"GET /api/accelerometer?x=-550.00&y=256.00&z=-836.00 HTTP/1.1\" 200 -\n"
     ]
    },
    {
     "name": "stdout",
     "output_type": "stream",
     "text": [
      "Received !!!\n",
      "x =  -547.00 y =  257.00  and z=  -837.00\n",
      "Received !!!\n",
      "x =  -550.00 y =  256.00  and z=  -836.00\n"
     ]
    },
    {
     "name": "stderr",
     "output_type": "stream",
     "text": [
      "143.248.53.23 - - [28/Feb/2023 19:33:16] \"GET /api/accelerometer?x=-550.00&y=257.00&z=-835.00 HTTP/1.1\" 200 -\n",
      "143.248.53.23 - - [28/Feb/2023 19:33:16] \"GET /api/accelerometer?x=-551.00&y=256.00&z=-835.00 HTTP/1.1\" 200 -\n"
     ]
    },
    {
     "name": "stdout",
     "output_type": "stream",
     "text": [
      "Received !!!\n",
      "x =  -550.00 y =  257.00  and z=  -835.00\n",
      "Received !!!\n",
      "x =  -551.00 y =  256.00  and z=  -835.00\n"
     ]
    },
    {
     "name": "stderr",
     "output_type": "stream",
     "text": [
      "143.248.53.23 - - [28/Feb/2023 19:33:16] \"GET /api/accelerometer?x=-551.00&y=255.00&z=-834.00 HTTP/1.1\" 200 -\n"
     ]
    },
    {
     "name": "stdout",
     "output_type": "stream",
     "text": [
      "Received !!!\n",
      "x =  -551.00 y =  255.00  and z=  -834.00\n"
     ]
    },
    {
     "name": "stderr",
     "output_type": "stream",
     "text": [
      "143.248.53.23 - - [28/Feb/2023 19:33:16] \"GET /api/accelerometer?x=-555.00&y=256.00&z=-833.00 HTTP/1.1\" 200 -\n",
      "143.248.53.23 - - [28/Feb/2023 19:33:16] \"GET /api/accelerometer?x=-554.00&y=256.00&z=-833.00 HTTP/1.1\" 200 -\n"
     ]
    },
    {
     "name": "stdout",
     "output_type": "stream",
     "text": [
      "Received !!!\n",
      "x =  -555.00 y =  256.00  and z=  -833.00\n",
      "Received !!!\n",
      "x =  -554.00 y =  256.00  and z=  -833.00\n"
     ]
    },
    {
     "name": "stderr",
     "output_type": "stream",
     "text": [
      "143.248.53.23 - - [28/Feb/2023 19:33:17] \"GET /api/accelerometer?x=-557.00&y=255.00&z=-833.00 HTTP/1.1\" 200 -\n",
      "143.248.53.23 - - [28/Feb/2023 19:33:17] \"GET /api/accelerometer?x=-558.00&y=254.00&z=-829.00 HTTP/1.1\" 200 -\n"
     ]
    },
    {
     "name": "stdout",
     "output_type": "stream",
     "text": [
      "Received !!!\n",
      "x =  -557.00 y =  255.00  and z=  -833.00\n",
      "Received !!!\n",
      "x =  -558.00 y =  254.00  and z=  -829.00\n"
     ]
    },
    {
     "name": "stderr",
     "output_type": "stream",
     "text": [
      "143.248.53.23 - - [28/Feb/2023 19:33:17] \"GET /api/accelerometer?x=-558.00&y=255.00&z=-830.00 HTTP/1.1\" 200 -\n",
      "143.248.53.23 - - [28/Feb/2023 19:33:17] \"GET /api/accelerometer?x=-559.00&y=254.00&z=-831.00 HTTP/1.1\" 200 -\n"
     ]
    },
    {
     "name": "stdout",
     "output_type": "stream",
     "text": [
      "Received !!!\n",
      "x =  -558.00 y =  255.00  and z=  -830.00\n",
      "Received !!!\n",
      "x =  -559.00 y =  254.00  and z=  -831.00\n"
     ]
    },
    {
     "name": "stderr",
     "output_type": "stream",
     "text": [
      "143.248.53.23 - - [28/Feb/2023 19:33:17] \"GET /api/accelerometer?x=-558.00&y=254.00&z=-831.00 HTTP/1.1\" 200 -\n",
      "143.248.53.23 - - [28/Feb/2023 19:33:17] \"GET /api/accelerometer?x=-558.00&y=254.00&z=-830.00 HTTP/1.1\" 200 -\n"
     ]
    },
    {
     "name": "stdout",
     "output_type": "stream",
     "text": [
      "Received !!!\n",
      "x =  -558.00 y =  254.00  and z=  -831.00\n",
      "Received !!!\n",
      "x =  -558.00 y =  254.00  and z=  -830.00\n"
     ]
    },
    {
     "name": "stderr",
     "output_type": "stream",
     "text": [
      "143.248.53.23 - - [28/Feb/2023 19:33:18] \"GET /api/accelerometer?x=-560.00&y=253.00&z=-831.00 HTTP/1.1\" 200 -\n",
      "143.248.53.23 - - [28/Feb/2023 19:33:18] \"GET /api/accelerometer?x=-560.00&y=252.00&z=-830.00 HTTP/1.1\" 200 -\n"
     ]
    },
    {
     "name": "stdout",
     "output_type": "stream",
     "text": [
      "Received !!!\n",
      "x =  -560.00 y =  253.00  and z=  -831.00\n",
      "Received !!!\n",
      "x =  -560.00 y =  252.00  and z=  -830.00\n"
     ]
    },
    {
     "name": "stderr",
     "output_type": "stream",
     "text": [
      "143.248.53.23 - - [28/Feb/2023 19:33:18] \"GET /api/accelerometer?x=-561.00&y=254.00&z=-829.00 HTTP/1.1\" 200 -\n",
      "143.248.53.23 - - [28/Feb/2023 19:33:18] \"GET /api/accelerometer?x=-560.00&y=254.00&z=-830.00 HTTP/1.1\" 200 -\n"
     ]
    },
    {
     "name": "stdout",
     "output_type": "stream",
     "text": [
      "Received !!!\n",
      "x =  -561.00 y =  254.00  and z=  -829.00\n",
      "Received !!!\n",
      "x =  -560.00 y =  254.00  and z=  -830.00\n"
     ]
    },
    {
     "name": "stderr",
     "output_type": "stream",
     "text": [
      "143.248.53.23 - - [28/Feb/2023 19:33:18] \"GET /api/accelerometer?x=-561.00&y=253.00&z=-829.00 HTTP/1.1\" 200 -\n"
     ]
    },
    {
     "name": "stdout",
     "output_type": "stream",
     "text": [
      "Received !!!\n",
      "x =  -561.00 y =  253.00  and z=  -829.00\n"
     ]
    },
    {
     "name": "stderr",
     "output_type": "stream",
     "text": [
      "143.248.53.23 - - [28/Feb/2023 19:33:19] \"GET /api/accelerometer?x=-561.00&y=254.00&z=-830.00 HTTP/1.1\" 200 -\n",
      "143.248.53.23 - - [28/Feb/2023 19:33:19] \"GET /api/accelerometer?x=-562.00&y=253.00&z=-830.00 HTTP/1.1\" 200 -\n"
     ]
    },
    {
     "name": "stdout",
     "output_type": "stream",
     "text": [
      "Received !!!\n",
      "x =  -561.00 y =  254.00  and z=  -830.00\n",
      "Received !!!\n",
      "x =  -562.00 y =  253.00  and z=  -830.00\n"
     ]
    },
    {
     "name": "stderr",
     "output_type": "stream",
     "text": [
      "143.248.53.23 - - [28/Feb/2023 19:33:19] \"GET /api/accelerometer?x=-561.00&y=253.00&z=-829.00 HTTP/1.1\" 200 -\n",
      "143.248.53.23 - - [28/Feb/2023 19:33:19] \"GET /api/accelerometer?x=-562.00&y=255.00&z=-828.00 HTTP/1.1\" 200 -\n"
     ]
    },
    {
     "name": "stdout",
     "output_type": "stream",
     "text": [
      "Received !!!\n",
      "x =  -561.00 y =  253.00  and z=  -829.00\n",
      "Received !!!\n",
      "x =  -562.00 y =  255.00  and z=  -828.00\n"
     ]
    },
    {
     "name": "stderr",
     "output_type": "stream",
     "text": [
      "143.248.53.23 - - [28/Feb/2023 19:33:19] \"GET /api/accelerometer?x=-561.00&y=252.00&z=-830.00 HTTP/1.1\" 200 -\n",
      "143.248.53.23 - - [28/Feb/2023 19:33:20] \"GET /api/accelerometer?x=-563.00&y=252.00&z=-827.00 HTTP/1.1\" 200 -\n"
     ]
    },
    {
     "name": "stdout",
     "output_type": "stream",
     "text": [
      "Received !!!\n",
      "x =  -561.00 y =  252.00  and z=  -830.00\n",
      "Received !!!\n",
      "x =  -563.00 y =  252.00  and z=  -827.00\n"
     ]
    },
    {
     "name": "stderr",
     "output_type": "stream",
     "text": [
      "143.248.53.23 - - [28/Feb/2023 19:33:20] \"GET /api/accelerometer?x=-562.00&y=252.00&z=-830.00 HTTP/1.1\" 200 -\n",
      "143.248.53.23 - - [28/Feb/2023 19:33:20] \"GET /api/accelerometer?x=-565.00&y=254.00&z=-827.00 HTTP/1.1\" 200 -\n"
     ]
    },
    {
     "name": "stdout",
     "output_type": "stream",
     "text": [
      "Received !!!\n",
      "x =  -562.00 y =  252.00  and z=  -830.00\n",
      "Received !!!\n",
      "x =  -565.00 y =  254.00  and z=  -827.00\n"
     ]
    },
    {
     "name": "stderr",
     "output_type": "stream",
     "text": [
      "143.248.53.23 - - [28/Feb/2023 19:33:20] \"GET /api/accelerometer?x=-566.00&y=259.00&z=-826.00 HTTP/1.1\" 200 -\n",
      "143.248.53.23 - - [28/Feb/2023 19:33:20] \"GET /api/accelerometer?x=-565.00&y=250.00&z=-824.00 HTTP/1.1\" 200 -\n"
     ]
    },
    {
     "name": "stdout",
     "output_type": "stream",
     "text": [
      "Received !!!\n",
      "x =  -566.00 y =  259.00  and z=  -826.00\n",
      "Received !!!\n",
      "x =  -565.00 y =  250.00  and z=  -824.00\n"
     ]
    },
    {
     "name": "stderr",
     "output_type": "stream",
     "text": [
      "143.248.53.23 - - [28/Feb/2023 19:33:20] \"GET /api/accelerometer?x=-565.00&y=250.00&z=-825.00 HTTP/1.1\" 200 -\n"
     ]
    },
    {
     "name": "stdout",
     "output_type": "stream",
     "text": [
      "Received !!!\n",
      "x =  -565.00 y =  250.00  and z=  -825.00\n"
     ]
    },
    {
     "name": "stderr",
     "output_type": "stream",
     "text": [
      "143.248.53.23 - - [28/Feb/2023 19:33:21] \"GET /api/accelerometer?x=-563.00&y=252.00&z=-828.00 HTTP/1.1\" 200 -\n",
      "143.248.53.23 - - [28/Feb/2023 19:33:21] \"GET /api/accelerometer?x=-563.00&y=251.00&z=-830.00 HTTP/1.1\" 200 -\n"
     ]
    },
    {
     "name": "stdout",
     "output_type": "stream",
     "text": [
      "Received !!!\n",
      "x =  -563.00 y =  252.00  and z=  -828.00\n",
      "Received !!!\n",
      "x =  -563.00 y =  251.00  and z=  -830.00\n"
     ]
    },
    {
     "name": "stderr",
     "output_type": "stream",
     "text": [
      "143.248.53.23 - - [28/Feb/2023 19:33:21] \"GET /api/accelerometer?x=-565.00&y=252.00&z=-828.00 HTTP/1.1\" 200 -\n",
      "143.248.53.23 - - [28/Feb/2023 19:33:21] \"GET /api/accelerometer?x=-565.00&y=252.00&z=-828.00 HTTP/1.1\" 200 -\n"
     ]
    },
    {
     "name": "stdout",
     "output_type": "stream",
     "text": [
      "Received !!!\n",
      "x =  -565.00 y =  252.00  and z=  -828.00\n",
      "Received !!!\n",
      "x =  -565.00 y =  252.00  and z=  -828.00\n"
     ]
    },
    {
     "name": "stderr",
     "output_type": "stream",
     "text": [
      "143.248.53.23 - - [28/Feb/2023 19:33:21] \"GET /api/accelerometer?x=-563.00&y=253.00&z=-827.00 HTTP/1.1\" 200 -\n",
      "143.248.53.23 - - [28/Feb/2023 19:33:21] \"GET /api/accelerometer?x=-564.00&y=251.00&z=-826.00 HTTP/1.1\" 200 -\n"
     ]
    },
    {
     "name": "stdout",
     "output_type": "stream",
     "text": [
      "Received !!!\n",
      "x =  -563.00 y =  253.00  and z=  -827.00\n",
      "Received !!!\n",
      "x =  -564.00 y =  251.00  and z=  -826.00\n"
     ]
    },
    {
     "name": "stderr",
     "output_type": "stream",
     "text": [
      "143.248.53.23 - - [28/Feb/2023 19:33:22] \"GET /api/accelerometer?x=-565.00&y=251.00&z=-826.00 HTTP/1.1\" 200 -\n",
      "143.248.53.23 - - [28/Feb/2023 19:33:22] \"GET /api/accelerometer?x=-565.00&y=251.00&z=-828.00 HTTP/1.1\" 200 -\n"
     ]
    },
    {
     "name": "stdout",
     "output_type": "stream",
     "text": [
      "Received !!!\n",
      "x =  -565.00 y =  251.00  and z=  -826.00\n",
      "Received !!!\n",
      "x =  -565.00 y =  251.00  and z=  -828.00\n"
     ]
    },
    {
     "name": "stderr",
     "output_type": "stream",
     "text": [
      "143.248.53.23 - - [28/Feb/2023 19:33:22] \"GET /api/accelerometer?x=-564.00&y=249.00&z=-827.00 HTTP/1.1\" 200 -\n",
      "143.248.53.23 - - [28/Feb/2023 19:33:22] \"GET /api/accelerometer?x=-567.00&y=252.00&z=-827.00 HTTP/1.1\" 200 -\n"
     ]
    },
    {
     "name": "stdout",
     "output_type": "stream",
     "text": [
      "Received !!!\n",
      "x =  -564.00 y =  249.00  and z=  -827.00\n",
      "Received !!!\n",
      "x =  -567.00 y =  252.00  and z=  -827.00\n"
     ]
    },
    {
     "name": "stderr",
     "output_type": "stream",
     "text": [
      "143.248.53.23 - - [28/Feb/2023 19:33:22] \"GET /api/accelerometer?x=-567.00&y=252.00&z=-827.00 HTTP/1.1\" 200 -\n",
      "143.248.53.23 - - [28/Feb/2023 19:33:23] \"GET /api/accelerometer?x=-565.00&y=253.00&z=-826.00 HTTP/1.1\" 200 -\n"
     ]
    },
    {
     "name": "stdout",
     "output_type": "stream",
     "text": [
      "Received !!!\n",
      "x =  -567.00 y =  252.00  and z=  -827.00\n",
      "Received !!!\n",
      "x =  -565.00 y =  253.00  and z=  -826.00\n"
     ]
    },
    {
     "name": "stderr",
     "output_type": "stream",
     "text": [
      "143.248.53.23 - - [28/Feb/2023 19:33:23] \"GET /api/accelerometer?x=-565.00&y=251.00&z=-826.00 HTTP/1.1\" 200 -\n",
      "143.248.53.23 - - [28/Feb/2023 19:33:23] \"GET /api/accelerometer?x=-566.00&y=251.00&z=-827.00 HTTP/1.1\" 200 -\n"
     ]
    },
    {
     "name": "stdout",
     "output_type": "stream",
     "text": [
      "Received !!!\n",
      "x =  -565.00 y =  251.00  and z=  -826.00\n",
      "Received !!!\n",
      "x =  -566.00 y =  251.00  and z=  -827.00\n"
     ]
    },
    {
     "name": "stderr",
     "output_type": "stream",
     "text": [
      "143.248.53.23 - - [28/Feb/2023 19:33:23] \"GET /api/accelerometer?x=-566.00&y=251.00&z=-824.00 HTTP/1.1\" 200 -\n",
      "143.248.53.23 - - [28/Feb/2023 19:33:23] \"GET /api/accelerometer?x=-566.00&y=250.00&z=-826.00 HTTP/1.1\" 200 -\n"
     ]
    },
    {
     "name": "stdout",
     "output_type": "stream",
     "text": [
      "Received !!!\n",
      "x =  -566.00 y =  251.00  and z=  -824.00\n",
      "Received !!!\n",
      "x =  -566.00 y =  250.00  and z=  -826.00\n"
     ]
    },
    {
     "name": "stderr",
     "output_type": "stream",
     "text": [
      "143.248.53.23 - - [28/Feb/2023 19:33:23] \"GET /api/accelerometer?x=-564.00&y=251.00&z=-827.00 HTTP/1.1\" 200 -\n",
      "143.248.53.23 - - [28/Feb/2023 19:33:23] \"GET /api/accelerometer?x=-566.00&y=250.00&z=-826.00 HTTP/1.1\" 200 -\n"
     ]
    },
    {
     "name": "stdout",
     "output_type": "stream",
     "text": [
      "Received !!!\n",
      "x =  -564.00 y =  251.00  and z=  -827.00\n",
      "Received !!!\n",
      "x =  -566.00 y =  250.00  and z=  -826.00\n"
     ]
    },
    {
     "name": "stderr",
     "output_type": "stream",
     "text": [
      "143.248.53.23 - - [28/Feb/2023 19:33:24] \"GET /api/accelerometer?x=-567.00&y=252.00&z=-827.00 HTTP/1.1\" 200 -\n",
      "143.248.53.23 - - [28/Feb/2023 19:33:24] \"GET /api/accelerometer?x=-567.00&y=248.00&z=-825.00 HTTP/1.1\" 200 -\n"
     ]
    },
    {
     "name": "stdout",
     "output_type": "stream",
     "text": [
      "Received !!!\n",
      "x =  -567.00 y =  252.00  and z=  -827.00\n",
      "Received !!!\n",
      "x =  -567.00 y =  248.00  and z=  -825.00\n"
     ]
    },
    {
     "name": "stderr",
     "output_type": "stream",
     "text": [
      "143.248.53.23 - - [28/Feb/2023 19:33:24] \"GET /api/accelerometer?x=-566.00&y=251.00&z=-825.00 HTTP/1.1\" 200 -\n",
      "143.248.53.23 - - [28/Feb/2023 19:33:24] \"GET /api/accelerometer?x=-567.00&y=251.00&z=-827.00 HTTP/1.1\" 200 -\n"
     ]
    },
    {
     "name": "stdout",
     "output_type": "stream",
     "text": [
      "Received !!!\n",
      "x =  -566.00 y =  251.00  and z=  -825.00\n",
      "Received !!!\n",
      "x =  -567.00 y =  251.00  and z=  -827.00\n"
     ]
    },
    {
     "name": "stderr",
     "output_type": "stream",
     "text": [
      "143.248.53.23 - - [28/Feb/2023 19:33:24] \"GET /api/accelerometer?x=-567.00&y=252.00&z=-826.00 HTTP/1.1\" 200 -\n",
      "143.248.53.23 - - [28/Feb/2023 19:33:24] \"GET /api/accelerometer?x=-567.00&y=251.00&z=-826.00 HTTP/1.1\" 200 -\n"
     ]
    },
    {
     "name": "stdout",
     "output_type": "stream",
     "text": [
      "Received !!!\n",
      "x =  -567.00 y =  252.00  and z=  -826.00\n",
      "Received !!!\n",
      "x =  -567.00 y =  251.00  and z=  -826.00\n"
     ]
    },
    {
     "name": "stderr",
     "output_type": "stream",
     "text": [
      "143.248.53.23 - - [28/Feb/2023 19:33:25] \"GET /api/accelerometer?x=-566.00&y=252.00&z=-825.00 HTTP/1.1\" 200 -\n",
      "143.248.53.23 - - [28/Feb/2023 19:33:25] \"GET /api/accelerometer?x=-567.00&y=251.00&z=-826.00 HTTP/1.1\" 200 -\n"
     ]
    },
    {
     "name": "stdout",
     "output_type": "stream",
     "text": [
      "Received !!!\n",
      "x =  -566.00 y =  252.00  and z=  -825.00\n",
      "Received !!!\n",
      "x =  -567.00 y =  251.00  and z=  -826.00\n"
     ]
    },
    {
     "name": "stderr",
     "output_type": "stream",
     "text": [
      "143.248.53.23 - - [28/Feb/2023 19:33:25] \"GET /api/accelerometer?x=-567.00&y=252.00&z=-825.00 HTTP/1.1\" 200 -\n",
      "143.248.53.23 - - [28/Feb/2023 19:33:25] \"GET /api/accelerometer?x=-569.00&y=250.00&z=-826.00 HTTP/1.1\" 200 -\n"
     ]
    },
    {
     "name": "stdout",
     "output_type": "stream",
     "text": [
      "Received !!!\n",
      "x =  -567.00 y =  252.00  and z=  -825.00\n",
      "Received !!!\n",
      "x =  -569.00 y =  250.00  and z=  -826.00\n"
     ]
    },
    {
     "name": "stderr",
     "output_type": "stream",
     "text": [
      "143.248.53.23 - - [28/Feb/2023 19:33:25] \"GET /api/accelerometer?x=-568.00&y=250.00&z=-824.00 HTTP/1.1\" 200 -\n",
      "143.248.53.23 - - [28/Feb/2023 19:33:25] \"GET /api/accelerometer?x=-568.00&y=250.00&z=-826.00 HTTP/1.1\" 200 -\n"
     ]
    },
    {
     "name": "stdout",
     "output_type": "stream",
     "text": [
      "Received !!!\n",
      "x =  -568.00 y =  250.00  and z=  -824.00\n",
      "Received !!!\n",
      "x =  -568.00 y =  250.00  and z=  -826.00\n"
     ]
    },
    {
     "name": "stderr",
     "output_type": "stream",
     "text": [
      "143.248.53.23 - - [28/Feb/2023 19:33:26] \"GET /api/accelerometer?x=-567.00&y=250.00&z=-826.00 HTTP/1.1\" 200 -\n",
      "143.248.53.23 - - [28/Feb/2023 19:33:26] \"GET /api/accelerometer?x=-567.00&y=250.00&z=-823.00 HTTP/1.1\" 200 -\n"
     ]
    },
    {
     "name": "stdout",
     "output_type": "stream",
     "text": [
      "Received !!!\n",
      "x =  -567.00 y =  250.00  and z=  -826.00\n",
      "Received !!!\n",
      "x =  -567.00 y =  250.00  and z=  -823.00\n"
     ]
    },
    {
     "name": "stderr",
     "output_type": "stream",
     "text": [
      "143.248.53.23 - - [28/Feb/2023 19:33:26] \"GET /api/accelerometer?x=-568.00&y=249.00&z=-825.00 HTTP/1.1\" 200 -\n"
     ]
    },
    {
     "name": "stdout",
     "output_type": "stream",
     "text": [
      "Received !!!\n",
      "x =  -568.00 y =  249.00  and z=  -825.00\n"
     ]
    },
    {
     "name": "stderr",
     "output_type": "stream",
     "text": [
      "143.248.53.23 - - [28/Feb/2023 19:33:26] \"GET /api/accelerometer?x=-568.00&y=253.00&z=-830.00 HTTP/1.1\" 200 -\n"
     ]
    },
    {
     "name": "stdout",
     "output_type": "stream",
     "text": [
      "Received !!!\n",
      "x =  -568.00 y =  253.00  and z=  -830.00\n"
     ]
    },
    {
     "name": "stderr",
     "output_type": "stream",
     "text": [
      "143.248.53.23 - - [28/Feb/2023 19:33:27] \"GET /api/accelerometer?x=-568.00&y=250.00&z=-823.00 HTTP/1.1\" 200 -\n"
     ]
    },
    {
     "name": "stdout",
     "output_type": "stream",
     "text": [
      "Received !!!\n",
      "x =  -568.00 y =  250.00  and z=  -823.00\n"
     ]
    },
    {
     "name": "stderr",
     "output_type": "stream",
     "text": [
      "143.248.53.23 - - [28/Feb/2023 19:33:27] \"GET /api/accelerometer?x=-568.00&y=250.00&z=-824.00 HTTP/1.1\" 200 -\n"
     ]
    },
    {
     "name": "stdout",
     "output_type": "stream",
     "text": [
      "Received !!!\n",
      "x =  -568.00 y =  250.00  and z=  -824.00\n"
     ]
    },
    {
     "name": "stderr",
     "output_type": "stream",
     "text": [
      "143.248.53.23 - - [28/Feb/2023 19:33:27] \"GET /api/accelerometer?x=-567.00&y=249.00&z=-825.00 HTTP/1.1\" 200 -\n"
     ]
    },
    {
     "name": "stdout",
     "output_type": "stream",
     "text": [
      "Received !!!\n",
      "x =  -567.00 y =  249.00  and z=  -825.00\n"
     ]
    },
    {
     "name": "stderr",
     "output_type": "stream",
     "text": [
      "143.248.53.23 - - [28/Feb/2023 19:33:27] \"GET /api/accelerometer?x=-570.00&y=250.00&z=-825.00 HTTP/1.1\" 200 -\n",
      "143.248.53.23 - - [28/Feb/2023 19:33:28] \"GET /api/accelerometer?x=-570.00&y=249.00&z=-825.00 HTTP/1.1\" 200 -\n"
     ]
    },
    {
     "name": "stdout",
     "output_type": "stream",
     "text": [
      "Received !!!\n",
      "x =  -570.00 y =  250.00  and z=  -825.00\n",
      "Received !!!\n",
      "x =  -570.00 y =  249.00  and z=  -825.00\n"
     ]
    },
    {
     "name": "stderr",
     "output_type": "stream",
     "text": [
      "143.248.53.23 - - [28/Feb/2023 19:33:28] \"GET /api/accelerometer?x=-569.00&y=249.00&z=-826.00 HTTP/1.1\" 200 -\n",
      "143.248.53.23 - - [28/Feb/2023 19:33:28] \"GET /api/accelerometer?x=-570.00&y=248.00&z=-823.00 HTTP/1.1\" 200 -\n"
     ]
    },
    {
     "name": "stdout",
     "output_type": "stream",
     "text": [
      "Received !!!\n",
      "x =  -569.00 y =  249.00  and z=  -826.00\n",
      "Received !!!\n",
      "x =  -570.00 y =  248.00  and z=  -823.00\n"
     ]
    },
    {
     "name": "stderr",
     "output_type": "stream",
     "text": [
      "143.248.53.23 - - [28/Feb/2023 19:33:28] \"GET /api/accelerometer?x=-570.00&y=249.00&z=-826.00 HTTP/1.1\" 200 -\n",
      "143.248.53.23 - - [28/Feb/2023 19:33:28] \"GET /api/accelerometer?x=-569.00&y=250.00&z=-825.00 HTTP/1.1\" 200 -\n"
     ]
    },
    {
     "name": "stdout",
     "output_type": "stream",
     "text": [
      "Received !!!\n",
      "x =  -570.00 y =  249.00  and z=  -826.00\n",
      "Received !!!\n",
      "x =  -569.00 y =  250.00  and z=  -825.00\n"
     ]
    },
    {
     "name": "stderr",
     "output_type": "stream",
     "text": [
      "143.248.53.23 - - [28/Feb/2023 19:33:29] \"GET /api/accelerometer?x=-568.00&y=250.00&z=-825.00 HTTP/1.1\" 200 -\n",
      "143.248.53.23 - - [28/Feb/2023 19:33:29] \"GET /api/accelerometer?x=-569.00&y=249.00&z=-825.00 HTTP/1.1\" 200 -\n"
     ]
    },
    {
     "name": "stdout",
     "output_type": "stream",
     "text": [
      "Received !!!\n",
      "x =  -568.00 y =  250.00  and z=  -825.00\n",
      "Received !!!\n",
      "x =  -569.00 y =  249.00  and z=  -825.00\n"
     ]
    },
    {
     "name": "stderr",
     "output_type": "stream",
     "text": [
      "143.248.53.23 - - [28/Feb/2023 19:33:29] \"GET /api/accelerometer?x=-571.00&y=250.00&z=-824.00 HTTP/1.1\" 200 -\n",
      "143.248.53.23 - - [28/Feb/2023 19:33:29] \"GET /api/accelerometer?x=-568.00&y=249.00&z=-823.00 HTTP/1.1\" 200 -\n"
     ]
    },
    {
     "name": "stdout",
     "output_type": "stream",
     "text": [
      "Received !!!\n",
      "x =  -571.00 y =  250.00  and z=  -824.00\n",
      "Received !!!\n",
      "x =  -568.00 y =  249.00  and z=  -823.00\n"
     ]
    },
    {
     "name": "stderr",
     "output_type": "stream",
     "text": [
      "143.248.53.23 - - [28/Feb/2023 19:33:29] \"GET /api/accelerometer?x=-569.00&y=250.00&z=-825.00 HTTP/1.1\" 200 -\n",
      "143.248.53.23 - - [28/Feb/2023 19:33:29] \"GET /api/accelerometer?x=-569.00&y=249.00&z=-824.00 HTTP/1.1\" 200 -\n"
     ]
    },
    {
     "name": "stdout",
     "output_type": "stream",
     "text": [
      "Received !!!\n",
      "x =  -569.00 y =  250.00  and z=  -825.00\n",
      "Received !!!\n",
      "x =  -569.00 y =  249.00  and z=  -824.00\n"
     ]
    },
    {
     "name": "stderr",
     "output_type": "stream",
     "text": [
      "143.248.53.23 - - [28/Feb/2023 19:33:30] \"GET /api/accelerometer?x=-569.00&y=250.00&z=-824.00 HTTP/1.1\" 200 -\n",
      "143.248.53.23 - - [28/Feb/2023 19:33:30] \"GET /api/accelerometer?x=-570.00&y=249.00&z=-823.00 HTTP/1.1\" 200 -\n"
     ]
    },
    {
     "name": "stdout",
     "output_type": "stream",
     "text": [
      "Received !!!\n",
      "x =  -569.00 y =  250.00  and z=  -824.00\n",
      "Received !!!\n",
      "x =  -570.00 y =  249.00  and z=  -823.00\n"
     ]
    },
    {
     "name": "stderr",
     "output_type": "stream",
     "text": [
      "143.248.53.23 - - [28/Feb/2023 19:33:30] \"GET /api/accelerometer?x=-571.00&y=249.00&z=-826.00 HTTP/1.1\" 200 -\n",
      "143.248.53.23 - - [28/Feb/2023 19:33:30] \"GET /api/accelerometer?x=-569.00&y=248.00&z=-825.00 HTTP/1.1\" 200 -\n"
     ]
    },
    {
     "name": "stdout",
     "output_type": "stream",
     "text": [
      "Received !!!\n",
      "x =  -571.00 y =  249.00  and z=  -826.00\n",
      "Received !!!\n",
      "x =  -569.00 y =  248.00  and z=  -825.00\n"
     ]
    },
    {
     "name": "stderr",
     "output_type": "stream",
     "text": [
      "143.248.53.23 - - [28/Feb/2023 19:33:30] \"GET /api/accelerometer?x=-570.00&y=248.00&z=-824.00 HTTP/1.1\" 200 -\n",
      "143.248.53.23 - - [28/Feb/2023 19:33:31] \"GET /api/accelerometer?x=-569.00&y=249.00&z=-824.00 HTTP/1.1\" 200 -\n"
     ]
    },
    {
     "name": "stdout",
     "output_type": "stream",
     "text": [
      "Received !!!\n",
      "x =  -570.00 y =  248.00  and z=  -824.00\n",
      "Received !!!\n",
      "x =  -569.00 y =  249.00  and z=  -824.00\n"
     ]
    },
    {
     "name": "stderr",
     "output_type": "stream",
     "text": [
      "143.248.53.23 - - [28/Feb/2023 19:33:31] \"GET /api/accelerometer?x=-571.00&y=248.00&z=-827.00 HTTP/1.1\" 200 -\n",
      "143.248.53.23 - - [28/Feb/2023 19:33:31] \"GET /api/accelerometer?x=-571.00&y=248.00&z=-823.00 HTTP/1.1\" 200 -\n"
     ]
    },
    {
     "name": "stdout",
     "output_type": "stream",
     "text": [
      "Received !!!\n",
      "x =  -571.00 y =  248.00  and z=  -827.00\n",
      "Received !!!\n",
      "x =  -571.00 y =  248.00  and z=  -823.00\n"
     ]
    },
    {
     "name": "stderr",
     "output_type": "stream",
     "text": [
      "143.248.53.23 - - [28/Feb/2023 19:33:31] \"GET /api/accelerometer?x=-570.00&y=249.00&z=-825.00 HTTP/1.1\" 200 -\n",
      "143.248.53.23 - - [28/Feb/2023 19:33:31] \"GET /api/accelerometer?x=-569.00&y=257.00&z=-827.00 HTTP/1.1\" 200 -\n"
     ]
    },
    {
     "name": "stdout",
     "output_type": "stream",
     "text": [
      "Received !!!\n",
      "x =  -570.00 y =  249.00  and z=  -825.00\n",
      "Received !!!\n",
      "x =  -569.00 y =  257.00  and z=  -827.00\n"
     ]
    },
    {
     "name": "stderr",
     "output_type": "stream",
     "text": [
      "143.248.53.23 - - [28/Feb/2023 19:33:31] \"GET /api/accelerometer?x=-569.00&y=250.00&z=-828.00 HTTP/1.1\" 200 -\n",
      "143.248.53.23 - - [28/Feb/2023 19:33:32] \"GET /api/accelerometer?x=-570.00&y=247.00&z=-822.00 HTTP/1.1\" 200 -\n"
     ]
    },
    {
     "name": "stdout",
     "output_type": "stream",
     "text": [
      "Received !!!\n",
      "x =  -569.00 y =  250.00  and z=  -828.00\n",
      "Received !!!\n",
      "x =  -570.00 y =  247.00  and z=  -822.00\n"
     ]
    },
    {
     "name": "stderr",
     "output_type": "stream",
     "text": [
      "143.248.53.23 - - [28/Feb/2023 19:33:32] \"GET /api/accelerometer?x=-569.00&y=247.00&z=-826.00 HTTP/1.1\" 200 -\n",
      "143.248.53.23 - - [28/Feb/2023 19:33:32] \"GET /api/accelerometer?x=-571.00&y=247.00&z=-825.00 HTTP/1.1\" 200 -\n"
     ]
    },
    {
     "name": "stdout",
     "output_type": "stream",
     "text": [
      "Received !!!\n",
      "x =  -569.00 y =  247.00  and z=  -826.00\n",
      "Received !!!\n",
      "x =  -571.00 y =  247.00  and z=  -825.00\n"
     ]
    },
    {
     "name": "stderr",
     "output_type": "stream",
     "text": [
      "143.248.53.23 - - [28/Feb/2023 19:33:32] \"GET /api/accelerometer?x=-571.00&y=248.00&z=-822.00 HTTP/1.1\" 200 -\n",
      "143.248.53.23 - - [28/Feb/2023 19:33:32] \"GET /api/accelerometer?x=-571.00&y=249.00&z=-824.00 HTTP/1.1\" 200 -\n"
     ]
    },
    {
     "name": "stdout",
     "output_type": "stream",
     "text": [
      "Received !!!\n",
      "x =  -571.00 y =  248.00  and z=  -822.00\n",
      "Received !!!\n",
      "x =  -571.00 y =  249.00  and z=  -824.00\n"
     ]
    },
    {
     "name": "stderr",
     "output_type": "stream",
     "text": [
      "143.248.53.23 - - [28/Feb/2023 19:33:32] \"GET /api/accelerometer?x=-571.00&y=249.00&z=-823.00 HTTP/1.1\" 200 -\n",
      "143.248.53.23 - - [28/Feb/2023 19:33:33] \"GET /api/accelerometer?x=-573.00&y=249.00&z=-823.00 HTTP/1.1\" 200 -\n"
     ]
    },
    {
     "name": "stdout",
     "output_type": "stream",
     "text": [
      "Received !!!\n",
      "x =  -571.00 y =  249.00  and z=  -823.00\n",
      "Received !!!\n",
      "x =  -573.00 y =  249.00  and z=  -823.00\n"
     ]
    },
    {
     "name": "stderr",
     "output_type": "stream",
     "text": [
      "143.248.53.23 - - [28/Feb/2023 19:33:33] \"GET /api/accelerometer?x=-572.00&y=249.00&z=-823.00 HTTP/1.1\" 200 -\n",
      "143.248.53.23 - - [28/Feb/2023 19:33:33] \"GET /api/accelerometer?x=-571.00&y=249.00&z=-825.00 HTTP/1.1\" 200 -\n"
     ]
    },
    {
     "name": "stdout",
     "output_type": "stream",
     "text": [
      "Received !!!\n",
      "x =  -572.00 y =  249.00  and z=  -823.00\n",
      "Received !!!\n",
      "x =  -571.00 y =  249.00  and z=  -825.00\n"
     ]
    },
    {
     "name": "stderr",
     "output_type": "stream",
     "text": [
      "143.248.53.23 - - [28/Feb/2023 19:33:33] \"GET /api/accelerometer?x=-571.00&y=248.00&z=-822.00 HTTP/1.1\" 200 -\n",
      "143.248.53.23 - - [28/Feb/2023 19:33:33] \"GET /api/accelerometer?x=-572.00&y=249.00&z=-823.00 HTTP/1.1\" 200 -\n"
     ]
    },
    {
     "name": "stdout",
     "output_type": "stream",
     "text": [
      "Received !!!\n",
      "x =  -571.00 y =  248.00  and z=  -822.00\n",
      "Received !!!\n",
      "x =  -572.00 y =  249.00  and z=  -823.00\n"
     ]
    },
    {
     "name": "stderr",
     "output_type": "stream",
     "text": [
      "143.248.53.23 - - [28/Feb/2023 19:33:33] \"GET /api/accelerometer?x=-570.00&y=249.00&z=-824.00 HTTP/1.1\" 200 -\n",
      "143.248.53.23 - - [28/Feb/2023 19:33:34] \"GET /api/accelerometer?x=-571.00&y=249.00&z=-824.00 HTTP/1.1\" 200 -\n"
     ]
    },
    {
     "name": "stdout",
     "output_type": "stream",
     "text": [
      "Received !!!\n",
      "x =  -570.00 y =  249.00  and z=  -824.00\n",
      "Received !!!\n",
      "x =  -571.00 y =  249.00  and z=  -824.00\n"
     ]
    },
    {
     "name": "stderr",
     "output_type": "stream",
     "text": [
      "143.248.53.23 - - [28/Feb/2023 19:33:34] \"GET /api/accelerometer?x=-571.00&y=250.00&z=-823.00 HTTP/1.1\" 200 -\n",
      "143.248.53.23 - - [28/Feb/2023 19:33:34] \"GET /api/accelerometer?x=-571.00&y=249.00&z=-822.00 HTTP/1.1\" 200 -\n"
     ]
    },
    {
     "name": "stdout",
     "output_type": "stream",
     "text": [
      "Received !!!\n",
      "x =  -571.00 y =  250.00  and z=  -823.00\n",
      "Received !!!\n",
      "x =  -571.00 y =  249.00  and z=  -822.00\n"
     ]
    },
    {
     "name": "stderr",
     "output_type": "stream",
     "text": [
      "143.248.53.23 - - [28/Feb/2023 19:33:34] \"GET /api/accelerometer?x=-569.00&y=248.00&z=-823.00 HTTP/1.1\" 200 -\n",
      "143.248.53.23 - - [28/Feb/2023 19:33:34] \"GET /api/accelerometer?x=-572.00&y=248.00&z=-824.00 HTTP/1.1\" 200 -\n"
     ]
    },
    {
     "name": "stdout",
     "output_type": "stream",
     "text": [
      "Received !!!\n",
      "x =  -569.00 y =  248.00  and z=  -823.00\n",
      "Received !!!\n",
      "x =  -572.00 y =  248.00  and z=  -824.00\n"
     ]
    },
    {
     "name": "stderr",
     "output_type": "stream",
     "text": [
      "143.248.53.23 - - [28/Feb/2023 19:33:34] \"GET /api/accelerometer?x=-572.00&y=249.00&z=-822.00 HTTP/1.1\" 200 -\n",
      "143.248.53.23 - - [28/Feb/2023 19:33:35] \"GET /api/accelerometer?x=-572.00&y=249.00&z=-825.00 HTTP/1.1\" 200 -\n"
     ]
    },
    {
     "name": "stdout",
     "output_type": "stream",
     "text": [
      "Received !!!\n",
      "x =  -572.00 y =  249.00  and z=  -822.00\n",
      "Received !!!\n",
      "x =  -572.00 y =  249.00  and z=  -825.00\n"
     ]
    },
    {
     "name": "stderr",
     "output_type": "stream",
     "text": [
      "143.248.53.23 - - [28/Feb/2023 19:33:35] \"GET /api/accelerometer?x=-570.00&y=249.00&z=-824.00 HTTP/1.1\" 200 -\n",
      "143.248.53.23 - - [28/Feb/2023 19:33:35] \"GET /api/accelerometer?x=-570.00&y=250.00&z=-823.00 HTTP/1.1\" 200 -\n"
     ]
    },
    {
     "name": "stdout",
     "output_type": "stream",
     "text": [
      "Received !!!\n",
      "x =  -570.00 y =  249.00  and z=  -824.00\n",
      "Received !!!\n",
      "x =  -570.00 y =  250.00  and z=  -823.00\n"
     ]
    },
    {
     "name": "stderr",
     "output_type": "stream",
     "text": [
      "143.248.53.23 - - [28/Feb/2023 19:33:35] \"GET /api/accelerometer?x=-571.00&y=250.00&z=-824.00 HTTP/1.1\" 200 -\n",
      "143.248.53.23 - - [28/Feb/2023 19:33:35] \"GET /api/accelerometer?x=-571.00&y=251.00&z=-824.00 HTTP/1.1\" 200 -\n"
     ]
    },
    {
     "name": "stdout",
     "output_type": "stream",
     "text": [
      "Received !!!\n",
      "x =  -571.00 y =  250.00  and z=  -824.00\n",
      "Received !!!\n",
      "x =  -571.00 y =  251.00  and z=  -824.00\n"
     ]
    },
    {
     "name": "stderr",
     "output_type": "stream",
     "text": [
      "143.248.53.23 - - [28/Feb/2023 19:33:35] \"GET /api/accelerometer?x=-572.00&y=246.00&z=-825.00 HTTP/1.1\" 200 -\n",
      "143.248.53.23 - - [28/Feb/2023 19:33:36] \"GET /api/accelerometer?x=-571.00&y=249.00&z=-823.00 HTTP/1.1\" 200 -\n"
     ]
    },
    {
     "name": "stdout",
     "output_type": "stream",
     "text": [
      "Received !!!\n",
      "x =  -572.00 y =  246.00  and z=  -825.00\n",
      "Received !!!\n",
      "x =  -571.00 y =  249.00  and z=  -823.00\n"
     ]
    },
    {
     "name": "stderr",
     "output_type": "stream",
     "text": [
      "143.248.53.23 - - [28/Feb/2023 19:33:36] \"GET /api/accelerometer?x=-572.00&y=249.00&z=-824.00 HTTP/1.1\" 200 -\n"
     ]
    },
    {
     "name": "stdout",
     "output_type": "stream",
     "text": [
      "Received !!!\n",
      "x =  -572.00 y =  249.00  and z=  -824.00\n"
     ]
    },
    {
     "name": "stderr",
     "output_type": "stream",
     "text": [
      "143.248.53.23 - - [28/Feb/2023 19:33:36] \"GET /api/accelerometer?x=-571.00&y=248.00&z=-822.00 HTTP/1.1\" 200 -\n"
     ]
    },
    {
     "name": "stdout",
     "output_type": "stream",
     "text": [
      "Received !!!\n",
      "x =  -571.00 y =  248.00  and z=  -822.00\n"
     ]
    },
    {
     "name": "stderr",
     "output_type": "stream",
     "text": [
      "143.248.53.23 - - [28/Feb/2023 19:33:36] \"GET /api/accelerometer?x=-572.00&y=248.00&z=-824.00 HTTP/1.1\" 200 -\n"
     ]
    },
    {
     "name": "stdout",
     "output_type": "stream",
     "text": [
      "Received !!!\n",
      "x =  -572.00 y =  248.00  and z=  -824.00\n"
     ]
    },
    {
     "name": "stderr",
     "output_type": "stream",
     "text": [
      "143.248.53.23 - - [28/Feb/2023 19:33:37] \"GET /api/accelerometer?x=-572.00&y=249.00&z=-821.00 HTTP/1.1\" 200 -\n",
      "143.248.53.23 - - [28/Feb/2023 19:33:37] \"GET /api/accelerometer?x=-572.00&y=249.00&z=-823.00 HTTP/1.1\" 200 -\n"
     ]
    },
    {
     "name": "stdout",
     "output_type": "stream",
     "text": [
      "Received !!!\n",
      "x =  -572.00 y =  249.00  and z=  -821.00\n",
      "Received !!!\n",
      "x =  -572.00 y =  249.00  and z=  -823.00\n"
     ]
    },
    {
     "name": "stderr",
     "output_type": "stream",
     "text": [
      "143.248.53.23 - - [28/Feb/2023 19:33:37] \"GET /api/accelerometer?x=-572.00&y=250.00&z=-824.00 HTTP/1.1\" 200 -\n"
     ]
    },
    {
     "name": "stdout",
     "output_type": "stream",
     "text": [
      "Received !!!\n",
      "x =  -572.00 y =  250.00  and z=  -824.00\n",
      "Received !!!\n",
      "x =  -571.00 y =  250.00  and z=  -822.00\n"
     ]
    },
    {
     "name": "stderr",
     "output_type": "stream",
     "text": [
      "143.248.53.23 - - [28/Feb/2023 19:33:37] \"GET /api/accelerometer?x=-571.00&y=250.00&z=-822.00 HTTP/1.1\" 200 -\n",
      "143.248.53.23 - - [28/Feb/2023 19:33:37] \"GET /api/accelerometer?x=-571.00&y=250.00&z=-823.00 HTTP/1.1\" 200 -\n",
      "143.248.53.23 - - [28/Feb/2023 19:33:38] \"GET /api/accelerometer?x=-571.00&y=248.00&z=-822.00 HTTP/1.1\" 200 -\n"
     ]
    },
    {
     "name": "stdout",
     "output_type": "stream",
     "text": [
      "Received !!!\n",
      "x =  -571.00 y =  250.00  and z=  -823.00\n",
      "Received !!!\n",
      "x =  -571.00 y =  248.00  and z=  -822.00\n"
     ]
    },
    {
     "name": "stderr",
     "output_type": "stream",
     "text": [
      "143.248.53.23 - - [28/Feb/2023 19:33:38] \"GET /api/accelerometer?x=-571.00&y=248.00&z=-822.00 HTTP/1.1\" 200 -\n",
      "143.248.53.23 - - [28/Feb/2023 19:33:38] \"GET /api/accelerometer?x=-572.00&y=247.00&z=-823.00 HTTP/1.1\" 200 -\n"
     ]
    },
    {
     "name": "stdout",
     "output_type": "stream",
     "text": [
      "Received !!!\n",
      "x =  -571.00 y =  248.00  and z=  -822.00\n",
      "Received !!!\n",
      "x =  -572.00 y =  247.00  and z=  -823.00\n"
     ]
    },
    {
     "name": "stderr",
     "output_type": "stream",
     "text": [
      "143.248.53.23 - - [28/Feb/2023 19:33:38] \"GET /api/accelerometer?x=-571.00&y=248.00&z=-821.00 HTTP/1.1\" 200 -\n",
      "143.248.53.23 - - [28/Feb/2023 19:33:38] \"GET /api/accelerometer?x=-571.00&y=249.00&z=-822.00 HTTP/1.1\" 200 -\n"
     ]
    },
    {
     "name": "stdout",
     "output_type": "stream",
     "text": [
      "Received !!!\n",
      "x =  -571.00 y =  248.00  and z=  -821.00\n",
      "Received !!!\n",
      "x =  -571.00 y =  249.00  and z=  -822.00\n"
     ]
    },
    {
     "name": "stderr",
     "output_type": "stream",
     "text": [
      "143.248.53.23 - - [28/Feb/2023 19:33:38] \"GET /api/accelerometer?x=-573.00&y=249.00&z=-823.00 HTTP/1.1\" 200 -\n"
     ]
    },
    {
     "name": "stdout",
     "output_type": "stream",
     "text": [
      "Received !!!\n",
      "x =  -573.00 y =  249.00  and z=  -823.00\n"
     ]
    },
    {
     "name": "stderr",
     "output_type": "stream",
     "text": [
      "143.248.53.23 - - [28/Feb/2023 19:33:39] \"GET /api/accelerometer?x=-573.00&y=248.00&z=-823.00 HTTP/1.1\" 200 -\n",
      "143.248.53.23 - - [28/Feb/2023 19:33:39] \"GET /api/accelerometer?x=-573.00&y=248.00&z=-823.00 HTTP/1.1\" 200 -\n"
     ]
    },
    {
     "name": "stdout",
     "output_type": "stream",
     "text": [
      "Received !!!\n",
      "x =  -573.00 y =  248.00  and z=  -823.00\n",
      "Received !!!\n",
      "x =  -573.00 y =  248.00  and z=  -823.00\n"
     ]
    },
    {
     "name": "stderr",
     "output_type": "stream",
     "text": [
      "143.248.53.23 - - [28/Feb/2023 19:33:39] \"GET /api/accelerometer?x=-571.00&y=248.00&z=-823.00 HTTP/1.1\" 200 -\n",
      "143.248.53.23 - - [28/Feb/2023 19:33:39] \"GET /api/accelerometer?x=-572.00&y=247.00&z=-824.00 HTTP/1.1\" 200 -\n"
     ]
    },
    {
     "name": "stdout",
     "output_type": "stream",
     "text": [
      "Received !!!\n",
      "x =  -571.00 y =  248.00  and z=  -823.00\n",
      "Received !!!\n",
      "x =  -572.00 y =  247.00  and z=  -824.00\n"
     ]
    },
    {
     "name": "stderr",
     "output_type": "stream",
     "text": [
      "143.248.53.23 - - [28/Feb/2023 19:33:40] \"GET /api/accelerometer?x=-574.00&y=251.00&z=-824.00 HTTP/1.1\" 200 -\n",
      "143.248.53.23 - - [28/Feb/2023 19:33:40] \"GET /api/accelerometer?x=-568.00&y=245.00&z=-823.00 HTTP/1.1\" 200 -\n"
     ]
    },
    {
     "name": "stdout",
     "output_type": "stream",
     "text": [
      "Received !!!\n",
      "x =  -574.00 y =  251.00  and z=  -824.00\n",
      "Received !!!\n",
      "x =  -568.00 y =  245.00  and z=  -823.00\n"
     ]
    },
    {
     "name": "stderr",
     "output_type": "stream",
     "text": [
      "143.248.53.23 - - [28/Feb/2023 19:33:40] \"GET /api/accelerometer?x=-572.00&y=249.00&z=-820.00 HTTP/1.1\" 200 -\n",
      "143.248.53.23 - - [28/Feb/2023 19:33:40] \"GET /api/accelerometer?x=-572.00&y=249.00&z=-824.00 HTTP/1.1\" 200 -\n"
     ]
    },
    {
     "name": "stdout",
     "output_type": "stream",
     "text": [
      "Received !!!\n",
      "x =  -572.00 y =  249.00  and z=  -820.00\n",
      "Received !!!\n",
      "x =  -572.00 y =  249.00  and z=  -824.00\n"
     ]
    },
    {
     "name": "stderr",
     "output_type": "stream",
     "text": [
      "143.248.53.23 - - [28/Feb/2023 19:33:40] \"GET /api/accelerometer?x=-574.00&y=248.00&z=-823.00 HTTP/1.1\" 200 -\n",
      "143.248.53.23 - - [28/Feb/2023 19:33:40] \"GET /api/accelerometer?x=-573.00&y=249.00&z=-823.00 HTTP/1.1\" 200 -\n"
     ]
    },
    {
     "name": "stdout",
     "output_type": "stream",
     "text": [
      "Received !!!\n",
      "x =  -574.00 y =  248.00  and z=  -823.00\n",
      "Received !!!\n",
      "x =  -573.00 y =  249.00  and z=  -823.00\n"
     ]
    },
    {
     "name": "stderr",
     "output_type": "stream",
     "text": [
      "143.248.53.23 - - [28/Feb/2023 19:33:41] \"GET /api/accelerometer?x=-574.00&y=249.00&z=-822.00 HTTP/1.1\" 200 -\n",
      "143.248.53.23 - - [28/Feb/2023 19:33:41] \"GET /api/accelerometer?x=-574.00&y=249.00&z=-822.00 HTTP/1.1\" 200 -\n"
     ]
    },
    {
     "name": "stdout",
     "output_type": "stream",
     "text": [
      "Received !!!\n",
      "x =  -574.00 y =  249.00  and z=  -822.00\n",
      "Received !!!\n",
      "x =  -574.00 y =  249.00  and z=  -822.00\n"
     ]
    },
    {
     "name": "stderr",
     "output_type": "stream",
     "text": [
      "143.248.53.23 - - [28/Feb/2023 19:33:41] \"GET /api/accelerometer?x=-574.00&y=248.00&z=-821.00 HTTP/1.1\" 200 -\n",
      "143.248.53.23 - - [28/Feb/2023 19:33:41] \"GET /api/accelerometer?x=-572.00&y=248.00&z=-822.00 HTTP/1.1\" 200 -\n"
     ]
    },
    {
     "name": "stdout",
     "output_type": "stream",
     "text": [
      "Received !!!\n",
      "x =  -574.00 y =  248.00  and z=  -821.00\n",
      "Received !!!\n",
      "x =  -572.00 y =  248.00  and z=  -822.00\n"
     ]
    },
    {
     "name": "stderr",
     "output_type": "stream",
     "text": [
      "143.248.53.23 - - [28/Feb/2023 19:33:41] \"GET /api/accelerometer?x=-572.00&y=248.00&z=-821.00 HTTP/1.1\" 200 -\n",
      "143.248.53.23 - - [28/Feb/2023 19:33:41] \"GET /api/accelerometer?x=-573.00&y=248.00&z=-823.00 HTTP/1.1\" 200 -\n"
     ]
    },
    {
     "name": "stdout",
     "output_type": "stream",
     "text": [
      "Received !!!\n",
      "x =  -572.00 y =  248.00  and z=  -821.00\n",
      "Received !!!\n",
      "x =  -573.00 y =  248.00  and z=  -823.00\n"
     ]
    },
    {
     "name": "stderr",
     "output_type": "stream",
     "text": [
      "143.248.53.23 - - [28/Feb/2023 19:33:42] \"GET /api/accelerometer?x=-573.00&y=248.00&z=-823.00 HTTP/1.1\" 200 -\n",
      "143.248.53.23 - - [28/Feb/2023 19:33:42] \"GET /api/accelerometer?x=-573.00&y=248.00&z=-821.00 HTTP/1.1\" 200 -\n"
     ]
    },
    {
     "name": "stdout",
     "output_type": "stream",
     "text": [
      "Received !!!\n",
      "x =  -573.00 y =  248.00  and z=  -823.00\n",
      "Received !!!\n",
      "x =  -573.00 y =  248.00  and z=  -821.00\n"
     ]
    },
    {
     "name": "stderr",
     "output_type": "stream",
     "text": [
      "143.248.53.23 - - [28/Feb/2023 19:33:42] \"GET /api/accelerometer?x=-572.00&y=249.00&z=-823.00 HTTP/1.1\" 200 -\n",
      "143.248.53.23 - - [28/Feb/2023 19:33:42] \"GET /api/accelerometer?x=-573.00&y=248.00&z=-823.00 HTTP/1.1\" 200 -\n"
     ]
    },
    {
     "name": "stdout",
     "output_type": "stream",
     "text": [
      "Received !!!\n",
      "x =  -572.00 y =  249.00  and z=  -823.00\n",
      "Received !!!\n",
      "x =  -573.00 y =  248.00  and z=  -823.00\n"
     ]
    },
    {
     "name": "stderr",
     "output_type": "stream",
     "text": [
      "143.248.53.23 - - [28/Feb/2023 19:33:42] \"GET /api/accelerometer?x=-572.00&y=249.00&z=-822.00 HTTP/1.1\" 200 -\n",
      "143.248.53.23 - - [28/Feb/2023 19:33:42] \"GET /api/accelerometer?x=-573.00&y=247.00&z=-823.00 HTTP/1.1\" 200 -\n"
     ]
    },
    {
     "name": "stdout",
     "output_type": "stream",
     "text": [
      "Received !!!\n",
      "x =  -572.00 y =  249.00  and z=  -822.00\n",
      "Received !!!\n",
      "x =  -573.00 y =  247.00  and z=  -823.00\n"
     ]
    },
    {
     "name": "stderr",
     "output_type": "stream",
     "text": [
      "143.248.53.23 - - [28/Feb/2023 19:33:43] \"GET /api/accelerometer?x=-573.00&y=249.00&z=-821.00 HTTP/1.1\" 200 -\n",
      "143.248.53.23 - - [28/Feb/2023 19:33:43] \"GET /api/accelerometer?x=-573.00&y=248.00&z=-823.00 HTTP/1.1\" 200 -\n"
     ]
    },
    {
     "name": "stdout",
     "output_type": "stream",
     "text": [
      "Received !!!\n",
      "x =  -573.00 y =  249.00  and z=  -821.00\n",
      "Received !!!\n",
      "x =  -573.00 y =  248.00  and z=  -823.00\n"
     ]
    },
    {
     "name": "stderr",
     "output_type": "stream",
     "text": [
      "143.248.53.23 - - [28/Feb/2023 19:33:43] \"GET /api/accelerometer?x=-573.00&y=248.00&z=-823.00 HTTP/1.1\" 200 -\n"
     ]
    },
    {
     "name": "stdout",
     "output_type": "stream",
     "text": [
      "Received !!!\n",
      "x =  -573.00 y =  248.00  and z=  -823.00\n"
     ]
    },
    {
     "name": "stderr",
     "output_type": "stream",
     "text": [
      "143.248.53.23 - - [28/Feb/2023 19:33:43] \"GET /api/accelerometer?x=-574.00&y=248.00&z=-823.00 HTTP/1.1\" 200 -\n",
      "143.248.53.23 - - [28/Feb/2023 19:33:43] \"GET /api/accelerometer?x=-573.00&y=248.00&z=-821.00 HTTP/1.1\" 200 -\n"
     ]
    },
    {
     "name": "stdout",
     "output_type": "stream",
     "text": [
      "Received !!!\n",
      "x =  -574.00 y =  248.00  and z=  -823.00\n",
      "Received !!!\n",
      "x =  -573.00 y =  248.00  and z=  -821.00\n"
     ]
    },
    {
     "name": "stderr",
     "output_type": "stream",
     "text": [
      "143.248.53.23 - - [28/Feb/2023 19:33:43] \"GET /api/accelerometer?x=-571.00&y=247.00&z=-822.00 HTTP/1.1\" 200 -\n",
      "143.248.53.23 - - [28/Feb/2023 19:33:44] \"GET /api/accelerometer?x=-573.00&y=247.00&z=-822.00 HTTP/1.1\" 200 -\n"
     ]
    },
    {
     "name": "stdout",
     "output_type": "stream",
     "text": [
      "Received !!!\n",
      "x =  -571.00 y =  247.00  and z=  -822.00\n",
      "Received !!!\n",
      "x =  -573.00 y =  247.00  and z=  -822.00\n"
     ]
    },
    {
     "name": "stderr",
     "output_type": "stream",
     "text": [
      "143.248.53.23 - - [28/Feb/2023 19:33:44] \"GET /api/accelerometer?x=-574.00&y=249.00&z=-822.00 HTTP/1.1\" 200 -\n",
      "143.248.53.23 - - [28/Feb/2023 19:33:44] \"GET /api/accelerometer?x=-573.00&y=248.00&z=-823.00 HTTP/1.1\" 200 -\n"
     ]
    },
    {
     "name": "stdout",
     "output_type": "stream",
     "text": [
      "Received !!!\n",
      "x =  -574.00 y =  249.00  and z=  -822.00\n",
      "Received !!!\n",
      "x =  -573.00 y =  248.00  and z=  -823.00\n"
     ]
    },
    {
     "name": "stderr",
     "output_type": "stream",
     "text": [
      "143.248.53.23 - - [28/Feb/2023 19:33:44] \"GET /api/accelerometer?x=-572.00&y=248.00&z=-822.00 HTTP/1.1\" 200 -\n",
      "143.248.53.23 - - [28/Feb/2023 19:33:44] \"GET /api/accelerometer?x=-574.00&y=248.00&z=-821.00 HTTP/1.1\" 200 -\n"
     ]
    },
    {
     "name": "stdout",
     "output_type": "stream",
     "text": [
      "Received !!!\n",
      "x =  -572.00 y =  248.00  and z=  -822.00\n",
      "Received !!!\n",
      "x =  -574.00 y =  248.00  and z=  -821.00\n"
     ]
    },
    {
     "name": "stderr",
     "output_type": "stream",
     "text": [
      "143.248.53.23 - - [28/Feb/2023 19:33:45] \"GET /api/accelerometer?x=-573.00&y=248.00&z=-822.00 HTTP/1.1\" 200 -\n",
      "143.248.53.23 - - [28/Feb/2023 19:33:45] \"GET /api/accelerometer?x=-573.00&y=247.00&z=-822.00 HTTP/1.1\" 200 -\n"
     ]
    },
    {
     "name": "stdout",
     "output_type": "stream",
     "text": [
      "Received !!!\n",
      "x =  -573.00 y =  248.00  and z=  -822.00\n",
      "Received !!!\n",
      "x =  -573.00 y =  247.00  and z=  -822.00\n"
     ]
    },
    {
     "name": "stderr",
     "output_type": "stream",
     "text": [
      "143.248.53.23 - - [28/Feb/2023 19:33:45] \"GET /api/accelerometer?x=-572.00&y=247.00&z=-822.00 HTTP/1.1\" 200 -\n"
     ]
    },
    {
     "name": "stdout",
     "output_type": "stream",
     "text": [
      "Received !!!\n",
      "x =  -572.00 y =  247.00  and z=  -822.00\n"
     ]
    },
    {
     "name": "stderr",
     "output_type": "stream",
     "text": [
      "143.248.53.23 - - [28/Feb/2023 19:33:45] \"GET /api/accelerometer?x=-573.00&y=249.00&z=-822.00 HTTP/1.1\" 200 -\n",
      "143.248.53.23 - - [28/Feb/2023 19:33:45] \"GET /api/accelerometer?x=-574.00&y=249.00&z=-824.00 HTTP/1.1\" 200 -\n"
     ]
    },
    {
     "name": "stdout",
     "output_type": "stream",
     "text": [
      "Received !!!\n",
      "x =  -573.00 y =  249.00  and z=  -822.00\n",
      "Received !!!\n",
      "x =  -574.00 y =  249.00  and z=  -824.00\n"
     ]
    },
    {
     "name": "stderr",
     "output_type": "stream",
     "text": [
      "143.248.53.23 - - [28/Feb/2023 19:33:46] \"GET /api/accelerometer?x=-572.00&y=248.00&z=-823.00 HTTP/1.1\" 200 -\n",
      "143.248.53.23 - - [28/Feb/2023 19:33:46] \"GET /api/accelerometer?x=-574.00&y=245.00&z=-823.00 HTTP/1.1\" 200 -\n"
     ]
    },
    {
     "name": "stdout",
     "output_type": "stream",
     "text": [
      "Received !!!\n",
      "x =  -572.00 y =  248.00  and z=  -823.00\n",
      "Received !!!\n",
      "x =  -574.00 y =  245.00  and z=  -823.00\n"
     ]
    },
    {
     "name": "stderr",
     "output_type": "stream",
     "text": [
      "143.248.53.23 - - [28/Feb/2023 19:33:46] \"GET /api/accelerometer?x=-573.00&y=249.00&z=-823.00 HTTP/1.1\" 200 -\n",
      "143.248.53.23 - - [28/Feb/2023 19:33:46] \"GET /api/accelerometer?x=-573.00&y=247.00&z=-821.00 HTTP/1.1\" 200 -\n"
     ]
    },
    {
     "name": "stdout",
     "output_type": "stream",
     "text": [
      "Received !!!\n",
      "x =  -573.00 y =  249.00  and z=  -823.00\n",
      "Received !!!\n",
      "x =  -573.00 y =  247.00  and z=  -821.00\n"
     ]
    },
    {
     "name": "stderr",
     "output_type": "stream",
     "text": [
      "143.248.53.23 - - [28/Feb/2023 19:33:46] \"GET /api/accelerometer?x=-572.00&y=247.00&z=-822.00 HTTP/1.1\" 200 -\n",
      "143.248.53.23 - - [28/Feb/2023 19:33:46] \"GET /api/accelerometer?x=-572.00&y=247.00&z=-821.00 HTTP/1.1\" 200 -\n"
     ]
    },
    {
     "name": "stdout",
     "output_type": "stream",
     "text": [
      "Received !!!\n",
      "x =  -572.00 y =  247.00  and z=  -822.00\n",
      "Received !!!\n",
      "x =  -572.00 y =  247.00  and z=  -821.00\n"
     ]
    },
    {
     "name": "stderr",
     "output_type": "stream",
     "text": [
      "143.248.53.23 - - [28/Feb/2023 19:33:47] \"GET /api/accelerometer?x=-574.00&y=247.00&z=-821.00 HTTP/1.1\" 200 -\n"
     ]
    },
    {
     "name": "stdout",
     "output_type": "stream",
     "text": [
      "Received !!!\n",
      "x =  -574.00 y =  247.00  and z=  -821.00\n"
     ]
    },
    {
     "name": "stderr",
     "output_type": "stream",
     "text": [
      "143.248.53.23 - - [28/Feb/2023 19:33:47] \"GET /api/accelerometer?x=-573.00&y=248.00&z=-821.00 HTTP/1.1\" 200 -\n"
     ]
    },
    {
     "name": "stdout",
     "output_type": "stream",
     "text": [
      "Received !!!\n",
      "x =  -573.00 y =  248.00  and z=  -821.00\n"
     ]
    },
    {
     "name": "stderr",
     "output_type": "stream",
     "text": [
      "143.248.53.23 - - [28/Feb/2023 19:33:47] \"GET /api/accelerometer?x=-575.00&y=248.00&z=-823.00 HTTP/1.1\" 200 -\n",
      "143.248.53.23 - - [28/Feb/2023 19:33:47] \"GET /api/accelerometer?x=-573.00&y=249.00&z=-822.00 HTTP/1.1\" 200 -\n"
     ]
    },
    {
     "name": "stdout",
     "output_type": "stream",
     "text": [
      "Received !!!\n",
      "x =  -575.00 y =  248.00  and z=  -823.00\n",
      "Received !!!\n",
      "x =  -573.00 y =  249.00  and z=  -822.00\n"
     ]
    },
    {
     "name": "stderr",
     "output_type": "stream",
     "text": [
      "143.248.53.23 - - [28/Feb/2023 19:33:48] \"GET /api/accelerometer?x=-571.00&y=249.00&z=-824.00 HTTP/1.1\" 200 -\n"
     ]
    },
    {
     "name": "stdout",
     "output_type": "stream",
     "text": [
      "Received !!!\n",
      "x =  -571.00 y =  249.00  and z=  -824.00\n"
     ]
    },
    {
     "name": "stderr",
     "output_type": "stream",
     "text": [
      "143.248.53.23 - - [28/Feb/2023 19:33:48] \"GET /api/accelerometer?x=-573.00&y=248.00&z=-821.00 HTTP/1.1\" 200 -\n",
      "143.248.53.23 - - [28/Feb/2023 19:33:48] \"GET /api/accelerometer?x=-574.00&y=247.00&z=-822.00 HTTP/1.1\" 200 -\n"
     ]
    },
    {
     "name": "stdout",
     "output_type": "stream",
     "text": [
      "Received !!!\n",
      "x =  -573.00 y =  248.00  and z=  -821.00\n",
      "Received !!!\n",
      "x =  -574.00 y =  247.00  and z=  -822.00\n"
     ]
    },
    {
     "name": "stderr",
     "output_type": "stream",
     "text": [
      "143.248.53.23 - - [28/Feb/2023 19:33:48] \"GET /api/accelerometer?x=-573.00&y=248.00&z=-821.00 HTTP/1.1\" 200 -\n",
      "143.248.53.23 - - [28/Feb/2023 19:33:48] \"GET /api/accelerometer?x=-573.00&y=246.00&z=-820.00 HTTP/1.1\" 200 -\n"
     ]
    },
    {
     "name": "stdout",
     "output_type": "stream",
     "text": [
      "Received !!!\n",
      "x =  -573.00 y =  248.00  and z=  -821.00\n",
      "Received !!!\n",
      "x =  -573.00 y =  246.00  and z=  -820.00\n"
     ]
    },
    {
     "name": "stderr",
     "output_type": "stream",
     "text": [
      "143.248.53.23 - - [28/Feb/2023 19:33:48] \"GET /api/accelerometer?x=-572.00&y=248.00&z=-823.00 HTTP/1.1\" 200 -\n",
      "143.248.53.23 - - [28/Feb/2023 19:33:49] \"GET /api/accelerometer?x=-573.00&y=246.00&z=-822.00 HTTP/1.1\" 200 -\n"
     ]
    },
    {
     "name": "stdout",
     "output_type": "stream",
     "text": [
      "Received !!!\n",
      "x =  -572.00 y =  248.00  and z=  -823.00\n",
      "Received !!!\n",
      "x =  -573.00 y =  246.00  and z=  -822.00\n"
     ]
    },
    {
     "name": "stderr",
     "output_type": "stream",
     "text": [
      "143.248.53.23 - - [28/Feb/2023 19:33:49] \"GET /api/accelerometer?x=-573.00&y=248.00&z=-820.00 HTTP/1.1\" 200 -\n"
     ]
    },
    {
     "name": "stdout",
     "output_type": "stream",
     "text": [
      "Received !!!\n",
      "x =  -573.00 y =  248.00  and z=  -820.00\n"
     ]
    },
    {
     "name": "stderr",
     "output_type": "stream",
     "text": [
      "143.248.53.23 - - [28/Feb/2023 19:33:49] \"GET /api/accelerometer?x=-574.00&y=247.00&z=-823.00 HTTP/1.1\" 200 -\n",
      "143.248.53.23 - - [28/Feb/2023 19:33:49] \"GET /api/accelerometer?x=-574.00&y=249.00&z=-823.00 HTTP/1.1\" 200 -\n"
     ]
    },
    {
     "name": "stdout",
     "output_type": "stream",
     "text": [
      "Received !!!\n",
      "x =  -574.00 y =  247.00  and z=  -823.00\n",
      "Received !!!\n",
      "x =  -574.00 y =  249.00  and z=  -823.00\n"
     ]
    },
    {
     "name": "stderr",
     "output_type": "stream",
     "text": [
      "143.248.53.23 - - [28/Feb/2023 19:33:49] \"GET /api/accelerometer?x=-575.00&y=248.00&z=-822.00 HTTP/1.1\" 200 -\n",
      "143.248.53.23 - - [28/Feb/2023 19:33:49] \"GET /api/accelerometer?x=-575.00&y=248.00&z=-821.00 HTTP/1.1\" 200 -\n"
     ]
    },
    {
     "name": "stdout",
     "output_type": "stream",
     "text": [
      "Received !!!\n",
      "x =  -575.00 y =  248.00  and z=  -822.00\n",
      "Received !!!\n",
      "x =  -575.00 y =  248.00  and z=  -821.00\n"
     ]
    },
    {
     "name": "stderr",
     "output_type": "stream",
     "text": [
      "143.248.53.23 - - [28/Feb/2023 19:33:50] \"GET /api/accelerometer?x=-573.00&y=249.00&z=-822.00 HTTP/1.1\" 200 -\n",
      "143.248.53.23 - - [28/Feb/2023 19:33:50] \"GET /api/accelerometer?x=-574.00&y=248.00&z=-822.00 HTTP/1.1\" 200 -\n"
     ]
    },
    {
     "name": "stdout",
     "output_type": "stream",
     "text": [
      "Received !!!\n",
      "x =  -573.00 y =  249.00  and z=  -822.00\n",
      "Received !!!\n",
      "x =  -574.00 y =  248.00  and z=  -822.00\n"
     ]
    },
    {
     "name": "stderr",
     "output_type": "stream",
     "text": [
      "143.248.53.23 - - [28/Feb/2023 19:33:50] \"GET /api/accelerometer?x=-574.00&y=246.00&z=-822.00 HTTP/1.1\" 200 -\n"
     ]
    },
    {
     "name": "stdout",
     "output_type": "stream",
     "text": [
      "Received !!!\n",
      "x =  -574.00 y =  246.00  and z=  -822.00\n",
      "Received !!!\n",
      "x =  -573.00 y =  247.00  and z=  -822.00\n"
     ]
    },
    {
     "name": "stderr",
     "output_type": "stream",
     "text": [
      "143.248.53.23 - - [28/Feb/2023 19:33:50] \"GET /api/accelerometer?x=-573.00&y=247.00&z=-822.00 HTTP/1.1\" 200 -\n",
      "143.248.53.23 - - [28/Feb/2023 19:33:50] \"GET /api/accelerometer?x=-573.00&y=248.00&z=-822.00 HTTP/1.1\" 200 -\n",
      "143.248.53.23 - - [28/Feb/2023 19:33:51] \"GET /api/accelerometer?x=-572.00&y=247.00&z=-822.00 HTTP/1.1\" 200 -\n"
     ]
    },
    {
     "name": "stdout",
     "output_type": "stream",
     "text": [
      "Received !!!\n",
      "x =  -573.00 y =  248.00  and z=  -822.00\n",
      "Received !!!\n",
      "x =  -572.00 y =  247.00  and z=  -822.00\n"
     ]
    },
    {
     "name": "stderr",
     "output_type": "stream",
     "text": [
      "143.248.53.23 - - [28/Feb/2023 19:33:51] \"GET /api/accelerometer?x=-573.00&y=247.00&z=-823.00 HTTP/1.1\" 200 -\n",
      "143.248.53.23 - - [28/Feb/2023 19:33:51] \"GET /api/accelerometer?x=-574.00&y=248.00&z=-822.00 HTTP/1.1\" 200 -\n"
     ]
    },
    {
     "name": "stdout",
     "output_type": "stream",
     "text": [
      "Received !!!\n",
      "x =  -573.00 y =  247.00  and z=  -823.00\n",
      "Received !!!\n",
      "x =  -574.00 y =  248.00  and z=  -822.00\n"
     ]
    },
    {
     "name": "stderr",
     "output_type": "stream",
     "text": [
      "143.248.53.23 - - [28/Feb/2023 19:33:51] \"GET /api/accelerometer?x=-574.00&y=248.00&z=-823.00 HTTP/1.1\" 200 -\n",
      "143.248.53.23 - - [28/Feb/2023 19:33:51] \"GET /api/accelerometer?x=-573.00&y=248.00&z=-822.00 HTTP/1.1\" 200 -\n"
     ]
    },
    {
     "name": "stdout",
     "output_type": "stream",
     "text": [
      "Received !!!\n",
      "x =  -574.00 y =  248.00  and z=  -823.00\n",
      "Received !!!\n",
      "x =  -573.00 y =  248.00  and z=  -822.00\n"
     ]
    },
    {
     "name": "stderr",
     "output_type": "stream",
     "text": [
      "143.248.53.23 - - [28/Feb/2023 19:33:51] \"GET /api/accelerometer?x=-572.00&y=247.00&z=-820.00 HTTP/1.1\" 200 -\n",
      "143.248.53.23 - - [28/Feb/2023 19:33:52] \"GET /api/accelerometer?x=-574.00&y=249.00&z=-823.00 HTTP/1.1\" 200 -\n"
     ]
    },
    {
     "name": "stdout",
     "output_type": "stream",
     "text": [
      "Received !!!\n",
      "x =  -572.00 y =  247.00  and z=  -820.00\n",
      "Received !!!\n",
      "x =  -574.00 y =  249.00  and z=  -823.00\n"
     ]
    },
    {
     "name": "stderr",
     "output_type": "stream",
     "text": [
      "143.248.53.23 - - [28/Feb/2023 19:33:52] \"GET /api/accelerometer?x=-575.00&y=246.00&z=-822.00 HTTP/1.1\" 200 -\n"
     ]
    },
    {
     "name": "stdout",
     "output_type": "stream",
     "text": [
      "Received !!!\n",
      "x =  -575.00 y =  246.00  and z=  -822.00\n"
     ]
    },
    {
     "name": "stderr",
     "output_type": "stream",
     "text": [
      "143.248.53.23 - - [28/Feb/2023 19:33:52] \"GET /api/accelerometer?x=-574.00&y=246.00&z=-822.00 HTTP/1.1\" 200 -\n"
     ]
    },
    {
     "name": "stdout",
     "output_type": "stream",
     "text": [
      "Received !!!\n",
      "x =  -574.00 y =  246.00  and z=  -822.00\n"
     ]
    },
    {
     "name": "stderr",
     "output_type": "stream",
     "text": [
      "143.248.53.23 - - [28/Feb/2023 19:33:52] \"GET /api/accelerometer?x=-572.00&y=248.00&z=-822.00 HTTP/1.1\" 200 -\n",
      "143.248.53.23 - - [28/Feb/2023 19:33:52] \"GET /api/accelerometer?x=-574.00&y=248.00&z=-822.00 HTTP/1.1\" 200 -\n"
     ]
    },
    {
     "name": "stdout",
     "output_type": "stream",
     "text": [
      "Received !!!\n",
      "x =  -572.00 y =  248.00  and z=  -822.00\n",
      "Received !!!\n",
      "x =  -574.00 y =  248.00  and z=  -822.00\n"
     ]
    },
    {
     "name": "stderr",
     "output_type": "stream",
     "text": [
      "143.248.53.23 - - [28/Feb/2023 19:33:53] \"GET /api/accelerometer?x=-573.00&y=248.00&z=-821.00 HTTP/1.1\" 200 -\n",
      "143.248.53.23 - - [28/Feb/2023 19:33:53] \"GET /api/accelerometer?x=-574.00&y=247.00&z=-822.00 HTTP/1.1\" 200 -\n"
     ]
    },
    {
     "name": "stdout",
     "output_type": "stream",
     "text": [
      "Received !!!\n",
      "x =  -573.00 y =  248.00  and z=  -821.00\n",
      "Received !!!\n",
      "x =  -574.00 y =  247.00  and z=  -822.00\n"
     ]
    },
    {
     "name": "stderr",
     "output_type": "stream",
     "text": [
      "143.248.53.23 - - [28/Feb/2023 19:33:53] \"GET /api/accelerometer?x=-575.00&y=247.00&z=-821.00 HTTP/1.1\" 200 -\n",
      "143.248.53.23 - - [28/Feb/2023 19:33:53] \"GET /api/accelerometer?x=-577.00&y=248.00&z=-819.00 HTTP/1.1\" 200 -\n"
     ]
    },
    {
     "name": "stdout",
     "output_type": "stream",
     "text": [
      "Received !!!\n",
      "x =  -575.00 y =  247.00  and z=  -821.00\n",
      "Received !!!\n",
      "x =  -577.00 y =  248.00  and z=  -819.00\n"
     ]
    },
    {
     "name": "stderr",
     "output_type": "stream",
     "text": [
      "143.248.53.23 - - [28/Feb/2023 19:33:53] \"GET /api/accelerometer?x=-572.00&y=247.00&z=-822.00 HTTP/1.1\" 200 -\n",
      "143.248.53.23 - - [28/Feb/2023 19:33:54] \"GET /api/accelerometer?x=-575.00&y=247.00&z=-822.00 HTTP/1.1\" 200 -\n"
     ]
    },
    {
     "name": "stdout",
     "output_type": "stream",
     "text": [
      "Received !!!\n",
      "x =  -572.00 y =  247.00  and z=  -822.00\n",
      "Received !!!\n",
      "x =  -575.00 y =  247.00  and z=  -822.00\n"
     ]
    },
    {
     "name": "stderr",
     "output_type": "stream",
     "text": [
      "143.248.53.23 - - [28/Feb/2023 19:33:54] \"GET /api/accelerometer?x=-572.00&y=249.00&z=-822.00 HTTP/1.1\" 200 -\n",
      "143.248.53.23 - - [28/Feb/2023 19:33:54] \"GET /api/accelerometer?x=-573.00&y=247.00&z=-822.00 HTTP/1.1\" 200 -\n"
     ]
    },
    {
     "name": "stdout",
     "output_type": "stream",
     "text": [
      "Received !!!\n",
      "x =  -572.00 y =  249.00  and z=  -822.00\n",
      "Received !!!\n",
      "x =  -573.00 y =  247.00  and z=  -822.00\n"
     ]
    },
    {
     "name": "stderr",
     "output_type": "stream",
     "text": [
      "143.248.53.23 - - [28/Feb/2023 19:33:54] \"GET /api/accelerometer?x=-575.00&y=249.00&z=-822.00 HTTP/1.1\" 200 -\n",
      "143.248.53.23 - - [28/Feb/2023 19:33:54] \"GET /api/accelerometer?x=-573.00&y=247.00&z=-822.00 HTTP/1.1\" 200 -\n"
     ]
    },
    {
     "name": "stdout",
     "output_type": "stream",
     "text": [
      "Received !!!\n",
      "x =  -575.00 y =  249.00  and z=  -822.00\n",
      "Received !!!\n",
      "x =  -573.00 y =  247.00  and z=  -822.00\n"
     ]
    },
    {
     "name": "stderr",
     "output_type": "stream",
     "text": [
      "143.248.53.23 - - [28/Feb/2023 19:33:54] \"GET /api/accelerometer?x=-570.00&y=246.00&z=-827.00 HTTP/1.1\" 200 -\n",
      "143.248.53.23 - - [28/Feb/2023 19:33:55] \"GET /api/accelerometer?x=-574.00&y=248.00&z=-822.00 HTTP/1.1\" 200 -\n"
     ]
    },
    {
     "name": "stdout",
     "output_type": "stream",
     "text": [
      "Received !!!\n",
      "x =  -570.00 y =  246.00  and z=  -827.00\n",
      "Received !!!\n",
      "x =  -574.00 y =  248.00  and z=  -822.00\n"
     ]
    },
    {
     "name": "stderr",
     "output_type": "stream",
     "text": [
      "143.248.53.23 - - [28/Feb/2023 19:33:55] \"GET /api/accelerometer?x=-574.00&y=246.00&z=-820.00 HTTP/1.1\" 200 -\n",
      "143.248.53.23 - - [28/Feb/2023 19:33:55] \"GET /api/accelerometer?x=-574.00&y=246.00&z=-822.00 HTTP/1.1\" 200 -\n"
     ]
    },
    {
     "name": "stdout",
     "output_type": "stream",
     "text": [
      "Received !!!\n",
      "x =  -574.00 y =  246.00  and z=  -820.00\n",
      "Received !!!\n",
      "x =  -574.00 y =  246.00  and z=  -822.00\n"
     ]
    },
    {
     "name": "stderr",
     "output_type": "stream",
     "text": [
      "143.248.53.23 - - [28/Feb/2023 19:33:55] \"GET /api/accelerometer?x=-574.00&y=245.00&z=-822.00 HTTP/1.1\" 200 -\n",
      "143.248.53.23 - - [28/Feb/2023 19:33:55] \"GET /api/accelerometer?x=-574.00&y=247.00&z=-822.00 HTTP/1.1\" 200 -\n"
     ]
    },
    {
     "name": "stdout",
     "output_type": "stream",
     "text": [
      "Received !!!\n",
      "x =  -574.00 y =  245.00  and z=  -822.00\n",
      "Received !!!\n",
      "x =  -574.00 y =  247.00  and z=  -822.00\n"
     ]
    },
    {
     "name": "stderr",
     "output_type": "stream",
     "text": [
      "143.248.53.23 - - [28/Feb/2023 19:33:55] \"GET /api/accelerometer?x=-574.00&y=247.00&z=-821.00 HTTP/1.1\" 200 -\n"
     ]
    },
    {
     "name": "stdout",
     "output_type": "stream",
     "text": [
      "Received !!!\n",
      "x =  -574.00 y =  247.00  and z=  -821.00\n"
     ]
    },
    {
     "name": "stderr",
     "output_type": "stream",
     "text": [
      "143.248.53.23 - - [28/Feb/2023 19:33:56] \"GET /api/accelerometer?x=-575.00&y=246.00&z=-822.00 HTTP/1.1\" 200 -\n"
     ]
    },
    {
     "name": "stdout",
     "output_type": "stream",
     "text": [
      "Received !!!\n",
      "x =  -575.00 y =  246.00  and z=  -822.00\n"
     ]
    },
    {
     "name": "stderr",
     "output_type": "stream",
     "text": [
      "143.248.53.23 - - [28/Feb/2023 19:33:56] \"GET /api/accelerometer?x=-574.00&y=247.00&z=-823.00 HTTP/1.1\" 200 -\n",
      "143.248.53.23 - - [28/Feb/2023 19:33:56] \"GET /api/accelerometer?x=-573.00&y=248.00&z=-823.00 HTTP/1.1\" 200 -\n"
     ]
    },
    {
     "name": "stdout",
     "output_type": "stream",
     "text": [
      "Received !!!\n",
      "x =  -574.00 y =  247.00  and z=  -823.00\n",
      "Received !!!\n",
      "x =  -573.00 y =  248.00  and z=  -823.00\n"
     ]
    },
    {
     "name": "stderr",
     "output_type": "stream",
     "text": [
      "143.248.53.23 - - [28/Feb/2023 19:33:56] \"GET /api/accelerometer?x=-574.00&y=247.00&z=-823.00 HTTP/1.1\" 200 -\n",
      "143.248.53.23 - - [28/Feb/2023 19:33:56] \"GET /api/accelerometer?x=-574.00&y=247.00&z=-823.00 HTTP/1.1\" 200 -\n"
     ]
    },
    {
     "name": "stdout",
     "output_type": "stream",
     "text": [
      "Received !!!\n",
      "x =  -574.00 y =  247.00  and z=  -823.00\n",
      "Received !!!\n",
      "x =  -574.00 y =  247.00  and z=  -823.00\n"
     ]
    },
    {
     "name": "stderr",
     "output_type": "stream",
     "text": [
      "143.248.53.23 - - [28/Feb/2023 19:33:57] \"GET /api/accelerometer?x=-574.00&y=248.00&z=-822.00 HTTP/1.1\" 200 -\n",
      "143.248.53.23 - - [28/Feb/2023 19:33:57] \"GET /api/accelerometer?x=-576.00&y=247.00&z=-822.00 HTTP/1.1\" 200 -\n"
     ]
    },
    {
     "name": "stdout",
     "output_type": "stream",
     "text": [
      "Received !!!\n",
      "x =  -574.00 y =  248.00  and z=  -822.00\n",
      "Received !!!\n",
      "x =  -576.00 y =  247.00  and z=  -822.00\n"
     ]
    },
    {
     "name": "stderr",
     "output_type": "stream",
     "text": [
      "143.248.53.23 - - [28/Feb/2023 19:33:57] \"GET /api/accelerometer?x=-573.00&y=246.00&z=-820.00 HTTP/1.1\" 200 -\n"
     ]
    },
    {
     "name": "stdout",
     "output_type": "stream",
     "text": [
      "Received !!!\n",
      "x =  -573.00 y =  246.00  and z=  -820.00\n"
     ]
    },
    {
     "name": "stderr",
     "output_type": "stream",
     "text": [
      "143.248.53.23 - - [28/Feb/2023 19:33:57] \"GET /api/accelerometer?x=-573.00&y=247.00&z=-821.00 HTTP/1.1\" 200 -\n",
      "143.248.53.23 - - [28/Feb/2023 19:33:57] \"GET /api/accelerometer?x=-573.00&y=247.00&z=-821.00 HTTP/1.1\" 200 -\n"
     ]
    },
    {
     "name": "stdout",
     "output_type": "stream",
     "text": [
      "Received !!!\n",
      "x =  -573.00 y =  247.00  and z=  -821.00\n",
      "Received !!!\n",
      "x =  -573.00 y =  247.00  and z=  -821.00\n"
     ]
    },
    {
     "name": "stderr",
     "output_type": "stream",
     "text": [
      "143.248.53.23 - - [28/Feb/2023 19:33:58] \"GET /api/accelerometer?x=-573.00&y=247.00&z=-821.00 HTTP/1.1\" 200 -\n",
      "143.248.53.23 - - [28/Feb/2023 19:33:58] \"GET /api/accelerometer?x=-575.00&y=247.00&z=-822.00 HTTP/1.1\" 200 -\n"
     ]
    },
    {
     "name": "stdout",
     "output_type": "stream",
     "text": [
      "Received !!!\n",
      "x =  -573.00 y =  247.00  and z=  -821.00\n",
      "Received !!!\n",
      "x =  -575.00 y =  247.00  and z=  -822.00\n"
     ]
    },
    {
     "name": "stderr",
     "output_type": "stream",
     "text": [
      "143.248.53.23 - - [28/Feb/2023 19:33:58] \"GET /api/accelerometer?x=-574.00&y=247.00&z=-822.00 HTTP/1.1\" 200 -\n",
      "143.248.53.23 - - [28/Feb/2023 19:33:58] \"GET /api/accelerometer?x=-575.00&y=247.00&z=-823.00 HTTP/1.1\" 200 -\n"
     ]
    },
    {
     "name": "stdout",
     "output_type": "stream",
     "text": [
      "Received !!!\n",
      "x =  -574.00 y =  247.00  and z=  -822.00\n",
      "Received !!!\n",
      "x =  -575.00 y =  247.00  and z=  -823.00\n"
     ]
    },
    {
     "name": "stderr",
     "output_type": "stream",
     "text": [
      "143.248.53.23 - - [28/Feb/2023 19:33:58] \"GET /api/accelerometer?x=-572.00&y=247.00&z=-823.00 HTTP/1.1\" 200 -\n",
      "143.248.53.23 - - [28/Feb/2023 19:33:59] \"GET /api/accelerometer?x=-573.00&y=248.00&z=-822.00 HTTP/1.1\" 200 -\n"
     ]
    },
    {
     "name": "stdout",
     "output_type": "stream",
     "text": [
      "Received !!!\n",
      "x =  -572.00 y =  247.00  and z=  -823.00\n",
      "Received !!!\n",
      "x =  -573.00 y =  248.00  and z=  -822.00\n"
     ]
    },
    {
     "name": "stderr",
     "output_type": "stream",
     "text": [
      "143.248.53.23 - - [28/Feb/2023 19:33:59] \"GET /api/accelerometer?x=-572.00&y=247.00&z=-822.00 HTTP/1.1\" 200 -\n",
      "143.248.53.23 - - [28/Feb/2023 19:33:59] \"GET /api/accelerometer?x=-575.00&y=249.00&z=-821.00 HTTP/1.1\" 200 -\n"
     ]
    },
    {
     "name": "stdout",
     "output_type": "stream",
     "text": [
      "Received !!!\n",
      "x =  -572.00 y =  247.00  and z=  -822.00\n",
      "Received !!!\n",
      "x =  -575.00 y =  249.00  and z=  -821.00\n"
     ]
    },
    {
     "name": "stderr",
     "output_type": "stream",
     "text": [
      "143.248.53.23 - - [28/Feb/2023 19:33:59] \"GET /api/accelerometer?x=-573.00&y=247.00&z=-821.00 HTTP/1.1\" 200 -\n",
      "143.248.53.23 - - [28/Feb/2023 19:33:59] \"GET /api/accelerometer?x=-574.00&y=246.00&z=-821.00 HTTP/1.1\" 200 -\n"
     ]
    },
    {
     "name": "stdout",
     "output_type": "stream",
     "text": [
      "Received !!!\n",
      "x =  -573.00 y =  247.00  and z=  -821.00\n",
      "Received !!!\n",
      "x =  -574.00 y =  246.00  and z=  -821.00\n"
     ]
    },
    {
     "name": "stderr",
     "output_type": "stream",
     "text": [
      "143.248.53.23 - - [28/Feb/2023 19:33:59] \"GET /api/accelerometer?x=-573.00&y=247.00&z=-821.00 HTTP/1.1\" 200 -\n",
      "143.248.53.23 - - [28/Feb/2023 19:34:00] \"GET /api/accelerometer?x=-574.00&y=247.00&z=-822.00 HTTP/1.1\" 200 -\n"
     ]
    },
    {
     "name": "stdout",
     "output_type": "stream",
     "text": [
      "Received !!!\n",
      "x =  -573.00 y =  247.00  and z=  -821.00\n",
      "Received !!!\n",
      "x =  -574.00 y =  247.00  and z=  -822.00\n"
     ]
    },
    {
     "name": "stderr",
     "output_type": "stream",
     "text": [
      "143.248.53.23 - - [28/Feb/2023 19:34:00] \"GET /api/accelerometer?x=-577.00&y=247.00&z=-818.00 HTTP/1.1\" 200 -\n"
     ]
    },
    {
     "name": "stdout",
     "output_type": "stream",
     "text": [
      "Received !!!\n",
      "x =  -577.00 y =  247.00  and z=  -818.00\n"
     ]
    },
    {
     "name": "stderr",
     "output_type": "stream",
     "text": [
      "143.248.53.23 - - [28/Feb/2023 19:34:00] \"GET /api/accelerometer?x=-575.00&y=249.00&z=-823.00 HTTP/1.1\" 200 -\n"
     ]
    },
    {
     "name": "stdout",
     "output_type": "stream",
     "text": [
      "Received !!!\n",
      "x =  -575.00 y =  249.00  and z=  -823.00\n",
      "Received !!!\n",
      "x =  -574.00 y =  249.00  and z=  -824.00\n"
     ]
    },
    {
     "name": "stderr",
     "output_type": "stream",
     "text": [
      "143.248.53.23 - - [28/Feb/2023 19:34:00] \"GET /api/accelerometer?x=-574.00&y=249.00&z=-824.00 HTTP/1.1\" 200 -\n",
      "143.248.53.23 - - [28/Feb/2023 19:34:00] \"GET /api/accelerometer?x=-573.00&y=249.00&z=-822.00 HTTP/1.1\" 200 -\n",
      "143.248.53.23 - - [28/Feb/2023 19:34:00] \"GET /api/accelerometer?x=-573.00&y=247.00&z=-821.00 HTTP/1.1\" 200 -\n"
     ]
    },
    {
     "name": "stdout",
     "output_type": "stream",
     "text": [
      "Received !!!\n",
      "x =  -573.00 y =  249.00  and z=  -822.00\n",
      "Received !!!\n",
      "x =  -573.00 y =  247.00  and z=  -821.00\n"
     ]
    },
    {
     "name": "stderr",
     "output_type": "stream",
     "text": [
      "143.248.53.23 - - [28/Feb/2023 19:34:01] \"GET /api/accelerometer?x=-575.00&y=247.00&z=-821.00 HTTP/1.1\" 200 -\n",
      "143.248.53.23 - - [28/Feb/2023 19:34:01] \"GET /api/accelerometer?x=-573.00&y=246.00&z=-822.00 HTTP/1.1\" 200 -\n"
     ]
    },
    {
     "name": "stdout",
     "output_type": "stream",
     "text": [
      "Received !!!\n",
      "x =  -575.00 y =  247.00  and z=  -821.00\n",
      "Received !!!\n",
      "x =  -573.00 y =  246.00  and z=  -822.00\n"
     ]
    },
    {
     "name": "stderr",
     "output_type": "stream",
     "text": [
      "143.248.53.23 - - [28/Feb/2023 19:34:01] \"GET /api/accelerometer?x=-574.00&y=246.00&z=-821.00 HTTP/1.1\" 200 -\n",
      "143.248.53.23 - - [28/Feb/2023 19:34:01] \"GET /api/accelerometer?x=-573.00&y=246.00&z=-822.00 HTTP/1.1\" 200 -\n"
     ]
    },
    {
     "name": "stdout",
     "output_type": "stream",
     "text": [
      "Received !!!\n",
      "x =  -574.00 y =  246.00  and z=  -821.00\n",
      "Received !!!\n",
      "x =  -573.00 y =  246.00  and z=  -822.00\n"
     ]
    },
    {
     "name": "stderr",
     "output_type": "stream",
     "text": [
      "143.248.53.23 - - [28/Feb/2023 19:34:01] \"GET /api/accelerometer?x=-574.00&y=246.00&z=-820.00 HTTP/1.1\" 200 -\n",
      "143.248.53.23 - - [28/Feb/2023 19:34:02] \"GET /api/accelerometer?x=-574.00&y=247.00&z=-822.00 HTTP/1.1\" 200 -\n"
     ]
    },
    {
     "name": "stdout",
     "output_type": "stream",
     "text": [
      "Received !!!\n",
      "x =  -574.00 y =  246.00  and z=  -820.00\n",
      "Received !!!\n",
      "x =  -574.00 y =  247.00  and z=  -822.00\n"
     ]
    },
    {
     "name": "stderr",
     "output_type": "stream",
     "text": [
      "143.248.53.23 - - [28/Feb/2023 19:34:02] \"GET /api/accelerometer?x=-575.00&y=246.00&z=-821.00 HTTP/1.1\" 200 -\n",
      "143.248.53.23 - - [28/Feb/2023 19:34:02] \"GET /api/accelerometer?x=-574.00&y=247.00&z=-821.00 HTTP/1.1\" 200 -\n"
     ]
    },
    {
     "name": "stdout",
     "output_type": "stream",
     "text": [
      "Received !!!\n",
      "x =  -575.00 y =  246.00  and z=  -821.00\n",
      "Received !!!\n",
      "x =  -574.00 y =  247.00  and z=  -821.00\n"
     ]
    },
    {
     "name": "stderr",
     "output_type": "stream",
     "text": [
      "143.248.53.23 - - [28/Feb/2023 19:34:02] \"GET /api/accelerometer?x=-572.00&y=247.00&z=-821.00 HTTP/1.1\" 200 -\n",
      "143.248.53.23 - - [28/Feb/2023 19:34:02] \"GET /api/accelerometer?x=-574.00&y=248.00&z=-822.00 HTTP/1.1\" 200 -\n"
     ]
    },
    {
     "name": "stdout",
     "output_type": "stream",
     "text": [
      "Received !!!\n",
      "x =  -572.00 y =  247.00  and z=  -821.00\n",
      "Received !!!\n",
      "x =  -574.00 y =  248.00  and z=  -822.00\n"
     ]
    },
    {
     "name": "stderr",
     "output_type": "stream",
     "text": [
      "143.248.53.23 - - [28/Feb/2023 19:34:02] \"GET /api/accelerometer?x=-575.00&y=248.00&z=-821.00 HTTP/1.1\" 200 -\n",
      "143.248.53.23 - - [28/Feb/2023 19:34:02] \"GET /api/accelerometer?x=-573.00&y=246.00&z=-822.00 HTTP/1.1\" 200 -\n"
     ]
    },
    {
     "name": "stdout",
     "output_type": "stream",
     "text": [
      "Received !!!\n",
      "x =  -575.00 y =  248.00  and z=  -821.00\n",
      "Received !!!\n",
      "x =  -573.00 y =  246.00  and z=  -822.00\n"
     ]
    },
    {
     "name": "stderr",
     "output_type": "stream",
     "text": [
      "143.248.53.23 - - [28/Feb/2023 19:34:03] \"GET /api/accelerometer?x=-574.00&y=248.00&z=-822.00 HTTP/1.1\" 200 -\n",
      "143.248.53.23 - - [28/Feb/2023 19:34:03] \"GET /api/accelerometer?x=-574.00&y=247.00&z=-823.00 HTTP/1.1\" 200 -\n"
     ]
    },
    {
     "name": "stdout",
     "output_type": "stream",
     "text": [
      "Received !!!\n",
      "x =  -574.00 y =  248.00  and z=  -822.00\n",
      "Received !!!\n",
      "x =  -574.00 y =  247.00  and z=  -823.00\n"
     ]
    },
    {
     "name": "stderr",
     "output_type": "stream",
     "text": [
      "143.248.53.23 - - [28/Feb/2023 19:34:03] \"GET /api/accelerometer?x=-572.00&y=246.00&z=-823.00 HTTP/1.1\" 200 -\n",
      "143.248.53.23 - - [28/Feb/2023 19:34:03] \"GET /api/accelerometer?x=-572.00&y=248.00&z=-822.00 HTTP/1.1\" 200 -\n"
     ]
    },
    {
     "name": "stdout",
     "output_type": "stream",
     "text": [
      "Received !!!\n",
      "x =  -572.00 y =  246.00  and z=  -823.00\n",
      "Received !!!\n",
      "x =  -572.00 y =  248.00  and z=  -822.00\n"
     ]
    },
    {
     "name": "stderr",
     "output_type": "stream",
     "text": [
      "143.248.53.23 - - [28/Feb/2023 19:34:03] \"GET /api/accelerometer?x=-574.00&y=247.00&z=-822.00 HTTP/1.1\" 200 -\n",
      "143.248.53.23 - - [28/Feb/2023 19:34:04] \"GET /api/accelerometer?x=-575.00&y=248.00&z=-822.00 HTTP/1.1\" 200 -\n"
     ]
    },
    {
     "name": "stdout",
     "output_type": "stream",
     "text": [
      "Received !!!\n",
      "x =  -574.00 y =  247.00  and z=  -822.00\n",
      "Received !!!\n",
      "x =  -575.00 y =  248.00  and z=  -822.00\n"
     ]
    },
    {
     "name": "stderr",
     "output_type": "stream",
     "text": [
      "143.248.53.23 - - [28/Feb/2023 19:34:04] \"GET /api/accelerometer?x=-575.00&y=247.00&z=-822.00 HTTP/1.1\" 200 -\n",
      "143.248.53.23 - - [28/Feb/2023 19:34:04] \"GET /api/accelerometer?x=-574.00&y=247.00&z=-822.00 HTTP/1.1\" 200 -\n"
     ]
    },
    {
     "name": "stdout",
     "output_type": "stream",
     "text": [
      "Received !!!\n",
      "x =  -575.00 y =  247.00  and z=  -822.00\n",
      "Received !!!\n",
      "x =  -574.00 y =  247.00  and z=  -822.00\n"
     ]
    },
    {
     "name": "stderr",
     "output_type": "stream",
     "text": [
      "143.248.53.23 - - [28/Feb/2023 19:34:04] \"GET /api/accelerometer?x=-574.00&y=247.00&z=-822.00 HTTP/1.1\" 200 -\n",
      "143.248.53.23 - - [28/Feb/2023 19:34:04] \"GET /api/accelerometer?x=-573.00&y=246.00&z=-821.00 HTTP/1.1\" 200 -\n"
     ]
    },
    {
     "name": "stdout",
     "output_type": "stream",
     "text": [
      "Received !!!\n",
      "x =  -574.00 y =  247.00  and z=  -822.00\n",
      "Received !!!\n",
      "x =  -573.00 y =  246.00  and z=  -821.00\n"
     ]
    },
    {
     "name": "stderr",
     "output_type": "stream",
     "text": [
      "143.248.53.23 - - [28/Feb/2023 19:34:04] \"GET /api/accelerometer?x=-574.00&y=248.00&z=-822.00 HTTP/1.1\" 200 -\n",
      "143.248.53.23 - - [28/Feb/2023 19:34:05] \"GET /api/accelerometer?x=-575.00&y=248.00&z=-821.00 HTTP/1.1\" 200 -\n"
     ]
    },
    {
     "name": "stdout",
     "output_type": "stream",
     "text": [
      "Received !!!\n",
      "x =  -574.00 y =  248.00  and z=  -822.00\n",
      "Received !!!\n",
      "x =  -575.00 y =  248.00  and z=  -821.00\n"
     ]
    },
    {
     "name": "stderr",
     "output_type": "stream",
     "text": [
      "143.248.53.23 - - [28/Feb/2023 19:34:05] \"GET /api/accelerometer?x=-575.00&y=247.00&z=-822.00 HTTP/1.1\" 200 -\n"
     ]
    },
    {
     "name": "stdout",
     "output_type": "stream",
     "text": [
      "Received !!!\n",
      "x =  -575.00 y =  247.00  and z=  -822.00\n"
     ]
    },
    {
     "name": "stderr",
     "output_type": "stream",
     "text": [
      "143.248.53.23 - - [28/Feb/2023 19:34:05] \"GET /api/accelerometer?x=-573.00&y=248.00&z=-823.00 HTTP/1.1\" 200 -\n",
      "143.248.53.23 - - [28/Feb/2023 19:34:05] \"GET /api/accelerometer?x=-575.00&y=247.00&z=-822.00 HTTP/1.1\" 200 -\n"
     ]
    },
    {
     "name": "stdout",
     "output_type": "stream",
     "text": [
      "Received !!!\n",
      "x =  -573.00 y =  248.00  and z=  -823.00\n",
      "Received !!!\n",
      "x =  -575.00 y =  247.00  and z=  -822.00\n"
     ]
    },
    {
     "name": "stderr",
     "output_type": "stream",
     "text": [
      "143.248.53.23 - - [28/Feb/2023 19:34:05] \"GET /api/accelerometer?x=-574.00&y=247.00&z=-823.00 HTTP/1.1\" 200 -\n",
      "143.248.53.23 - - [28/Feb/2023 19:34:06] \"GET /api/accelerometer?x=-573.00&y=246.00&z=-821.00 HTTP/1.1\" 200 -\n"
     ]
    },
    {
     "name": "stdout",
     "output_type": "stream",
     "text": [
      "Received !!!\n",
      "x =  -574.00 y =  247.00  and z=  -823.00\n",
      "Received !!!\n",
      "x =  -573.00 y =  246.00  and z=  -821.00\n"
     ]
    },
    {
     "name": "stderr",
     "output_type": "stream",
     "text": [
      "143.248.53.23 - - [28/Feb/2023 19:34:06] \"GET /api/accelerometer?x=-575.00&y=248.00&z=-821.00 HTTP/1.1\" 200 -\n",
      "143.248.53.23 - - [28/Feb/2023 19:34:06] \"GET /api/accelerometer?x=-573.00&y=248.00&z=-822.00 HTTP/1.1\" 200 -\n"
     ]
    },
    {
     "name": "stdout",
     "output_type": "stream",
     "text": [
      "Received !!!\n",
      "x =  -575.00 y =  248.00  and z=  -821.00\n",
      "Received !!!\n",
      "x =  -573.00 y =  248.00  and z=  -822.00\n"
     ]
    },
    {
     "name": "stderr",
     "output_type": "stream",
     "text": [
      "143.248.53.23 - - [28/Feb/2023 19:34:06] \"GET /api/accelerometer?x=-575.00&y=246.00&z=-823.00 HTTP/1.1\" 200 -\n",
      "143.248.53.23 - - [28/Feb/2023 19:34:06] \"GET /api/accelerometer?x=-574.00&y=247.00&z=-822.00 HTTP/1.1\" 200 -\n"
     ]
    },
    {
     "name": "stdout",
     "output_type": "stream",
     "text": [
      "Received !!!\n",
      "x =  -575.00 y =  246.00  and z=  -823.00\n",
      "Received !!!\n",
      "x =  -574.00 y =  247.00  and z=  -822.00\n"
     ]
    },
    {
     "name": "stderr",
     "output_type": "stream",
     "text": [
      "143.248.53.23 - - [28/Feb/2023 19:34:06] \"GET /api/accelerometer?x=-575.00&y=248.00&z=-821.00 HTTP/1.1\" 200 -\n",
      "143.248.53.23 - - [28/Feb/2023 19:34:07] \"GET /api/accelerometer?x=-573.00&y=248.00&z=-822.00 HTTP/1.1\" 200 -\n"
     ]
    },
    {
     "name": "stdout",
     "output_type": "stream",
     "text": [
      "Received !!!\n",
      "x =  -575.00 y =  248.00  and z=  -821.00\n",
      "Received !!!\n",
      "x =  -573.00 y =  248.00  and z=  -822.00\n"
     ]
    },
    {
     "name": "stderr",
     "output_type": "stream",
     "text": [
      "143.248.53.23 - - [28/Feb/2023 19:34:07] \"GET /api/accelerometer?x=-576.00&y=248.00&z=-823.00 HTTP/1.1\" 200 -\n",
      "143.248.53.23 - - [28/Feb/2023 19:34:07] \"GET /api/accelerometer?x=-573.00&y=247.00&z=-821.00 HTTP/1.1\" 200 -\n"
     ]
    },
    {
     "name": "stdout",
     "output_type": "stream",
     "text": [
      "Received !!!\n",
      "x =  -576.00 y =  248.00  and z=  -823.00\n",
      "Received !!!\n",
      "x =  -573.00 y =  247.00  and z=  -821.00\n"
     ]
    },
    {
     "name": "stderr",
     "output_type": "stream",
     "text": [
      "143.248.53.23 - - [28/Feb/2023 19:34:07] \"GET /api/accelerometer?x=-575.00&y=247.00&z=-821.00 HTTP/1.1\" 200 -\n",
      "143.248.53.23 - - [28/Feb/2023 19:34:07] \"GET /api/accelerometer?x=-573.00&y=247.00&z=-821.00 HTTP/1.1\" 200 -\n"
     ]
    },
    {
     "name": "stdout",
     "output_type": "stream",
     "text": [
      "Received !!!\n",
      "x =  -575.00 y =  247.00  and z=  -821.00\n",
      "Received !!!\n",
      "x =  -573.00 y =  247.00  and z=  -821.00\n"
     ]
    },
    {
     "name": "stderr",
     "output_type": "stream",
     "text": [
      "143.248.53.23 - - [28/Feb/2023 19:34:07] \"GET /api/accelerometer?x=-575.00&y=248.00&z=-820.00 HTTP/1.1\" 200 -\n",
      "143.248.53.23 - - [28/Feb/2023 19:34:08] \"GET /api/accelerometer?x=-573.00&y=248.00&z=-821.00 HTTP/1.1\" 200 -\n"
     ]
    },
    {
     "name": "stdout",
     "output_type": "stream",
     "text": [
      "Received !!!\n",
      "x =  -575.00 y =  248.00  and z=  -820.00\n",
      "Received !!!\n",
      "x =  -573.00 y =  248.00  and z=  -821.00\n"
     ]
    },
    {
     "name": "stderr",
     "output_type": "stream",
     "text": [
      "143.248.53.23 - - [28/Feb/2023 19:34:08] \"GET /api/accelerometer?x=-575.00&y=248.00&z=-824.00 HTTP/1.1\" 200 -\n",
      "143.248.53.23 - - [28/Feb/2023 19:34:08] \"GET /api/accelerometer?x=-573.00&y=246.00&z=-821.00 HTTP/1.1\" 200 -\n"
     ]
    },
    {
     "name": "stdout",
     "output_type": "stream",
     "text": [
      "Received !!!\n",
      "x =  -575.00 y =  248.00  and z=  -824.00\n",
      "Received !!!\n",
      "x =  -573.00 y =  246.00  and z=  -821.00\n"
     ]
    },
    {
     "name": "stderr",
     "output_type": "stream",
     "text": [
      "143.248.53.23 - - [28/Feb/2023 19:34:08] \"GET /api/accelerometer?x=-572.00&y=247.00&z=-821.00 HTTP/1.1\" 200 -\n",
      "143.248.53.23 - - [28/Feb/2023 19:34:08] \"GET /api/accelerometer?x=-575.00&y=247.00&z=-823.00 HTTP/1.1\" 200 -\n"
     ]
    },
    {
     "name": "stdout",
     "output_type": "stream",
     "text": [
      "Received !!!\n",
      "x =  -572.00 y =  247.00  and z=  -821.00\n",
      "Received !!!\n",
      "x =  -575.00 y =  247.00  and z=  -823.00\n"
     ]
    },
    {
     "name": "stderr",
     "output_type": "stream",
     "text": [
      "143.248.53.23 - - [28/Feb/2023 19:34:08] \"GET /api/accelerometer?x=-575.00&y=248.00&z=-821.00 HTTP/1.1\" 200 -\n",
      "143.248.53.23 - - [28/Feb/2023 19:34:09] \"GET /api/accelerometer?x=-575.00&y=247.00&z=-821.00 HTTP/1.1\" 200 -\n"
     ]
    },
    {
     "name": "stdout",
     "output_type": "stream",
     "text": [
      "Received !!!\n",
      "x =  -575.00 y =  248.00  and z=  -821.00\n",
      "Received !!!\n",
      "x =  -575.00 y =  247.00  and z=  -821.00\n"
     ]
    },
    {
     "name": "stderr",
     "output_type": "stream",
     "text": [
      "143.248.53.23 - - [28/Feb/2023 19:34:09] \"GET /api/accelerometer?x=-573.00&y=247.00&z=-824.00 HTTP/1.1\" 200 -\n",
      "143.248.53.23 - - [28/Feb/2023 19:34:09] \"GET /api/accelerometer?x=-573.00&y=249.00&z=-823.00 HTTP/1.1\" 200 -\n"
     ]
    },
    {
     "name": "stdout",
     "output_type": "stream",
     "text": [
      "Received !!!\n",
      "x =  -573.00 y =  247.00  and z=  -824.00\n",
      "Received !!!\n",
      "x =  -573.00 y =  249.00  and z=  -823.00\n"
     ]
    },
    {
     "name": "stderr",
     "output_type": "stream",
     "text": [
      "143.248.53.23 - - [28/Feb/2023 19:34:09] \"GET /api/accelerometer?x=-574.00&y=248.00&z=-822.00 HTTP/1.1\" 200 -\n"
     ]
    },
    {
     "name": "stdout",
     "output_type": "stream",
     "text": [
      "Received !!!\n",
      "x =  -574.00 y =  248.00  and z=  -822.00\n"
     ]
    },
    {
     "name": "stderr",
     "output_type": "stream",
     "text": [
      "143.248.53.23 - - [28/Feb/2023 19:34:09] \"GET /api/accelerometer?x=-572.00&y=244.00&z=-821.00 HTTP/1.1\" 200 -\n"
     ]
    },
    {
     "name": "stdout",
     "output_type": "stream",
     "text": [
      "Received !!!\n",
      "x =  -572.00 y =  244.00  and z=  -821.00\n"
     ]
    },
    {
     "name": "stderr",
     "output_type": "stream",
     "text": [
      "143.248.53.23 - - [28/Feb/2023 19:34:10] \"GET /api/accelerometer?x=-574.00&y=246.00&z=-823.00 HTTP/1.1\" 200 -\n",
      "143.248.53.23 - - [28/Feb/2023 19:34:10] \"GET /api/accelerometer?x=-575.00&y=247.00&z=-821.00 HTTP/1.1\" 200 -\n"
     ]
    },
    {
     "name": "stdout",
     "output_type": "stream",
     "text": [
      "Received !!!\n",
      "x =  -574.00 y =  246.00  and z=  -823.00\n",
      "Received !!!\n",
      "x =  -575.00 y =  247.00  and z=  -821.00\n"
     ]
    },
    {
     "name": "stderr",
     "output_type": "stream",
     "text": [
      "143.248.53.23 - - [28/Feb/2023 19:34:10] \"GET /api/accelerometer?x=-579.00&y=249.00&z=-818.00 HTTP/1.1\" 200 -\n",
      "143.248.53.23 - - [28/Feb/2023 19:34:10] \"GET /api/accelerometer?x=-577.00&y=246.00&z=-821.00 HTTP/1.1\" 200 -\n"
     ]
    },
    {
     "name": "stdout",
     "output_type": "stream",
     "text": [
      "Received !!!\n",
      "x =  -579.00 y =  249.00  and z=  -818.00\n",
      "Received !!!\n",
      "x =  -577.00 y =  246.00  and z=  -821.00\n"
     ]
    },
    {
     "name": "stderr",
     "output_type": "stream",
     "text": [
      "143.248.53.23 - - [28/Feb/2023 19:34:10] \"GET /api/accelerometer?x=-575.00&y=248.00&z=-825.00 HTTP/1.1\" 200 -\n",
      "143.248.53.23 - - [28/Feb/2023 19:34:11] \"GET /api/accelerometer?x=-573.00&y=247.00&z=-822.00 HTTP/1.1\" 200 -\n"
     ]
    },
    {
     "name": "stdout",
     "output_type": "stream",
     "text": [
      "Received !!!\n",
      "x =  -575.00 y =  248.00  and z=  -825.00\n",
      "Received !!!\n",
      "x =  -573.00 y =  247.00  and z=  -822.00\n"
     ]
    },
    {
     "name": "stderr",
     "output_type": "stream",
     "text": [
      "143.248.53.23 - - [28/Feb/2023 19:34:11] \"GET /api/accelerometer?x=-576.00&y=246.00&z=-823.00 HTTP/1.1\" 200 -\n",
      "143.248.53.23 - - [28/Feb/2023 19:34:11] \"GET /api/accelerometer?x=-574.00&y=247.00&z=-820.00 HTTP/1.1\" 200 -\n"
     ]
    },
    {
     "name": "stdout",
     "output_type": "stream",
     "text": [
      "Received !!!\n",
      "x =  -576.00 y =  246.00  and z=  -823.00\n",
      "Received !!!\n",
      "x =  -574.00 y =  247.00  and z=  -820.00\n"
     ]
    },
    {
     "name": "stderr",
     "output_type": "stream",
     "text": [
      "143.248.53.23 - - [28/Feb/2023 19:34:11] \"GET /api/accelerometer?x=-573.00&y=247.00&z=-822.00 HTTP/1.1\" 200 -\n",
      "143.248.53.23 - - [28/Feb/2023 19:34:11] \"GET /api/accelerometer?x=-575.00&y=247.00&z=-822.00 HTTP/1.1\" 200 -\n"
     ]
    },
    {
     "name": "stdout",
     "output_type": "stream",
     "text": [
      "Received !!!\n",
      "x =  -573.00 y =  247.00  and z=  -822.00\n",
      "Received !!!\n",
      "x =  -575.00 y =  247.00  and z=  -822.00\n"
     ]
    },
    {
     "name": "stderr",
     "output_type": "stream",
     "text": [
      "143.248.53.23 - - [28/Feb/2023 19:34:11] \"GET /api/accelerometer?x=-572.00&y=248.00&z=-824.00 HTTP/1.1\" 200 -\n",
      "143.248.53.23 - - [28/Feb/2023 19:34:12] \"GET /api/accelerometer?x=-576.00&y=247.00&z=-821.00 HTTP/1.1\" 200 -\n"
     ]
    },
    {
     "name": "stdout",
     "output_type": "stream",
     "text": [
      "Received !!!\n",
      "x =  -572.00 y =  248.00  and z=  -824.00\n",
      "Received !!!\n",
      "x =  -576.00 y =  247.00  and z=  -821.00\n"
     ]
    },
    {
     "name": "stderr",
     "output_type": "stream",
     "text": [
      "143.248.53.23 - - [28/Feb/2023 19:34:12] \"GET /api/accelerometer?x=-576.00&y=246.00&z=-821.00 HTTP/1.1\" 200 -\n",
      "143.248.53.23 - - [28/Feb/2023 19:34:12] \"GET /api/accelerometer?x=-573.00&y=247.00&z=-823.00 HTTP/1.1\" 200 -\n"
     ]
    },
    {
     "name": "stdout",
     "output_type": "stream",
     "text": [
      "Received !!!\n",
      "x =  -576.00 y =  246.00  and z=  -821.00\n",
      "Received !!!\n",
      "x =  -573.00 y =  247.00  and z=  -823.00\n"
     ]
    },
    {
     "name": "stderr",
     "output_type": "stream",
     "text": [
      "143.248.53.23 - - [28/Feb/2023 19:34:12] \"GET /api/accelerometer?x=-574.00&y=245.00&z=-821.00 HTTP/1.1\" 200 -\n",
      "143.248.53.23 - - [28/Feb/2023 19:34:12] \"GET /api/accelerometer?x=-574.00&y=247.00&z=-821.00 HTTP/1.1\" 200 -\n"
     ]
    },
    {
     "name": "stdout",
     "output_type": "stream",
     "text": [
      "Received !!!\n",
      "x =  -574.00 y =  245.00  and z=  -821.00\n",
      "Received !!!\n",
      "x =  -574.00 y =  247.00  and z=  -821.00\n"
     ]
    },
    {
     "name": "stderr",
     "output_type": "stream",
     "text": [
      "143.248.53.23 - - [28/Feb/2023 19:34:13] \"GET /api/accelerometer?x=-575.00&y=247.00&z=-821.00 HTTP/1.1\" 200 -\n",
      "143.248.53.23 - - [28/Feb/2023 19:34:13] \"GET /api/accelerometer?x=-574.00&y=247.00&z=-822.00 HTTP/1.1\" 200 -\n"
     ]
    },
    {
     "name": "stdout",
     "output_type": "stream",
     "text": [
      "Received !!!\n",
      "x =  -575.00 y =  247.00  and z=  -821.00\n",
      "Received !!!\n",
      "x =  -574.00 y =  247.00  and z=  -822.00\n"
     ]
    },
    {
     "name": "stderr",
     "output_type": "stream",
     "text": [
      "143.248.53.23 - - [28/Feb/2023 19:34:13] \"GET /api/accelerometer?x=-574.00&y=247.00&z=-822.00 HTTP/1.1\" 200 -\n",
      "143.248.53.23 - - [28/Feb/2023 19:34:13] \"GET /api/accelerometer?x=-575.00&y=246.00&z=-821.00 HTTP/1.1\" 200 -\n"
     ]
    },
    {
     "name": "stdout",
     "output_type": "stream",
     "text": [
      "Received !!!\n",
      "x =  -574.00 y =  247.00  and z=  -822.00\n",
      "Received !!!\n",
      "x =  -575.00 y =  246.00  and z=  -821.00\n"
     ]
    },
    {
     "name": "stderr",
     "output_type": "stream",
     "text": [
      "143.248.53.23 - - [28/Feb/2023 19:34:13] \"GET /api/accelerometer?x=-574.00&y=245.00&z=-821.00 HTTP/1.1\" 200 -\n",
      "143.248.53.23 - - [28/Feb/2023 19:34:13] \"GET /api/accelerometer?x=-575.00&y=248.00&z=-822.00 HTTP/1.1\" 200 -\n"
     ]
    },
    {
     "name": "stdout",
     "output_type": "stream",
     "text": [
      "Received !!!\n",
      "x =  -574.00 y =  245.00  and z=  -821.00\n",
      "Received !!!\n",
      "x =  -575.00 y =  248.00  and z=  -822.00\n"
     ]
    },
    {
     "name": "stderr",
     "output_type": "stream",
     "text": [
      "143.248.53.23 - - [28/Feb/2023 19:34:14] \"GET /api/accelerometer?x=-574.00&y=247.00&z=-821.00 HTTP/1.1\" 200 -\n",
      "143.248.53.23 - - [28/Feb/2023 19:34:14] \"GET /api/accelerometer?x=-574.00&y=246.00&z=-821.00 HTTP/1.1\" 200 -\n"
     ]
    },
    {
     "name": "stdout",
     "output_type": "stream",
     "text": [
      "Received !!!\n",
      "x =  -574.00 y =  247.00  and z=  -821.00\n",
      "Received !!!\n",
      "x =  -574.00 y =  246.00  and z=  -821.00\n"
     ]
    },
    {
     "name": "stderr",
     "output_type": "stream",
     "text": [
      "143.248.53.23 - - [28/Feb/2023 19:34:14] \"GET /api/accelerometer?x=-575.00&y=247.00&z=-822.00 HTTP/1.1\" 200 -\n",
      "143.248.53.23 - - [28/Feb/2023 19:34:14] \"GET /api/accelerometer?x=-574.00&y=247.00&z=-823.00 HTTP/1.1\" 200 -\n"
     ]
    },
    {
     "name": "stdout",
     "output_type": "stream",
     "text": [
      "Received !!!\n",
      "x =  -575.00 y =  247.00  and z=  -822.00\n",
      "Received !!!\n",
      "x =  -574.00 y =  247.00  and z=  -823.00\n"
     ]
    },
    {
     "name": "stderr",
     "output_type": "stream",
     "text": [
      "143.248.53.23 - - [28/Feb/2023 19:34:14] \"GET /api/accelerometer?x=-575.00&y=247.00&z=-822.00 HTTP/1.1\" 200 -\n",
      "143.248.53.23 - - [28/Feb/2023 19:34:15] \"GET /api/accelerometer?x=-574.00&y=246.00&z=-822.00 HTTP/1.1\" 200 -\n"
     ]
    },
    {
     "name": "stdout",
     "output_type": "stream",
     "text": [
      "Received !!!\n",
      "x =  -575.00 y =  247.00  and z=  -822.00\n",
      "Received !!!\n",
      "x =  -574.00 y =  246.00  and z=  -822.00\n"
     ]
    },
    {
     "name": "stderr",
     "output_type": "stream",
     "text": [
      "143.248.53.23 - - [28/Feb/2023 19:34:15] \"GET /api/accelerometer?x=-574.00&y=246.00&z=-821.00 HTTP/1.1\" 200 -\n",
      "143.248.53.23 - - [28/Feb/2023 19:34:15] \"GET /api/accelerometer?x=-574.00&y=246.00&z=-822.00 HTTP/1.1\" 200 -\n"
     ]
    },
    {
     "name": "stdout",
     "output_type": "stream",
     "text": [
      "Received !!!\n",
      "x =  -574.00 y =  246.00  and z=  -821.00\n",
      "Received !!!\n",
      "x =  -574.00 y =  246.00  and z=  -822.00\n"
     ]
    },
    {
     "name": "stderr",
     "output_type": "stream",
     "text": [
      "143.248.53.23 - - [28/Feb/2023 19:34:15] \"GET /api/accelerometer?x=-574.00&y=246.00&z=-823.00 HTTP/1.1\" 200 -\n",
      "143.248.53.23 - - [28/Feb/2023 19:34:15] \"GET /api/accelerometer?x=-573.00&y=246.00&z=-822.00 HTTP/1.1\" 200 -\n"
     ]
    },
    {
     "name": "stdout",
     "output_type": "stream",
     "text": [
      "Received !!!\n",
      "x =  -574.00 y =  246.00  and z=  -823.00\n",
      "Received !!!\n",
      "x =  -573.00 y =  246.00  and z=  -822.00\n"
     ]
    },
    {
     "name": "stderr",
     "output_type": "stream",
     "text": [
      "143.248.53.23 - - [28/Feb/2023 19:34:15] \"GET /api/accelerometer?x=-575.00&y=248.00&z=-822.00 HTTP/1.1\" 200 -\n",
      "143.248.53.23 - - [28/Feb/2023 19:34:16] \"GET /api/accelerometer?x=-574.00&y=246.00&z=-823.00 HTTP/1.1\" 200 -\n"
     ]
    },
    {
     "name": "stdout",
     "output_type": "stream",
     "text": [
      "Received !!!\n",
      "x =  -575.00 y =  248.00  and z=  -822.00\n",
      "Received !!!\n",
      "x =  -574.00 y =  246.00  and z=  -823.00\n"
     ]
    },
    {
     "name": "stderr",
     "output_type": "stream",
     "text": [
      "143.248.53.23 - - [28/Feb/2023 19:34:16] \"GET /api/accelerometer?x=-575.00&y=247.00&z=-821.00 HTTP/1.1\" 200 -\n"
     ]
    },
    {
     "name": "stdout",
     "output_type": "stream",
     "text": [
      "Received !!!\n",
      "x =  -575.00 y =  247.00  and z=  -821.00\n"
     ]
    },
    {
     "name": "stderr",
     "output_type": "stream",
     "text": [
      "143.248.53.23 - - [28/Feb/2023 19:34:16] \"GET /api/accelerometer?x=-574.00&y=247.00&z=-821.00 HTTP/1.1\" 200 -\n"
     ]
    },
    {
     "name": "stdout",
     "output_type": "stream",
     "text": [
      "Received !!!\n",
      "x =  -574.00 y =  247.00  and z=  -821.00\n"
     ]
    },
    {
     "name": "stderr",
     "output_type": "stream",
     "text": [
      "143.248.53.23 - - [28/Feb/2023 19:34:16] \"GET /api/accelerometer?x=-574.00&y=248.00&z=-822.00 HTTP/1.1\" 200 -\n"
     ]
    },
    {
     "name": "stdout",
     "output_type": "stream",
     "text": [
      "Received !!!\n",
      "x =  -574.00 y =  248.00  and z=  -822.00\n"
     ]
    },
    {
     "name": "stderr",
     "output_type": "stream",
     "text": [
      "143.248.53.23 - - [28/Feb/2023 19:34:16] \"GET /api/accelerometer?x=-574.00&y=246.00&z=-823.00 HTTP/1.1\" 200 -\n"
     ]
    },
    {
     "name": "stdout",
     "output_type": "stream",
     "text": [
      "Received !!!\n",
      "x =  -574.00 y =  246.00  and z=  -823.00\n"
     ]
    },
    {
     "name": "stderr",
     "output_type": "stream",
     "text": [
      "143.248.53.23 - - [28/Feb/2023 19:34:17] \"GET /api/accelerometer?x=-574.00&y=246.00&z=-820.00 HTTP/1.1\" 200 -\n",
      "143.248.53.23 - - [28/Feb/2023 19:34:17] \"GET /api/accelerometer?x=-575.00&y=246.00&z=-822.00 HTTP/1.1\" 200 -\n"
     ]
    },
    {
     "name": "stdout",
     "output_type": "stream",
     "text": [
      "Received !!!\n",
      "x =  -574.00 y =  246.00  and z=  -820.00\n",
      "Received !!!\n",
      "x =  -575.00 y =  246.00  and z=  -822.00\n"
     ]
    },
    {
     "name": "stderr",
     "output_type": "stream",
     "text": [
      "143.248.53.23 - - [28/Feb/2023 19:34:17] \"GET /api/accelerometer?x=-575.00&y=247.00&z=-820.00 HTTP/1.1\" 200 -\n",
      "143.248.53.23 - - [28/Feb/2023 19:34:17] \"GET /api/accelerometer?x=-574.00&y=246.00&z=-822.00 HTTP/1.1\" 200 -\n"
     ]
    },
    {
     "name": "stdout",
     "output_type": "stream",
     "text": [
      "Received !!!\n",
      "x =  -575.00 y =  247.00  and z=  -820.00\n",
      "Received !!!\n",
      "x =  -574.00 y =  246.00  and z=  -822.00\n"
     ]
    },
    {
     "name": "stderr",
     "output_type": "stream",
     "text": [
      "143.248.53.23 - - [28/Feb/2023 19:34:17] \"GET /api/accelerometer?x=-574.00&y=247.00&z=-822.00 HTTP/1.1\" 200 -\n",
      "143.248.53.23 - - [28/Feb/2023 19:34:18] \"GET /api/accelerometer?x=-575.00&y=246.00&z=-822.00 HTTP/1.1\" 200 -\n"
     ]
    },
    {
     "name": "stdout",
     "output_type": "stream",
     "text": [
      "Received !!!\n",
      "x =  -574.00 y =  247.00  and z=  -822.00\n",
      "Received !!!\n",
      "x =  -575.00 y =  246.00  and z=  -822.00\n"
     ]
    },
    {
     "name": "stderr",
     "output_type": "stream",
     "text": [
      "143.248.53.23 - - [28/Feb/2023 19:34:18] \"GET /api/accelerometer?x=-574.00&y=247.00&z=-822.00 HTTP/1.1\" 200 -\n",
      "143.248.53.23 - - [28/Feb/2023 19:34:18] \"GET /api/accelerometer?x=-574.00&y=248.00&z=-821.00 HTTP/1.1\" 200 -\n"
     ]
    },
    {
     "name": "stdout",
     "output_type": "stream",
     "text": [
      "Received !!!\n",
      "x =  -574.00 y =  247.00  and z=  -822.00\n",
      "Received !!!\n",
      "x =  -574.00 y =  248.00  and z=  -821.00\n"
     ]
    },
    {
     "name": "stderr",
     "output_type": "stream",
     "text": [
      "143.248.53.23 - - [28/Feb/2023 19:34:18] \"GET /api/accelerometer?x=-574.00&y=245.00&z=-820.00 HTTP/1.1\" 200 -\n",
      "143.248.53.23 - - [28/Feb/2023 19:34:18] \"GET /api/accelerometer?x=-574.00&y=247.00&z=-821.00 HTTP/1.1\" 200 -\n"
     ]
    },
    {
     "name": "stdout",
     "output_type": "stream",
     "text": [
      "Received !!!\n",
      "x =  -574.00 y =  245.00  and z=  -820.00\n",
      "Received !!!\n",
      "x =  -574.00 y =  247.00  and z=  -821.00\n"
     ]
    },
    {
     "name": "stderr",
     "output_type": "stream",
     "text": [
      "143.248.53.23 - - [28/Feb/2023 19:34:18] \"GET /api/accelerometer?x=-576.00&y=245.00&z=-822.00 HTTP/1.1\" 200 -\n",
      "143.248.53.23 - - [28/Feb/2023 19:34:19] \"GET /api/accelerometer?x=-575.00&y=245.00&z=-823.00 HTTP/1.1\" 200 -\n"
     ]
    },
    {
     "name": "stdout",
     "output_type": "stream",
     "text": [
      "Received !!!\n",
      "x =  -576.00 y =  245.00  and z=  -822.00\n",
      "Received !!!\n",
      "x =  -575.00 y =  245.00  and z=  -823.00\n"
     ]
    },
    {
     "name": "stderr",
     "output_type": "stream",
     "text": [
      "143.248.53.23 - - [28/Feb/2023 19:34:19] \"GET /api/accelerometer?x=-575.00&y=247.00&z=-823.00 HTTP/1.1\" 200 -\n",
      "143.248.53.23 - - [28/Feb/2023 19:34:19] \"GET /api/accelerometer?x=-575.00&y=247.00&z=-821.00 HTTP/1.1\" 200 -\n"
     ]
    },
    {
     "name": "stdout",
     "output_type": "stream",
     "text": [
      "Received !!!\n",
      "x =  -575.00 y =  247.00  and z=  -823.00\n",
      "Received !!!\n",
      "x =  -575.00 y =  247.00  and z=  -821.00\n"
     ]
    },
    {
     "name": "stderr",
     "output_type": "stream",
     "text": [
      "143.248.53.23 - - [28/Feb/2023 19:34:19] \"GET /api/accelerometer?x=-575.00&y=246.00&z=-821.00 HTTP/1.1\" 200 -\n",
      "143.248.53.23 - - [28/Feb/2023 19:34:19] \"GET /api/accelerometer?x=-574.00&y=248.00&z=-821.00 HTTP/1.1\" 200 -\n"
     ]
    },
    {
     "name": "stdout",
     "output_type": "stream",
     "text": [
      "Received !!!\n",
      "x =  -575.00 y =  246.00  and z=  -821.00\n",
      "Received !!!\n",
      "x =  -574.00 y =  248.00  and z=  -821.00\n"
     ]
    },
    {
     "name": "stderr",
     "output_type": "stream",
     "text": [
      "143.248.53.23 - - [28/Feb/2023 19:34:20] \"GET /api/accelerometer?x=-575.00&y=246.00&z=-822.00 HTTP/1.1\" 200 -\n",
      "143.248.53.23 - - [28/Feb/2023 19:34:20] \"GET /api/accelerometer?x=-574.00&y=247.00&z=-821.00 HTTP/1.1\" 200 -\n"
     ]
    },
    {
     "name": "stdout",
     "output_type": "stream",
     "text": [
      "Received !!!\n",
      "x =  -575.00 y =  246.00  and z=  -822.00\n",
      "Received !!!\n",
      "x =  -574.00 y =  247.00  and z=  -821.00\n"
     ]
    },
    {
     "name": "stderr",
     "output_type": "stream",
     "text": [
      "143.248.53.23 - - [28/Feb/2023 19:34:20] \"GET /api/accelerometer?x=-577.00&y=247.00&z=-822.00 HTTP/1.1\" 200 -\n",
      "143.248.53.23 - - [28/Feb/2023 19:34:20] \"GET /api/accelerometer?x=-575.00&y=247.00&z=-823.00 HTTP/1.1\" 200 -\n"
     ]
    },
    {
     "name": "stdout",
     "output_type": "stream",
     "text": [
      "Received !!!\n",
      "x =  -577.00 y =  247.00  and z=  -822.00\n",
      "Received !!!\n",
      "x =  -575.00 y =  247.00  and z=  -823.00\n"
     ]
    },
    {
     "name": "stderr",
     "output_type": "stream",
     "text": [
      "143.248.53.23 - - [28/Feb/2023 19:34:20] \"GET /api/accelerometer?x=-575.00&y=248.00&z=-822.00 HTTP/1.1\" 200 -\n",
      "143.248.53.23 - - [28/Feb/2023 19:34:20] \"GET /api/accelerometer?x=-573.00&y=248.00&z=-822.00 HTTP/1.1\" 200 -\n"
     ]
    },
    {
     "name": "stdout",
     "output_type": "stream",
     "text": [
      "Received !!!\n",
      "x =  -575.00 y =  248.00  and z=  -822.00\n",
      "Received !!!\n",
      "x =  -573.00 y =  248.00  and z=  -822.00\n"
     ]
    },
    {
     "name": "stderr",
     "output_type": "stream",
     "text": [
      "143.248.53.23 - - [28/Feb/2023 19:34:21] \"GET /api/accelerometer?x=-574.00&y=248.00&z=-821.00 HTTP/1.1\" 200 -\n",
      "143.248.53.23 - - [28/Feb/2023 19:34:21] \"GET /api/accelerometer?x=-574.00&y=247.00&z=-822.00 HTTP/1.1\" 200 -\n"
     ]
    },
    {
     "name": "stdout",
     "output_type": "stream",
     "text": [
      "Received !!!\n",
      "x =  -574.00 y =  248.00  and z=  -821.00\n",
      "Received !!!\n",
      "x =  -574.00 y =  247.00  and z=  -822.00\n"
     ]
    },
    {
     "name": "stderr",
     "output_type": "stream",
     "text": [
      "143.248.53.23 - - [28/Feb/2023 19:34:21] \"GET /api/accelerometer?x=-574.00&y=246.00&z=-822.00 HTTP/1.1\" 200 -\n",
      "143.248.53.23 - - [28/Feb/2023 19:34:21] \"GET /api/accelerometer?x=-576.00&y=246.00&z=-821.00 HTTP/1.1\" 200 -\n"
     ]
    },
    {
     "name": "stdout",
     "output_type": "stream",
     "text": [
      "Received !!!\n",
      "x =  -574.00 y =  246.00  and z=  -822.00\n",
      "Received !!!\n",
      "x =  -576.00 y =  246.00  and z=  -821.00\n"
     ]
    },
    {
     "name": "stderr",
     "output_type": "stream",
     "text": [
      "143.248.53.23 - - [28/Feb/2023 19:34:21] \"GET /api/accelerometer?x=-574.00&y=250.00&z=-823.00 HTTP/1.1\" 200 -\n",
      "143.248.53.23 - - [28/Feb/2023 19:34:21] \"GET /api/accelerometer?x=-575.00&y=247.00&z=-822.00 HTTP/1.1\" 200 -\n"
     ]
    },
    {
     "name": "stdout",
     "output_type": "stream",
     "text": [
      "Received !!!\n",
      "x =  -574.00 y =  250.00  and z=  -823.00\n",
      "Received !!!\n",
      "x =  -575.00 y =  247.00  and z=  -822.00\n"
     ]
    },
    {
     "name": "stderr",
     "output_type": "stream",
     "text": [
      "143.248.53.23 - - [28/Feb/2023 19:34:22] \"GET /api/accelerometer?x=-575.00&y=246.00&z=-822.00 HTTP/1.1\" 200 -\n",
      "143.248.53.23 - - [28/Feb/2023 19:34:22] \"GET /api/accelerometer?x=-575.00&y=247.00&z=-822.00 HTTP/1.1\" 200 -\n"
     ]
    },
    {
     "name": "stdout",
     "output_type": "stream",
     "text": [
      "Received !!!\n",
      "x =  -575.00 y =  246.00  and z=  -822.00\n",
      "Received !!!\n",
      "x =  -575.00 y =  247.00  and z=  -822.00\n"
     ]
    },
    {
     "name": "stderr",
     "output_type": "stream",
     "text": [
      "143.248.53.23 - - [28/Feb/2023 19:34:22] \"GET /api/accelerometer?x=-575.00&y=247.00&z=-821.00 HTTP/1.1\" 200 -\n"
     ]
    },
    {
     "name": "stdout",
     "output_type": "stream",
     "text": [
      "Received !!!\n",
      "x =  -575.00 y =  247.00  and z=  -821.00\n"
     ]
    },
    {
     "name": "stderr",
     "output_type": "stream",
     "text": [
      "143.248.53.23 - - [28/Feb/2023 19:34:22] \"GET /api/accelerometer?x=-574.00&y=248.00&z=-821.00 HTTP/1.1\" 200 -\n"
     ]
    },
    {
     "name": "stdout",
     "output_type": "stream",
     "text": [
      "Received !!!\n",
      "x =  -574.00 y =  248.00  and z=  -821.00\n"
     ]
    },
    {
     "name": "stderr",
     "output_type": "stream",
     "text": [
      "143.248.53.23 - - [28/Feb/2023 19:34:23] \"GET /api/accelerometer?x=-574.00&y=246.00&z=-822.00 HTTP/1.1\" 200 -\n",
      "143.248.53.23 - - [28/Feb/2023 19:34:23] \"GET /api/accelerometer?x=-575.00&y=246.00&z=-821.00 HTTP/1.1\" 200 -\n"
     ]
    },
    {
     "name": "stdout",
     "output_type": "stream",
     "text": [
      "Received !!!\n",
      "x =  -574.00 y =  246.00  and z=  -822.00\n",
      "Received !!!\n",
      "x =  -575.00 y =  246.00  and z=  -821.00\n"
     ]
    },
    {
     "name": "stderr",
     "output_type": "stream",
     "text": [
      "143.248.53.23 - - [28/Feb/2023 19:34:23] \"GET /api/accelerometer?x=-575.00&y=245.00&z=-822.00 HTTP/1.1\" 200 -\n",
      "143.248.53.23 - - [28/Feb/2023 19:34:23] \"GET /api/accelerometer?x=-576.00&y=246.00&z=-824.00 HTTP/1.1\" 200 -\n"
     ]
    },
    {
     "name": "stdout",
     "output_type": "stream",
     "text": [
      "Received !!!\n",
      "x =  -575.00 y =  245.00  and z=  -822.00\n",
      "Received !!!\n",
      "x =  -576.00 y =  246.00  and z=  -824.00\n"
     ]
    },
    {
     "name": "stderr",
     "output_type": "stream",
     "text": [
      "143.248.53.23 - - [28/Feb/2023 19:34:23] \"GET /api/accelerometer?x=-574.00&y=247.00&z=-821.00 HTTP/1.1\" 200 -\n"
     ]
    },
    {
     "name": "stdout",
     "output_type": "stream",
     "text": [
      "Received !!!\n",
      "x =  -574.00 y =  247.00  and z=  -821.00\n"
     ]
    },
    {
     "name": "stderr",
     "output_type": "stream",
     "text": [
      "143.248.53.23 - - [28/Feb/2023 19:34:23] \"GET /api/accelerometer?x=-574.00&y=249.00&z=-822.00 HTTP/1.1\" 200 -\n",
      "143.248.53.23 - - [28/Feb/2023 19:34:24] \"GET /api/accelerometer?x=-574.00&y=247.00&z=-821.00 HTTP/1.1\" 200 -\n"
     ]
    },
    {
     "name": "stdout",
     "output_type": "stream",
     "text": [
      "Received !!!\n",
      "x =  -574.00 y =  249.00  and z=  -822.00\n",
      "Received !!!\n",
      "x =  -574.00 y =  247.00  and z=  -821.00\n"
     ]
    },
    {
     "name": "stderr",
     "output_type": "stream",
     "text": [
      "143.248.53.23 - - [28/Feb/2023 19:34:24] \"GET /api/accelerometer?x=-574.00&y=248.00&z=-820.00 HTTP/1.1\" 200 -\n",
      "143.248.53.23 - - [28/Feb/2023 19:34:24] \"GET /api/accelerometer?x=-575.00&y=248.00&z=-821.00 HTTP/1.1\" 200 -\n"
     ]
    },
    {
     "name": "stdout",
     "output_type": "stream",
     "text": [
      "Received !!!\n",
      "x =  -574.00 y =  248.00  and z=  -820.00\n",
      "Received !!!\n",
      "x =  -575.00 y =  248.00  and z=  -821.00\n"
     ]
    },
    {
     "name": "stderr",
     "output_type": "stream",
     "text": [
      "143.248.53.23 - - [28/Feb/2023 19:34:24] \"GET /api/accelerometer?x=-574.00&y=247.00&z=-822.00 HTTP/1.1\" 200 -\n",
      "143.248.53.23 - - [28/Feb/2023 19:34:24] \"GET /api/accelerometer?x=-574.00&y=247.00&z=-822.00 HTTP/1.1\" 200 -\n"
     ]
    },
    {
     "name": "stdout",
     "output_type": "stream",
     "text": [
      "Received !!!\n",
      "x =  -574.00 y =  247.00  and z=  -822.00\n",
      "Received !!!\n",
      "x =  -574.00 y =  247.00  and z=  -822.00\n"
     ]
    },
    {
     "name": "stderr",
     "output_type": "stream",
     "text": [
      "143.248.53.23 - - [28/Feb/2023 19:34:24] \"GET /api/accelerometer?x=-576.00&y=247.00&z=-821.00 HTTP/1.1\" 200 -\n",
      "143.248.53.23 - - [28/Feb/2023 19:34:25] \"GET /api/accelerometer?x=-573.00&y=247.00&z=-822.00 HTTP/1.1\" 200 -\n"
     ]
    },
    {
     "name": "stdout",
     "output_type": "stream",
     "text": [
      "Received !!!\n",
      "x =  -576.00 y =  247.00  and z=  -821.00\n",
      "Received !!!\n",
      "x =  -573.00 y =  247.00  and z=  -822.00\n"
     ]
    },
    {
     "name": "stderr",
     "output_type": "stream",
     "text": [
      "143.248.53.23 - - [28/Feb/2023 19:34:25] \"GET /api/accelerometer?x=-575.00&y=246.00&z=-821.00 HTTP/1.1\" 200 -\n",
      "143.248.53.23 - - [28/Feb/2023 19:34:25] \"GET /api/accelerometer?x=-575.00&y=246.00&z=-821.00 HTTP/1.1\" 200 -\n"
     ]
    },
    {
     "name": "stdout",
     "output_type": "stream",
     "text": [
      "Received !!!\n",
      "x =  -575.00 y =  246.00  and z=  -821.00\n",
      "Received !!!\n",
      "x =  -575.00 y =  246.00  and z=  -821.00\n"
     ]
    },
    {
     "name": "stderr",
     "output_type": "stream",
     "text": [
      "143.248.53.23 - - [28/Feb/2023 19:34:25] \"GET /api/accelerometer?x=-576.00&y=247.00&z=-822.00 HTTP/1.1\" 200 -\n",
      "143.248.53.23 - - [28/Feb/2023 19:34:25] \"GET /api/accelerometer?x=-575.00&y=246.00&z=-822.00 HTTP/1.1\" 200 -\n"
     ]
    },
    {
     "name": "stdout",
     "output_type": "stream",
     "text": [
      "Received !!!\n",
      "x =  -576.00 y =  247.00  and z=  -822.00\n",
      "Received !!!\n",
      "x =  -575.00 y =  246.00  and z=  -822.00\n"
     ]
    },
    {
     "name": "stderr",
     "output_type": "stream",
     "text": [
      "143.248.53.23 - - [28/Feb/2023 19:34:25] \"GET /api/accelerometer?x=-574.00&y=248.00&z=-823.00 HTTP/1.1\" 200 -\n",
      "143.248.53.23 - - [28/Feb/2023 19:34:26] \"GET /api/accelerometer?x=-576.00&y=247.00&z=-821.00 HTTP/1.1\" 200 -\n"
     ]
    },
    {
     "name": "stdout",
     "output_type": "stream",
     "text": [
      "Received !!!\n",
      "x =  -574.00 y =  248.00  and z=  -823.00\n",
      "Received !!!\n",
      "x =  -576.00 y =  247.00  and z=  -821.00\n"
     ]
    },
    {
     "name": "stderr",
     "output_type": "stream",
     "text": [
      "143.248.53.23 - - [28/Feb/2023 19:34:26] \"GET /api/accelerometer?x=-574.00&y=245.00&z=-822.00 HTTP/1.1\" 200 -\n",
      "143.248.53.23 - - [28/Feb/2023 19:34:26] \"GET /api/accelerometer?x=-575.00&y=247.00&z=-821.00 HTTP/1.1\" 200 -\n"
     ]
    },
    {
     "name": "stdout",
     "output_type": "stream",
     "text": [
      "Received !!!\n",
      "x =  -574.00 y =  245.00  and z=  -822.00\n",
      "Received !!!\n",
      "x =  -575.00 y =  247.00  and z=  -821.00\n"
     ]
    },
    {
     "name": "stderr",
     "output_type": "stream",
     "text": [
      "143.248.53.23 - - [28/Feb/2023 19:34:26] \"GET /api/accelerometer?x=-574.00&y=247.00&z=-821.00 HTTP/1.1\" 200 -\n"
     ]
    },
    {
     "name": "stdout",
     "output_type": "stream",
     "text": [
      "Received !!!\n",
      "x =  -574.00 y =  247.00  and z=  -821.00\n"
     ]
    },
    {
     "name": "stderr",
     "output_type": "stream",
     "text": [
      "143.248.53.23 - - [28/Feb/2023 19:34:27] \"GET /api/accelerometer?x=-573.00&y=245.00&z=-823.00 HTTP/1.1\" 200 -\n",
      "143.248.53.23 - - [28/Feb/2023 19:34:27] \"GET /api/accelerometer?x=-575.00&y=247.00&z=-823.00 HTTP/1.1\" 200 -\n"
     ]
    },
    {
     "name": "stdout",
     "output_type": "stream",
     "text": [
      "Received !!!\n",
      "x =  -573.00 y =  245.00  and z=  -823.00\n",
      "Received !!!\n",
      "x =  -575.00 y =  247.00  and z=  -823.00\n"
     ]
    },
    {
     "name": "stderr",
     "output_type": "stream",
     "text": [
      "143.248.53.23 - - [28/Feb/2023 19:34:27] \"GET /api/accelerometer?x=-573.00&y=247.00&z=-821.00 HTTP/1.1\" 200 -\n",
      "143.248.53.23 - - [28/Feb/2023 19:34:27] \"GET /api/accelerometer?x=-574.00&y=245.00&z=-821.00 HTTP/1.1\" 200 -\n"
     ]
    },
    {
     "name": "stdout",
     "output_type": "stream",
     "text": [
      "Received !!!\n",
      "x =  -573.00 y =  247.00  and z=  -821.00\n",
      "Received !!!\n",
      "x =  -574.00 y =  245.00  and z=  -821.00\n"
     ]
    },
    {
     "name": "stderr",
     "output_type": "stream",
     "text": [
      "143.248.53.23 - - [28/Feb/2023 19:34:27] \"GET /api/accelerometer?x=-574.00&y=246.00&z=-822.00 HTTP/1.1\" 200 -\n",
      "143.248.53.23 - - [28/Feb/2023 19:34:27] \"GET /api/accelerometer?x=-575.00&y=247.00&z=-822.00 HTTP/1.1\" 200 -\n"
     ]
    },
    {
     "name": "stdout",
     "output_type": "stream",
     "text": [
      "Received !!!\n",
      "x =  -574.00 y =  246.00  and z=  -822.00\n",
      "Received !!!\n",
      "x =  -575.00 y =  247.00  and z=  -822.00\n"
     ]
    },
    {
     "name": "stderr",
     "output_type": "stream",
     "text": [
      "143.248.53.23 - - [28/Feb/2023 19:34:28] \"GET /api/accelerometer?x=-574.00&y=249.00&z=-822.00 HTTP/1.1\" 200 -\n",
      "143.248.53.23 - - [28/Feb/2023 19:34:28] \"GET /api/accelerometer?x=-574.00&y=246.00&z=-824.00 HTTP/1.1\" 200 -\n"
     ]
    },
    {
     "name": "stdout",
     "output_type": "stream",
     "text": [
      "Received !!!\n",
      "x =  -574.00 y =  249.00  and z=  -822.00\n",
      "Received !!!\n",
      "x =  -574.00 y =  246.00  and z=  -824.00\n"
     ]
    },
    {
     "name": "stderr",
     "output_type": "stream",
     "text": [
      "143.248.53.23 - - [28/Feb/2023 19:34:28] \"GET /api/accelerometer?x=-574.00&y=247.00&z=-822.00 HTTP/1.1\" 200 -\n",
      "143.248.53.23 - - [28/Feb/2023 19:34:28] \"GET /api/accelerometer?x=-575.00&y=247.00&z=-822.00 HTTP/1.1\" 200 -\n"
     ]
    },
    {
     "name": "stdout",
     "output_type": "stream",
     "text": [
      "Received !!!\n",
      "x =  -574.00 y =  247.00  and z=  -822.00\n",
      "Received !!!\n",
      "x =  -575.00 y =  247.00  and z=  -822.00\n"
     ]
    },
    {
     "name": "stderr",
     "output_type": "stream",
     "text": [
      "143.248.53.23 - - [28/Feb/2023 19:34:28] \"GET /api/accelerometer?x=-574.00&y=245.00&z=-822.00 HTTP/1.1\" 200 -\n",
      "143.248.53.23 - - [28/Feb/2023 19:34:29] \"GET /api/accelerometer?x=-575.00&y=246.00&z=-821.00 HTTP/1.1\" 200 -\n"
     ]
    },
    {
     "name": "stdout",
     "output_type": "stream",
     "text": [
      "Received !!!\n",
      "x =  -574.00 y =  245.00  and z=  -822.00\n",
      "Received !!!\n",
      "x =  -575.00 y =  246.00  and z=  -821.00\n"
     ]
    },
    {
     "name": "stderr",
     "output_type": "stream",
     "text": [
      "143.248.53.23 - - [28/Feb/2023 19:34:29] \"GET /api/accelerometer?x=-574.00&y=247.00&z=-823.00 HTTP/1.1\" 200 -\n",
      "143.248.53.23 - - [28/Feb/2023 19:34:29] \"GET /api/accelerometer?x=-575.00&y=247.00&z=-822.00 HTTP/1.1\" 200 -\n"
     ]
    },
    {
     "name": "stdout",
     "output_type": "stream",
     "text": [
      "Received !!!\n",
      "x =  -574.00 y =  247.00  and z=  -823.00\n",
      "Received !!!\n",
      "x =  -575.00 y =  247.00  and z=  -822.00\n"
     ]
    },
    {
     "name": "stderr",
     "output_type": "stream",
     "text": [
      "143.248.53.23 - - [28/Feb/2023 19:34:29] \"GET /api/accelerometer?x=-574.00&y=245.00&z=-822.00 HTTP/1.1\" 200 -\n",
      "143.248.53.23 - - [28/Feb/2023 19:34:29] \"GET /api/accelerometer?x=-575.00&y=246.00&z=-821.00 HTTP/1.1\" 200 -\n"
     ]
    },
    {
     "name": "stdout",
     "output_type": "stream",
     "text": [
      "Received !!!\n",
      "x =  -574.00 y =  245.00  and z=  -822.00\n",
      "Received !!!\n",
      "x =  -575.00 y =  246.00  and z=  -821.00\n"
     ]
    },
    {
     "name": "stderr",
     "output_type": "stream",
     "text": [
      "143.248.53.23 - - [28/Feb/2023 19:34:29] \"GET /api/accelerometer?x=-574.00&y=246.00&z=-823.00 HTTP/1.1\" 200 -\n",
      "143.248.53.23 - - [28/Feb/2023 19:34:30] \"GET /api/accelerometer?x=-575.00&y=247.00&z=-822.00 HTTP/1.1\" 200 -\n"
     ]
    },
    {
     "name": "stdout",
     "output_type": "stream",
     "text": [
      "Received !!!\n",
      "x =  -574.00 y =  246.00  and z=  -823.00\n",
      "Received !!!\n",
      "x =  -575.00 y =  247.00  and z=  -822.00\n"
     ]
    },
    {
     "name": "stderr",
     "output_type": "stream",
     "text": [
      "143.248.53.23 - - [28/Feb/2023 19:34:30] \"GET /api/accelerometer?x=-574.00&y=247.00&z=-822.00 HTTP/1.1\" 200 -\n",
      "143.248.53.23 - - [28/Feb/2023 19:34:30] \"GET /api/accelerometer?x=-574.00&y=246.00&z=-821.00 HTTP/1.1\" 200 -\n"
     ]
    },
    {
     "name": "stdout",
     "output_type": "stream",
     "text": [
      "Received !!!\n",
      "x =  -574.00 y =  247.00  and z=  -822.00\n",
      "Received !!!\n",
      "x =  -574.00 y =  246.00  and z=  -821.00\n"
     ]
    },
    {
     "name": "stderr",
     "output_type": "stream",
     "text": [
      "143.248.53.23 - - [28/Feb/2023 19:34:30] \"GET /api/accelerometer?x=-572.00&y=246.00&z=-821.00 HTTP/1.1\" 200 -\n",
      "143.248.53.23 - - [28/Feb/2023 19:34:30] \"GET /api/accelerometer?x=-574.00&y=246.00&z=-821.00 HTTP/1.1\" 200 -\n"
     ]
    },
    {
     "name": "stdout",
     "output_type": "stream",
     "text": [
      "Received !!!\n",
      "x =  -572.00 y =  246.00  and z=  -821.00\n",
      "Received !!!\n",
      "x =  -574.00 y =  246.00  and z=  -821.00\n"
     ]
    },
    {
     "name": "stderr",
     "output_type": "stream",
     "text": [
      "143.248.53.23 - - [28/Feb/2023 19:34:30] \"GET /api/accelerometer?x=-574.00&y=247.00&z=-822.00 HTTP/1.1\" 200 -\n"
     ]
    },
    {
     "name": "stdout",
     "output_type": "stream",
     "text": [
      "Received !!!\n",
      "x =  -574.00 y =  247.00  and z=  -822.00\n"
     ]
    },
    {
     "name": "stderr",
     "output_type": "stream",
     "text": [
      "143.248.53.23 - - [28/Feb/2023 19:34:31] \"GET /api/accelerometer?x=-574.00&y=247.00&z=-822.00 HTTP/1.1\" 200 -\n"
     ]
    },
    {
     "name": "stdout",
     "output_type": "stream",
     "text": [
      "Received !!!\n",
      "x =  -574.00 y =  247.00  and z=  -822.00\n"
     ]
    },
    {
     "name": "stderr",
     "output_type": "stream",
     "text": [
      "143.248.53.23 - - [28/Feb/2023 19:34:31] \"GET /api/accelerometer?x=-573.00&y=246.00&z=-821.00 HTTP/1.1\" 200 -\n"
     ]
    },
    {
     "name": "stdout",
     "output_type": "stream",
     "text": [
      "Received !!!\n",
      "x =  -573.00 y =  246.00  and z=  -821.00\n"
     ]
    },
    {
     "name": "stderr",
     "output_type": "stream",
     "text": [
      "143.248.53.23 - - [28/Feb/2023 19:34:31] \"GET /api/accelerometer?x=-574.00&y=246.00&z=-821.00 HTTP/1.1\" 200 -\n",
      "143.248.53.23 - - [28/Feb/2023 19:34:31] \"GET /api/accelerometer?x=-575.00&y=247.00&z=-821.00 HTTP/1.1\" 200 -\n"
     ]
    },
    {
     "name": "stdout",
     "output_type": "stream",
     "text": [
      "Received !!!\n",
      "x =  -574.00 y =  246.00  and z=  -821.00\n",
      "Received !!!\n",
      "x =  -575.00 y =  247.00  and z=  -821.00\n"
     ]
    },
    {
     "name": "stderr",
     "output_type": "stream",
     "text": [
      "143.248.53.23 - - [28/Feb/2023 19:34:32] \"GET /api/accelerometer?x=-574.00&y=246.00&z=-823.00 HTTP/1.1\" 200 -\n",
      "143.248.53.23 - - [28/Feb/2023 19:34:32] \"GET /api/accelerometer?x=-573.00&y=246.00&z=-822.00 HTTP/1.1\" 200 -\n"
     ]
    },
    {
     "name": "stdout",
     "output_type": "stream",
     "text": [
      "Received !!!\n",
      "x =  -574.00 y =  246.00  and z=  -823.00\n",
      "Received !!!\n",
      "x =  -573.00 y =  246.00  and z=  -822.00\n"
     ]
    },
    {
     "name": "stderr",
     "output_type": "stream",
     "text": [
      "143.248.53.23 - - [28/Feb/2023 19:34:32] \"GET /api/accelerometer?x=-574.00&y=247.00&z=-821.00 HTTP/1.1\" 200 -\n",
      "143.248.53.23 - - [28/Feb/2023 19:34:32] \"GET /api/accelerometer?x=-575.00&y=247.00&z=-823.00 HTTP/1.1\" 200 -\n"
     ]
    },
    {
     "name": "stdout",
     "output_type": "stream",
     "text": [
      "Received !!!\n",
      "x =  -574.00 y =  247.00  and z=  -821.00\n",
      "Received !!!\n",
      "x =  -575.00 y =  247.00  and z=  -823.00\n"
     ]
    },
    {
     "name": "stderr",
     "output_type": "stream",
     "text": [
      "143.248.53.23 - - [28/Feb/2023 19:34:32] \"GET /api/accelerometer?x=-574.00&y=247.00&z=-822.00 HTTP/1.1\" 200 -\n",
      "143.248.53.23 - - [28/Feb/2023 19:34:33] \"GET /api/accelerometer?x=-573.00&y=246.00&z=-822.00 HTTP/1.1\" 200 -\n"
     ]
    },
    {
     "name": "stdout",
     "output_type": "stream",
     "text": [
      "Received !!!\n",
      "x =  -574.00 y =  247.00  and z=  -822.00\n",
      "Received !!!\n",
      "x =  -573.00 y =  246.00  and z=  -822.00\n"
     ]
    },
    {
     "name": "stderr",
     "output_type": "stream",
     "text": [
      "143.248.53.23 - - [28/Feb/2023 19:34:33] \"GET /api/accelerometer?x=-575.00&y=247.00&z=-822.00 HTTP/1.1\" 200 -\n",
      "143.248.53.23 - - [28/Feb/2023 19:34:33] \"GET /api/accelerometer?x=-575.00&y=246.00&z=-823.00 HTTP/1.1\" 200 -\n"
     ]
    },
    {
     "name": "stdout",
     "output_type": "stream",
     "text": [
      "Received !!!\n",
      "x =  -575.00 y =  247.00  and z=  -822.00\n",
      "Received !!!\n",
      "x =  -575.00 y =  246.00  and z=  -823.00\n"
     ]
    },
    {
     "name": "stderr",
     "output_type": "stream",
     "text": [
      "143.248.53.23 - - [28/Feb/2023 19:34:33] \"GET /api/accelerometer?x=-573.00&y=245.00&z=-822.00 HTTP/1.1\" 200 -\n"
     ]
    },
    {
     "name": "stdout",
     "output_type": "stream",
     "text": [
      "Received !!!\n",
      "x =  -573.00 y =  245.00  and z=  -822.00\n",
      "Received !!!\n",
      "x =  -575.00 y =  246.00  and z=  -823.00\n"
     ]
    },
    {
     "name": "stderr",
     "output_type": "stream",
     "text": [
      "143.248.53.23 - - [28/Feb/2023 19:34:33] \"GET /api/accelerometer?x=-575.00&y=246.00&z=-823.00 HTTP/1.1\" 200 -\n",
      "143.248.53.23 - - [28/Feb/2023 19:34:34] \"GET /api/accelerometer?x=-574.00&y=247.00&z=-822.00 HTTP/1.1\" 200 -\n",
      "143.248.53.23 - - [28/Feb/2023 19:34:34] \"GET /api/accelerometer?x=-575.00&y=246.00&z=-822.00 HTTP/1.1\" 200 -\n"
     ]
    },
    {
     "name": "stdout",
     "output_type": "stream",
     "text": [
      "Received !!!\n",
      "x =  -574.00 y =  247.00  and z=  -822.00\n",
      "Received !!!\n",
      "x =  -575.00 y =  246.00  and z=  -822.00\n"
     ]
    },
    {
     "name": "stderr",
     "output_type": "stream",
     "text": [
      "143.248.53.23 - - [28/Feb/2023 19:34:34] \"GET /api/accelerometer?x=-575.00&y=247.00&z=-824.00 HTTP/1.1\" 200 -\n",
      "143.248.53.23 - - [28/Feb/2023 19:34:34] \"GET /api/accelerometer?x=-573.00&y=247.00&z=-823.00 HTTP/1.1\" 200 -\n"
     ]
    },
    {
     "name": "stdout",
     "output_type": "stream",
     "text": [
      "Received !!!\n",
      "x =  -575.00 y =  247.00  and z=  -824.00\n",
      "Received !!!\n",
      "x =  -573.00 y =  247.00  and z=  -823.00\n"
     ]
    },
    {
     "name": "stderr",
     "output_type": "stream",
     "text": [
      "143.248.53.23 - - [28/Feb/2023 19:34:34] \"GET /api/accelerometer?x=-573.00&y=246.00&z=-822.00 HTTP/1.1\" 200 -\n",
      "143.248.53.23 - - [28/Feb/2023 19:34:34] \"GET /api/accelerometer?x=-575.00&y=245.00&z=-822.00 HTTP/1.1\" 200 -\n"
     ]
    },
    {
     "name": "stdout",
     "output_type": "stream",
     "text": [
      "Received !!!\n",
      "x =  -573.00 y =  246.00  and z=  -822.00\n",
      "Received !!!\n",
      "x =  -575.00 y =  245.00  and z=  -822.00\n"
     ]
    },
    {
     "name": "stderr",
     "output_type": "stream",
     "text": [
      "143.248.53.23 - - [28/Feb/2023 19:34:35] \"GET /api/accelerometer?x=-575.00&y=247.00&z=-822.00 HTTP/1.1\" 200 -\n",
      "143.248.53.23 - - [28/Feb/2023 19:34:35] \"GET /api/accelerometer?x=-575.00&y=246.00&z=-822.00 HTTP/1.1\" 200 -\n"
     ]
    },
    {
     "name": "stdout",
     "output_type": "stream",
     "text": [
      "Received !!!\n",
      "x =  -575.00 y =  247.00  and z=  -822.00\n",
      "Received !!!\n",
      "x =  -575.00 y =  246.00  and z=  -822.00\n"
     ]
    },
    {
     "name": "stderr",
     "output_type": "stream",
     "text": [
      "143.248.53.23 - - [28/Feb/2023 19:34:35] \"GET /api/accelerometer?x=-574.00&y=245.00&z=-820.00 HTTP/1.1\" 200 -\n"
     ]
    },
    {
     "name": "stdout",
     "output_type": "stream",
     "text": [
      "Received !!!\n",
      "x =  -574.00 y =  245.00  and z=  -820.00\n"
     ]
    },
    {
     "name": "stderr",
     "output_type": "stream",
     "text": [
      "143.248.53.23 - - [28/Feb/2023 19:34:35] \"GET /api/accelerometer?x=-575.00&y=247.00&z=-824.00 HTTP/1.1\" 200 -\n",
      "143.248.53.23 - - [28/Feb/2023 19:34:35] \"GET /api/accelerometer?x=-574.00&y=246.00&z=-821.00 HTTP/1.1\" 200 -\n"
     ]
    },
    {
     "name": "stdout",
     "output_type": "stream",
     "text": [
      "Received !!!\n",
      "x =  -575.00 y =  247.00  and z=  -824.00\n",
      "Received !!!\n",
      "x =  -574.00 y =  246.00  and z=  -821.00\n"
     ]
    },
    {
     "name": "stderr",
     "output_type": "stream",
     "text": [
      "143.248.53.23 - - [28/Feb/2023 19:34:36] \"GET /api/accelerometer?x=-574.00&y=246.00&z=-822.00 HTTP/1.1\" 200 -\n",
      "143.248.53.23 - - [28/Feb/2023 19:34:36] \"GET /api/accelerometer?x=-573.00&y=247.00&z=-824.00 HTTP/1.1\" 200 -\n"
     ]
    },
    {
     "name": "stdout",
     "output_type": "stream",
     "text": [
      "Received !!!\n",
      "x =  -574.00 y =  246.00  and z=  -822.00\n",
      "Received !!!\n",
      "x =  -573.00 y =  247.00  and z=  -824.00\n"
     ]
    },
    {
     "name": "stderr",
     "output_type": "stream",
     "text": [
      "143.248.53.23 - - [28/Feb/2023 19:34:36] \"GET /api/accelerometer?x=-575.00&y=245.00&z=-823.00 HTTP/1.1\" 200 -\n"
     ]
    },
    {
     "name": "stdout",
     "output_type": "stream",
     "text": [
      "Received !!!\n",
      "x =  -575.00 y =  245.00  and z=  -823.00\n"
     ]
    },
    {
     "name": "stderr",
     "output_type": "stream",
     "text": [
      "143.248.53.23 - - [28/Feb/2023 19:34:36] \"GET /api/accelerometer?x=-575.00&y=247.00&z=-822.00 HTTP/1.1\" 200 -\n"
     ]
    },
    {
     "name": "stdout",
     "output_type": "stream",
     "text": [
      "Received !!!\n",
      "x =  -575.00 y =  247.00  and z=  -822.00\n"
     ]
    },
    {
     "name": "stderr",
     "output_type": "stream",
     "text": [
      "143.248.53.23 - - [28/Feb/2023 19:34:37] \"GET /api/accelerometer?x=-574.00&y=248.00&z=-823.00 HTTP/1.1\" 200 -\n",
      "143.248.53.23 - - [28/Feb/2023 19:34:37] \"GET /api/accelerometer?x=-574.00&y=246.00&z=-821.00 HTTP/1.1\" 200 -\n"
     ]
    },
    {
     "name": "stdout",
     "output_type": "stream",
     "text": [
      "Received !!!\n",
      "x =  -574.00 y =  248.00  and z=  -823.00\n",
      "Received !!!\n",
      "x =  -574.00 y =  246.00  and z=  -821.00\n"
     ]
    },
    {
     "name": "stderr",
     "output_type": "stream",
     "text": [
      "143.248.53.23 - - [28/Feb/2023 19:34:37] \"GET /api/accelerometer?x=-574.00&y=245.00&z=-821.00 HTTP/1.1\" 200 -\n",
      "143.248.53.23 - - [28/Feb/2023 19:34:38] \"GET /api/accelerometer?x=-573.00&y=247.00&z=-822.00 HTTP/1.1\" 200 -\n"
     ]
    },
    {
     "name": "stdout",
     "output_type": "stream",
     "text": [
      "Received !!!\n",
      "x =  -574.00 y =  245.00  and z=  -821.00\n",
      "Received !!!\n",
      "x =  -573.00 y =  247.00  and z=  -822.00\n"
     ]
    },
    {
     "name": "stderr",
     "output_type": "stream",
     "text": [
      "143.248.53.23 - - [28/Feb/2023 19:34:38] \"GET /api/accelerometer?x=-573.00&y=246.00&z=-822.00 HTTP/1.1\" 200 -\n",
      "143.248.53.23 - - [28/Feb/2023 19:34:38] \"GET /api/accelerometer?x=-573.00&y=246.00&z=-821.00 HTTP/1.1\" 200 -\n"
     ]
    },
    {
     "name": "stdout",
     "output_type": "stream",
     "text": [
      "Received !!!\n",
      "x =  -573.00 y =  246.00  and z=  -822.00\n",
      "Received !!!\n",
      "x =  -573.00 y =  246.00  and z=  -821.00\n"
     ]
    },
    {
     "name": "stderr",
     "output_type": "stream",
     "text": [
      "143.248.53.23 - - [28/Feb/2023 19:34:38] \"GET /api/accelerometer?x=-574.00&y=246.00&z=-823.00 HTTP/1.1\" 200 -\n",
      "143.248.53.23 - - [28/Feb/2023 19:34:38] \"GET /api/accelerometer?x=-575.00&y=247.00&z=-821.00 HTTP/1.1\" 200 -\n"
     ]
    },
    {
     "name": "stdout",
     "output_type": "stream",
     "text": [
      "Received !!!\n",
      "x =  -574.00 y =  246.00  and z=  -823.00\n",
      "Received !!!\n",
      "x =  -575.00 y =  247.00  and z=  -821.00\n"
     ]
    },
    {
     "name": "stderr",
     "output_type": "stream",
     "text": [
      "143.248.53.23 - - [28/Feb/2023 19:34:39] \"GET /api/accelerometer?x=-574.00&y=245.00&z=-822.00 HTTP/1.1\" 200 -\n",
      "143.248.53.23 - - [28/Feb/2023 19:34:39] \"GET /api/accelerometer?x=-574.00&y=246.00&z=-823.00 HTTP/1.1\" 200 -\n"
     ]
    },
    {
     "name": "stdout",
     "output_type": "stream",
     "text": [
      "Received !!!\n",
      "x =  -574.00 y =  245.00  and z=  -822.00\n",
      "Received !!!\n",
      "x =  -574.00 y =  246.00  and z=  -823.00\n"
     ]
    },
    {
     "name": "stderr",
     "output_type": "stream",
     "text": [
      "143.248.53.23 - - [28/Feb/2023 19:34:39] \"GET /api/accelerometer?x=-575.00&y=247.00&z=-821.00 HTTP/1.1\" 200 -\n",
      "143.248.53.23 - - [28/Feb/2023 19:34:39] \"GET /api/accelerometer?x=-574.00&y=248.00&z=-822.00 HTTP/1.1\" 200 -\n"
     ]
    },
    {
     "name": "stdout",
     "output_type": "stream",
     "text": [
      "Received !!!\n",
      "x =  -575.00 y =  247.00  and z=  -821.00\n",
      "Received !!!\n",
      "x =  -574.00 y =  248.00  and z=  -822.00\n"
     ]
    },
    {
     "name": "stderr",
     "output_type": "stream",
     "text": [
      "143.248.53.23 - - [28/Feb/2023 19:34:39] \"GET /api/accelerometer?x=-574.00&y=245.00&z=-823.00 HTTP/1.1\" 200 -\n",
      "143.248.53.23 - - [28/Feb/2023 19:34:39] \"GET /api/accelerometer?x=-574.00&y=246.00&z=-822.00 HTTP/1.1\" 200 -\n"
     ]
    },
    {
     "name": "stdout",
     "output_type": "stream",
     "text": [
      "Received !!!\n",
      "x =  -574.00 y =  245.00  and z=  -823.00\n",
      "Received !!!\n",
      "x =  -574.00 y =  246.00  and z=  -822.00\n"
     ]
    },
    {
     "name": "stderr",
     "output_type": "stream",
     "text": [
      "143.248.53.23 - - [28/Feb/2023 19:34:40] \"GET /api/accelerometer?x=-573.00&y=246.00&z=-821.00 HTTP/1.1\" 200 -\n"
     ]
    },
    {
     "name": "stdout",
     "output_type": "stream",
     "text": [
      "Received !!!\n",
      "x =  -573.00 y =  246.00  and z=  -821.00\n"
     ]
    },
    {
     "name": "stderr",
     "output_type": "stream",
     "text": [
      "143.248.53.23 - - [28/Feb/2023 19:34:40] \"GET /api/accelerometer?x=-573.00&y=245.00&z=-822.00 HTTP/1.1\" 200 -\n",
      "143.248.53.23 - - [28/Feb/2023 19:34:40] \"GET /api/accelerometer?x=-574.00&y=246.00&z=-822.00 HTTP/1.1\" 200 -\n"
     ]
    },
    {
     "name": "stdout",
     "output_type": "stream",
     "text": [
      "Received !!!\n",
      "x =  -573.00 y =  245.00  and z=  -822.00\n",
      "Received !!!\n",
      "x =  -574.00 y =  246.00  and z=  -822.00\n"
     ]
    },
    {
     "name": "stderr",
     "output_type": "stream",
     "text": [
      "143.248.53.23 - - [28/Feb/2023 19:34:40] \"GET /api/accelerometer?x=-574.00&y=248.00&z=-824.00 HTTP/1.1\" 200 -\n",
      "143.248.53.23 - - [28/Feb/2023 19:34:40] \"GET /api/accelerometer?x=-572.00&y=246.00&z=-822.00 HTTP/1.1\" 200 -\n"
     ]
    },
    {
     "name": "stdout",
     "output_type": "stream",
     "text": [
      "Received !!!\n",
      "x =  -574.00 y =  248.00  and z=  -824.00\n",
      "Received !!!\n",
      "x =  -572.00 y =  246.00  and z=  -822.00\n"
     ]
    },
    {
     "name": "stderr",
     "output_type": "stream",
     "text": [
      "143.248.53.23 - - [28/Feb/2023 19:34:41] \"GET /api/accelerometer?x=-573.00&y=246.00&z=-823.00 HTTP/1.1\" 200 -\n",
      "143.248.53.23 - - [28/Feb/2023 19:34:41] \"GET /api/accelerometer?x=-573.00&y=246.00&z=-821.00 HTTP/1.1\" 200 -\n"
     ]
    },
    {
     "name": "stdout",
     "output_type": "stream",
     "text": [
      "Received !!!\n",
      "x =  -573.00 y =  246.00  and z=  -823.00\n",
      "Received !!!\n",
      "x =  -573.00 y =  246.00  and z=  -821.00\n"
     ]
    },
    {
     "name": "stderr",
     "output_type": "stream",
     "text": [
      "143.248.53.23 - - [28/Feb/2023 19:34:41] \"GET /api/accelerometer?x=-575.00&y=247.00&z=-822.00 HTTP/1.1\" 200 -\n",
      "143.248.53.23 - - [28/Feb/2023 19:34:41] \"GET /api/accelerometer?x=-575.00&y=247.00&z=-823.00 HTTP/1.1\" 200 -\n"
     ]
    },
    {
     "name": "stdout",
     "output_type": "stream",
     "text": [
      "Received !!!\n",
      "x =  -575.00 y =  247.00  and z=  -822.00\n",
      "Received !!!\n",
      "x =  -575.00 y =  247.00  and z=  -823.00\n"
     ]
    },
    {
     "name": "stderr",
     "output_type": "stream",
     "text": [
      "143.248.53.23 - - [28/Feb/2023 19:34:41] \"GET /api/accelerometer?x=-574.00&y=246.00&z=-823.00 HTTP/1.1\" 200 -\n",
      "143.248.53.23 - - [28/Feb/2023 19:34:42] \"GET /api/accelerometer?x=-573.00&y=247.00&z=-823.00 HTTP/1.1\" 200 -\n"
     ]
    },
    {
     "name": "stdout",
     "output_type": "stream",
     "text": [
      "Received !!!\n",
      "x =  -574.00 y =  246.00  and z=  -823.00\n",
      "Received !!!\n",
      "x =  -573.00 y =  247.00  and z=  -823.00\n"
     ]
    },
    {
     "name": "stderr",
     "output_type": "stream",
     "text": [
      "143.248.53.23 - - [28/Feb/2023 19:34:42] \"GET /api/accelerometer?x=-573.00&y=245.00&z=-821.00 HTTP/1.1\" 200 -\n",
      "143.248.53.23 - - [28/Feb/2023 19:34:42] \"GET /api/accelerometer?x=-573.00&y=246.00&z=-822.00 HTTP/1.1\" 200 -\n"
     ]
    },
    {
     "name": "stdout",
     "output_type": "stream",
     "text": [
      "Received !!!\n",
      "x =  -573.00 y =  245.00  and z=  -821.00\n",
      "Received !!!\n",
      "x =  -573.00 y =  246.00  and z=  -822.00\n"
     ]
    },
    {
     "name": "stderr",
     "output_type": "stream",
     "text": [
      "143.248.53.23 - - [28/Feb/2023 19:34:42] \"GET /api/accelerometer?x=-574.00&y=245.00&z=-823.00 HTTP/1.1\" 200 -\n",
      "143.248.53.23 - - [28/Feb/2023 19:34:42] \"GET /api/accelerometer?x=-574.00&y=246.00&z=-824.00 HTTP/1.1\" 200 -\n"
     ]
    },
    {
     "name": "stdout",
     "output_type": "stream",
     "text": [
      "Received !!!\n",
      "x =  -574.00 y =  245.00  and z=  -823.00\n",
      "Received !!!\n",
      "x =  -574.00 y =  246.00  and z=  -824.00\n"
     ]
    },
    {
     "name": "stderr",
     "output_type": "stream",
     "text": [
      "143.248.53.23 - - [28/Feb/2023 19:34:42] \"GET /api/accelerometer?x=-574.00&y=247.00&z=-822.00 HTTP/1.1\" 200 -\n"
     ]
    },
    {
     "name": "stdout",
     "output_type": "stream",
     "text": [
      "Received !!!\n",
      "x =  -574.00 y =  247.00  and z=  -822.00\n"
     ]
    },
    {
     "name": "stderr",
     "output_type": "stream",
     "text": [
      "143.248.53.23 - - [28/Feb/2023 19:34:43] \"GET /api/accelerometer?x=-574.00&y=246.00&z=-823.00 HTTP/1.1\" 200 -\n"
     ]
    },
    {
     "name": "stdout",
     "output_type": "stream",
     "text": [
      "Received !!!\n",
      "x =  -574.00 y =  246.00  and z=  -823.00\n"
     ]
    },
    {
     "name": "stderr",
     "output_type": "stream",
     "text": [
      "143.248.53.23 - - [28/Feb/2023 19:34:43] \"GET /api/accelerometer?x=-574.00&y=247.00&z=-822.00 HTTP/1.1\" 200 -\n",
      "143.248.53.23 - - [28/Feb/2023 19:34:43] \"GET /api/accelerometer?x=-573.00&y=246.00&z=-822.00 HTTP/1.1\" 200 -\n"
     ]
    },
    {
     "name": "stdout",
     "output_type": "stream",
     "text": [
      "Received !!!\n",
      "x =  -574.00 y =  247.00  and z=  -822.00\n",
      "Received !!!\n",
      "x =  -573.00 y =  246.00  and z=  -822.00\n"
     ]
    },
    {
     "name": "stderr",
     "output_type": "stream",
     "text": [
      "143.248.53.23 - - [28/Feb/2023 19:34:43] \"GET /api/accelerometer?x=-575.00&y=247.00&z=-823.00 HTTP/1.1\" 200 -\n",
      "143.248.53.23 - - [28/Feb/2023 19:34:43] \"GET /api/accelerometer?x=-573.00&y=245.00&z=-822.00 HTTP/1.1\" 200 -\n"
     ]
    },
    {
     "name": "stdout",
     "output_type": "stream",
     "text": [
      "Received !!!\n",
      "x =  -575.00 y =  247.00  and z=  -823.00\n",
      "Received !!!\n",
      "x =  -573.00 y =  245.00  and z=  -822.00\n"
     ]
    },
    {
     "name": "stderr",
     "output_type": "stream",
     "text": [
      "143.248.53.23 - - [28/Feb/2023 19:34:44] \"GET /api/accelerometer?x=-574.00&y=246.00&z=-823.00 HTTP/1.1\" 200 -\n",
      "143.248.53.23 - - [28/Feb/2023 19:34:44] \"GET /api/accelerometer?x=-574.00&y=245.00&z=-822.00 HTTP/1.1\" 200 -\n"
     ]
    },
    {
     "name": "stdout",
     "output_type": "stream",
     "text": [
      "Received !!!\n",
      "x =  -574.00 y =  246.00  and z=  -823.00\n",
      "Received !!!\n",
      "x =  -574.00 y =  245.00  and z=  -822.00\n"
     ]
    },
    {
     "name": "stderr",
     "output_type": "stream",
     "text": [
      "143.248.53.23 - - [28/Feb/2023 19:34:44] \"GET /api/accelerometer?x=-574.00&y=246.00&z=-822.00 HTTP/1.1\" 200 -\n"
     ]
    },
    {
     "name": "stdout",
     "output_type": "stream",
     "text": [
      "Received !!!\n",
      "x =  -574.00 y =  246.00  and z=  -822.00\n"
     ]
    },
    {
     "name": "stderr",
     "output_type": "stream",
     "text": [
      "143.248.53.23 - - [28/Feb/2023 19:34:44] \"GET /api/accelerometer?x=-573.00&y=246.00&z=-822.00 HTTP/1.1\" 200 -\n",
      "143.248.53.23 - - [28/Feb/2023 19:34:44] \"GET /api/accelerometer?x=-575.00&y=244.00&z=-821.00 HTTP/1.1\" 200 -\n"
     ]
    },
    {
     "name": "stdout",
     "output_type": "stream",
     "text": [
      "Received !!!\n",
      "x =  -573.00 y =  246.00  and z=  -822.00\n",
      "Received !!!\n",
      "x =  -575.00 y =  244.00  and z=  -821.00\n"
     ]
    },
    {
     "name": "stderr",
     "output_type": "stream",
     "text": [
      "143.248.53.23 - - [28/Feb/2023 19:34:45] \"GET /api/accelerometer?x=-574.00&y=246.00&z=-823.00 HTTP/1.1\" 200 -\n"
     ]
    },
    {
     "name": "stdout",
     "output_type": "stream",
     "text": [
      "Received !!!\n",
      "x =  -574.00 y =  246.00  and z=  -823.00\n"
     ]
    },
    {
     "name": "stderr",
     "output_type": "stream",
     "text": [
      "143.248.53.23 - - [28/Feb/2023 19:34:45] \"GET /api/accelerometer?x=-574.00&y=248.00&z=-822.00 HTTP/1.1\" 200 -\n"
     ]
    },
    {
     "name": "stdout",
     "output_type": "stream",
     "text": [
      "Received !!!\n",
      "x =  -574.00 y =  248.00  and z=  -822.00\n"
     ]
    },
    {
     "name": "stderr",
     "output_type": "stream",
     "text": [
      "143.248.53.23 - - [28/Feb/2023 19:34:45] \"GET /api/accelerometer?x=-573.00&y=246.00&z=-824.00 HTTP/1.1\" 200 -\n",
      "143.248.53.23 - - [28/Feb/2023 19:34:45] \"GET /api/accelerometer?x=-574.00&y=246.00&z=-822.00 HTTP/1.1\" 200 -\n"
     ]
    },
    {
     "name": "stdout",
     "output_type": "stream",
     "text": [
      "Received !!!\n",
      "x =  -573.00 y =  246.00  and z=  -824.00\n",
      "Received !!!\n",
      "x =  -574.00 y =  246.00  and z=  -822.00\n"
     ]
    },
    {
     "name": "stderr",
     "output_type": "stream",
     "text": [
      "143.248.53.23 - - [28/Feb/2023 19:34:45] \"GET /api/accelerometer?x=-575.00&y=246.00&z=-823.00 HTTP/1.1\" 200 -\n"
     ]
    },
    {
     "name": "stdout",
     "output_type": "stream",
     "text": [
      "Received !!!\n",
      "x =  -575.00 y =  246.00  and z=  -823.00\n"
     ]
    },
    {
     "name": "stderr",
     "output_type": "stream",
     "text": [
      "143.248.53.23 - - [28/Feb/2023 19:34:46] \"GET /api/accelerometer?x=-574.00&y=247.00&z=-822.00 HTTP/1.1\" 200 -\n",
      "143.248.53.23 - - [28/Feb/2023 19:34:46] \"GET /api/accelerometer?x=-573.00&y=247.00&z=-821.00 HTTP/1.1\" 200 -\n"
     ]
    },
    {
     "name": "stdout",
     "output_type": "stream",
     "text": [
      "Received !!!\n",
      "x =  -574.00 y =  247.00  and z=  -822.00\n",
      "Received !!!\n",
      "x =  -573.00 y =  247.00  and z=  -821.00\n"
     ]
    },
    {
     "name": "stderr",
     "output_type": "stream",
     "text": [
      "143.248.53.23 - - [28/Feb/2023 19:34:46] \"GET /api/accelerometer?x=-573.00&y=245.00&z=-824.00 HTTP/1.1\" 200 -\n",
      "143.248.53.23 - - [28/Feb/2023 19:34:46] \"GET /api/accelerometer?x=-573.00&y=245.00&z=-822.00 HTTP/1.1\" 200 -\n"
     ]
    },
    {
     "name": "stdout",
     "output_type": "stream",
     "text": [
      "Received !!!\n",
      "x =  -573.00 y =  245.00  and z=  -824.00\n",
      "Received !!!\n",
      "x =  -573.00 y =  245.00  and z=  -822.00\n"
     ]
    },
    {
     "name": "stderr",
     "output_type": "stream",
     "text": [
      "143.248.53.23 - - [28/Feb/2023 19:34:46] \"GET /api/accelerometer?x=-573.00&y=244.00&z=-822.00 HTTP/1.1\" 200 -\n"
     ]
    },
    {
     "name": "stdout",
     "output_type": "stream",
     "text": [
      "Received !!!\n",
      "x =  -573.00 y =  244.00  and z=  -822.00\n"
     ]
    },
    {
     "name": "stderr",
     "output_type": "stream",
     "text": [
      "143.248.53.23 - - [28/Feb/2023 19:34:47] \"GET /api/accelerometer?x=-573.00&y=245.00&z=-823.00 HTTP/1.1\" 200 -\n",
      "143.248.53.23 - - [28/Feb/2023 19:34:47] \"GET /api/accelerometer?x=-573.00&y=247.00&z=-822.00 HTTP/1.1\" 200 -\n"
     ]
    },
    {
     "name": "stdout",
     "output_type": "stream",
     "text": [
      "Received !!!\n",
      "x =  -573.00 y =  245.00  and z=  -823.00\n",
      "Received !!!\n",
      "x =  -573.00 y =  247.00  and z=  -822.00\n"
     ]
    },
    {
     "name": "stderr",
     "output_type": "stream",
     "text": [
      "143.248.53.23 - - [28/Feb/2023 19:34:47] \"GET /api/accelerometer?x=-574.00&y=246.00&z=-823.00 HTTP/1.1\" 200 -\n",
      "143.248.53.23 - - [28/Feb/2023 19:34:47] \"GET /api/accelerometer?x=-574.00&y=245.00&z=-822.00 HTTP/1.1\" 200 -\n"
     ]
    },
    {
     "name": "stdout",
     "output_type": "stream",
     "text": [
      "Received !!!\n",
      "x =  -574.00 y =  246.00  and z=  -823.00\n",
      "Received !!!\n",
      "x =  -574.00 y =  245.00  and z=  -822.00\n"
     ]
    },
    {
     "name": "stderr",
     "output_type": "stream",
     "text": [
      "143.248.53.23 - - [28/Feb/2023 19:34:47] \"GET /api/accelerometer?x=-575.00&y=247.00&z=-822.00 HTTP/1.1\" 200 -\n",
      "143.248.53.23 - - [28/Feb/2023 19:34:48] \"GET /api/accelerometer?x=-573.00&y=245.00&z=-822.00 HTTP/1.1\" 200 -\n"
     ]
    },
    {
     "name": "stdout",
     "output_type": "stream",
     "text": [
      "Received !!!\n",
      "x =  -575.00 y =  247.00  and z=  -822.00\n",
      "Received !!!\n",
      "x =  -573.00 y =  245.00  and z=  -822.00\n"
     ]
    },
    {
     "name": "stderr",
     "output_type": "stream",
     "text": [
      "143.248.53.23 - - [28/Feb/2023 19:34:48] \"GET /api/accelerometer?x=-574.00&y=247.00&z=-823.00 HTTP/1.1\" 200 -\n",
      "143.248.53.23 - - [28/Feb/2023 19:34:48] \"GET /api/accelerometer?x=-575.00&y=244.00&z=-822.00 HTTP/1.1\" 200 -\n"
     ]
    },
    {
     "name": "stdout",
     "output_type": "stream",
     "text": [
      "Received !!!\n",
      "x =  -574.00 y =  247.00  and z=  -823.00\n",
      "Received !!!\n",
      "x =  -575.00 y =  244.00  and z=  -822.00\n"
     ]
    },
    {
     "name": "stderr",
     "output_type": "stream",
     "text": [
      "143.248.53.23 - - [28/Feb/2023 19:34:48] \"GET /api/accelerometer?x=-573.00&y=247.00&z=-823.00 HTTP/1.1\" 200 -\n",
      "143.248.53.23 - - [28/Feb/2023 19:34:48] \"GET /api/accelerometer?x=-573.00&y=245.00&z=-823.00 HTTP/1.1\" 200 -\n"
     ]
    },
    {
     "name": "stdout",
     "output_type": "stream",
     "text": [
      "Received !!!\n",
      "x =  -573.00 y =  247.00  and z=  -823.00\n",
      "Received !!!\n",
      "x =  -573.00 y =  245.00  and z=  -823.00\n"
     ]
    },
    {
     "name": "stderr",
     "output_type": "stream",
     "text": [
      "143.248.53.23 - - [28/Feb/2023 19:34:48] \"GET /api/accelerometer?x=-573.00&y=245.00&z=-822.00 HTTP/1.1\" 200 -\n",
      "143.248.53.23 - - [28/Feb/2023 19:34:49] \"GET /api/accelerometer?x=-574.00&y=247.00&z=-823.00 HTTP/1.1\" 200 -\n"
     ]
    },
    {
     "name": "stdout",
     "output_type": "stream",
     "text": [
      "Received !!!\n",
      "x =  -573.00 y =  245.00  and z=  -822.00\n",
      "Received !!!\n",
      "x =  -574.00 y =  247.00  and z=  -823.00\n"
     ]
    },
    {
     "name": "stderr",
     "output_type": "stream",
     "text": [
      "143.248.53.23 - - [28/Feb/2023 19:34:49] \"GET /api/accelerometer?x=-572.00&y=246.00&z=-824.00 HTTP/1.1\" 200 -\n"
     ]
    },
    {
     "name": "stdout",
     "output_type": "stream",
     "text": [
      "Received !!!\n",
      "x =  -572.00 y =  246.00  and z=  -824.00\n"
     ]
    },
    {
     "name": "stderr",
     "output_type": "stream",
     "text": [
      "143.248.53.23 - - [28/Feb/2023 19:34:49] \"GET /api/accelerometer?x=-575.00&y=245.00&z=-823.00 HTTP/1.1\" 200 -\n"
     ]
    },
    {
     "name": "stdout",
     "output_type": "stream",
     "text": [
      "Received !!!\n",
      "x =  -575.00 y =  245.00  and z=  -823.00\n"
     ]
    },
    {
     "name": "stderr",
     "output_type": "stream",
     "text": [
      "143.248.53.23 - - [28/Feb/2023 19:34:49] \"GET /api/accelerometer?x=-573.00&y=246.00&z=-823.00 HTTP/1.1\" 200 -\n",
      "143.248.53.23 - - [28/Feb/2023 19:34:49] \"GET /api/accelerometer?x=-573.00&y=245.00&z=-823.00 HTTP/1.1\" 200 -\n"
     ]
    },
    {
     "name": "stdout",
     "output_type": "stream",
     "text": [
      "Received !!!\n",
      "x =  -573.00 y =  246.00  and z=  -823.00\n",
      "Received !!!\n",
      "x =  -573.00 y =  245.00  and z=  -823.00\n"
     ]
    },
    {
     "name": "stderr",
     "output_type": "stream",
     "text": [
      "143.248.53.23 - - [28/Feb/2023 19:34:50] \"GET /api/accelerometer?x=-574.00&y=245.00&z=-822.00 HTTP/1.1\" 200 -\n",
      "143.248.53.23 - - [28/Feb/2023 19:34:50] \"GET /api/accelerometer?x=-573.00&y=247.00&z=-823.00 HTTP/1.1\" 200 -\n"
     ]
    },
    {
     "name": "stdout",
     "output_type": "stream",
     "text": [
      "Received !!!\n",
      "x =  -574.00 y =  245.00  and z=  -822.00\n",
      "Received !!!\n",
      "x =  -573.00 y =  247.00  and z=  -823.00\n"
     ]
    },
    {
     "name": "stderr",
     "output_type": "stream",
     "text": [
      "143.248.53.23 - - [28/Feb/2023 19:34:50] \"GET /api/accelerometer?x=-573.00&y=245.00&z=-821.00 HTTP/1.1\" 200 -\n",
      "143.248.53.23 - - [28/Feb/2023 19:34:50] \"GET /api/accelerometer?x=-574.00&y=247.00&z=-823.00 HTTP/1.1\" 200 -\n"
     ]
    },
    {
     "name": "stdout",
     "output_type": "stream",
     "text": [
      "Received !!!\n",
      "x =  -573.00 y =  245.00  and z=  -821.00\n",
      "Received !!!\n",
      "x =  -574.00 y =  247.00  and z=  -823.00\n"
     ]
    },
    {
     "name": "stderr",
     "output_type": "stream",
     "text": [
      "143.248.53.23 - - [28/Feb/2023 19:34:50] \"GET /api/accelerometer?x=-573.00&y=246.00&z=-822.00 HTTP/1.1\" 200 -\n",
      "143.248.53.23 - - [28/Feb/2023 19:34:51] \"GET /api/accelerometer?x=-573.00&y=245.00&z=-823.00 HTTP/1.1\" 200 -\n"
     ]
    },
    {
     "name": "stdout",
     "output_type": "stream",
     "text": [
      "Received !!!\n",
      "x =  -573.00 y =  246.00  and z=  -822.00\n",
      "Received !!!\n",
      "x =  -573.00 y =  245.00  and z=  -823.00\n"
     ]
    },
    {
     "name": "stderr",
     "output_type": "stream",
     "text": [
      "143.248.53.23 - - [28/Feb/2023 19:34:51] \"GET /api/accelerometer?x=-573.00&y=246.00&z=-823.00 HTTP/1.1\" 200 -\n"
     ]
    },
    {
     "name": "stdout",
     "output_type": "stream",
     "text": [
      "Received !!!\n",
      "x =  -573.00 y =  246.00  and z=  -823.00\n"
     ]
    },
    {
     "name": "stderr",
     "output_type": "stream",
     "text": [
      "143.248.53.23 - - [28/Feb/2023 19:34:51] \"GET /api/accelerometer?x=-574.00&y=246.00&z=-823.00 HTTP/1.1\" 200 -\n",
      "143.248.53.23 - - [28/Feb/2023 19:34:51] \"GET /api/accelerometer?x=-574.00&y=245.00&z=-823.00 HTTP/1.1\" 200 -\n"
     ]
    },
    {
     "name": "stdout",
     "output_type": "stream",
     "text": [
      "Received !!!\n",
      "x =  -574.00 y =  246.00  and z=  -823.00\n",
      "Received !!!\n",
      "x =  -574.00 y =  245.00  and z=  -823.00\n"
     ]
    },
    {
     "name": "stderr",
     "output_type": "stream",
     "text": [
      "143.248.53.23 - - [28/Feb/2023 19:34:51] \"GET /api/accelerometer?x=-572.00&y=245.00&z=-822.00 HTTP/1.1\" 200 -\n",
      "143.248.53.23 - - [28/Feb/2023 19:34:52] \"GET /api/accelerometer?x=-574.00&y=247.00&z=-824.00 HTTP/1.1\" 200 -\n"
     ]
    },
    {
     "name": "stdout",
     "output_type": "stream",
     "text": [
      "Received !!!\n",
      "x =  -572.00 y =  245.00  and z=  -822.00\n",
      "Received !!!\n",
      "x =  -574.00 y =  247.00  and z=  -824.00\n"
     ]
    },
    {
     "name": "stderr",
     "output_type": "stream",
     "text": [
      "143.248.53.23 - - [28/Feb/2023 19:34:52] \"GET /api/accelerometer?x=-572.00&y=246.00&z=-823.00 HTTP/1.1\" 200 -\n"
     ]
    },
    {
     "name": "stdout",
     "output_type": "stream",
     "text": [
      "Received !!!\n",
      "x =  -572.00 y =  246.00  and z=  -823.00\n"
     ]
    },
    {
     "name": "stderr",
     "output_type": "stream",
     "text": [
      "143.248.53.23 - - [28/Feb/2023 19:34:52] \"GET /api/accelerometer?x=-574.00&y=246.00&z=-821.00 HTTP/1.1\" 200 -\n",
      "143.248.53.23 - - [28/Feb/2023 19:34:52] \"GET /api/accelerometer?x=-573.00&y=246.00&z=-823.00 HTTP/1.1\" 200 -\n"
     ]
    },
    {
     "name": "stdout",
     "output_type": "stream",
     "text": [
      "Received !!!\n",
      "x =  -574.00 y =  246.00  and z=  -821.00\n",
      "Received !!!\n",
      "x =  -573.00 y =  246.00  and z=  -823.00\n"
     ]
    },
    {
     "name": "stderr",
     "output_type": "stream",
     "text": [
      "143.248.53.23 - - [28/Feb/2023 19:34:53] \"GET /api/accelerometer?x=-574.00&y=245.00&z=-822.00 HTTP/1.1\" 200 -\n",
      "143.248.53.23 - - [28/Feb/2023 19:34:53] \"GET /api/accelerometer?x=-573.00&y=246.00&z=-825.00 HTTP/1.1\" 200 -\n"
     ]
    },
    {
     "name": "stdout",
     "output_type": "stream",
     "text": [
      "Received !!!\n",
      "x =  -574.00 y =  245.00  and z=  -822.00\n",
      "Received !!!\n",
      "x =  -573.00 y =  246.00  and z=  -825.00\n"
     ]
    },
    {
     "name": "stderr",
     "output_type": "stream",
     "text": [
      "143.248.53.23 - - [28/Feb/2023 19:34:53] \"GET /api/accelerometer?x=-572.00&y=245.00&z=-822.00 HTTP/1.1\" 200 -\n",
      "143.248.53.23 - - [28/Feb/2023 19:34:53] \"GET /api/accelerometer?x=-573.00&y=245.00&z=-823.00 HTTP/1.1\" 200 -\n"
     ]
    },
    {
     "name": "stdout",
     "output_type": "stream",
     "text": [
      "Received !!!\n",
      "x =  -572.00 y =  245.00  and z=  -822.00\n",
      "Received !!!\n",
      "x =  -573.00 y =  245.00  and z=  -823.00\n"
     ]
    },
    {
     "name": "stderr",
     "output_type": "stream",
     "text": [
      "143.248.53.23 - - [28/Feb/2023 19:34:53] \"GET /api/accelerometer?x=-572.00&y=247.00&z=-820.00 HTTP/1.1\" 200 -\n",
      "143.248.53.23 - - [28/Feb/2023 19:34:53] \"GET /api/accelerometer?x=-572.00&y=247.00&z=-824.00 HTTP/1.1\" 200 -\n"
     ]
    },
    {
     "name": "stdout",
     "output_type": "stream",
     "text": [
      "Received !!!\n",
      "x =  -572.00 y =  247.00  and z=  -820.00\n",
      "Received !!!\n",
      "x =  -572.00 y =  247.00  and z=  -824.00\n"
     ]
    },
    {
     "name": "stderr",
     "output_type": "stream",
     "text": [
      "143.248.53.23 - - [28/Feb/2023 19:34:54] \"GET /api/accelerometer?x=-574.00&y=245.00&z=-822.00 HTTP/1.1\" 200 -\n",
      "143.248.53.23 - - [28/Feb/2023 19:34:54] \"GET /api/accelerometer?x=-574.00&y=245.00&z=-823.00 HTTP/1.1\" 200 -\n"
     ]
    },
    {
     "name": "stdout",
     "output_type": "stream",
     "text": [
      "Received !!!\n",
      "x =  -574.00 y =  245.00  and z=  -822.00\n",
      "Received !!!\n",
      "x =  -574.00 y =  245.00  and z=  -823.00\n"
     ]
    },
    {
     "name": "stderr",
     "output_type": "stream",
     "text": [
      "143.248.53.23 - - [28/Feb/2023 19:34:54] \"GET /api/accelerometer?x=-574.00&y=246.00&z=-821.00 HTTP/1.1\" 200 -\n",
      "143.248.53.23 - - [28/Feb/2023 19:34:54] \"GET /api/accelerometer?x=-573.00&y=244.00&z=-824.00 HTTP/1.1\" 200 -\n"
     ]
    },
    {
     "name": "stdout",
     "output_type": "stream",
     "text": [
      "Received !!!\n",
      "x =  -574.00 y =  246.00  and z=  -821.00\n",
      "Received !!!\n",
      "x =  -573.00 y =  244.00  and z=  -824.00\n"
     ]
    },
    {
     "name": "stderr",
     "output_type": "stream",
     "text": [
      "143.248.53.23 - - [28/Feb/2023 19:34:54] \"GET /api/accelerometer?x=-573.00&y=246.00&z=-823.00 HTTP/1.1\" 200 -\n"
     ]
    },
    {
     "name": "stdout",
     "output_type": "stream",
     "text": [
      "Received !!!\n",
      "x =  -573.00 y =  246.00  and z=  -823.00\n"
     ]
    },
    {
     "name": "stderr",
     "output_type": "stream",
     "text": [
      "143.248.53.23 - - [28/Feb/2023 19:34:55] \"GET /api/accelerometer?x=-573.00&y=245.00&z=-824.00 HTTP/1.1\" 200 -\n",
      "143.248.53.23 - - [28/Feb/2023 19:34:55] \"GET /api/accelerometer?x=-573.00&y=247.00&z=-823.00 HTTP/1.1\" 200 -\n"
     ]
    },
    {
     "name": "stdout",
     "output_type": "stream",
     "text": [
      "Received !!!\n",
      "x =  -573.00 y =  245.00  and z=  -824.00\n",
      "Received !!!\n",
      "x =  -573.00 y =  247.00  and z=  -823.00\n"
     ]
    },
    {
     "name": "stderr",
     "output_type": "stream",
     "text": [
      "143.248.53.23 - - [28/Feb/2023 19:34:55] \"GET /api/accelerometer?x=-573.00&y=244.00&z=-823.00 HTTP/1.1\" 200 -\n",
      "143.248.53.23 - - [28/Feb/2023 19:34:55] \"GET /api/accelerometer?x=-572.00&y=246.00&z=-824.00 HTTP/1.1\" 200 -\n"
     ]
    },
    {
     "name": "stdout",
     "output_type": "stream",
     "text": [
      "Received !!!\n",
      "x =  -573.00 y =  244.00  and z=  -823.00\n",
      "Received !!!\n",
      "x =  -572.00 y =  246.00  and z=  -824.00\n"
     ]
    },
    {
     "name": "stderr",
     "output_type": "stream",
     "text": [
      "143.248.53.23 - - [28/Feb/2023 19:34:55] \"GET /api/accelerometer?x=-573.00&y=246.00&z=-823.00 HTTP/1.1\" 200 -\n",
      "143.248.53.23 - - [28/Feb/2023 19:34:55] \"GET /api/accelerometer?x=-573.00&y=244.00&z=-823.00 HTTP/1.1\" 200 -\n"
     ]
    },
    {
     "name": "stdout",
     "output_type": "stream",
     "text": [
      "Received !!!\n",
      "x =  -573.00 y =  246.00  and z=  -823.00\n",
      "Received !!!\n",
      "x =  -573.00 y =  244.00  and z=  -823.00\n"
     ]
    },
    {
     "name": "stderr",
     "output_type": "stream",
     "text": [
      "143.248.53.23 - - [28/Feb/2023 19:34:56] \"GET /api/accelerometer?x=-575.00&y=246.00&z=-823.00 HTTP/1.1\" 200 -\n",
      "143.248.53.23 - - [28/Feb/2023 19:34:56] \"GET /api/accelerometer?x=-573.00&y=246.00&z=-823.00 HTTP/1.1\" 200 -\n"
     ]
    },
    {
     "name": "stdout",
     "output_type": "stream",
     "text": [
      "Received !!!\n",
      "x =  -575.00 y =  246.00  and z=  -823.00\n",
      "Received !!!\n",
      "x =  -573.00 y =  246.00  and z=  -823.00\n"
     ]
    },
    {
     "name": "stderr",
     "output_type": "stream",
     "text": [
      "143.248.53.23 - - [28/Feb/2023 19:34:56] \"GET /api/accelerometer?x=-574.00&y=245.00&z=-822.00 HTTP/1.1\" 200 -\n",
      "143.248.53.23 - - [28/Feb/2023 19:34:56] \"GET /api/accelerometer?x=-573.00&y=244.00&z=-822.00 HTTP/1.1\" 200 -\n"
     ]
    },
    {
     "name": "stdout",
     "output_type": "stream",
     "text": [
      "Received !!!\n",
      "x =  -574.00 y =  245.00  and z=  -822.00\n",
      "Received !!!\n",
      "x =  -573.00 y =  244.00  and z=  -822.00\n"
     ]
    },
    {
     "name": "stderr",
     "output_type": "stream",
     "text": [
      "143.248.53.23 - - [28/Feb/2023 19:34:56] \"GET /api/accelerometer?x=-575.00&y=247.00&z=-823.00 HTTP/1.1\" 200 -\n",
      "143.248.53.23 - - [28/Feb/2023 19:34:56] \"GET /api/accelerometer?x=-573.00&y=245.00&z=-822.00 HTTP/1.1\" 200 -\n"
     ]
    },
    {
     "name": "stdout",
     "output_type": "stream",
     "text": [
      "Received !!!\n",
      "x =  -575.00 y =  247.00  and z=  -823.00\n",
      "Received !!!\n",
      "x =  -573.00 y =  245.00  and z=  -822.00\n"
     ]
    },
    {
     "name": "stderr",
     "output_type": "stream",
     "text": [
      "143.248.53.23 - - [28/Feb/2023 19:34:57] \"GET /api/accelerometer?x=-574.00&y=245.00&z=-823.00 HTTP/1.1\" 200 -\n",
      "143.248.53.23 - - [28/Feb/2023 19:34:57] \"GET /api/accelerometer?x=-574.00&y=246.00&z=-823.00 HTTP/1.1\" 200 -\n"
     ]
    },
    {
     "name": "stdout",
     "output_type": "stream",
     "text": [
      "Received !!!\n",
      "x =  -574.00 y =  245.00  and z=  -823.00\n",
      "Received !!!\n",
      "x =  -574.00 y =  246.00  and z=  -823.00\n"
     ]
    },
    {
     "name": "stderr",
     "output_type": "stream",
     "text": [
      "143.248.53.23 - - [28/Feb/2023 19:34:57] \"GET /api/accelerometer?x=-574.00&y=244.00&z=-823.00 HTTP/1.1\" 200 -\n"
     ]
    },
    {
     "name": "stdout",
     "output_type": "stream",
     "text": [
      "Received !!!\n",
      "x =  -574.00 y =  244.00  and z=  -823.00\n"
     ]
    },
    {
     "name": "stderr",
     "output_type": "stream",
     "text": [
      "143.248.53.23 - - [28/Feb/2023 19:34:57] \"GET /api/accelerometer?x=-573.00&y=244.00&z=-823.00 HTTP/1.1\" 200 -\n"
     ]
    },
    {
     "name": "stdout",
     "output_type": "stream",
     "text": [
      "Received !!!\n",
      "x =  -573.00 y =  244.00  and z=  -823.00\n"
     ]
    },
    {
     "name": "stderr",
     "output_type": "stream",
     "text": [
      "143.248.53.23 - - [28/Feb/2023 19:34:57] \"GET /api/accelerometer?x=-574.00&y=245.00&z=-823.00 HTTP/1.1\" 200 -\n",
      "143.248.53.23 - - [28/Feb/2023 19:34:58] \"GET /api/accelerometer?x=-573.00&y=246.00&z=-823.00 HTTP/1.1\" 200 -\n"
     ]
    },
    {
     "name": "stdout",
     "output_type": "stream",
     "text": [
      "Received !!!\n",
      "x =  -574.00 y =  245.00  and z=  -823.00\n",
      "Received !!!\n",
      "x =  -573.00 y =  246.00  and z=  -823.00\n"
     ]
    },
    {
     "name": "stderr",
     "output_type": "stream",
     "text": [
      "143.248.53.23 - - [28/Feb/2023 19:34:58] \"GET /api/accelerometer?x=-574.00&y=246.00&z=-824.00 HTTP/1.1\" 200 -\n",
      "143.248.53.23 - - [28/Feb/2023 19:34:58] \"GET /api/accelerometer?x=-572.00&y=245.00&z=-823.00 HTTP/1.1\" 200 -\n"
     ]
    },
    {
     "name": "stdout",
     "output_type": "stream",
     "text": [
      "Received !!!\n",
      "x =  -574.00 y =  246.00  and z=  -824.00\n",
      "Received !!!\n",
      "x =  -572.00 y =  245.00  and z=  -823.00\n"
     ]
    },
    {
     "name": "stderr",
     "output_type": "stream",
     "text": [
      "143.248.53.23 - - [28/Feb/2023 19:34:58] \"GET /api/accelerometer?x=-573.00&y=246.00&z=-824.00 HTTP/1.1\" 200 -\n",
      "143.248.53.23 - - [28/Feb/2023 19:34:58] \"GET /api/accelerometer?x=-573.00&y=245.00&z=-823.00 HTTP/1.1\" 200 -\n"
     ]
    },
    {
     "name": "stdout",
     "output_type": "stream",
     "text": [
      "Received !!!\n",
      "x =  -573.00 y =  246.00  and z=  -824.00\n",
      "Received !!!\n",
      "x =  -573.00 y =  245.00  and z=  -823.00\n"
     ]
    },
    {
     "name": "stderr",
     "output_type": "stream",
     "text": [
      "143.248.53.23 - - [28/Feb/2023 19:34:59] \"GET /api/accelerometer?x=-573.00&y=245.00&z=-822.00 HTTP/1.1\" 200 -\n",
      "143.248.53.23 - - [28/Feb/2023 19:34:59] \"GET /api/accelerometer?x=-573.00&y=245.00&z=-823.00 HTTP/1.1\" 200 -\n"
     ]
    },
    {
     "name": "stdout",
     "output_type": "stream",
     "text": [
      "Received !!!\n",
      "x =  -573.00 y =  245.00  and z=  -822.00\n",
      "Received !!!\n",
      "x =  -573.00 y =  245.00  and z=  -823.00\n"
     ]
    },
    {
     "name": "stderr",
     "output_type": "stream",
     "text": [
      "143.248.53.23 - - [28/Feb/2023 19:34:59] \"GET /api/accelerometer?x=-573.00&y=245.00&z=-823.00 HTTP/1.1\" 200 -\n",
      "143.248.53.23 - - [28/Feb/2023 19:34:59] \"GET /api/accelerometer?x=-574.00&y=246.00&z=-823.00 HTTP/1.1\" 200 -\n"
     ]
    },
    {
     "name": "stdout",
     "output_type": "stream",
     "text": [
      "Received !!!\n",
      "x =  -573.00 y =  245.00  and z=  -823.00\n",
      "Received !!!\n",
      "x =  -574.00 y =  246.00  and z=  -823.00\n"
     ]
    },
    {
     "name": "stderr",
     "output_type": "stream",
     "text": [
      "143.248.53.23 - - [28/Feb/2023 19:34:59] \"GET /api/accelerometer?x=-573.00&y=245.00&z=-825.00 HTTP/1.1\" 200 -\n",
      "143.248.53.23 - - [28/Feb/2023 19:34:59] \"GET /api/accelerometer?x=-572.00&y=245.00&z=-824.00 HTTP/1.1\" 200 -\n"
     ]
    },
    {
     "name": "stdout",
     "output_type": "stream",
     "text": [
      "Received !!!\n",
      "x =  -573.00 y =  245.00  and z=  -825.00\n",
      "Received !!!\n",
      "x =  -572.00 y =  245.00  and z=  -824.00\n"
     ]
    },
    {
     "name": "stderr",
     "output_type": "stream",
     "text": [
      "143.248.53.23 - - [28/Feb/2023 19:35:00] \"GET /api/accelerometer?x=-574.00&y=245.00&z=-822.00 HTTP/1.1\" 200 -\n",
      "143.248.53.23 - - [28/Feb/2023 19:35:00] \"GET /api/accelerometer?x=-571.00&y=243.00&z=-822.00 HTTP/1.1\" 200 -\n"
     ]
    },
    {
     "name": "stdout",
     "output_type": "stream",
     "text": [
      "Received !!!\n",
      "x =  -574.00 y =  245.00  and z=  -822.00\n",
      "Received !!!\n",
      "x =  -571.00 y =  243.00  and z=  -822.00\n"
     ]
    },
    {
     "name": "stderr",
     "output_type": "stream",
     "text": [
      "143.248.53.23 - - [28/Feb/2023 19:35:00] \"GET /api/accelerometer?x=-574.00&y=246.00&z=-822.00 HTTP/1.1\" 200 -\n",
      "143.248.53.23 - - [28/Feb/2023 19:35:00] \"GET /api/accelerometer?x=-572.00&y=245.00&z=-823.00 HTTP/1.1\" 200 -\n"
     ]
    },
    {
     "name": "stdout",
     "output_type": "stream",
     "text": [
      "Received !!!\n",
      "x =  -574.00 y =  246.00  and z=  -822.00\n",
      "Received !!!\n",
      "x =  -572.00 y =  245.00  and z=  -823.00\n"
     ]
    },
    {
     "name": "stderr",
     "output_type": "stream",
     "text": [
      "143.248.53.23 - - [28/Feb/2023 19:35:00] \"GET /api/accelerometer?x=-573.00&y=246.00&z=-823.00 HTTP/1.1\" 200 -\n",
      "143.248.53.23 - - [28/Feb/2023 19:35:01] \"GET /api/accelerometer?x=-572.00&y=246.00&z=-821.00 HTTP/1.1\" 200 -\n"
     ]
    },
    {
     "name": "stdout",
     "output_type": "stream",
     "text": [
      "Received !!!\n",
      "x =  -573.00 y =  246.00  and z=  -823.00\n",
      "Received !!!\n",
      "x =  -572.00 y =  246.00  and z=  -821.00\n"
     ]
    },
    {
     "name": "stderr",
     "output_type": "stream",
     "text": [
      "143.248.53.23 - - [28/Feb/2023 19:35:01] \"GET /api/accelerometer?x=-574.00&y=247.00&z=-825.00 HTTP/1.1\" 200 -\n"
     ]
    },
    {
     "name": "stdout",
     "output_type": "stream",
     "text": [
      "Received !!!\n",
      "x =  -574.00 y =  247.00  and z=  -825.00\n"
     ]
    },
    {
     "name": "stderr",
     "output_type": "stream",
     "text": [
      "143.248.53.23 - - [28/Feb/2023 19:35:01] \"GET /api/accelerometer?x=-574.00&y=246.00&z=-822.00 HTTP/1.1\" 200 -\n"
     ]
    },
    {
     "name": "stdout",
     "output_type": "stream",
     "text": [
      "Received !!!\n",
      "x =  -574.00 y =  246.00  and z=  -822.00\n"
     ]
    },
    {
     "name": "stderr",
     "output_type": "stream",
     "text": [
      "143.248.53.23 - - [28/Feb/2023 19:35:01] \"GET /api/accelerometer?x=-572.00&y=245.00&z=-822.00 HTTP/1.1\" 200 -\n",
      "143.248.53.23 - - [28/Feb/2023 19:35:01] \"GET /api/accelerometer?x=-573.00&y=246.00&z=-823.00 HTTP/1.1\" 200 -\n"
     ]
    },
    {
     "name": "stdout",
     "output_type": "stream",
     "text": [
      "Received !!!\n",
      "x =  -572.00 y =  245.00  and z=  -822.00\n",
      "Received !!!\n",
      "x =  -573.00 y =  246.00  and z=  -823.00\n"
     ]
    },
    {
     "name": "stderr",
     "output_type": "stream",
     "text": [
      "143.248.53.23 - - [28/Feb/2023 19:35:02] \"GET /api/accelerometer?x=-574.00&y=246.00&z=-823.00 HTTP/1.1\" 200 -\n"
     ]
    },
    {
     "name": "stdout",
     "output_type": "stream",
     "text": [
      "Received !!!\n",
      "x =  -574.00 y =  246.00  and z=  -823.00\n"
     ]
    },
    {
     "name": "stderr",
     "output_type": "stream",
     "text": [
      "143.248.53.23 - - [28/Feb/2023 19:35:02] \"GET /api/accelerometer?x=-573.00&y=245.00&z=-825.00 HTTP/1.1\" 200 -\n",
      "143.248.53.23 - - [28/Feb/2023 19:35:02] \"GET /api/accelerometer?x=-573.00&y=244.00&z=-822.00 HTTP/1.1\" 200 -\n"
     ]
    },
    {
     "name": "stdout",
     "output_type": "stream",
     "text": [
      "Received !!!\n",
      "x =  -573.00 y =  245.00  and z=  -825.00\n",
      "Received !!!\n",
      "x =  -573.00 y =  244.00  and z=  -822.00\n"
     ]
    },
    {
     "name": "stderr",
     "output_type": "stream",
     "text": [
      "143.248.53.23 - - [28/Feb/2023 19:35:02] \"GET /api/accelerometer?x=-573.00&y=245.00&z=-822.00 HTTP/1.1\" 200 -\n",
      "143.248.53.23 - - [28/Feb/2023 19:35:02] \"GET /api/accelerometer?x=-573.00&y=245.00&z=-823.00 HTTP/1.1\" 200 -\n"
     ]
    },
    {
     "name": "stdout",
     "output_type": "stream",
     "text": [
      "Received !!!\n",
      "x =  -573.00 y =  245.00  and z=  -822.00\n",
      "Received !!!\n",
      "x =  -573.00 y =  245.00  and z=  -823.00\n"
     ]
    },
    {
     "name": "stderr",
     "output_type": "stream",
     "text": [
      "143.248.53.23 - - [28/Feb/2023 19:35:02] \"GET /api/accelerometer?x=-572.00&y=246.00&z=-823.00 HTTP/1.1\" 200 -\n",
      "143.248.53.23 - - [28/Feb/2023 19:35:03] \"GET /api/accelerometer?x=-573.00&y=246.00&z=-822.00 HTTP/1.1\" 200 -\n"
     ]
    },
    {
     "name": "stdout",
     "output_type": "stream",
     "text": [
      "Received !!!\n",
      "x =  -572.00 y =  246.00  and z=  -823.00\n",
      "Received !!!\n",
      "x =  -573.00 y =  246.00  and z=  -822.00\n"
     ]
    },
    {
     "name": "stderr",
     "output_type": "stream",
     "text": [
      "143.248.53.23 - - [28/Feb/2023 19:35:03] \"GET /api/accelerometer?x=-574.00&y=245.00&z=-823.00 HTTP/1.1\" 200 -\n"
     ]
    },
    {
     "name": "stdout",
     "output_type": "stream",
     "text": [
      "Received !!!\n",
      "x =  -574.00 y =  245.00  and z=  -823.00\n"
     ]
    },
    {
     "name": "stderr",
     "output_type": "stream",
     "text": [
      "143.248.53.23 - - [28/Feb/2023 19:35:03] \"GET /api/accelerometer?x=-573.00&y=245.00&z=-822.00 HTTP/1.1\" 200 -\n",
      "143.248.53.23 - - [28/Feb/2023 19:35:03] \"GET /api/accelerometer?x=-574.00&y=245.00&z=-824.00 HTTP/1.1\" 200 -\n"
     ]
    },
    {
     "name": "stdout",
     "output_type": "stream",
     "text": [
      "Received !!!\n",
      "x =  -573.00 y =  245.00  and z=  -822.00\n",
      "Received !!!\n",
      "x =  -574.00 y =  245.00  and z=  -824.00\n"
     ]
    },
    {
     "name": "stderr",
     "output_type": "stream",
     "text": [
      "143.248.53.23 - - [28/Feb/2023 19:35:03] \"GET /api/accelerometer?x=-574.00&y=247.00&z=-823.00 HTTP/1.1\" 200 -\n",
      "143.248.53.23 - - [28/Feb/2023 19:35:04] \"GET /api/accelerometer?x=-574.00&y=247.00&z=-823.00 HTTP/1.1\" 200 -\n"
     ]
    },
    {
     "name": "stdout",
     "output_type": "stream",
     "text": [
      "Received !!!\n",
      "x =  -574.00 y =  247.00  and z=  -823.00\n",
      "Received !!!\n",
      "x =  -574.00 y =  247.00  and z=  -823.00\n"
     ]
    },
    {
     "name": "stderr",
     "output_type": "stream",
     "text": [
      "143.248.53.23 - - [28/Feb/2023 19:35:04] \"GET /api/accelerometer?x=-574.00&y=245.00&z=-823.00 HTTP/1.1\" 200 -\n",
      "143.248.53.23 - - [28/Feb/2023 19:35:04] \"GET /api/accelerometer?x=-572.00&y=245.00&z=-823.00 HTTP/1.1\" 200 -\n"
     ]
    },
    {
     "name": "stdout",
     "output_type": "stream",
     "text": [
      "Received !!!\n",
      "x =  -574.00 y =  245.00  and z=  -823.00\n",
      "Received !!!\n",
      "x =  -572.00 y =  245.00  and z=  -823.00\n"
     ]
    },
    {
     "name": "stderr",
     "output_type": "stream",
     "text": [
      "143.248.53.23 - - [28/Feb/2023 19:35:04] \"GET /api/accelerometer?x=-574.00&y=245.00&z=-823.00 HTTP/1.1\" 200 -\n",
      "143.248.53.23 - - [28/Feb/2023 19:35:04] \"GET /api/accelerometer?x=-572.00&y=244.00&z=-823.00 HTTP/1.1\" 200 -\n"
     ]
    },
    {
     "name": "stdout",
     "output_type": "stream",
     "text": [
      "Received !!!\n",
      "x =  -574.00 y =  245.00  and z=  -823.00\n",
      "Received !!!\n",
      "x =  -572.00 y =  244.00  and z=  -823.00\n"
     ]
    },
    {
     "name": "stderr",
     "output_type": "stream",
     "text": [
      "143.248.53.23 - - [28/Feb/2023 19:35:04] \"GET /api/accelerometer?x=-573.00&y=244.00&z=-823.00 HTTP/1.1\" 200 -\n",
      "143.248.53.23 - - [28/Feb/2023 19:35:04] \"GET /api/accelerometer?x=-573.00&y=245.00&z=-824.00 HTTP/1.1\" 200 -\n"
     ]
    },
    {
     "name": "stdout",
     "output_type": "stream",
     "text": [
      "Received !!!\n",
      "x =  -573.00 y =  244.00  and z=  -823.00\n",
      "Received !!!\n",
      "x =  -573.00 y =  245.00  and z=  -824.00\n"
     ]
    },
    {
     "name": "stderr",
     "output_type": "stream",
     "text": [
      "143.248.53.23 - - [28/Feb/2023 19:35:05] \"GET /api/accelerometer?x=-572.00&y=244.00&z=-824.00 HTTP/1.1\" 200 -\n",
      "143.248.53.23 - - [28/Feb/2023 19:35:05] \"GET /api/accelerometer?x=-573.00&y=246.00&z=-821.00 HTTP/1.1\" 200 -\n"
     ]
    },
    {
     "name": "stdout",
     "output_type": "stream",
     "text": [
      "Received !!!\n",
      "x =  -572.00 y =  244.00  and z=  -824.00\n",
      "Received !!!\n",
      "x =  -573.00 y =  246.00  and z=  -821.00\n"
     ]
    },
    {
     "name": "stderr",
     "output_type": "stream",
     "text": [
      "143.248.53.23 - - [28/Feb/2023 19:35:05] \"GET /api/accelerometer?x=-572.00&y=246.00&z=-824.00 HTTP/1.1\" 200 -\n",
      "143.248.53.23 - - [28/Feb/2023 19:35:05] \"GET /api/accelerometer?x=-572.00&y=246.00&z=-824.00 HTTP/1.1\" 200 -\n"
     ]
    },
    {
     "name": "stdout",
     "output_type": "stream",
     "text": [
      "Received !!!\n",
      "x =  -572.00 y =  246.00  and z=  -824.00\n",
      "Received !!!\n",
      "x =  -572.00 y =  246.00  and z=  -824.00\n"
     ]
    },
    {
     "name": "stderr",
     "output_type": "stream",
     "text": [
      "143.248.53.23 - - [28/Feb/2023 19:35:05] \"GET /api/accelerometer?x=-574.00&y=246.00&z=-823.00 HTTP/1.1\" 200 -\n",
      "143.248.53.23 - - [28/Feb/2023 19:35:05] \"GET /api/accelerometer?x=-573.00&y=246.00&z=-823.00 HTTP/1.1\" 200 -\n"
     ]
    },
    {
     "name": "stdout",
     "output_type": "stream",
     "text": [
      "Received !!!\n",
      "x =  -574.00 y =  246.00  and z=  -823.00\n",
      "Received !!!\n",
      "x =  -573.00 y =  246.00  and z=  -823.00\n"
     ]
    },
    {
     "name": "stderr",
     "output_type": "stream",
     "text": [
      "143.248.53.23 - - [28/Feb/2023 19:35:06] \"GET /api/accelerometer?x=-572.00&y=246.00&z=-822.00 HTTP/1.1\" 200 -\n"
     ]
    },
    {
     "name": "stdout",
     "output_type": "stream",
     "text": [
      "Received !!!\n",
      "x =  -572.00 y =  246.00  and z=  -822.00\n"
     ]
    },
    {
     "name": "stderr",
     "output_type": "stream",
     "text": [
      "143.248.53.23 - - [28/Feb/2023 19:35:06] \"GET /api/accelerometer?x=-573.00&y=245.00&z=-823.00 HTTP/1.1\" 200 -\n",
      "143.248.53.23 - - [28/Feb/2023 19:35:06] \"GET /api/accelerometer?x=-574.00&y=246.00&z=-823.00 HTTP/1.1\" 200 -\n"
     ]
    },
    {
     "name": "stdout",
     "output_type": "stream",
     "text": [
      "Received !!!\n",
      "x =  -573.00 y =  245.00  and z=  -823.00\n",
      "Received !!!\n",
      "x =  -574.00 y =  246.00  and z=  -823.00\n"
     ]
    },
    {
     "name": "stderr",
     "output_type": "stream",
     "text": [
      "143.248.53.23 - - [28/Feb/2023 19:35:06] \"GET /api/accelerometer?x=-573.00&y=245.00&z=-823.00 HTTP/1.1\" 200 -\n",
      "143.248.53.23 - - [28/Feb/2023 19:35:07] \"GET /api/accelerometer?x=-574.00&y=246.00&z=-823.00 HTTP/1.1\" 200 -\n"
     ]
    },
    {
     "name": "stdout",
     "output_type": "stream",
     "text": [
      "Received !!!\n",
      "x =  -573.00 y =  245.00  and z=  -823.00\n",
      "Received !!!\n",
      "x =  -574.00 y =  246.00  and z=  -823.00\n"
     ]
    },
    {
     "name": "stderr",
     "output_type": "stream",
     "text": [
      "143.248.53.23 - - [28/Feb/2023 19:35:07] \"GET /api/accelerometer?x=-572.00&y=246.00&z=-823.00 HTTP/1.1\" 200 -\n",
      "143.248.53.23 - - [28/Feb/2023 19:35:07] \"GET /api/accelerometer?x=-573.00&y=245.00&z=-822.00 HTTP/1.1\" 200 -\n"
     ]
    },
    {
     "name": "stdout",
     "output_type": "stream",
     "text": [
      "Received !!!\n",
      "x =  -572.00 y =  246.00  and z=  -823.00\n",
      "Received !!!\n",
      "x =  -573.00 y =  245.00  and z=  -822.00\n"
     ]
    },
    {
     "name": "stderr",
     "output_type": "stream",
     "text": [
      "143.248.53.23 - - [28/Feb/2023 19:35:07] \"GET /api/accelerometer?x=-573.00&y=244.00&z=-823.00 HTTP/1.1\" 200 -\n",
      "143.248.53.23 - - [28/Feb/2023 19:35:07] \"GET /api/accelerometer?x=-572.00&y=245.00&z=-824.00 HTTP/1.1\" 200 -\n"
     ]
    },
    {
     "name": "stdout",
     "output_type": "stream",
     "text": [
      "Received !!!\n",
      "x =  -573.00 y =  244.00  and z=  -823.00\n",
      "Received !!!\n",
      "x =  -572.00 y =  245.00  and z=  -824.00\n"
     ]
    },
    {
     "name": "stderr",
     "output_type": "stream",
     "text": [
      "143.248.53.23 - - [28/Feb/2023 19:35:07] \"GET /api/accelerometer?x=-575.00&y=246.00&z=-822.00 HTTP/1.1\" 200 -\n",
      "143.248.53.23 - - [28/Feb/2023 19:35:08] \"GET /api/accelerometer?x=-573.00&y=245.00&z=-825.00 HTTP/1.1\" 200 -\n"
     ]
    },
    {
     "name": "stdout",
     "output_type": "stream",
     "text": [
      "Received !!!\n",
      "x =  -575.00 y =  246.00  and z=  -822.00\n",
      "Received !!!\n",
      "x =  -573.00 y =  245.00  and z=  -825.00\n"
     ]
    },
    {
     "name": "stderr",
     "output_type": "stream",
     "text": [
      "143.248.53.23 - - [28/Feb/2023 19:35:08] \"GET /api/accelerometer?x=-574.00&y=243.00&z=-822.00 HTTP/1.1\" 200 -\n",
      "143.248.53.23 - - [28/Feb/2023 19:35:08] \"GET /api/accelerometer?x=-572.00&y=245.00&z=-823.00 HTTP/1.1\" 200 -\n"
     ]
    },
    {
     "name": "stdout",
     "output_type": "stream",
     "text": [
      "Received !!!\n",
      "x =  -574.00 y =  243.00  and z=  -822.00\n",
      "Received !!!\n",
      "x =  -572.00 y =  245.00  and z=  -823.00\n"
     ]
    },
    {
     "name": "stderr",
     "output_type": "stream",
     "text": [
      "143.248.53.23 - - [28/Feb/2023 19:35:08] \"GET /api/accelerometer?x=-573.00&y=245.00&z=-823.00 HTTP/1.1\" 200 -\n",
      "143.248.53.23 - - [28/Feb/2023 19:35:08] \"GET /api/accelerometer?x=-574.00&y=245.00&z=-823.00 HTTP/1.1\" 200 -\n"
     ]
    },
    {
     "name": "stdout",
     "output_type": "stream",
     "text": [
      "Received !!!\n",
      "x =  -573.00 y =  245.00  and z=  -823.00\n",
      "Received !!!\n",
      "x =  -574.00 y =  245.00  and z=  -823.00\n"
     ]
    },
    {
     "name": "stderr",
     "output_type": "stream",
     "text": [
      "143.248.53.23 - - [28/Feb/2023 19:35:08] \"GET /api/accelerometer?x=-573.00&y=245.00&z=-823.00 HTTP/1.1\" 200 -\n",
      "143.248.53.23 - - [28/Feb/2023 19:35:09] \"GET /api/accelerometer?x=-573.00&y=245.00&z=-822.00 HTTP/1.1\" 200 -\n"
     ]
    },
    {
     "name": "stdout",
     "output_type": "stream",
     "text": [
      "Received !!!\n",
      "x =  -573.00 y =  245.00  and z=  -823.00\n",
      "Received !!!\n",
      "x =  -573.00 y =  245.00  and z=  -822.00\n"
     ]
    },
    {
     "name": "stderr",
     "output_type": "stream",
     "text": [
      "143.248.53.23 - - [28/Feb/2023 19:35:09] \"GET /api/accelerometer?x=-573.00&y=246.00&z=-821.00 HTTP/1.1\" 200 -\n",
      "143.248.53.23 - - [28/Feb/2023 19:35:09] \"GET /api/accelerometer?x=-573.00&y=245.00&z=-824.00 HTTP/1.1\" 200 -\n"
     ]
    },
    {
     "name": "stdout",
     "output_type": "stream",
     "text": [
      "Received !!!\n",
      "x =  -573.00 y =  246.00  and z=  -821.00\n",
      "Received !!!\n",
      "x =  -573.00 y =  245.00  and z=  -824.00\n"
     ]
    },
    {
     "name": "stderr",
     "output_type": "stream",
     "text": [
      "143.248.53.23 - - [28/Feb/2023 19:35:09] \"GET /api/accelerometer?x=-574.00&y=244.00&z=-824.00 HTTP/1.1\" 200 -\n",
      "143.248.53.23 - - [28/Feb/2023 19:35:09] \"GET /api/accelerometer?x=-572.00&y=246.00&z=-823.00 HTTP/1.1\" 200 -\n"
     ]
    },
    {
     "name": "stdout",
     "output_type": "stream",
     "text": [
      "Received !!!\n",
      "x =  -574.00 y =  244.00  and z=  -824.00\n",
      "Received !!!\n",
      "x =  -572.00 y =  246.00  and z=  -823.00\n"
     ]
    },
    {
     "name": "stderr",
     "output_type": "stream",
     "text": [
      "143.248.53.23 - - [28/Feb/2023 19:35:10] \"GET /api/accelerometer?x=-573.00&y=245.00&z=-824.00 HTTP/1.1\" 200 -\n",
      "143.248.53.23 - - [28/Feb/2023 19:35:10] \"GET /api/accelerometer?x=-573.00&y=247.00&z=-824.00 HTTP/1.1\" 200 -\n"
     ]
    },
    {
     "name": "stdout",
     "output_type": "stream",
     "text": [
      "Received !!!\n",
      "x =  -573.00 y =  245.00  and z=  -824.00\n",
      "Received !!!\n",
      "x =  -573.00 y =  247.00  and z=  -824.00\n"
     ]
    },
    {
     "name": "stderr",
     "output_type": "stream",
     "text": [
      "143.248.53.23 - - [28/Feb/2023 19:35:10] \"GET /api/accelerometer?x=-573.00&y=246.00&z=-823.00 HTTP/1.1\" 200 -\n",
      "143.248.53.23 - - [28/Feb/2023 19:35:10] \"GET /api/accelerometer?x=-574.00&y=246.00&z=-823.00 HTTP/1.1\" 200 -\n"
     ]
    },
    {
     "name": "stdout",
     "output_type": "stream",
     "text": [
      "Received !!!\n",
      "x =  -573.00 y =  246.00  and z=  -823.00\n",
      "Received !!!\n",
      "x =  -574.00 y =  246.00  and z=  -823.00\n"
     ]
    },
    {
     "name": "stderr",
     "output_type": "stream",
     "text": [
      "143.248.53.23 - - [28/Feb/2023 19:35:10] \"GET /api/accelerometer?x=-572.00&y=246.00&z=-823.00 HTTP/1.1\" 200 -\n",
      "143.248.53.23 - - [28/Feb/2023 19:35:10] \"GET /api/accelerometer?x=-573.00&y=245.00&z=-823.00 HTTP/1.1\" 200 -\n"
     ]
    },
    {
     "name": "stdout",
     "output_type": "stream",
     "text": [
      "Received !!!\n",
      "x =  -572.00 y =  246.00  and z=  -823.00\n",
      "Received !!!\n",
      "x =  -573.00 y =  245.00  and z=  -823.00\n"
     ]
    },
    {
     "name": "stderr",
     "output_type": "stream",
     "text": [
      "143.248.53.23 - - [28/Feb/2023 19:35:11] \"GET /api/accelerometer?x=-573.00&y=244.00&z=-823.00 HTTP/1.1\" 200 -\n",
      "143.248.53.23 - - [28/Feb/2023 19:35:11] \"GET /api/accelerometer?x=-573.00&y=245.00&z=-822.00 HTTP/1.1\" 200 -\n"
     ]
    },
    {
     "name": "stdout",
     "output_type": "stream",
     "text": [
      "Received !!!\n",
      "x =  -573.00 y =  244.00  and z=  -823.00\n",
      "Received !!!\n",
      "x =  -573.00 y =  245.00  and z=  -822.00\n"
     ]
    },
    {
     "name": "stderr",
     "output_type": "stream",
     "text": [
      "143.248.53.23 - - [28/Feb/2023 19:35:11] \"GET /api/accelerometer?x=-573.00&y=246.00&z=-824.00 HTTP/1.1\" 200 -\n"
     ]
    },
    {
     "name": "stdout",
     "output_type": "stream",
     "text": [
      "Received !!!\n",
      "x =  -573.00 y =  246.00  and z=  -824.00\n"
     ]
    },
    {
     "name": "stderr",
     "output_type": "stream",
     "text": [
      "143.248.53.23 - - [28/Feb/2023 19:35:11] \"GET /api/accelerometer?x=-574.00&y=244.00&z=-824.00 HTTP/1.1\" 200 -\n"
     ]
    },
    {
     "name": "stdout",
     "output_type": "stream",
     "text": [
      "Received !!!\n",
      "x =  -574.00 y =  244.00  and z=  -824.00\n"
     ]
    },
    {
     "name": "stderr",
     "output_type": "stream",
     "text": [
      "143.248.53.23 - - [28/Feb/2023 19:35:12] \"GET /api/accelerometer?x=-572.00&y=245.00&z=-822.00 HTTP/1.1\" 200 -\n",
      "143.248.53.23 - - [28/Feb/2023 19:35:12] \"GET /api/accelerometer?x=-573.00&y=245.00&z=-822.00 HTTP/1.1\" 200 -\n"
     ]
    },
    {
     "name": "stdout",
     "output_type": "stream",
     "text": [
      "Received !!!\n",
      "x =  -572.00 y =  245.00  and z=  -822.00\n",
      "Received !!!\n",
      "x =  -573.00 y =  245.00  and z=  -822.00\n"
     ]
    },
    {
     "name": "stderr",
     "output_type": "stream",
     "text": [
      "143.248.53.23 - - [28/Feb/2023 19:35:12] \"GET /api/accelerometer?x=-574.00&y=244.00&z=-823.00 HTTP/1.1\" 200 -\n",
      "143.248.53.23 - - [28/Feb/2023 19:35:12] \"GET /api/accelerometer?x=-573.00&y=244.00&z=-823.00 HTTP/1.1\" 200 -\n"
     ]
    },
    {
     "name": "stdout",
     "output_type": "stream",
     "text": [
      "Received !!!\n",
      "x =  -574.00 y =  244.00  and z=  -823.00\n",
      "Received !!!\n",
      "x =  -573.00 y =  244.00  and z=  -823.00\n"
     ]
    },
    {
     "name": "stderr",
     "output_type": "stream",
     "text": [
      "143.248.53.23 - - [28/Feb/2023 19:35:12] \"GET /api/accelerometer?x=-574.00&y=245.00&z=-822.00 HTTP/1.1\" 200 -\n",
      "143.248.53.23 - - [28/Feb/2023 19:35:12] \"GET /api/accelerometer?x=-574.00&y=246.00&z=-823.00 HTTP/1.1\" 200 -\n"
     ]
    },
    {
     "name": "stdout",
     "output_type": "stream",
     "text": [
      "Received !!!\n",
      "x =  -574.00 y =  245.00  and z=  -822.00\n",
      "Received !!!\n",
      "x =  -574.00 y =  246.00  and z=  -823.00\n"
     ]
    },
    {
     "name": "stderr",
     "output_type": "stream",
     "text": [
      "143.248.53.23 - - [28/Feb/2023 19:35:13] \"GET /api/accelerometer?x=-571.00&y=246.00&z=-822.00 HTTP/1.1\" 200 -\n",
      "143.248.53.23 - - [28/Feb/2023 19:35:13] \"GET /api/accelerometer?x=-572.00&y=246.00&z=-823.00 HTTP/1.1\" 200 -\n"
     ]
    },
    {
     "name": "stdout",
     "output_type": "stream",
     "text": [
      "Received !!!\n",
      "x =  -571.00 y =  246.00  and z=  -822.00\n",
      "Received !!!\n",
      "x =  -572.00 y =  246.00  and z=  -823.00\n"
     ]
    },
    {
     "name": "stderr",
     "output_type": "stream",
     "text": [
      "143.248.53.23 - - [28/Feb/2023 19:35:13] \"GET /api/accelerometer?x=-573.00&y=246.00&z=-824.00 HTTP/1.1\" 200 -\n"
     ]
    },
    {
     "name": "stdout",
     "output_type": "stream",
     "text": [
      "Received !!!\n",
      "x =  -573.00 y =  246.00  and z=  -824.00\n"
     ]
    },
    {
     "name": "stderr",
     "output_type": "stream",
     "text": [
      "143.248.53.23 - - [28/Feb/2023 19:35:13] \"GET /api/accelerometer?x=-573.00&y=244.00&z=-823.00 HTTP/1.1\" 200 -\n",
      "143.248.53.23 - - [28/Feb/2023 19:35:13] \"GET /api/accelerometer?x=-574.00&y=245.00&z=-823.00 HTTP/1.1\" 200 -\n"
     ]
    },
    {
     "name": "stdout",
     "output_type": "stream",
     "text": [
      "Received !!!\n",
      "x =  -573.00 y =  244.00  and z=  -823.00\n",
      "Received !!!\n",
      "x =  -574.00 y =  245.00  and z=  -823.00\n"
     ]
    },
    {
     "name": "stderr",
     "output_type": "stream",
     "text": [
      "143.248.53.23 - - [28/Feb/2023 19:35:14] \"GET /api/accelerometer?x=-573.00&y=245.00&z=-824.00 HTTP/1.1\" 200 -\n",
      "143.248.53.23 - - [28/Feb/2023 19:35:14] \"GET /api/accelerometer?x=-573.00&y=245.00&z=-824.00 HTTP/1.1\" 200 -\n"
     ]
    },
    {
     "name": "stdout",
     "output_type": "stream",
     "text": [
      "Received !!!\n",
      "x =  -573.00 y =  245.00  and z=  -824.00\n",
      "Received !!!\n",
      "x =  -573.00 y =  245.00  and z=  -824.00\n"
     ]
    },
    {
     "name": "stderr",
     "output_type": "stream",
     "text": [
      "143.248.53.23 - - [28/Feb/2023 19:35:14] \"GET /api/accelerometer?x=-574.00&y=246.00&z=-823.00 HTTP/1.1\" 200 -\n",
      "143.248.53.23 - - [28/Feb/2023 19:35:14] \"GET /api/accelerometer?x=-574.00&y=245.00&z=-824.00 HTTP/1.1\" 200 -\n"
     ]
    },
    {
     "name": "stdout",
     "output_type": "stream",
     "text": [
      "Received !!!\n",
      "x =  -574.00 y =  246.00  and z=  -823.00\n",
      "Received !!!\n",
      "x =  -574.00 y =  245.00  and z=  -824.00\n"
     ]
    },
    {
     "name": "stderr",
     "output_type": "stream",
     "text": [
      "143.248.53.23 - - [28/Feb/2023 19:35:14] \"GET /api/accelerometer?x=-572.00&y=245.00&z=-822.00 HTTP/1.1\" 200 -\n",
      "143.248.53.23 - - [28/Feb/2023 19:35:15] \"GET /api/accelerometer?x=-573.00&y=245.00&z=-824.00 HTTP/1.1\" 200 -\n"
     ]
    },
    {
     "name": "stdout",
     "output_type": "stream",
     "text": [
      "Received !!!\n",
      "x =  -572.00 y =  245.00  and z=  -822.00\n",
      "Received !!!\n",
      "x =  -573.00 y =  245.00  and z=  -824.00\n"
     ]
    },
    {
     "name": "stderr",
     "output_type": "stream",
     "text": [
      "143.248.53.23 - - [28/Feb/2023 19:35:15] \"GET /api/accelerometer?x=-572.00&y=246.00&z=-823.00 HTTP/1.1\" 200 -\n",
      "143.248.53.23 - - [28/Feb/2023 19:35:15] \"GET /api/accelerometer?x=-574.00&y=244.00&z=-823.00 HTTP/1.1\" 200 -\n"
     ]
    },
    {
     "name": "stdout",
     "output_type": "stream",
     "text": [
      "Received !!!\n",
      "x =  -572.00 y =  246.00  and z=  -823.00\n",
      "Received !!!\n",
      "x =  -574.00 y =  244.00  and z=  -823.00\n"
     ]
    },
    {
     "name": "stderr",
     "output_type": "stream",
     "text": [
      "143.248.53.23 - - [28/Feb/2023 19:35:15] \"GET /api/accelerometer?x=-573.00&y=246.00&z=-824.00 HTTP/1.1\" 200 -\n",
      "143.248.53.23 - - [28/Feb/2023 19:35:15] \"GET /api/accelerometer?x=-573.00&y=245.00&z=-823.00 HTTP/1.1\" 200 -\n"
     ]
    },
    {
     "name": "stdout",
     "output_type": "stream",
     "text": [
      "Received !!!\n",
      "x =  -573.00 y =  246.00  and z=  -824.00\n",
      "Received !!!\n",
      "x =  -573.00 y =  245.00  and z=  -823.00\n"
     ]
    },
    {
     "name": "stderr",
     "output_type": "stream",
     "text": [
      "143.248.53.23 - - [28/Feb/2023 19:35:15] \"GET /api/accelerometer?x=-572.00&y=246.00&z=-822.00 HTTP/1.1\" 200 -\n",
      "143.248.53.23 - - [28/Feb/2023 19:35:16] \"GET /api/accelerometer?x=-571.00&y=245.00&z=-822.00 HTTP/1.1\" 200 -\n"
     ]
    },
    {
     "name": "stdout",
     "output_type": "stream",
     "text": [
      "Received !!!\n",
      "x =  -572.00 y =  246.00  and z=  -822.00\n",
      "Received !!!\n",
      "x =  -571.00 y =  245.00  and z=  -822.00\n"
     ]
    },
    {
     "name": "stderr",
     "output_type": "stream",
     "text": [
      "143.248.53.23 - - [28/Feb/2023 19:35:16] \"GET /api/accelerometer?x=-574.00&y=245.00&z=-824.00 HTTP/1.1\" 200 -\n",
      "143.248.53.23 - - [28/Feb/2023 19:35:16] \"GET /api/accelerometer?x=-573.00&y=246.00&z=-824.00 HTTP/1.1\" 200 -\n"
     ]
    },
    {
     "name": "stdout",
     "output_type": "stream",
     "text": [
      "Received !!!\n",
      "x =  -574.00 y =  245.00  and z=  -824.00\n",
      "Received !!!\n",
      "x =  -573.00 y =  246.00  and z=  -824.00\n"
     ]
    },
    {
     "name": "stderr",
     "output_type": "stream",
     "text": [
      "143.248.53.23 - - [28/Feb/2023 19:35:16] \"GET /api/accelerometer?x=-573.00&y=244.00&z=-824.00 HTTP/1.1\" 200 -\n",
      "143.248.53.23 - - [28/Feb/2023 19:35:16] \"GET /api/accelerometer?x=-573.00&y=246.00&z=-823.00 HTTP/1.1\" 200 -\n"
     ]
    },
    {
     "name": "stdout",
     "output_type": "stream",
     "text": [
      "Received !!!\n",
      "x =  -573.00 y =  244.00  and z=  -824.00\n",
      "Received !!!\n",
      "x =  -573.00 y =  246.00  and z=  -823.00\n"
     ]
    },
    {
     "name": "stderr",
     "output_type": "stream",
     "text": [
      "143.248.53.23 - - [28/Feb/2023 19:35:16] \"GET /api/accelerometer?x=-572.00&y=245.00&z=-823.00 HTTP/1.1\" 200 -\n",
      "143.248.53.23 - - [28/Feb/2023 19:35:17] \"GET /api/accelerometer?x=-573.00&y=246.00&z=-824.00 HTTP/1.1\" 200 -\n"
     ]
    },
    {
     "name": "stdout",
     "output_type": "stream",
     "text": [
      "Received !!!\n",
      "x =  -572.00 y =  245.00  and z=  -823.00\n",
      "Received !!!\n",
      "x =  -573.00 y =  246.00  and z=  -824.00\n"
     ]
    },
    {
     "name": "stderr",
     "output_type": "stream",
     "text": [
      "143.248.53.23 - - [28/Feb/2023 19:35:17] \"GET /api/accelerometer?x=-573.00&y=245.00&z=-823.00 HTTP/1.1\" 200 -\n",
      "143.248.53.23 - - [28/Feb/2023 19:35:17] \"GET /api/accelerometer?x=-572.00&y=246.00&z=-823.00 HTTP/1.1\" 200 -\n"
     ]
    },
    {
     "name": "stdout",
     "output_type": "stream",
     "text": [
      "Received !!!\n",
      "x =  -573.00 y =  245.00  and z=  -823.00\n",
      "Received !!!\n",
      "x =  -572.00 y =  246.00  and z=  -823.00\n"
     ]
    },
    {
     "name": "stderr",
     "output_type": "stream",
     "text": [
      "143.248.53.23 - - [28/Feb/2023 19:35:17] \"GET /api/accelerometer?x=-574.00&y=245.00&z=-823.00 HTTP/1.1\" 200 -\n",
      "143.248.53.23 - - [28/Feb/2023 19:35:17] \"GET /api/accelerometer?x=-573.00&y=246.00&z=-823.00 HTTP/1.1\" 200 -\n"
     ]
    },
    {
     "name": "stdout",
     "output_type": "stream",
     "text": [
      "Received !!!\n",
      "x =  -574.00 y =  245.00  and z=  -823.00\n",
      "Received !!!\n",
      "x =  -573.00 y =  246.00  and z=  -823.00\n"
     ]
    },
    {
     "name": "stderr",
     "output_type": "stream",
     "text": [
      "143.248.53.23 - - [28/Feb/2023 19:35:17] \"GET /api/accelerometer?x=-574.00&y=244.00&z=-822.00 HTTP/1.1\" 200 -\n",
      "143.248.53.23 - - [28/Feb/2023 19:35:18] \"GET /api/accelerometer?x=-573.00&y=245.00&z=-823.00 HTTP/1.1\" 200 -\n"
     ]
    },
    {
     "name": "stdout",
     "output_type": "stream",
     "text": [
      "Received !!!\n",
      "x =  -574.00 y =  244.00  and z=  -822.00\n",
      "Received !!!\n",
      "x =  -573.00 y =  245.00  and z=  -823.00\n"
     ]
    },
    {
     "name": "stderr",
     "output_type": "stream",
     "text": [
      "143.248.53.23 - - [28/Feb/2023 19:35:18] \"GET /api/accelerometer?x=-573.00&y=245.00&z=-824.00 HTTP/1.1\" 200 -\n"
     ]
    },
    {
     "name": "stdout",
     "output_type": "stream",
     "text": [
      "Received !!!\n",
      "x =  -573.00 y =  245.00  and z=  -824.00\n"
     ]
    },
    {
     "name": "stderr",
     "output_type": "stream",
     "text": [
      "143.248.53.23 - - [28/Feb/2023 19:35:18] \"GET /api/accelerometer?x=-572.00&y=244.00&z=-824.00 HTTP/1.1\" 200 -\n",
      "143.248.53.23 - - [28/Feb/2023 19:35:18] \"GET /api/accelerometer?x=-572.00&y=246.00&z=-824.00 HTTP/1.1\" 200 -\n"
     ]
    },
    {
     "name": "stdout",
     "output_type": "stream",
     "text": [
      "Received !!!\n",
      "x =  -572.00 y =  244.00  and z=  -824.00\n",
      "Received !!!\n",
      "x =  -572.00 y =  246.00  and z=  -824.00\n"
     ]
    },
    {
     "name": "stderr",
     "output_type": "stream",
     "text": [
      "143.248.53.23 - - [28/Feb/2023 19:35:18] \"GET /api/accelerometer?x=-574.00&y=245.00&z=-823.00 HTTP/1.1\" 200 -\n",
      "143.248.53.23 - - [28/Feb/2023 19:35:19] \"GET /api/accelerometer?x=-574.00&y=244.00&z=-823.00 HTTP/1.1\" 200 -\n"
     ]
    },
    {
     "name": "stdout",
     "output_type": "stream",
     "text": [
      "Received !!!\n",
      "x =  -574.00 y =  245.00  and z=  -823.00\n",
      "Received !!!\n",
      "x =  -574.00 y =  244.00  and z=  -823.00\n"
     ]
    },
    {
     "name": "stderr",
     "output_type": "stream",
     "text": [
      "143.248.53.23 - - [28/Feb/2023 19:35:19] \"GET /api/accelerometer?x=-571.00&y=245.00&z=-822.00 HTTP/1.1\" 200 -\n",
      "143.248.53.23 - - [28/Feb/2023 19:35:19] \"GET /api/accelerometer?x=-573.00&y=247.00&z=-824.00 HTTP/1.1\" 200 -\n"
     ]
    },
    {
     "name": "stdout",
     "output_type": "stream",
     "text": [
      "Received !!!\n",
      "x =  -571.00 y =  245.00  and z=  -822.00\n",
      "Received !!!\n",
      "x =  -573.00 y =  247.00  and z=  -824.00\n"
     ]
    },
    {
     "name": "stderr",
     "output_type": "stream",
     "text": [
      "143.248.53.23 - - [28/Feb/2023 19:35:19] \"GET /api/accelerometer?x=-573.00&y=245.00&z=-823.00 HTTP/1.1\" 200 -\n",
      "143.248.53.23 - - [28/Feb/2023 19:35:19] \"GET /api/accelerometer?x=-571.00&y=244.00&z=-823.00 HTTP/1.1\" 200 -\n"
     ]
    },
    {
     "name": "stdout",
     "output_type": "stream",
     "text": [
      "Received !!!\n",
      "x =  -573.00 y =  245.00  and z=  -823.00\n",
      "Received !!!\n",
      "x =  -571.00 y =  244.00  and z=  -823.00\n"
     ]
    },
    {
     "name": "stderr",
     "output_type": "stream",
     "text": [
      "143.248.53.23 - - [28/Feb/2023 19:35:19] \"GET /api/accelerometer?x=-572.00&y=245.00&z=-823.00 HTTP/1.1\" 200 -\n",
      "143.248.53.23 - - [28/Feb/2023 19:35:20] \"GET /api/accelerometer?x=-571.00&y=246.00&z=-824.00 HTTP/1.1\" 200 -\n"
     ]
    },
    {
     "name": "stdout",
     "output_type": "stream",
     "text": [
      "Received !!!\n",
      "x =  -572.00 y =  245.00  and z=  -823.00\n",
      "Received !!!\n",
      "x =  -571.00 y =  246.00  and z=  -824.00\n"
     ]
    },
    {
     "name": "stderr",
     "output_type": "stream",
     "text": [
      "143.248.53.23 - - [28/Feb/2023 19:35:20] \"GET /api/accelerometer?x=-573.00&y=244.00&z=-824.00 HTTP/1.1\" 200 -\n",
      "143.248.53.23 - - [28/Feb/2023 19:35:20] \"GET /api/accelerometer?x=-573.00&y=247.00&z=-822.00 HTTP/1.1\" 200 -\n"
     ]
    },
    {
     "name": "stdout",
     "output_type": "stream",
     "text": [
      "Received !!!\n",
      "x =  -573.00 y =  244.00  and z=  -824.00\n",
      "Received !!!\n",
      "x =  -573.00 y =  247.00  and z=  -822.00\n"
     ]
    },
    {
     "name": "stderr",
     "output_type": "stream",
     "text": [
      "143.248.53.23 - - [28/Feb/2023 19:35:20] \"GET /api/accelerometer?x=-572.00&y=246.00&z=-823.00 HTTP/1.1\" 200 -\n",
      "143.248.53.23 - - [28/Feb/2023 19:35:20] \"GET /api/accelerometer?x=-572.00&y=245.00&z=-822.00 HTTP/1.1\" 200 -\n"
     ]
    },
    {
     "name": "stdout",
     "output_type": "stream",
     "text": [
      "Received !!!\n",
      "x =  -572.00 y =  246.00  and z=  -823.00\n",
      "Received !!!\n",
      "x =  -572.00 y =  245.00  and z=  -822.00\n"
     ]
    },
    {
     "name": "stderr",
     "output_type": "stream",
     "text": [
      "143.248.53.23 - - [28/Feb/2023 19:35:20] \"GET /api/accelerometer?x=-573.00&y=244.00&z=-824.00 HTTP/1.1\" 200 -\n",
      "143.248.53.23 - - [28/Feb/2023 19:35:21] \"GET /api/accelerometer?x=-574.00&y=245.00&z=-822.00 HTTP/1.1\" 200 -\n"
     ]
    },
    {
     "name": "stdout",
     "output_type": "stream",
     "text": [
      "Received !!!\n",
      "x =  -573.00 y =  244.00  and z=  -824.00\n",
      "Received !!!\n",
      "x =  -574.00 y =  245.00  and z=  -822.00\n"
     ]
    },
    {
     "name": "stderr",
     "output_type": "stream",
     "text": [
      "143.248.53.23 - - [28/Feb/2023 19:35:21] \"GET /api/accelerometer?x=-573.00&y=246.00&z=-825.00 HTTP/1.1\" 200 -\n",
      "143.248.53.23 - - [28/Feb/2023 19:35:21] \"GET /api/accelerometer?x=-572.00&y=246.00&z=-823.00 HTTP/1.1\" 200 -\n"
     ]
    },
    {
     "name": "stdout",
     "output_type": "stream",
     "text": [
      "Received !!!\n",
      "x =  -573.00 y =  246.00  and z=  -825.00\n",
      "Received !!!\n",
      "x =  -572.00 y =  246.00  and z=  -823.00\n"
     ]
    },
    {
     "name": "stderr",
     "output_type": "stream",
     "text": [
      "143.248.53.23 - - [28/Feb/2023 19:35:21] \"GET /api/accelerometer?x=-574.00&y=247.00&z=-824.00 HTTP/1.1\" 200 -\n",
      "143.248.53.23 - - [28/Feb/2023 19:35:21] \"GET /api/accelerometer?x=-571.00&y=245.00&z=-824.00 HTTP/1.1\" 200 -\n"
     ]
    },
    {
     "name": "stdout",
     "output_type": "stream",
     "text": [
      "Received !!!\n",
      "x =  -574.00 y =  247.00  and z=  -824.00\n",
      "Received !!!\n",
      "x =  -571.00 y =  245.00  and z=  -824.00\n"
     ]
    },
    {
     "name": "stderr",
     "output_type": "stream",
     "text": [
      "143.248.53.23 - - [28/Feb/2023 19:35:22] \"GET /api/accelerometer?x=-572.00&y=244.00&z=-823.00 HTTP/1.1\" 200 -\n",
      "143.248.53.23 - - [28/Feb/2023 19:35:22] \"GET /api/accelerometer?x=-573.00&y=244.00&z=-824.00 HTTP/1.1\" 200 -\n"
     ]
    },
    {
     "name": "stdout",
     "output_type": "stream",
     "text": [
      "Received !!!\n",
      "x =  -572.00 y =  244.00  and z=  -823.00\n",
      "Received !!!\n",
      "x =  -573.00 y =  244.00  and z=  -824.00\n"
     ]
    },
    {
     "name": "stderr",
     "output_type": "stream",
     "text": [
      "143.248.53.23 - - [28/Feb/2023 19:35:22] \"GET /api/accelerometer?x=-572.00&y=244.00&z=-825.00 HTTP/1.1\" 200 -\n"
     ]
    },
    {
     "name": "stdout",
     "output_type": "stream",
     "text": [
      "Received !!!\n",
      "x =  -572.00 y =  244.00  and z=  -825.00\n"
     ]
    },
    {
     "name": "stderr",
     "output_type": "stream",
     "text": [
      "143.248.53.23 - - [28/Feb/2023 19:35:22] \"GET /api/accelerometer?x=-573.00&y=246.00&z=-822.00 HTTP/1.1\" 200 -\n"
     ]
    },
    {
     "name": "stdout",
     "output_type": "stream",
     "text": [
      "Received !!!\n",
      "x =  -573.00 y =  246.00  and z=  -822.00\n"
     ]
    },
    {
     "name": "stderr",
     "output_type": "stream",
     "text": [
      "143.248.53.23 - - [28/Feb/2023 19:35:23] \"GET /api/accelerometer?x=-573.00&y=243.00&z=-823.00 HTTP/1.1\" 200 -\n",
      "143.248.53.23 - - [28/Feb/2023 19:35:23] \"GET /api/accelerometer?x=-573.00&y=246.00&z=-823.00 HTTP/1.1\" 200 -\n"
     ]
    },
    {
     "name": "stdout",
     "output_type": "stream",
     "text": [
      "Received !!!\n",
      "x =  -573.00 y =  243.00  and z=  -823.00\n",
      "Received !!!\n",
      "x =  -573.00 y =  246.00  and z=  -823.00\n"
     ]
    },
    {
     "name": "stderr",
     "output_type": "stream",
     "text": [
      "143.248.53.23 - - [28/Feb/2023 19:35:23] \"GET /api/accelerometer?x=-572.00&y=245.00&z=-825.00 HTTP/1.1\" 200 -\n",
      "143.248.53.23 - - [28/Feb/2023 19:35:23] \"GET /api/accelerometer?x=-571.00&y=245.00&z=-824.00 HTTP/1.1\" 200 -\n"
     ]
    },
    {
     "name": "stdout",
     "output_type": "stream",
     "text": [
      "Received !!!\n",
      "x =  -572.00 y =  245.00  and z=  -825.00\n",
      "Received !!!\n",
      "x =  -571.00 y =  245.00  and z=  -824.00\n"
     ]
    },
    {
     "name": "stderr",
     "output_type": "stream",
     "text": [
      "143.248.53.23 - - [28/Feb/2023 19:35:23] \"GET /api/accelerometer?x=-573.00&y=245.00&z=-823.00 HTTP/1.1\" 200 -\n",
      "143.248.53.23 - - [28/Feb/2023 19:35:23] \"GET /api/accelerometer?x=-574.00&y=246.00&z=-823.00 HTTP/1.1\" 200 -\n"
     ]
    },
    {
     "name": "stdout",
     "output_type": "stream",
     "text": [
      "Received !!!\n",
      "x =  -573.00 y =  245.00  and z=  -823.00\n",
      "Received !!!\n",
      "x =  -574.00 y =  246.00  and z=  -823.00\n"
     ]
    },
    {
     "name": "stderr",
     "output_type": "stream",
     "text": [
      "143.248.53.23 - - [28/Feb/2023 19:35:24] \"GET /api/accelerometer?x=-572.00&y=245.00&z=-824.00 HTTP/1.1\" 200 -\n",
      "143.248.53.23 - - [28/Feb/2023 19:35:24] \"GET /api/accelerometer?x=-572.00&y=243.00&z=-822.00 HTTP/1.1\" 200 -\n"
     ]
    },
    {
     "name": "stdout",
     "output_type": "stream",
     "text": [
      "Received !!!\n",
      "x =  -572.00 y =  245.00  and z=  -824.00\n",
      "Received !!!\n",
      "x =  -572.00 y =  243.00  and z=  -822.00\n"
     ]
    },
    {
     "name": "stderr",
     "output_type": "stream",
     "text": [
      "143.248.53.23 - - [28/Feb/2023 19:35:24] \"GET /api/accelerometer?x=-573.00&y=243.00&z=-825.00 HTTP/1.1\" 200 -\n"
     ]
    },
    {
     "name": "stdout",
     "output_type": "stream",
     "text": [
      "Received !!!\n",
      "x =  -573.00 y =  243.00  and z=  -825.00\n"
     ]
    },
    {
     "name": "stderr",
     "output_type": "stream",
     "text": [
      "143.248.53.23 - - [28/Feb/2023 19:35:24] \"GET /api/accelerometer?x=-573.00&y=244.00&z=-824.00 HTTP/1.1\" 200 -\n",
      "143.248.53.23 - - [28/Feb/2023 19:35:25] \"GET /api/accelerometer?x=-573.00&y=246.00&z=-823.00 HTTP/1.1\" 200 -\n"
     ]
    },
    {
     "name": "stdout",
     "output_type": "stream",
     "text": [
      "Received !!!\n",
      "x =  -573.00 y =  244.00  and z=  -824.00\n",
      "Received !!!\n",
      "x =  -573.00 y =  246.00  and z=  -823.00\n"
     ]
    },
    {
     "name": "stderr",
     "output_type": "stream",
     "text": [
      "143.248.53.23 - - [28/Feb/2023 19:35:25] \"GET /api/accelerometer?x=-572.00&y=244.00&z=-823.00 HTTP/1.1\" 200 -\n",
      "143.248.53.23 - - [28/Feb/2023 19:35:25] \"GET /api/accelerometer?x=-572.00&y=244.00&z=-824.00 HTTP/1.1\" 200 -\n"
     ]
    },
    {
     "name": "stdout",
     "output_type": "stream",
     "text": [
      "Received !!!\n",
      "x =  -572.00 y =  244.00  and z=  -823.00\n",
      "Received !!!\n",
      "x =  -572.00 y =  244.00  and z=  -824.00\n"
     ]
    },
    {
     "name": "stderr",
     "output_type": "stream",
     "text": [
      "143.248.53.23 - - [28/Feb/2023 19:35:25] \"GET /api/accelerometer?x=-574.00&y=246.00&z=-824.00 HTTP/1.1\" 200 -\n",
      "143.248.53.23 - - [28/Feb/2023 19:35:25] \"GET /api/accelerometer?x=-572.00&y=245.00&z=-824.00 HTTP/1.1\" 200 -\n"
     ]
    },
    {
     "name": "stdout",
     "output_type": "stream",
     "text": [
      "Received !!!\n",
      "x =  -574.00 y =  246.00  and z=  -824.00\n",
      "Received !!!\n",
      "x =  -572.00 y =  245.00  and z=  -824.00\n"
     ]
    },
    {
     "name": "stderr",
     "output_type": "stream",
     "text": [
      "143.248.53.23 - - [28/Feb/2023 19:35:25] \"GET /api/accelerometer?x=-571.00&y=245.00&z=-825.00 HTTP/1.1\" 200 -\n",
      "143.248.53.23 - - [28/Feb/2023 19:35:26] \"GET /api/accelerometer?x=-573.00&y=245.00&z=-823.00 HTTP/1.1\" 200 -\n"
     ]
    },
    {
     "name": "stdout",
     "output_type": "stream",
     "text": [
      "Received !!!\n",
      "x =  -571.00 y =  245.00  and z=  -825.00\n",
      "Received !!!\n",
      "x =  -573.00 y =  245.00  and z=  -823.00\n"
     ]
    },
    {
     "name": "stderr",
     "output_type": "stream",
     "text": [
      "143.248.53.23 - - [28/Feb/2023 19:35:26] \"GET /api/accelerometer?x=-573.00&y=245.00&z=-823.00 HTTP/1.1\" 200 -\n",
      "143.248.53.23 - - [28/Feb/2023 19:35:26] \"GET /api/accelerometer?x=-574.00&y=244.00&z=-823.00 HTTP/1.1\" 200 -\n"
     ]
    },
    {
     "name": "stdout",
     "output_type": "stream",
     "text": [
      "Received !!!\n",
      "x =  -573.00 y =  245.00  and z=  -823.00\n",
      "Received !!!\n",
      "x =  -574.00 y =  244.00  and z=  -823.00\n"
     ]
    },
    {
     "name": "stderr",
     "output_type": "stream",
     "text": [
      "143.248.53.23 - - [28/Feb/2023 19:35:26] \"GET /api/accelerometer?x=-572.00&y=245.00&z=-825.00 HTTP/1.1\" 200 -\n"
     ]
    },
    {
     "name": "stdout",
     "output_type": "stream",
     "text": [
      "Received !!!\n",
      "x =  -572.00 y =  245.00  and z=  -825.00\n"
     ]
    },
    {
     "name": "stderr",
     "output_type": "stream",
     "text": [
      "143.248.53.23 - - [28/Feb/2023 19:35:26] \"GET /api/accelerometer?x=-573.00&y=245.00&z=-823.00 HTTP/1.1\" 200 -\n",
      "143.248.53.23 - - [28/Feb/2023 19:35:26] \"GET /api/accelerometer?x=-573.00&y=246.00&z=-822.00 HTTP/1.1\" 200 -\n"
     ]
    },
    {
     "name": "stdout",
     "output_type": "stream",
     "text": [
      "Received !!!\n",
      "x =  -573.00 y =  245.00  and z=  -823.00\n",
      "Received !!!\n",
      "x =  -573.00 y =  246.00  and z=  -822.00\n"
     ]
    },
    {
     "name": "stderr",
     "output_type": "stream",
     "text": [
      "143.248.53.23 - - [28/Feb/2023 19:35:27] \"GET /api/accelerometer?x=-572.00&y=244.00&z=-824.00 HTTP/1.1\" 200 -\n",
      "143.248.53.23 - - [28/Feb/2023 19:35:27] \"GET /api/accelerometer?x=-574.00&y=245.00&z=-823.00 HTTP/1.1\" 200 -\n"
     ]
    },
    {
     "name": "stdout",
     "output_type": "stream",
     "text": [
      "Received !!!\n",
      "x =  -572.00 y =  244.00  and z=  -824.00\n",
      "Received !!!\n",
      "x =  -574.00 y =  245.00  and z=  -823.00\n"
     ]
    },
    {
     "name": "stderr",
     "output_type": "stream",
     "text": [
      "143.248.53.23 - - [28/Feb/2023 19:35:27] \"GET /api/accelerometer?x=-573.00&y=245.00&z=-824.00 HTTP/1.1\" 200 -\n",
      "143.248.53.23 - - [28/Feb/2023 19:35:27] \"GET /api/accelerometer?x=-573.00&y=245.00&z=-823.00 HTTP/1.1\" 200 -\n"
     ]
    },
    {
     "name": "stdout",
     "output_type": "stream",
     "text": [
      "Received !!!\n",
      "x =  -573.00 y =  245.00  and z=  -824.00\n",
      "Received !!!\n",
      "x =  -573.00 y =  245.00  and z=  -823.00\n"
     ]
    },
    {
     "name": "stderr",
     "output_type": "stream",
     "text": [
      "143.248.53.23 - - [28/Feb/2023 19:35:27] \"GET /api/accelerometer?x=-571.00&y=244.00&z=-823.00 HTTP/1.1\" 200 -\n",
      "143.248.53.23 - - [28/Feb/2023 19:35:28] \"GET /api/accelerometer?x=-573.00&y=244.00&z=-823.00 HTTP/1.1\" 200 -\n"
     ]
    },
    {
     "name": "stdout",
     "output_type": "stream",
     "text": [
      "Received !!!\n",
      "x =  -571.00 y =  244.00  and z=  -823.00\n",
      "Received !!!\n",
      "x =  -573.00 y =  244.00  and z=  -823.00\n"
     ]
    },
    {
     "name": "stderr",
     "output_type": "stream",
     "text": [
      "143.248.53.23 - - [28/Feb/2023 19:35:28] \"GET /api/accelerometer?x=-572.00&y=244.00&z=-825.00 HTTP/1.1\" 200 -\n"
     ]
    },
    {
     "name": "stdout",
     "output_type": "stream",
     "text": [
      "Received !!!\n",
      "x =  -572.00 y =  244.00  and z=  -825.00\n"
     ]
    },
    {
     "name": "stderr",
     "output_type": "stream",
     "text": [
      "143.248.53.23 - - [28/Feb/2023 19:35:28] \"GET /api/accelerometer?x=-572.00&y=245.00&z=-823.00 HTTP/1.1\" 200 -\n",
      "143.248.53.23 - - [28/Feb/2023 19:35:28] \"GET /api/accelerometer?x=-573.00&y=245.00&z=-824.00 HTTP/1.1\" 200 -\n"
     ]
    },
    {
     "name": "stdout",
     "output_type": "stream",
     "text": [
      "Received !!!\n",
      "x =  -572.00 y =  245.00  and z=  -823.00\n",
      "Received !!!\n",
      "x =  -573.00 y =  245.00  and z=  -824.00\n"
     ]
    },
    {
     "name": "stderr",
     "output_type": "stream",
     "text": [
      "143.248.53.23 - - [28/Feb/2023 19:35:28] \"GET /api/accelerometer?x=-572.00&y=244.00&z=-824.00 HTTP/1.1\" 200 -\n",
      "143.248.53.23 - - [28/Feb/2023 19:35:28] \"GET /api/accelerometer?x=-574.00&y=245.00&z=-824.00 HTTP/1.1\" 200 -\n"
     ]
    },
    {
     "name": "stdout",
     "output_type": "stream",
     "text": [
      "Received !!!\n",
      "x =  -572.00 y =  244.00  and z=  -824.00\n",
      "Received !!!\n",
      "x =  -574.00 y =  245.00  and z=  -824.00\n"
     ]
    },
    {
     "name": "stderr",
     "output_type": "stream",
     "text": [
      "143.248.53.23 - - [28/Feb/2023 19:35:29] \"GET /api/accelerometer?x=-573.00&y=244.00&z=-824.00 HTTP/1.1\" 200 -\n"
     ]
    },
    {
     "name": "stdout",
     "output_type": "stream",
     "text": [
      "Received !!!\n",
      "x =  -573.00 y =  244.00  and z=  -824.00\n",
      "Received !!!\n",
      "x =  -573.00 y =  245.00  and z=  -824.00\n"
     ]
    },
    {
     "name": "stderr",
     "output_type": "stream",
     "text": [
      "143.248.53.23 - - [28/Feb/2023 19:35:29] \"GET /api/accelerometer?x=-573.00&y=245.00&z=-824.00 HTTP/1.1\" 200 -\n",
      "143.248.53.23 - - [28/Feb/2023 19:35:29] \"GET /api/accelerometer?x=-573.00&y=244.00&z=-823.00 HTTP/1.1\" 200 -\n"
     ]
    },
    {
     "name": "stdout",
     "output_type": "stream",
     "text": [
      "Received !!!\n",
      "x =  -573.00 y =  244.00  and z=  -823.00\n"
     ]
    },
    {
     "name": "stderr",
     "output_type": "stream",
     "text": [
      "143.248.53.23 - - [28/Feb/2023 19:35:29] \"GET /api/accelerometer?x=-573.00&y=244.00&z=-824.00 HTTP/1.1\" 200 -\n"
     ]
    },
    {
     "name": "stdout",
     "output_type": "stream",
     "text": [
      "Received !!!\n",
      "x =  -573.00 y =  244.00  and z=  -824.00\n"
     ]
    },
    {
     "name": "stderr",
     "output_type": "stream",
     "text": [
      "143.248.53.23 - - [28/Feb/2023 19:35:29] \"GET /api/accelerometer?x=-573.00&y=245.00&z=-824.00 HTTP/1.1\" 200 -\n",
      "143.248.53.23 - - [28/Feb/2023 19:35:30] \"GET /api/accelerometer?x=-572.00&y=244.00&z=-823.00 HTTP/1.1\" 200 -\n"
     ]
    },
    {
     "name": "stdout",
     "output_type": "stream",
     "text": [
      "Received !!!\n",
      "x =  -573.00 y =  245.00  and z=  -824.00\n",
      "Received !!!\n",
      "x =  -572.00 y =  244.00  and z=  -823.00\n"
     ]
    },
    {
     "name": "stderr",
     "output_type": "stream",
     "text": [
      "143.248.53.23 - - [28/Feb/2023 19:35:30] \"GET /api/accelerometer?x=-574.00&y=245.00&z=-825.00 HTTP/1.1\" 200 -\n",
      "143.248.53.23 - - [28/Feb/2023 19:35:30] \"GET /api/accelerometer?x=-572.00&y=245.00&z=-822.00 HTTP/1.1\" 200 -\n"
     ]
    },
    {
     "name": "stdout",
     "output_type": "stream",
     "text": [
      "Received !!!\n",
      "x =  -574.00 y =  245.00  and z=  -825.00\n",
      "Received !!!\n",
      "x =  -572.00 y =  245.00  and z=  -822.00\n"
     ]
    },
    {
     "name": "stderr",
     "output_type": "stream",
     "text": [
      "143.248.53.23 - - [28/Feb/2023 19:35:30] \"GET /api/accelerometer?x=-573.00&y=242.00&z=-823.00 HTTP/1.1\" 200 -\n",
      "143.248.53.23 - - [28/Feb/2023 19:35:30] \"GET /api/accelerometer?x=-573.00&y=245.00&z=-824.00 HTTP/1.1\" 200 -\n"
     ]
    },
    {
     "name": "stdout",
     "output_type": "stream",
     "text": [
      "Received !!!\n",
      "x =  -573.00 y =  242.00  and z=  -823.00\n",
      "Received !!!\n",
      "x =  -573.00 y =  245.00  and z=  -824.00\n"
     ]
    },
    {
     "name": "stderr",
     "output_type": "stream",
     "text": [
      "143.248.53.23 - - [28/Feb/2023 19:35:31] \"GET /api/accelerometer?x=-572.00&y=244.00&z=-824.00 HTTP/1.1\" 200 -\n",
      "143.248.53.23 - - [28/Feb/2023 19:35:31] \"GET /api/accelerometer?x=-572.00&y=245.00&z=-822.00 HTTP/1.1\" 200 -\n"
     ]
    },
    {
     "name": "stdout",
     "output_type": "stream",
     "text": [
      "Received !!!\n",
      "x =  -572.00 y =  244.00  and z=  -824.00\n",
      "Received !!!\n",
      "x =  -572.00 y =  245.00  and z=  -822.00\n"
     ]
    },
    {
     "name": "stderr",
     "output_type": "stream",
     "text": [
      "143.248.53.23 - - [28/Feb/2023 19:35:31] \"GET /api/accelerometer?x=-572.00&y=244.00&z=-822.00 HTTP/1.1\" 200 -\n",
      "143.248.53.23 - - [28/Feb/2023 19:35:31] \"GET /api/accelerometer?x=-573.00&y=244.00&z=-823.00 HTTP/1.1\" 200 -\n"
     ]
    },
    {
     "name": "stdout",
     "output_type": "stream",
     "text": [
      "Received !!!\n",
      "x =  -572.00 y =  244.00  and z=  -822.00\n",
      "Received !!!\n",
      "x =  -573.00 y =  244.00  and z=  -823.00\n"
     ]
    },
    {
     "name": "stderr",
     "output_type": "stream",
     "text": [
      "143.248.53.23 - - [28/Feb/2023 19:35:31] \"GET /api/accelerometer?x=-572.00&y=246.00&z=-822.00 HTTP/1.1\" 200 -\n",
      "143.248.53.23 - - [28/Feb/2023 19:35:31] \"GET /api/accelerometer?x=-573.00&y=245.00&z=-823.00 HTTP/1.1\" 200 -\n"
     ]
    },
    {
     "name": "stdout",
     "output_type": "stream",
     "text": [
      "Received !!!\n",
      "x =  -572.00 y =  246.00  and z=  -822.00\n",
      "Received !!!\n",
      "x =  -573.00 y =  245.00  and z=  -823.00\n"
     ]
    },
    {
     "name": "stderr",
     "output_type": "stream",
     "text": [
      "143.248.53.23 - - [28/Feb/2023 19:35:32] \"GET /api/accelerometer?x=-572.00&y=245.00&z=-825.00 HTTP/1.1\" 200 -\n",
      "143.248.53.23 - - [28/Feb/2023 19:35:32] \"GET /api/accelerometer?x=-574.00&y=244.00&z=-823.00 HTTP/1.1\" 200 -\n"
     ]
    },
    {
     "name": "stdout",
     "output_type": "stream",
     "text": [
      "Received !!!\n",
      "x =  -572.00 y =  245.00  and z=  -825.00\n",
      "Received !!!\n",
      "x =  -574.00 y =  244.00  and z=  -823.00\n"
     ]
    },
    {
     "name": "stderr",
     "output_type": "stream",
     "text": [
      "143.248.53.23 - - [28/Feb/2023 19:35:32] \"GET /api/accelerometer?x=-556.00&y=212.00&z=-814.00 HTTP/1.1\" 200 -\n",
      "143.248.53.23 - - [28/Feb/2023 19:35:32] \"GET /api/accelerometer?x=-572.00&y=244.00&z=-825.00 HTTP/1.1\" 200 -\n"
     ]
    },
    {
     "name": "stdout",
     "output_type": "stream",
     "text": [
      "Received !!!\n",
      "x =  -556.00 y =  212.00  and z=  -814.00\n",
      "Received !!!\n",
      "x =  -572.00 y =  244.00  and z=  -825.00\n"
     ]
    },
    {
     "name": "stderr",
     "output_type": "stream",
     "text": [
      "143.248.53.23 - - [28/Feb/2023 19:35:32] \"GET /api/accelerometer?x=-572.00&y=245.00&z=-824.00 HTTP/1.1\" 200 -\n",
      "143.248.53.23 - - [28/Feb/2023 19:35:32] \"GET /api/accelerometer?x=-572.00&y=245.00&z=-823.00 HTTP/1.1\" 200 -\n"
     ]
    },
    {
     "name": "stdout",
     "output_type": "stream",
     "text": [
      "Received !!!\n",
      "x =  -572.00 y =  245.00  and z=  -824.00\n",
      "Received !!!\n",
      "x =  -572.00 y =  245.00  and z=  -823.00\n"
     ]
    },
    {
     "name": "stderr",
     "output_type": "stream",
     "text": [
      "143.248.53.23 - - [28/Feb/2023 19:35:33] \"GET /api/accelerometer?x=-575.00&y=245.00&z=-821.00 HTTP/1.1\" 200 -\n",
      "143.248.53.23 - - [28/Feb/2023 19:35:33] \"GET /api/accelerometer?x=-573.00&y=245.00&z=-822.00 HTTP/1.1\" 200 -\n"
     ]
    },
    {
     "name": "stdout",
     "output_type": "stream",
     "text": [
      "Received !!!\n",
      "x =  -575.00 y =  245.00  and z=  -821.00\n",
      "Received !!!\n",
      "x =  -573.00 y =  245.00  and z=  -822.00\n"
     ]
    },
    {
     "name": "stderr",
     "output_type": "stream",
     "text": [
      "143.248.53.23 - - [28/Feb/2023 19:35:33] \"GET /api/accelerometer?x=-573.00&y=244.00&z=-824.00 HTTP/1.1\" 200 -\n",
      "143.248.53.23 - - [28/Feb/2023 19:35:33] \"GET /api/accelerometer?x=-573.00&y=245.00&z=-825.00 HTTP/1.1\" 200 -\n"
     ]
    },
    {
     "name": "stdout",
     "output_type": "stream",
     "text": [
      "Received !!!\n",
      "x =  -573.00 y =  244.00  and z=  -824.00\n",
      "Received !!!\n",
      "x =  -573.00 y =  245.00  and z=  -825.00\n"
     ]
    },
    {
     "name": "stderr",
     "output_type": "stream",
     "text": [
      "143.248.53.23 - - [28/Feb/2023 19:35:33] \"GET /api/accelerometer?x=-571.00&y=241.00&z=-821.00 HTTP/1.1\" 200 -\n",
      "143.248.53.23 - - [28/Feb/2023 19:35:33] \"GET /api/accelerometer?x=-574.00&y=244.00&z=-822.00 HTTP/1.1\" 200 -\n"
     ]
    },
    {
     "name": "stdout",
     "output_type": "stream",
     "text": [
      "Received !!!\n",
      "x =  -571.00 y =  241.00  and z=  -821.00\n",
      "Received !!!\n",
      "x =  -574.00 y =  244.00  and z=  -822.00\n"
     ]
    },
    {
     "name": "stderr",
     "output_type": "stream",
     "text": [
      "143.248.53.23 - - [28/Feb/2023 19:35:34] \"GET /api/accelerometer?x=-573.00&y=242.00&z=-824.00 HTTP/1.1\" 200 -\n",
      "143.248.53.23 - - [28/Feb/2023 19:35:34] \"GET /api/accelerometer?x=-573.00&y=246.00&z=-823.00 HTTP/1.1\" 200 -\n"
     ]
    },
    {
     "name": "stdout",
     "output_type": "stream",
     "text": [
      "Received !!!\n",
      "x =  -573.00 y =  242.00  and z=  -824.00\n",
      "Received !!!\n",
      "x =  -573.00 y =  246.00  and z=  -823.00\n"
     ]
    },
    {
     "name": "stderr",
     "output_type": "stream",
     "text": [
      "143.248.53.23 - - [28/Feb/2023 19:35:34] \"GET /api/accelerometer?x=-573.00&y=243.00&z=-823.00 HTTP/1.1\" 200 -\n",
      "143.248.53.23 - - [28/Feb/2023 19:35:34] \"GET /api/accelerometer?x=-572.00&y=245.00&z=-825.00 HTTP/1.1\" 200 -\n"
     ]
    },
    {
     "name": "stdout",
     "output_type": "stream",
     "text": [
      "Received !!!\n",
      "x =  -573.00 y =  243.00  and z=  -823.00\n",
      "Received !!!\n",
      "x =  -572.00 y =  245.00  and z=  -825.00\n"
     ]
    },
    {
     "name": "stderr",
     "output_type": "stream",
     "text": [
      "143.248.53.23 - - [28/Feb/2023 19:35:34] \"GET /api/accelerometer?x=-573.00&y=244.00&z=-823.00 HTTP/1.1\" 200 -\n",
      "143.248.53.23 - - [28/Feb/2023 19:35:35] \"GET /api/accelerometer?x=-574.00&y=245.00&z=-822.00 HTTP/1.1\" 200 -\n"
     ]
    },
    {
     "name": "stdout",
     "output_type": "stream",
     "text": [
      "Received !!!\n",
      "x =  -573.00 y =  244.00  and z=  -823.00\n",
      "Received !!!\n",
      "x =  -574.00 y =  245.00  and z=  -822.00\n"
     ]
    },
    {
     "name": "stderr",
     "output_type": "stream",
     "text": [
      "143.248.53.23 - - [28/Feb/2023 19:35:35] \"GET /api/accelerometer?x=-572.00&y=244.00&z=-824.00 HTTP/1.1\" 200 -\n",
      "143.248.53.23 - - [28/Feb/2023 19:35:35] \"GET /api/accelerometer?x=-572.00&y=244.00&z=-824.00 HTTP/1.1\" 200 -\n"
     ]
    },
    {
     "name": "stdout",
     "output_type": "stream",
     "text": [
      "Received !!!\n",
      "x =  -572.00 y =  244.00  and z=  -824.00\n",
      "Received !!!\n",
      "x =  -572.00 y =  244.00  and z=  -824.00\n"
     ]
    },
    {
     "name": "stderr",
     "output_type": "stream",
     "text": [
      "143.248.53.23 - - [28/Feb/2023 19:35:35] \"GET /api/accelerometer?x=-573.00&y=243.00&z=-822.00 HTTP/1.1\" 200 -\n",
      "143.248.53.23 - - [28/Feb/2023 19:35:35] \"GET /api/accelerometer?x=-573.00&y=244.00&z=-824.00 HTTP/1.1\" 200 -\n"
     ]
    },
    {
     "name": "stdout",
     "output_type": "stream",
     "text": [
      "Received !!!\n",
      "x =  -573.00 y =  243.00  and z=  -822.00\n",
      "Received !!!\n",
      "x =  -573.00 y =  244.00  and z=  -824.00\n"
     ]
    },
    {
     "name": "stderr",
     "output_type": "stream",
     "text": [
      "143.248.53.23 - - [28/Feb/2023 19:35:35] \"GET /api/accelerometer?x=-572.00&y=245.00&z=-824.00 HTTP/1.1\" 200 -\n"
     ]
    },
    {
     "name": "stdout",
     "output_type": "stream",
     "text": [
      "Received !!!\n",
      "x =  -572.00 y =  245.00  and z=  -824.00\n"
     ]
    },
    {
     "name": "stderr",
     "output_type": "stream",
     "text": [
      "143.248.53.23 - - [28/Feb/2023 19:35:36] \"GET /api/accelerometer?x=-575.00&y=244.00&z=-824.00 HTTP/1.1\" 200 -\n",
      "143.248.53.23 - - [28/Feb/2023 19:35:36] \"GET /api/accelerometer?x=-573.00&y=244.00&z=-825.00 HTTP/1.1\" 200 -\n"
     ]
    },
    {
     "name": "stdout",
     "output_type": "stream",
     "text": [
      "Received !!!\n",
      "x =  -575.00 y =  244.00  and z=  -824.00\n",
      "Received !!!\n",
      "x =  -573.00 y =  244.00  and z=  -825.00\n"
     ]
    },
    {
     "name": "stderr",
     "output_type": "stream",
     "text": [
      "143.248.53.23 - - [28/Feb/2023 19:35:36] \"GET /api/accelerometer?x=-572.00&y=246.00&z=-823.00 HTTP/1.1\" 200 -\n"
     ]
    },
    {
     "name": "stdout",
     "output_type": "stream",
     "text": [
      "Received !!!\n",
      "x =  -572.00 y =  246.00  and z=  -823.00\n"
     ]
    },
    {
     "name": "stderr",
     "output_type": "stream",
     "text": [
      "143.248.53.23 - - [28/Feb/2023 19:35:36] \"GET /api/accelerometer?x=-571.00&y=244.00&z=-824.00 HTTP/1.1\" 200 -\n"
     ]
    },
    {
     "name": "stdout",
     "output_type": "stream",
     "text": [
      "Received !!!\n",
      "x =  -571.00 y =  244.00  and z=  -824.00\n"
     ]
    },
    {
     "name": "stderr",
     "output_type": "stream",
     "text": [
      "143.248.53.23 - - [28/Feb/2023 19:35:36] \"GET /api/accelerometer?x=-573.00&y=244.00&z=-823.00 HTTP/1.1\" 200 -\n",
      "143.248.53.23 - - [28/Feb/2023 19:35:37] \"GET /api/accelerometer?x=-573.00&y=244.00&z=-823.00 HTTP/1.1\" 200 -\n"
     ]
    },
    {
     "name": "stdout",
     "output_type": "stream",
     "text": [
      "Received !!!\n",
      "x =  -573.00 y =  244.00  and z=  -823.00\n",
      "Received !!!\n",
      "x =  -573.00 y =  244.00  and z=  -823.00\n"
     ]
    },
    {
     "name": "stderr",
     "output_type": "stream",
     "text": [
      "143.248.53.23 - - [28/Feb/2023 19:35:37] \"GET /api/accelerometer?x=-572.00&y=244.00&z=-824.00 HTTP/1.1\" 200 -\n",
      "143.248.53.23 - - [28/Feb/2023 19:35:37] \"GET /api/accelerometer?x=-573.00&y=245.00&z=-824.00 HTTP/1.1\" 200 -\n"
     ]
    },
    {
     "name": "stdout",
     "output_type": "stream",
     "text": [
      "Received !!!\n",
      "x =  -572.00 y =  244.00  and z=  -824.00\n",
      "Received !!!\n",
      "x =  -573.00 y =  245.00  and z=  -824.00\n"
     ]
    },
    {
     "name": "stderr",
     "output_type": "stream",
     "text": [
      "143.248.53.23 - - [28/Feb/2023 19:35:37] \"GET /api/accelerometer?x=-571.00&y=246.00&z=-824.00 HTTP/1.1\" 200 -\n",
      "143.248.53.23 - - [28/Feb/2023 19:35:37] \"GET /api/accelerometer?x=-572.00&y=244.00&z=-824.00 HTTP/1.1\" 200 -\n"
     ]
    },
    {
     "name": "stdout",
     "output_type": "stream",
     "text": [
      "Received !!!\n",
      "x =  -571.00 y =  246.00  and z=  -824.00\n",
      "Received !!!\n",
      "x =  -572.00 y =  244.00  and z=  -824.00\n"
     ]
    },
    {
     "name": "stderr",
     "output_type": "stream",
     "text": [
      "143.248.53.23 - - [28/Feb/2023 19:35:38] \"GET /api/accelerometer?x=-572.00&y=245.00&z=-824.00 HTTP/1.1\" 200 -\n",
      "143.248.53.23 - - [28/Feb/2023 19:35:38] \"GET /api/accelerometer?x=-572.00&y=244.00&z=-823.00 HTTP/1.1\" 200 -\n"
     ]
    },
    {
     "name": "stdout",
     "output_type": "stream",
     "text": [
      "Received !!!\n",
      "x =  -572.00 y =  245.00  and z=  -824.00\n",
      "Received !!!\n",
      "x =  -572.00 y =  244.00  and z=  -823.00\n"
     ]
    },
    {
     "name": "stderr",
     "output_type": "stream",
     "text": [
      "143.248.53.23 - - [28/Feb/2023 19:35:38] \"GET /api/accelerometer?x=-573.00&y=243.00&z=-825.00 HTTP/1.1\" 200 -\n",
      "143.248.53.23 - - [28/Feb/2023 19:35:38] \"GET /api/accelerometer?x=-572.00&y=245.00&z=-824.00 HTTP/1.1\" 200 -\n"
     ]
    },
    {
     "name": "stdout",
     "output_type": "stream",
     "text": [
      "Received !!!\n",
      "x =  -573.00 y =  243.00  and z=  -825.00\n",
      "Received !!!\n",
      "x =  -572.00 y =  245.00  and z=  -824.00\n"
     ]
    },
    {
     "name": "stderr",
     "output_type": "stream",
     "text": [
      "143.248.53.23 - - [28/Feb/2023 19:35:38] \"GET /api/accelerometer?x=-573.00&y=244.00&z=-824.00 HTTP/1.1\" 200 -\n",
      "143.248.53.23 - - [28/Feb/2023 19:35:39] \"GET /api/accelerometer?x=-572.00&y=246.00&z=-825.00 HTTP/1.1\" 200 -\n"
     ]
    },
    {
     "name": "stdout",
     "output_type": "stream",
     "text": [
      "Received !!!\n",
      "x =  -573.00 y =  244.00  and z=  -824.00\n",
      "Received !!!\n",
      "x =  -572.00 y =  246.00  and z=  -825.00\n"
     ]
    },
    {
     "name": "stderr",
     "output_type": "stream",
     "text": [
      "143.248.53.23 - - [28/Feb/2023 19:35:39] \"GET /api/accelerometer?x=-572.00&y=245.00&z=-824.00 HTTP/1.1\" 200 -\n",
      "143.248.53.23 - - [28/Feb/2023 19:35:39] \"GET /api/accelerometer?x=-572.00&y=244.00&z=-824.00 HTTP/1.1\" 200 -\n"
     ]
    },
    {
     "name": "stdout",
     "output_type": "stream",
     "text": [
      "Received !!!\n",
      "x =  -572.00 y =  245.00  and z=  -824.00\n",
      "Received !!!\n",
      "x =  -572.00 y =  244.00  and z=  -824.00\n"
     ]
    },
    {
     "name": "stderr",
     "output_type": "stream",
     "text": [
      "143.248.53.23 - - [28/Feb/2023 19:35:39] \"GET /api/accelerometer?x=-573.00&y=247.00&z=-822.00 HTTP/1.1\" 200 -\n",
      "143.248.53.23 - - [28/Feb/2023 19:35:40] \"GET /api/accelerometer?x=-572.00&y=245.00&z=-823.00 HTTP/1.1\" 200 -\n"
     ]
    },
    {
     "name": "stdout",
     "output_type": "stream",
     "text": [
      "Received !!!\n",
      "x =  -573.00 y =  247.00  and z=  -822.00\n",
      "Received !!!\n",
      "x =  -572.00 y =  245.00  and z=  -823.00\n"
     ]
    },
    {
     "name": "stderr",
     "output_type": "stream",
     "text": [
      "143.248.53.23 - - [28/Feb/2023 19:35:40] \"GET /api/accelerometer?x=-573.00&y=243.00&z=-823.00 HTTP/1.1\" 200 -\n",
      "143.248.53.23 - - [28/Feb/2023 19:35:40] \"GET /api/accelerometer?x=-571.00&y=244.00&z=-825.00 HTTP/1.1\" 200 -\n"
     ]
    },
    {
     "name": "stdout",
     "output_type": "stream",
     "text": [
      "Received !!!\n",
      "x =  -573.00 y =  243.00  and z=  -823.00\n",
      "Received !!!\n",
      "x =  -571.00 y =  244.00  and z=  -825.00\n"
     ]
    },
    {
     "name": "stderr",
     "output_type": "stream",
     "text": [
      "143.248.53.23 - - [28/Feb/2023 19:35:40] \"GET /api/accelerometer?x=-572.00&y=244.00&z=-824.00 HTTP/1.1\" 200 -\n",
      "143.248.53.23 - - [28/Feb/2023 19:35:40] \"GET /api/accelerometer?x=-572.00&y=246.00&z=-825.00 HTTP/1.1\" 200 -\n"
     ]
    },
    {
     "name": "stdout",
     "output_type": "stream",
     "text": [
      "Received !!!\n",
      "x =  -572.00 y =  244.00  and z=  -824.00\n",
      "Received !!!\n",
      "x =  -572.00 y =  246.00  and z=  -825.00\n"
     ]
    },
    {
     "name": "stderr",
     "output_type": "stream",
     "text": [
      "143.248.53.23 - - [28/Feb/2023 19:35:40] \"GET /api/accelerometer?x=-572.00&y=244.00&z=-823.00 HTTP/1.1\" 200 -\n",
      "143.248.53.23 - - [28/Feb/2023 19:35:41] \"GET /api/accelerometer?x=-572.00&y=244.00&z=-824.00 HTTP/1.1\" 200 -\n"
     ]
    },
    {
     "name": "stdout",
     "output_type": "stream",
     "text": [
      "Received !!!\n",
      "x =  -572.00 y =  244.00  and z=  -823.00\n",
      "Received !!!\n",
      "x =  -572.00 y =  244.00  and z=  -824.00\n"
     ]
    },
    {
     "name": "stderr",
     "output_type": "stream",
     "text": [
      "143.248.53.23 - - [28/Feb/2023 19:35:41] \"GET /api/accelerometer?x=-573.00&y=243.00&z=-824.00 HTTP/1.1\" 200 -\n"
     ]
    },
    {
     "name": "stdout",
     "output_type": "stream",
     "text": [
      "Received !!!\n",
      "x =  -573.00 y =  243.00  and z=  -824.00\n"
     ]
    },
    {
     "name": "stderr",
     "output_type": "stream",
     "text": [
      "143.248.53.23 - - [28/Feb/2023 19:35:41] \"GET /api/accelerometer?x=-573.00&y=245.00&z=-823.00 HTTP/1.1\" 200 -\n",
      "143.248.53.23 - - [28/Feb/2023 19:35:41] \"GET /api/accelerometer?x=-572.00&y=246.00&z=-823.00 HTTP/1.1\" 200 -\n"
     ]
    },
    {
     "name": "stdout",
     "output_type": "stream",
     "text": [
      "Received !!!\n",
      "x =  -573.00 y =  245.00  and z=  -823.00\n",
      "Received !!!\n",
      "x =  -572.00 y =  246.00  and z=  -823.00\n"
     ]
    },
    {
     "name": "stderr",
     "output_type": "stream",
     "text": [
      "143.248.53.23 - - [28/Feb/2023 19:35:41] \"GET /api/accelerometer?x=-573.00&y=245.00&z=-824.00 HTTP/1.1\" 200 -\n",
      "143.248.53.23 - - [28/Feb/2023 19:35:42] \"GET /api/accelerometer?x=-572.00&y=244.00&z=-824.00 HTTP/1.1\" 200 -\n"
     ]
    },
    {
     "name": "stdout",
     "output_type": "stream",
     "text": [
      "Received !!!\n",
      "x =  -573.00 y =  245.00  and z=  -824.00\n",
      "Received !!!\n",
      "x =  -572.00 y =  244.00  and z=  -824.00\n"
     ]
    },
    {
     "name": "stderr",
     "output_type": "stream",
     "text": [
      "143.248.53.23 - - [28/Feb/2023 19:35:42] \"GET /api/accelerometer?x=-573.00&y=244.00&z=-823.00 HTTP/1.1\" 200 -\n",
      "143.248.53.23 - - [28/Feb/2023 19:35:42] \"GET /api/accelerometer?x=-573.00&y=243.00&z=-822.00 HTTP/1.1\" 200 -\n"
     ]
    },
    {
     "name": "stdout",
     "output_type": "stream",
     "text": [
      "Received !!!\n",
      "x =  -573.00 y =  244.00  and z=  -823.00\n",
      "Received !!!\n",
      "x =  -573.00 y =  243.00  and z=  -822.00\n"
     ]
    },
    {
     "name": "stderr",
     "output_type": "stream",
     "text": [
      "143.248.53.23 - - [28/Feb/2023 19:35:42] \"GET /api/accelerometer?x=-571.00&y=245.00&z=-824.00 HTTP/1.1\" 200 -\n",
      "143.248.53.23 - - [28/Feb/2023 19:35:42] \"GET /api/accelerometer?x=-572.00&y=244.00&z=-824.00 HTTP/1.1\" 200 -\n"
     ]
    },
    {
     "name": "stdout",
     "output_type": "stream",
     "text": [
      "Received !!!\n",
      "x =  -571.00 y =  245.00  and z=  -824.00\n",
      "Received !!!\n",
      "x =  -572.00 y =  244.00  and z=  -824.00\n"
     ]
    },
    {
     "name": "stderr",
     "output_type": "stream",
     "text": [
      "143.248.53.23 - - [28/Feb/2023 19:35:42] \"GET /api/accelerometer?x=-572.00&y=244.00&z=-824.00 HTTP/1.1\" 200 -\n",
      "143.248.53.23 - - [28/Feb/2023 19:35:43] \"GET /api/accelerometer?x=-572.00&y=245.00&z=-825.00 HTTP/1.1\" 200 -\n"
     ]
    },
    {
     "name": "stdout",
     "output_type": "stream",
     "text": [
      "Received !!!\n",
      "x =  -572.00 y =  244.00  and z=  -824.00\n",
      "Received !!!\n",
      "x =  -572.00 y =  245.00  and z=  -825.00\n"
     ]
    },
    {
     "name": "stderr",
     "output_type": "stream",
     "text": [
      "143.248.53.23 - - [28/Feb/2023 19:35:43] \"GET /api/accelerometer?x=-572.00&y=246.00&z=-824.00 HTTP/1.1\" 200 -\n",
      "143.248.53.23 - - [28/Feb/2023 19:35:43] \"GET /api/accelerometer?x=-573.00&y=245.00&z=-824.00 HTTP/1.1\" 200 -\n"
     ]
    },
    {
     "name": "stdout",
     "output_type": "stream",
     "text": [
      "Received !!!\n",
      "x =  -572.00 y =  246.00  and z=  -824.00\n",
      "Received !!!\n",
      "x =  -573.00 y =  245.00  and z=  -824.00\n"
     ]
    },
    {
     "name": "stderr",
     "output_type": "stream",
     "text": [
      "143.248.53.23 - - [28/Feb/2023 19:35:43] \"GET /api/accelerometer?x=-571.00&y=245.00&z=-823.00 HTTP/1.1\" 200 -\n",
      "143.248.53.23 - - [28/Feb/2023 19:35:43] \"GET /api/accelerometer?x=-573.00&y=243.00&z=-822.00 HTTP/1.1\" 200 -\n"
     ]
    },
    {
     "name": "stdout",
     "output_type": "stream",
     "text": [
      "Received !!!\n",
      "x =  -571.00 y =  245.00  and z=  -823.00\n",
      "Received !!!\n",
      "x =  -573.00 y =  243.00  and z=  -822.00\n"
     ]
    },
    {
     "name": "stderr",
     "output_type": "stream",
     "text": [
      "143.248.53.23 - - [28/Feb/2023 19:35:44] \"GET /api/accelerometer?x=-572.00&y=245.00&z=-824.00 HTTP/1.1\" 200 -\n"
     ]
    },
    {
     "name": "stdout",
     "output_type": "stream",
     "text": [
      "Received !!!\n",
      "x =  -572.00 y =  245.00  and z=  -824.00\n"
     ]
    },
    {
     "name": "stderr",
     "output_type": "stream",
     "text": [
      "143.248.53.23 - - [28/Feb/2023 19:35:44] \"GET /api/accelerometer?x=-572.00&y=245.00&z=-824.00 HTTP/1.1\" 200 -\n"
     ]
    },
    {
     "name": "stdout",
     "output_type": "stream",
     "text": [
      "Received !!!\n",
      "x =  -572.00 y =  245.00  and z=  -824.00\n"
     ]
    },
    {
     "name": "stderr",
     "output_type": "stream",
     "text": [
      "143.248.53.23 - - [28/Feb/2023 19:35:44] \"GET /api/accelerometer?x=-572.00&y=244.00&z=-822.00 HTTP/1.1\" 200 -\n"
     ]
    },
    {
     "name": "stdout",
     "output_type": "stream",
     "text": [
      "Received !!!\n",
      "x =  -572.00 y =  244.00  and z=  -822.00\n"
     ]
    },
    {
     "name": "stderr",
     "output_type": "stream",
     "text": [
      "143.248.53.23 - - [28/Feb/2023 19:35:45] \"GET /api/accelerometer?x=-574.00&y=243.00&z=-824.00 HTTP/1.1\" 200 -\n"
     ]
    },
    {
     "name": "stdout",
     "output_type": "stream",
     "text": [
      "Received !!!\n",
      "x =  -574.00 y =  243.00  and z=  -824.00\n"
     ]
    },
    {
     "name": "stderr",
     "output_type": "stream",
     "text": [
      "143.248.53.23 - - [28/Feb/2023 19:35:45] \"GET /api/accelerometer?x=-573.00&y=243.00&z=-823.00 HTTP/1.1\" 200 -\n"
     ]
    },
    {
     "name": "stdout",
     "output_type": "stream",
     "text": [
      "Received !!!\n",
      "x =  -573.00 y =  243.00  and z=  -823.00\n"
     ]
    },
    {
     "name": "stderr",
     "output_type": "stream",
     "text": [
      "143.248.53.23 - - [28/Feb/2023 19:35:45] \"GET /api/accelerometer?x=-572.00&y=245.00&z=-823.00 HTTP/1.1\" 200 -\n",
      "143.248.53.23 - - [28/Feb/2023 19:35:45] \"GET /api/accelerometer?x=-571.00&y=244.00&z=-823.00 HTTP/1.1\" 200 -\n"
     ]
    },
    {
     "name": "stdout",
     "output_type": "stream",
     "text": [
      "Received !!!\n",
      "x =  -572.00 y =  245.00  and z=  -823.00\n",
      "Received !!!\n",
      "x =  -571.00 y =  244.00  and z=  -823.00\n"
     ]
    },
    {
     "name": "stderr",
     "output_type": "stream",
     "text": [
      "143.248.53.23 - - [28/Feb/2023 19:35:45] \"GET /api/accelerometer?x=-572.00&y=243.00&z=-823.00 HTTP/1.1\" 200 -\n",
      "143.248.53.23 - - [28/Feb/2023 19:35:46] \"GET /api/accelerometer?x=-574.00&y=244.00&z=-824.00 HTTP/1.1\" 200 -\n"
     ]
    },
    {
     "name": "stdout",
     "output_type": "stream",
     "text": [
      "Received !!!\n",
      "x =  -572.00 y =  243.00  and z=  -823.00\n",
      "Received !!!\n",
      "x =  -574.00 y =  244.00  and z=  -824.00\n"
     ]
    },
    {
     "name": "stderr",
     "output_type": "stream",
     "text": [
      "143.248.53.23 - - [28/Feb/2023 19:35:46] \"GET /api/accelerometer?x=-571.00&y=243.00&z=-824.00 HTTP/1.1\" 200 -\n",
      "143.248.53.23 - - [28/Feb/2023 19:35:46] \"GET /api/accelerometer?x=-573.00&y=245.00&z=-824.00 HTTP/1.1\" 200 -\n"
     ]
    },
    {
     "name": "stdout",
     "output_type": "stream",
     "text": [
      "Received !!!\n",
      "x =  -571.00 y =  243.00  and z=  -824.00\n",
      "Received !!!\n",
      "x =  -573.00 y =  245.00  and z=  -824.00\n"
     ]
    },
    {
     "name": "stderr",
     "output_type": "stream",
     "text": [
      "143.248.53.23 - - [28/Feb/2023 19:35:46] \"GET /api/accelerometer?x=-574.00&y=244.00&z=-823.00 HTTP/1.1\" 200 -\n"
     ]
    },
    {
     "name": "stdout",
     "output_type": "stream",
     "text": [
      "Received !!!\n",
      "x =  -574.00 y =  244.00  and z=  -823.00\n"
     ]
    },
    {
     "name": "stderr",
     "output_type": "stream",
     "text": [
      "143.248.53.23 - - [28/Feb/2023 19:35:47] \"GET /api/accelerometer?x=-572.00&y=245.00&z=-823.00 HTTP/1.1\" 200 -\n"
     ]
    },
    {
     "name": "stdout",
     "output_type": "stream",
     "text": [
      "Received !!!\n",
      "x =  -572.00 y =  245.00  and z=  -823.00\n"
     ]
    },
    {
     "name": "stderr",
     "output_type": "stream",
     "text": [
      "143.248.53.23 - - [28/Feb/2023 19:35:47] \"GET /api/accelerometer?x=-572.00&y=243.00&z=-825.00 HTTP/1.1\" 200 -\n"
     ]
    },
    {
     "name": "stdout",
     "output_type": "stream",
     "text": [
      "Received !!!\n",
      "x =  -572.00 y =  243.00  and z=  -825.00\n"
     ]
    },
    {
     "name": "stderr",
     "output_type": "stream",
     "text": [
      "143.248.53.23 - - [28/Feb/2023 19:35:47] \"GET /api/accelerometer?x=-571.00&y=245.00&z=-825.00 HTTP/1.1\" 200 -\n",
      "143.248.53.23 - - [28/Feb/2023 19:35:47] \"GET /api/accelerometer?x=-573.00&y=243.00&z=-825.00 HTTP/1.1\" 200 -\n"
     ]
    },
    {
     "name": "stdout",
     "output_type": "stream",
     "text": [
      "Received !!!\n",
      "x =  -571.00 y =  245.00  and z=  -825.00\n",
      "Received !!!\n",
      "x =  -573.00 y =  243.00  and z=  -825.00\n"
     ]
    },
    {
     "name": "stderr",
     "output_type": "stream",
     "text": [
      "143.248.53.23 - - [28/Feb/2023 19:35:47] \"GET /api/accelerometer?x=-572.00&y=243.00&z=-824.00 HTTP/1.1\" 200 -\n"
     ]
    },
    {
     "name": "stdout",
     "output_type": "stream",
     "text": [
      "Received !!!\n",
      "x =  -572.00 y =  243.00  and z=  -824.00\n"
     ]
    },
    {
     "name": "stderr",
     "output_type": "stream",
     "text": [
      "143.248.53.23 - - [28/Feb/2023 19:35:48] \"GET /api/accelerometer?x=-571.00&y=245.00&z=-823.00 HTTP/1.1\" 200 -\n",
      "143.248.53.23 - - [28/Feb/2023 19:35:48] \"GET /api/accelerometer?x=-573.00&y=244.00&z=-822.00 HTTP/1.1\" 200 -\n"
     ]
    },
    {
     "name": "stdout",
     "output_type": "stream",
     "text": [
      "Received !!!\n",
      "x =  -571.00 y =  245.00  and z=  -823.00\n",
      "Received !!!\n",
      "x =  -573.00 y =  244.00  and z=  -822.00\n"
     ]
    },
    {
     "name": "stderr",
     "output_type": "stream",
     "text": [
      "143.248.53.23 - - [28/Feb/2023 19:35:48] \"GET /api/accelerometer?x=-571.00&y=244.00&z=-824.00 HTTP/1.1\" 200 -\n",
      "143.248.53.23 - - [28/Feb/2023 19:35:48] \"GET /api/accelerometer?x=-572.00&y=246.00&z=-823.00 HTTP/1.1\" 200 -\n"
     ]
    },
    {
     "name": "stdout",
     "output_type": "stream",
     "text": [
      "Received !!!\n",
      "x =  -571.00 y =  244.00  and z=  -824.00\n",
      "Received !!!\n",
      "x =  -572.00 y =  246.00  and z=  -823.00\n"
     ]
    },
    {
     "name": "stderr",
     "output_type": "stream",
     "text": [
      "143.248.53.23 - - [28/Feb/2023 19:35:48] \"GET /api/accelerometer?x=-572.00&y=244.00&z=-825.00 HTTP/1.1\" 200 -\n",
      "143.248.53.23 - - [28/Feb/2023 19:35:48] \"GET /api/accelerometer?x=-574.00&y=245.00&z=-824.00 HTTP/1.1\" 200 -\n"
     ]
    },
    {
     "name": "stdout",
     "output_type": "stream",
     "text": [
      "Received !!!\n",
      "x =  -572.00 y =  244.00  and z=  -825.00\n",
      "Received !!!\n",
      "x =  -574.00 y =  245.00  and z=  -824.00\n"
     ]
    },
    {
     "name": "stderr",
     "output_type": "stream",
     "text": [
      "143.248.53.23 - - [28/Feb/2023 19:35:49] \"GET /api/accelerometer?x=-572.00&y=245.00&z=-825.00 HTTP/1.1\" 200 -\n"
     ]
    },
    {
     "name": "stdout",
     "output_type": "stream",
     "text": [
      "Received !!!\n",
      "x =  -572.00 y =  245.00  and z=  -825.00\n"
     ]
    },
    {
     "name": "stderr",
     "output_type": "stream",
     "text": [
      "143.248.53.23 - - [28/Feb/2023 19:35:49] \"GET /api/accelerometer?x=-572.00&y=244.00&z=-823.00 HTTP/1.1\" 200 -\n",
      "143.248.53.23 - - [28/Feb/2023 19:35:49] \"GET /api/accelerometer?x=-574.00&y=243.00&z=-825.00 HTTP/1.1\" 200 -\n"
     ]
    },
    {
     "name": "stdout",
     "output_type": "stream",
     "text": [
      "Received !!!\n",
      "x =  -572.00 y =  244.00  and z=  -823.00\n",
      "Received !!!\n",
      "x =  -574.00 y =  243.00  and z=  -825.00\n"
     ]
    },
    {
     "name": "stderr",
     "output_type": "stream",
     "text": [
      "143.248.53.23 - - [28/Feb/2023 19:35:49] \"GET /api/accelerometer?x=-573.00&y=244.00&z=-824.00 HTTP/1.1\" 200 -\n",
      "143.248.53.23 - - [28/Feb/2023 19:35:49] \"GET /api/accelerometer?x=-573.00&y=244.00&z=-823.00 HTTP/1.1\" 200 -\n"
     ]
    },
    {
     "name": "stdout",
     "output_type": "stream",
     "text": [
      "Received !!!\n",
      "x =  -573.00 y =  244.00  and z=  -824.00\n",
      "Received !!!\n",
      "x =  -573.00 y =  244.00  and z=  -823.00\n"
     ]
    },
    {
     "name": "stderr",
     "output_type": "stream",
     "text": [
      "143.248.53.23 - - [28/Feb/2023 19:35:50] \"GET /api/accelerometer?x=-574.00&y=244.00&z=-823.00 HTTP/1.1\" 200 -\n",
      "143.248.53.23 - - [28/Feb/2023 19:35:50] \"GET /api/accelerometer?x=-571.00&y=246.00&z=-823.00 HTTP/1.1\" 200 -\n"
     ]
    },
    {
     "name": "stdout",
     "output_type": "stream",
     "text": [
      "Received !!!\n",
      "x =  -574.00 y =  244.00  and z=  -823.00\n",
      "Received !!!\n",
      "x =  -571.00 y =  246.00  and z=  -823.00\n"
     ]
    },
    {
     "name": "stderr",
     "output_type": "stream",
     "text": [
      "143.248.53.23 - - [28/Feb/2023 19:35:50] \"GET /api/accelerometer?x=-572.00&y=246.00&z=-822.00 HTTP/1.1\" 200 -\n",
      "143.248.53.23 - - [28/Feb/2023 19:35:50] \"GET /api/accelerometer?x=-573.00&y=246.00&z=-825.00 HTTP/1.1\" 200 -\n"
     ]
    },
    {
     "name": "stdout",
     "output_type": "stream",
     "text": [
      "Received !!!\n",
      "x =  -572.00 y =  246.00  and z=  -822.00\n",
      "Received !!!\n",
      "x =  -573.00 y =  246.00  and z=  -825.00\n"
     ]
    },
    {
     "name": "stderr",
     "output_type": "stream",
     "text": [
      "143.248.53.23 - - [28/Feb/2023 19:35:50] \"GET /api/accelerometer?x=-573.00&y=243.00&z=-824.00 HTTP/1.1\" 200 -\n",
      "143.248.53.23 - - [28/Feb/2023 19:35:50] \"GET /api/accelerometer?x=-573.00&y=245.00&z=-824.00 HTTP/1.1\" 200 -\n"
     ]
    },
    {
     "name": "stdout",
     "output_type": "stream",
     "text": [
      "Received !!!\n",
      "x =  -573.00 y =  243.00  and z=  -824.00\n",
      "Received !!!\n",
      "x =  -573.00 y =  245.00  and z=  -824.00\n"
     ]
    },
    {
     "name": "stderr",
     "output_type": "stream",
     "text": [
      "143.248.53.23 - - [28/Feb/2023 19:35:51] \"GET /api/accelerometer?x=-574.00&y=245.00&z=-825.00 HTTP/1.1\" 200 -\n"
     ]
    },
    {
     "name": "stdout",
     "output_type": "stream",
     "text": [
      "Received !!!\n",
      "x =  -574.00 y =  245.00  and z=  -825.00\n"
     ]
    },
    {
     "name": "stderr",
     "output_type": "stream",
     "text": [
      "143.248.53.23 - - [28/Feb/2023 19:35:51] \"GET /api/accelerometer?x=-571.00&y=245.00&z=-824.00 HTTP/1.1\" 200 -\n",
      "143.248.53.23 - - [28/Feb/2023 19:35:51] \"GET /api/accelerometer?x=-574.00&y=245.00&z=-824.00 HTTP/1.1\" 200 -\n"
     ]
    },
    {
     "name": "stdout",
     "output_type": "stream",
     "text": [
      "Received !!!\n",
      "x =  -571.00 y =  245.00  and z=  -824.00\n",
      "Received !!!\n",
      "x =  -574.00 y =  245.00  and z=  -824.00\n"
     ]
    },
    {
     "name": "stderr",
     "output_type": "stream",
     "text": [
      "143.248.53.23 - - [28/Feb/2023 19:35:51] \"GET /api/accelerometer?x=-573.00&y=245.00&z=-825.00 HTTP/1.1\" 200 -\n",
      "143.248.53.23 - - [28/Feb/2023 19:35:51] \"GET /api/accelerometer?x=-573.00&y=245.00&z=-824.00 HTTP/1.1\" 200 -\n"
     ]
    },
    {
     "name": "stdout",
     "output_type": "stream",
     "text": [
      "Received !!!\n",
      "x =  -573.00 y =  245.00  and z=  -825.00\n",
      "Received !!!\n",
      "x =  -573.00 y =  245.00  and z=  -824.00\n"
     ]
    },
    {
     "name": "stderr",
     "output_type": "stream",
     "text": [
      "143.248.53.23 - - [28/Feb/2023 19:35:52] \"GET /api/accelerometer?x=-572.00&y=245.00&z=-822.00 HTTP/1.1\" 200 -\n",
      "143.248.53.23 - - [28/Feb/2023 19:35:52] \"GET /api/accelerometer?x=-573.00&y=243.00&z=-824.00 HTTP/1.1\" 200 -\n"
     ]
    },
    {
     "name": "stdout",
     "output_type": "stream",
     "text": [
      "Received !!!\n",
      "x =  -572.00 y =  245.00  and z=  -822.00\n",
      "Received !!!\n",
      "x =  -573.00 y =  243.00  and z=  -824.00\n"
     ]
    },
    {
     "name": "stderr",
     "output_type": "stream",
     "text": [
      "143.248.53.23 - - [28/Feb/2023 19:35:52] \"GET /api/accelerometer?x=-574.00&y=243.00&z=-824.00 HTTP/1.1\" 200 -\n"
     ]
    },
    {
     "name": "stdout",
     "output_type": "stream",
     "text": [
      "Received !!!\n",
      "x =  -574.00 y =  243.00  and z=  -824.00\n"
     ]
    },
    {
     "name": "stderr",
     "output_type": "stream",
     "text": [
      "143.248.53.23 - - [28/Feb/2023 19:35:52] \"GET /api/accelerometer?x=-570.00&y=242.00&z=-825.00 HTTP/1.1\" 200 -\n",
      "143.248.53.23 - - [28/Feb/2023 19:35:52] \"GET /api/accelerometer?x=-572.00&y=243.00&z=-824.00 HTTP/1.1\" 200 -\n"
     ]
    },
    {
     "name": "stdout",
     "output_type": "stream",
     "text": [
      "Received !!!\n",
      "x =  -570.00 y =  242.00  and z=  -825.00\n",
      "Received !!!\n",
      "x =  -572.00 y =  243.00  and z=  -824.00\n"
     ]
    },
    {
     "name": "stderr",
     "output_type": "stream",
     "text": [
      "143.248.53.23 - - [28/Feb/2023 19:35:53] \"GET /api/accelerometer?x=-573.00&y=244.00&z=-825.00 HTTP/1.1\" 200 -\n",
      "143.248.53.23 - - [28/Feb/2023 19:35:53] \"GET /api/accelerometer?x=-571.00&y=244.00&z=-823.00 HTTP/1.1\" 200 -\n"
     ]
    },
    {
     "name": "stdout",
     "output_type": "stream",
     "text": [
      "Received !!!\n",
      "x =  -573.00 y =  244.00  and z=  -825.00\n",
      "Received !!!\n",
      "x =  -571.00 y =  244.00  and z=  -823.00\n"
     ]
    },
    {
     "name": "stderr",
     "output_type": "stream",
     "text": [
      "143.248.53.23 - - [28/Feb/2023 19:35:53] \"GET /api/accelerometer?x=-572.00&y=243.00&z=-823.00 HTTP/1.1\" 200 -\n",
      "143.248.53.23 - - [28/Feb/2023 19:35:53] \"GET /api/accelerometer?x=-572.00&y=244.00&z=-822.00 HTTP/1.1\" 200 -\n"
     ]
    },
    {
     "name": "stdout",
     "output_type": "stream",
     "text": [
      "Received !!!\n",
      "x =  -572.00 y =  243.00  and z=  -823.00\n",
      "Received !!!\n",
      "x =  -572.00 y =  244.00  and z=  -822.00\n"
     ]
    },
    {
     "name": "stderr",
     "output_type": "stream",
     "text": [
      "143.248.53.23 - - [28/Feb/2023 19:35:53] \"GET /api/accelerometer?x=-571.00&y=244.00&z=-825.00 HTTP/1.1\" 200 -\n"
     ]
    },
    {
     "name": "stdout",
     "output_type": "stream",
     "text": [
      "Received !!!\n",
      "x =  -571.00 y =  244.00  and z=  -825.00\n"
     ]
    },
    {
     "name": "stderr",
     "output_type": "stream",
     "text": [
      "143.248.53.23 - - [28/Feb/2023 19:35:54] \"GET /api/accelerometer?x=-572.00&y=245.00&z=-824.00 HTTP/1.1\" 200 -\n",
      "143.248.53.23 - - [28/Feb/2023 19:35:54] \"GET /api/accelerometer?x=-572.00&y=244.00&z=-825.00 HTTP/1.1\" 200 -\n"
     ]
    },
    {
     "name": "stdout",
     "output_type": "stream",
     "text": [
      "Received !!!\n",
      "x =  -572.00 y =  245.00  and z=  -824.00\n",
      "Received !!!\n",
      "x =  -572.00 y =  244.00  and z=  -825.00\n"
     ]
    },
    {
     "name": "stderr",
     "output_type": "stream",
     "text": [
      "143.248.53.23 - - [28/Feb/2023 19:35:54] \"GET /api/accelerometer?x=-573.00&y=244.00&z=-824.00 HTTP/1.1\" 200 -\n",
      "143.248.53.23 - - [28/Feb/2023 19:35:54] \"GET /api/accelerometer?x=-572.00&y=245.00&z=-823.00 HTTP/1.1\" 200 -\n"
     ]
    },
    {
     "name": "stdout",
     "output_type": "stream",
     "text": [
      "Received !!!\n",
      "x =  -573.00 y =  244.00  and z=  -824.00\n",
      "Received !!!\n",
      "x =  -572.00 y =  245.00  and z=  -823.00\n"
     ]
    },
    {
     "name": "stderr",
     "output_type": "stream",
     "text": [
      "143.248.53.23 - - [28/Feb/2023 19:35:54] \"GET /api/accelerometer?x=-572.00&y=244.00&z=-823.00 HTTP/1.1\" 200 -\n",
      "143.248.53.23 - - [28/Feb/2023 19:35:54] \"GET /api/accelerometer?x=-572.00&y=243.00&z=-823.00 HTTP/1.1\" 200 -\n"
     ]
    },
    {
     "name": "stdout",
     "output_type": "stream",
     "text": [
      "Received !!!\n",
      "x =  -572.00 y =  244.00  and z=  -823.00\n",
      "Received !!!\n",
      "x =  -572.00 y =  243.00  and z=  -823.00\n"
     ]
    },
    {
     "name": "stderr",
     "output_type": "stream",
     "text": [
      "143.248.53.23 - - [28/Feb/2023 19:35:55] \"GET /api/accelerometer?x=-573.00&y=245.00&z=-824.00 HTTP/1.1\" 200 -\n"
     ]
    },
    {
     "name": "stdout",
     "output_type": "stream",
     "text": [
      "Received !!!\n",
      "x =  -573.00 y =  245.00  and z=  -824.00\n"
     ]
    },
    {
     "name": "stderr",
     "output_type": "stream",
     "text": [
      "143.248.53.23 - - [28/Feb/2023 19:35:55] \"GET /api/accelerometer?x=-574.00&y=246.00&z=-826.00 HTTP/1.1\" 200 -\n",
      "143.248.53.23 - - [28/Feb/2023 19:35:55] \"GET /api/accelerometer?x=-571.00&y=243.00&z=-824.00 HTTP/1.1\" 200 -\n"
     ]
    },
    {
     "name": "stdout",
     "output_type": "stream",
     "text": [
      "Received !!!\n",
      "x =  -574.00 y =  246.00  and z=  -826.00\n",
      "Received !!!\n",
      "x =  -571.00 y =  243.00  and z=  -824.00\n"
     ]
    },
    {
     "name": "stderr",
     "output_type": "stream",
     "text": [
      "143.248.53.23 - - [28/Feb/2023 19:35:55] \"GET /api/accelerometer?x=-572.00&y=245.00&z=-823.00 HTTP/1.1\" 200 -\n",
      "143.248.53.23 - - [28/Feb/2023 19:35:55] \"GET /api/accelerometer?x=-571.00&y=244.00&z=-825.00 HTTP/1.1\" 200 -\n"
     ]
    },
    {
     "name": "stdout",
     "output_type": "stream",
     "text": [
      "Received !!!\n",
      "x =  -572.00 y =  245.00  and z=  -823.00\n",
      "Received !!!\n",
      "x =  -571.00 y =  244.00  and z=  -825.00\n"
     ]
    },
    {
     "name": "stderr",
     "output_type": "stream",
     "text": [
      "143.248.53.23 - - [28/Feb/2023 19:35:55] \"GET /api/accelerometer?x=-573.00&y=244.00&z=-823.00 HTTP/1.1\" 200 -\n",
      "143.248.53.23 - - [28/Feb/2023 19:35:56] \"GET /api/accelerometer?x=-573.00&y=243.00&z=-824.00 HTTP/1.1\" 200 -\n"
     ]
    },
    {
     "name": "stdout",
     "output_type": "stream",
     "text": [
      "Received !!!\n",
      "x =  -573.00 y =  244.00  and z=  -823.00\n",
      "Received !!!\n",
      "x =  -573.00 y =  243.00  and z=  -824.00\n"
     ]
    },
    {
     "name": "stderr",
     "output_type": "stream",
     "text": [
      "143.248.53.23 - - [28/Feb/2023 19:35:56] \"GET /api/accelerometer?x=-572.00&y=245.00&z=-824.00 HTTP/1.1\" 200 -\n",
      "143.248.53.23 - - [28/Feb/2023 19:35:56] \"GET /api/accelerometer?x=-572.00&y=243.00&z=-823.00 HTTP/1.1\" 200 -\n"
     ]
    },
    {
     "name": "stdout",
     "output_type": "stream",
     "text": [
      "Received !!!\n",
      "x =  -572.00 y =  245.00  and z=  -824.00\n",
      "Received !!!\n",
      "x =  -572.00 y =  243.00  and z=  -823.00\n"
     ]
    },
    {
     "name": "stderr",
     "output_type": "stream",
     "text": [
      "143.248.53.23 - - [28/Feb/2023 19:35:56] \"GET /api/accelerometer?x=-571.00&y=244.00&z=-824.00 HTTP/1.1\" 200 -\n"
     ]
    },
    {
     "name": "stdout",
     "output_type": "stream",
     "text": [
      "Received !!!\n",
      "x =  -571.00 y =  244.00  and z=  -824.00\n"
     ]
    },
    {
     "name": "stderr",
     "output_type": "stream",
     "text": [
      "143.248.53.23 - - [28/Feb/2023 19:35:56] \"GET /api/accelerometer?x=-572.00&y=244.00&z=-824.00 HTTP/1.1\" 200 -\n",
      "143.248.53.23 - - [28/Feb/2023 19:35:57] \"GET /api/accelerometer?x=-573.00&y=246.00&z=-823.00 HTTP/1.1\" 200 -\n"
     ]
    },
    {
     "name": "stdout",
     "output_type": "stream",
     "text": [
      "Received !!!\n",
      "x =  -572.00 y =  244.00  and z=  -824.00\n",
      "Received !!!\n",
      "x =  -573.00 y =  246.00  and z=  -823.00\n"
     ]
    },
    {
     "name": "stderr",
     "output_type": "stream",
     "text": [
      "143.248.53.23 - - [28/Feb/2023 19:35:57] \"GET /api/accelerometer?x=-574.00&y=245.00&z=-822.00 HTTP/1.1\" 200 -\n"
     ]
    },
    {
     "name": "stdout",
     "output_type": "stream",
     "text": [
      "Received !!!\n",
      "x =  -574.00 y =  245.00  and z=  -822.00\n",
      "Received !!!\n",
      "x =  -573.00 y =  245.00  and z=  -824.00\n"
     ]
    },
    {
     "name": "stderr",
     "output_type": "stream",
     "text": [
      "143.248.53.23 - - [28/Feb/2023 19:35:57] \"GET /api/accelerometer?x=-573.00&y=245.00&z=-824.00 HTTP/1.1\" 200 -\n",
      "143.248.53.23 - - [28/Feb/2023 19:35:57] \"GET /api/accelerometer?x=-573.00&y=245.00&z=-824.00 HTTP/1.1\" 200 -\n",
      "143.248.53.23 - - [28/Feb/2023 19:35:57] \"GET /api/accelerometer?x=-571.00&y=244.00&z=-824.00 HTTP/1.1\" 200 -\n"
     ]
    },
    {
     "name": "stdout",
     "output_type": "stream",
     "text": [
      "Received !!!\n",
      "x =  -573.00 y =  245.00  and z=  -824.00\n",
      "Received !!!\n",
      "x =  -571.00 y =  244.00  and z=  -824.00\n"
     ]
    },
    {
     "name": "stderr",
     "output_type": "stream",
     "text": [
      "143.248.53.23 - - [28/Feb/2023 19:35:58] \"GET /api/accelerometer?x=-571.00&y=246.00&z=-825.00 HTTP/1.1\" 200 -\n",
      "143.248.53.23 - - [28/Feb/2023 19:35:58] \"GET /api/accelerometer?x=-572.00&y=248.00&z=-825.00 HTTP/1.1\" 200 -\n"
     ]
    },
    {
     "name": "stdout",
     "output_type": "stream",
     "text": [
      "Received !!!\n",
      "x =  -571.00 y =  246.00  and z=  -825.00\n",
      "Received !!!\n",
      "x =  -572.00 y =  248.00  and z=  -825.00\n"
     ]
    },
    {
     "name": "stderr",
     "output_type": "stream",
     "text": [
      "143.248.53.23 - - [28/Feb/2023 19:35:58] \"GET /api/accelerometer?x=-572.00&y=245.00&z=-826.00 HTTP/1.1\" 200 -\n",
      "143.248.53.23 - - [28/Feb/2023 19:35:58] \"GET /api/accelerometer?x=-573.00&y=243.00&z=-824.00 HTTP/1.1\" 200 -\n"
     ]
    },
    {
     "name": "stdout",
     "output_type": "stream",
     "text": [
      "Received !!!\n",
      "x =  -572.00 y =  245.00  and z=  -826.00\n",
      "Received !!!\n",
      "x =  -573.00 y =  243.00  and z=  -824.00\n"
     ]
    },
    {
     "name": "stderr",
     "output_type": "stream",
     "text": [
      "143.248.53.23 - - [28/Feb/2023 19:35:58] \"GET /api/accelerometer?x=-575.00&y=245.00&z=-822.00 HTTP/1.1\" 200 -\n",
      "143.248.53.23 - - [28/Feb/2023 19:35:58] \"GET /api/accelerometer?x=-571.00&y=240.00&z=-823.00 HTTP/1.1\" 200 -\n"
     ]
    },
    {
     "name": "stdout",
     "output_type": "stream",
     "text": [
      "Received !!!\n",
      "x =  -575.00 y =  245.00  and z=  -822.00\n",
      "Received !!!\n",
      "x =  -571.00 y =  240.00  and z=  -823.00\n"
     ]
    },
    {
     "name": "stderr",
     "output_type": "stream",
     "text": [
      "143.248.53.23 - - [28/Feb/2023 19:35:59] \"GET /api/accelerometer?x=-572.00&y=244.00&z=-825.00 HTTP/1.1\" 200 -\n",
      "143.248.53.23 - - [28/Feb/2023 19:35:59] \"GET /api/accelerometer?x=-573.00&y=245.00&z=-824.00 HTTP/1.1\" 200 -\n"
     ]
    },
    {
     "name": "stdout",
     "output_type": "stream",
     "text": [
      "Received !!!\n",
      "x =  -572.00 y =  244.00  and z=  -825.00\n",
      "Received !!!\n",
      "x =  -573.00 y =  245.00  and z=  -824.00\n"
     ]
    },
    {
     "name": "stderr",
     "output_type": "stream",
     "text": [
      "143.248.53.23 - - [28/Feb/2023 19:35:59] \"GET /api/accelerometer?x=-573.00&y=243.00&z=-824.00 HTTP/1.1\" 200 -\n",
      "143.248.53.23 - - [28/Feb/2023 19:35:59] \"GET /api/accelerometer?x=-571.00&y=243.00&z=-827.00 HTTP/1.1\" 200 -\n"
     ]
    },
    {
     "name": "stdout",
     "output_type": "stream",
     "text": [
      "Received !!!\n",
      "x =  -573.00 y =  243.00  and z=  -824.00\n",
      "Received !!!\n",
      "x =  -571.00 y =  243.00  and z=  -827.00\n"
     ]
    },
    {
     "name": "stderr",
     "output_type": "stream",
     "text": [
      "143.248.53.23 - - [28/Feb/2023 19:35:59] \"GET /api/accelerometer?x=-571.00&y=242.00&z=-825.00 HTTP/1.1\" 200 -\n",
      "143.248.53.23 - - [28/Feb/2023 19:36:00] \"GET /api/accelerometer?x=-572.00&y=242.00&z=-819.00 HTTP/1.1\" 200 -\n"
     ]
    },
    {
     "name": "stdout",
     "output_type": "stream",
     "text": [
      "Received !!!\n",
      "x =  -571.00 y =  242.00  and z=  -825.00\n",
      "Received !!!\n",
      "x =  -572.00 y =  242.00  and z=  -819.00\n"
     ]
    },
    {
     "name": "stderr",
     "output_type": "stream",
     "text": [
      "143.248.53.23 - - [28/Feb/2023 19:36:00] \"GET /api/accelerometer?x=-569.00&y=245.00&z=-830.00 HTTP/1.1\" 200 -\n",
      "143.248.53.23 - - [28/Feb/2023 19:36:00] \"GET /api/accelerometer?x=-572.00&y=244.00&z=-823.00 HTTP/1.1\" 200 -\n"
     ]
    },
    {
     "name": "stdout",
     "output_type": "stream",
     "text": [
      "Received !!!\n",
      "x =  -569.00 y =  245.00  and z=  -830.00\n",
      "Received !!!\n",
      "x =  -572.00 y =  244.00  and z=  -823.00\n"
     ]
    },
    {
     "name": "stderr",
     "output_type": "stream",
     "text": [
      "143.248.53.23 - - [28/Feb/2023 19:36:00] \"GET /api/accelerometer?x=-571.00&y=246.00&z=-826.00 HTTP/1.1\" 200 -\n",
      "143.248.53.23 - - [28/Feb/2023 19:36:00] \"GET /api/accelerometer?x=-571.00&y=245.00&z=-825.00 HTTP/1.1\" 200 -\n"
     ]
    },
    {
     "name": "stdout",
     "output_type": "stream",
     "text": [
      "Received !!!\n",
      "x =  -571.00 y =  246.00  and z=  -826.00\n",
      "Received !!!\n",
      "x =  -571.00 y =  245.00  and z=  -825.00\n"
     ]
    },
    {
     "name": "stderr",
     "output_type": "stream",
     "text": [
      "143.248.53.23 - - [28/Feb/2023 19:36:00] \"GET /api/accelerometer?x=-572.00&y=246.00&z=-823.00 HTTP/1.1\" 200 -\n",
      "143.248.53.23 - - [28/Feb/2023 19:36:01] \"GET /api/accelerometer?x=-572.00&y=244.00&z=-825.00 HTTP/1.1\" 200 -\n"
     ]
    },
    {
     "name": "stdout",
     "output_type": "stream",
     "text": [
      "Received !!!\n",
      "x =  -572.00 y =  246.00  and z=  -823.00\n",
      "Received !!!\n",
      "x =  -572.00 y =  244.00  and z=  -825.00\n"
     ]
    },
    {
     "name": "stderr",
     "output_type": "stream",
     "text": [
      "143.248.53.23 - - [28/Feb/2023 19:36:01] \"GET /api/accelerometer?x=-571.00&y=245.00&z=-825.00 HTTP/1.1\" 200 -\n",
      "143.248.53.23 - - [28/Feb/2023 19:36:01] \"GET /api/accelerometer?x=-571.00&y=244.00&z=-825.00 HTTP/1.1\" 200 -\n"
     ]
    },
    {
     "name": "stdout",
     "output_type": "stream",
     "text": [
      "Received !!!\n",
      "x =  -571.00 y =  245.00  and z=  -825.00\n",
      "Received !!!\n",
      "x =  -571.00 y =  244.00  and z=  -825.00\n"
     ]
    },
    {
     "name": "stderr",
     "output_type": "stream",
     "text": [
      "143.248.53.23 - - [28/Feb/2023 19:36:01] \"GET /api/accelerometer?x=-571.00&y=243.00&z=-823.00 HTTP/1.1\" 200 -\n",
      "143.248.53.23 - - [28/Feb/2023 19:36:01] \"GET /api/accelerometer?x=-574.00&y=245.00&z=-823.00 HTTP/1.1\" 200 -\n"
     ]
    },
    {
     "name": "stdout",
     "output_type": "stream",
     "text": [
      "Received !!!\n",
      "x =  -571.00 y =  243.00  and z=  -823.00\n",
      "Received !!!\n",
      "x =  -574.00 y =  245.00  and z=  -823.00\n"
     ]
    },
    {
     "name": "stderr",
     "output_type": "stream",
     "text": [
      "143.248.53.23 - - [28/Feb/2023 19:36:01] \"GET /api/accelerometer?x=-572.00&y=244.00&z=-826.00 HTTP/1.1\" 200 -\n",
      "143.248.53.23 - - [28/Feb/2023 19:36:01] \"GET /api/accelerometer?x=-571.00&y=243.00&z=-823.00 HTTP/1.1\" 200 -\n"
     ]
    },
    {
     "name": "stdout",
     "output_type": "stream",
     "text": [
      "Received !!!\n",
      "x =  -572.00 y =  244.00  and z=  -826.00\n",
      "Received !!!\n",
      "x =  -571.00 y =  243.00  and z=  -823.00\n"
     ]
    },
    {
     "name": "stderr",
     "output_type": "stream",
     "text": [
      "143.248.53.23 - - [28/Feb/2023 19:36:02] \"GET /api/accelerometer?x=-572.00&y=244.00&z=-824.00 HTTP/1.1\" 200 -\n",
      "143.248.53.23 - - [28/Feb/2023 19:36:02] \"GET /api/accelerometer?x=-571.00&y=244.00&z=-824.00 HTTP/1.1\" 200 -\n"
     ]
    },
    {
     "name": "stdout",
     "output_type": "stream",
     "text": [
      "Received !!!\n",
      "x =  -572.00 y =  244.00  and z=  -824.00\n",
      "Received !!!\n",
      "x =  -571.00 y =  244.00  and z=  -824.00\n"
     ]
    },
    {
     "name": "stderr",
     "output_type": "stream",
     "text": [
      "143.248.53.23 - - [28/Feb/2023 19:36:02] \"GET /api/accelerometer?x=-572.00&y=243.00&z=-823.00 HTTP/1.1\" 200 -\n",
      "143.248.53.23 - - [28/Feb/2023 19:36:02] \"GET /api/accelerometer?x=-572.00&y=245.00&z=-824.00 HTTP/1.1\" 200 -\n"
     ]
    },
    {
     "name": "stdout",
     "output_type": "stream",
     "text": [
      "Received !!!\n",
      "x =  -572.00 y =  243.00  and z=  -823.00\n",
      "Received !!!\n",
      "x =  -572.00 y =  245.00  and z=  -824.00\n"
     ]
    },
    {
     "name": "stderr",
     "output_type": "stream",
     "text": [
      "143.248.53.23 - - [28/Feb/2023 19:36:02] \"GET /api/accelerometer?x=-571.00&y=245.00&z=-824.00 HTTP/1.1\" 200 -\n",
      "143.248.53.23 - - [28/Feb/2023 19:36:02] \"GET /api/accelerometer?x=-571.00&y=246.00&z=-826.00 HTTP/1.1\" 200 -\n"
     ]
    },
    {
     "name": "stdout",
     "output_type": "stream",
     "text": [
      "Received !!!\n",
      "x =  -571.00 y =  245.00  and z=  -824.00\n",
      "Received !!!\n",
      "x =  -571.00 y =  246.00  and z=  -826.00\n"
     ]
    },
    {
     "name": "stderr",
     "output_type": "stream",
     "text": [
      "143.248.53.23 - - [28/Feb/2023 19:36:03] \"GET /api/accelerometer?x=-572.00&y=247.00&z=-823.00 HTTP/1.1\" 200 -\n",
      "143.248.53.23 - - [28/Feb/2023 19:36:03] \"GET /api/accelerometer?x=-574.00&y=245.00&z=-823.00 HTTP/1.1\" 200 -\n"
     ]
    },
    {
     "name": "stdout",
     "output_type": "stream",
     "text": [
      "Received !!!\n",
      "x =  -572.00 y =  247.00  and z=  -823.00\n",
      "Received !!!\n",
      "x =  -574.00 y =  245.00  and z=  -823.00\n"
     ]
    },
    {
     "name": "stderr",
     "output_type": "stream",
     "text": [
      "143.248.53.23 - - [28/Feb/2023 19:36:03] \"GET /api/accelerometer?x=-572.00&y=246.00&z=-821.00 HTTP/1.1\" 200 -\n",
      "143.248.53.23 - - [28/Feb/2023 19:36:03] \"GET /api/accelerometer?x=-571.00&y=245.00&z=-826.00 HTTP/1.1\" 200 -\n"
     ]
    },
    {
     "name": "stdout",
     "output_type": "stream",
     "text": [
      "Received !!!\n",
      "x =  -572.00 y =  246.00  and z=  -821.00\n",
      "Received !!!\n",
      "x =  -571.00 y =  245.00  and z=  -826.00\n"
     ]
    },
    {
     "name": "stderr",
     "output_type": "stream",
     "text": [
      "143.248.53.23 - - [28/Feb/2023 19:36:03] \"GET /api/accelerometer?x=-573.00&y=244.00&z=-825.00 HTTP/1.1\" 200 -\n",
      "143.248.53.23 - - [28/Feb/2023 19:36:04] \"GET /api/accelerometer?x=-572.00&y=243.00&z=-823.00 HTTP/1.1\" 200 -\n"
     ]
    },
    {
     "name": "stdout",
     "output_type": "stream",
     "text": [
      "Received !!!\n",
      "x =  -573.00 y =  244.00  and z=  -825.00\n",
      "Received !!!\n",
      "x =  -572.00 y =  243.00  and z=  -823.00\n"
     ]
    },
    {
     "name": "stderr",
     "output_type": "stream",
     "text": [
      "143.248.53.23 - - [28/Feb/2023 19:36:04] \"GET /api/accelerometer?x=-571.00&y=243.00&z=-824.00 HTTP/1.1\" 200 -\n",
      "143.248.53.23 - - [28/Feb/2023 19:36:04] \"GET /api/accelerometer?x=-567.00&y=242.00&z=-830.00 HTTP/1.1\" 200 -\n"
     ]
    },
    {
     "name": "stdout",
     "output_type": "stream",
     "text": [
      "Received !!!\n",
      "x =  -571.00 y =  243.00  and z=  -824.00\n",
      "Received !!!\n",
      "x =  -567.00 y =  242.00  and z=  -830.00\n"
     ]
    },
    {
     "name": "stderr",
     "output_type": "stream",
     "text": [
      "143.248.53.23 - - [28/Feb/2023 19:36:04] \"GET /api/accelerometer?x=-572.00&y=243.00&z=-826.00 HTTP/1.1\" 200 -\n",
      "143.248.53.23 - - [28/Feb/2023 19:36:04] \"GET /api/accelerometer?x=-573.00&y=243.00&z=-824.00 HTTP/1.1\" 200 -\n"
     ]
    },
    {
     "name": "stdout",
     "output_type": "stream",
     "text": [
      "Received !!!\n",
      "x =  -572.00 y =  243.00  and z=  -826.00\n",
      "Received !!!\n",
      "x =  -573.00 y =  243.00  and z=  -824.00\n"
     ]
    },
    {
     "name": "stderr",
     "output_type": "stream",
     "text": [
      "143.248.53.23 - - [28/Feb/2023 19:36:04] \"GET /api/accelerometer?x=-572.00&y=243.00&z=-822.00 HTTP/1.1\" 200 -\n",
      "143.248.53.23 - - [28/Feb/2023 19:36:05] \"GET /api/accelerometer?x=-577.00&y=242.00&z=-819.00 HTTP/1.1\" 200 -\n"
     ]
    },
    {
     "name": "stdout",
     "output_type": "stream",
     "text": [
      "Received !!!\n",
      "x =  -572.00 y =  243.00  and z=  -822.00\n",
      "Received !!!\n",
      "x =  -577.00 y =  242.00  and z=  -819.00\n"
     ]
    },
    {
     "name": "stderr",
     "output_type": "stream",
     "text": [
      "143.248.53.23 - - [28/Feb/2023 19:36:05] \"GET /api/accelerometer?x=-574.00&y=243.00&z=-823.00 HTTP/1.1\" 200 -\n",
      "143.248.53.23 - - [28/Feb/2023 19:36:05] \"GET /api/accelerometer?x=-571.00&y=244.00&z=-825.00 HTTP/1.1\" 200 -\n"
     ]
    },
    {
     "name": "stdout",
     "output_type": "stream",
     "text": [
      "Received !!!\n",
      "x =  -574.00 y =  243.00  and z=  -823.00\n",
      "Received !!!\n",
      "x =  -571.00 y =  244.00  and z=  -825.00\n"
     ]
    },
    {
     "name": "stderr",
     "output_type": "stream",
     "text": [
      "143.248.53.23 - - [28/Feb/2023 19:36:05] \"GET /api/accelerometer?x=-575.00&y=248.00&z=-828.00 HTTP/1.1\" 200 -\n",
      "143.248.53.23 - - [28/Feb/2023 19:36:05] \"GET /api/accelerometer?x=-577.00&y=243.00&z=-821.00 HTTP/1.1\" 200 -\n"
     ]
    },
    {
     "name": "stdout",
     "output_type": "stream",
     "text": [
      "Received !!!\n",
      "x =  -575.00 y =  248.00  and z=  -828.00\n",
      "Received !!!\n",
      "x =  -577.00 y =  243.00  and z=  -821.00\n"
     ]
    },
    {
     "name": "stderr",
     "output_type": "stream",
     "text": [
      "143.248.53.23 - - [28/Feb/2023 19:36:05] \"GET /api/accelerometer?x=-569.00&y=245.00&z=-828.00 HTTP/1.1\" 200 -\n",
      "143.248.53.23 - - [28/Feb/2023 19:36:06] \"GET /api/accelerometer?x=-573.00&y=243.00&z=-826.00 HTTP/1.1\" 200 -\n"
     ]
    },
    {
     "name": "stdout",
     "output_type": "stream",
     "text": [
      "Received !!!\n",
      "x =  -569.00 y =  245.00  and z=  -828.00\n",
      "Received !!!\n",
      "x =  -573.00 y =  243.00  and z=  -826.00\n"
     ]
    },
    {
     "name": "stderr",
     "output_type": "stream",
     "text": [
      "143.248.53.23 - - [28/Feb/2023 19:36:06] \"GET /api/accelerometer?x=-572.00&y=243.00&z=-824.00 HTTP/1.1\" 200 -\n"
     ]
    },
    {
     "name": "stdout",
     "output_type": "stream",
     "text": [
      "Received !!!\n",
      "x =  -572.00 y =  243.00  and z=  -824.00\n"
     ]
    },
    {
     "name": "stderr",
     "output_type": "stream",
     "text": [
      "143.248.53.23 - - [28/Feb/2023 19:36:06] \"GET /api/accelerometer?x=-572.00&y=244.00&z=-824.00 HTTP/1.1\" 200 -\n"
     ]
    },
    {
     "name": "stdout",
     "output_type": "stream",
     "text": [
      "Received !!!\n",
      "x =  -572.00 y =  244.00  and z=  -824.00\n"
     ]
    },
    {
     "name": "stderr",
     "output_type": "stream",
     "text": [
      "143.248.53.23 - - [28/Feb/2023 19:36:06] \"GET /api/accelerometer?x=-572.00&y=243.00&z=-823.00 HTTP/1.1\" 200 -\n",
      "143.248.53.23 - - [28/Feb/2023 19:36:06] \"GET /api/accelerometer?x=-572.00&y=244.00&z=-826.00 HTTP/1.1\" 200 -\n"
     ]
    },
    {
     "name": "stdout",
     "output_type": "stream",
     "text": [
      "Received !!!\n",
      "x =  -572.00 y =  243.00  and z=  -823.00\n",
      "Received !!!\n",
      "x =  -572.00 y =  244.00  and z=  -826.00\n"
     ]
    },
    {
     "name": "stderr",
     "output_type": "stream",
     "text": [
      "143.248.53.23 - - [28/Feb/2023 19:36:07] \"GET /api/accelerometer?x=-570.00&y=245.00&z=-823.00 HTTP/1.1\" 200 -\n",
      "143.248.53.23 - - [28/Feb/2023 19:36:07] \"GET /api/accelerometer?x=-573.00&y=243.00&z=-824.00 HTTP/1.1\" 200 -\n"
     ]
    },
    {
     "name": "stdout",
     "output_type": "stream",
     "text": [
      "Received !!!\n",
      "x =  -570.00 y =  245.00  and z=  -823.00\n",
      "Received !!!\n",
      "x =  -573.00 y =  243.00  and z=  -824.00\n"
     ]
    },
    {
     "name": "stderr",
     "output_type": "stream",
     "text": [
      "143.248.53.23 - - [28/Feb/2023 19:36:07] \"GET /api/accelerometer?x=-573.00&y=244.00&z=-825.00 HTTP/1.1\" 200 -\n",
      "143.248.53.23 - - [28/Feb/2023 19:36:07] \"GET /api/accelerometer?x=-573.00&y=244.00&z=-824.00 HTTP/1.1\" 200 -\n"
     ]
    },
    {
     "name": "stdout",
     "output_type": "stream",
     "text": [
      "Received !!!\n",
      "x =  -573.00 y =  244.00  and z=  -825.00\n",
      "Received !!!\n",
      "x =  -573.00 y =  244.00  and z=  -824.00\n"
     ]
    },
    {
     "name": "stderr",
     "output_type": "stream",
     "text": [
      "143.248.53.23 - - [28/Feb/2023 19:36:07] \"GET /api/accelerometer?x=-573.00&y=243.00&z=-824.00 HTTP/1.1\" 200 -\n",
      "143.248.53.23 - - [28/Feb/2023 19:36:07] \"GET /api/accelerometer?x=-573.00&y=244.00&z=-824.00 HTTP/1.1\" 200 -\n"
     ]
    },
    {
     "name": "stdout",
     "output_type": "stream",
     "text": [
      "Received !!!\n",
      "x =  -573.00 y =  243.00  and z=  -824.00\n",
      "Received !!!\n",
      "x =  -573.00 y =  244.00  and z=  -824.00\n"
     ]
    },
    {
     "name": "stderr",
     "output_type": "stream",
     "text": [
      "143.248.53.23 - - [28/Feb/2023 19:36:08] \"GET /api/accelerometer?x=-571.00&y=243.00&z=-824.00 HTTP/1.1\" 200 -\n",
      "143.248.53.23 - - [28/Feb/2023 19:36:08] \"GET /api/accelerometer?x=-572.00&y=245.00&z=-823.00 HTTP/1.1\" 200 -\n"
     ]
    },
    {
     "name": "stdout",
     "output_type": "stream",
     "text": [
      "Received !!!\n",
      "x =  -571.00 y =  243.00  and z=  -824.00\n",
      "Received !!!\n",
      "x =  -572.00 y =  245.00  and z=  -823.00\n"
     ]
    },
    {
     "name": "stderr",
     "output_type": "stream",
     "text": [
      "143.248.53.23 - - [28/Feb/2023 19:36:08] \"GET /api/accelerometer?x=-572.00&y=246.00&z=-824.00 HTTP/1.1\" 200 -\n",
      "143.248.53.23 - - [28/Feb/2023 19:36:08] \"GET /api/accelerometer?x=-573.00&y=244.00&z=-823.00 HTTP/1.1\" 200 -\n"
     ]
    },
    {
     "name": "stdout",
     "output_type": "stream",
     "text": [
      "Received !!!\n",
      "x =  -572.00 y =  246.00  and z=  -824.00\n",
      "Received !!!\n",
      "x =  -573.00 y =  244.00  and z=  -823.00\n"
     ]
    },
    {
     "name": "stderr",
     "output_type": "stream",
     "text": [
      "143.248.53.23 - - [28/Feb/2023 19:36:08] \"GET /api/accelerometer?x=-573.00&y=244.00&z=-824.00 HTTP/1.1\" 200 -\n",
      "143.248.53.23 - - [28/Feb/2023 19:36:09] \"GET /api/accelerometer?x=-573.00&y=245.00&z=-825.00 HTTP/1.1\" 200 -\n"
     ]
    },
    {
     "name": "stdout",
     "output_type": "stream",
     "text": [
      "Received !!!\n",
      "x =  -573.00 y =  244.00  and z=  -824.00\n",
      "Received !!!\n",
      "x =  -573.00 y =  245.00  and z=  -825.00\n"
     ]
    },
    {
     "name": "stderr",
     "output_type": "stream",
     "text": [
      "143.248.53.23 - - [28/Feb/2023 19:36:09] \"GET /api/accelerometer?x=-573.00&y=243.00&z=-824.00 HTTP/1.1\" 200 -\n",
      "143.248.53.23 - - [28/Feb/2023 19:36:09] \"GET /api/accelerometer?x=-573.00&y=243.00&z=-824.00 HTTP/1.1\" 200 -\n"
     ]
    },
    {
     "name": "stdout",
     "output_type": "stream",
     "text": [
      "Received !!!\n",
      "x =  -573.00 y =  243.00  and z=  -824.00\n",
      "Received !!!\n",
      "x =  -573.00 y =  243.00  and z=  -824.00\n"
     ]
    },
    {
     "name": "stderr",
     "output_type": "stream",
     "text": [
      "143.248.53.23 - - [28/Feb/2023 19:36:09] \"GET /api/accelerometer?x=-572.00&y=245.00&z=-824.00 HTTP/1.1\" 200 -\n"
     ]
    },
    {
     "name": "stdout",
     "output_type": "stream",
     "text": [
      "Received !!!\n",
      "x =  -572.00 y =  245.00  and z=  -824.00\n"
     ]
    },
    {
     "name": "stderr",
     "output_type": "stream",
     "text": [
      "143.248.53.23 - - [28/Feb/2023 19:36:09] \"GET /api/accelerometer?x=-572.00&y=243.00&z=-824.00 HTTP/1.1\" 200 -\n",
      "143.248.53.23 - - [28/Feb/2023 19:36:10] \"GET /api/accelerometer?x=-571.00&y=243.00&z=-823.00 HTTP/1.1\" 200 -\n"
     ]
    },
    {
     "name": "stdout",
     "output_type": "stream",
     "text": [
      "Received !!!\n",
      "x =  -572.00 y =  243.00  and z=  -824.00\n",
      "Received !!!\n",
      "x =  -571.00 y =  243.00  and z=  -823.00\n"
     ]
    },
    {
     "name": "stderr",
     "output_type": "stream",
     "text": [
      "143.248.53.23 - - [28/Feb/2023 19:36:10] \"GET /api/accelerometer?x=-573.00&y=244.00&z=-825.00 HTTP/1.1\" 200 -\n",
      "143.248.53.23 - - [28/Feb/2023 19:36:10] \"GET /api/accelerometer?x=-570.00&y=251.00&z=-819.00 HTTP/1.1\" 200 -\n"
     ]
    },
    {
     "name": "stdout",
     "output_type": "stream",
     "text": [
      "Received !!!\n",
      "x =  -573.00 y =  244.00  and z=  -825.00\n",
      "Received !!!\n",
      "x =  -570.00 y =  251.00  and z=  -819.00\n"
     ]
    },
    {
     "name": "stderr",
     "output_type": "stream",
     "text": [
      "143.248.53.23 - - [28/Feb/2023 19:36:10] \"GET /api/accelerometer?x=-579.00&y=243.00&z=-816.00 HTTP/1.1\" 200 -\n"
     ]
    },
    {
     "name": "stdout",
     "output_type": "stream",
     "text": [
      "Received !!!\n",
      "x =  -579.00 y =  243.00  and z=  -816.00\n"
     ]
    },
    {
     "name": "stderr",
     "output_type": "stream",
     "text": [
      "143.248.53.23 - - [28/Feb/2023 19:36:10] \"GET /api/accelerometer?x=-571.00&y=244.00&z=-826.00 HTTP/1.1\" 200 -\n",
      "143.248.53.23 - - [28/Feb/2023 19:36:11] \"GET /api/accelerometer?x=-571.00&y=244.00&z=-826.00 HTTP/1.1\" 200 -\n"
     ]
    },
    {
     "name": "stdout",
     "output_type": "stream",
     "text": [
      "Received !!!\n",
      "x =  -571.00 y =  244.00  and z=  -826.00\n",
      "Received !!!\n",
      "x =  -571.00 y =  244.00  and z=  -826.00\n"
     ]
    },
    {
     "name": "stderr",
     "output_type": "stream",
     "text": [
      "143.248.53.23 - - [28/Feb/2023 19:36:11] \"GET /api/accelerometer?x=-571.00&y=243.00&z=-825.00 HTTP/1.1\" 200 -\n",
      "143.248.53.23 - - [28/Feb/2023 19:36:11] \"GET /api/accelerometer?x=-573.00&y=245.00&z=-823.00 HTTP/1.1\" 200 -\n"
     ]
    },
    {
     "name": "stdout",
     "output_type": "stream",
     "text": [
      "Received !!!\n",
      "x =  -571.00 y =  243.00  and z=  -825.00\n",
      "Received !!!\n",
      "x =  -573.00 y =  245.00  and z=  -823.00\n"
     ]
    },
    {
     "name": "stderr",
     "output_type": "stream",
     "text": [
      "143.248.53.23 - - [28/Feb/2023 19:36:11] \"GET /api/accelerometer?x=-572.00&y=243.00&z=-824.00 HTTP/1.1\" 200 -\n",
      "143.248.53.23 - - [28/Feb/2023 19:36:11] \"GET /api/accelerometer?x=-573.00&y=245.00&z=-824.00 HTTP/1.1\" 200 -\n"
     ]
    },
    {
     "name": "stdout",
     "output_type": "stream",
     "text": [
      "Received !!!\n",
      "x =  -572.00 y =  243.00  and z=  -824.00\n",
      "Received !!!\n",
      "x =  -573.00 y =  245.00  and z=  -824.00\n"
     ]
    },
    {
     "name": "stderr",
     "output_type": "stream",
     "text": [
      "143.248.53.23 - - [28/Feb/2023 19:36:12] \"GET /api/accelerometer?x=-572.00&y=243.00&z=-824.00 HTTP/1.1\" 200 -\n",
      "143.248.53.23 - - [28/Feb/2023 19:36:12] \"GET /api/accelerometer?x=-572.00&y=245.00&z=-825.00 HTTP/1.1\" 200 -\n"
     ]
    },
    {
     "name": "stdout",
     "output_type": "stream",
     "text": [
      "Received !!!\n",
      "x =  -572.00 y =  243.00  and z=  -824.00\n",
      "Received !!!\n",
      "x =  -572.00 y =  245.00  and z=  -825.00\n"
     ]
    },
    {
     "name": "stderr",
     "output_type": "stream",
     "text": [
      "143.248.53.23 - - [28/Feb/2023 19:36:12] \"GET /api/accelerometer?x=-573.00&y=243.00&z=-824.00 HTTP/1.1\" 200 -\n",
      "143.248.53.23 - - [28/Feb/2023 19:36:12] \"GET /api/accelerometer?x=-571.00&y=243.00&z=-825.00 HTTP/1.1\" 200 -\n"
     ]
    },
    {
     "name": "stdout",
     "output_type": "stream",
     "text": [
      "Received !!!\n",
      "x =  -573.00 y =  243.00  and z=  -824.00\n",
      "Received !!!\n",
      "x =  -571.00 y =  243.00  and z=  -825.00\n"
     ]
    },
    {
     "name": "stderr",
     "output_type": "stream",
     "text": [
      "143.248.53.23 - - [28/Feb/2023 19:36:12] \"GET /api/accelerometer?x=-574.00&y=243.00&z=-823.00 HTTP/1.1\" 200 -\n",
      "143.248.53.23 - - [28/Feb/2023 19:36:12] \"GET /api/accelerometer?x=-573.00&y=245.00&z=-825.00 HTTP/1.1\" 200 -\n"
     ]
    },
    {
     "name": "stdout",
     "output_type": "stream",
     "text": [
      "Received !!!\n",
      "x =  -574.00 y =  243.00  and z=  -823.00\n",
      "Received !!!\n",
      "x =  -573.00 y =  245.00  and z=  -825.00\n"
     ]
    },
    {
     "name": "stderr",
     "output_type": "stream",
     "text": [
      "143.248.53.23 - - [28/Feb/2023 19:36:12] \"GET /api/accelerometer?x=-575.00&y=244.00&z=-824.00 HTTP/1.1\" 200 -\n",
      "143.248.53.23 - - [28/Feb/2023 19:36:13] \"GET /api/accelerometer?x=-572.00&y=246.00&z=-824.00 HTTP/1.1\" 200 -\n"
     ]
    },
    {
     "name": "stdout",
     "output_type": "stream",
     "text": [
      "Received !!!\n",
      "x =  -575.00 y =  244.00  and z=  -824.00\n",
      "Received !!!\n",
      "x =  -572.00 y =  246.00  and z=  -824.00\n"
     ]
    },
    {
     "name": "stderr",
     "output_type": "stream",
     "text": [
      "143.248.53.23 - - [28/Feb/2023 19:36:13] \"GET /api/accelerometer?x=-573.00&y=244.00&z=-825.00 HTTP/1.1\" 200 -\n",
      "143.248.53.23 - - [28/Feb/2023 19:36:13] \"GET /api/accelerometer?x=-571.00&y=242.00&z=-824.00 HTTP/1.1\" 200 -\n"
     ]
    },
    {
     "name": "stdout",
     "output_type": "stream",
     "text": [
      "Received !!!\n",
      "x =  -573.00 y =  244.00  and z=  -825.00\n",
      "Received !!!\n",
      "x =  -571.00 y =  242.00  and z=  -824.00\n"
     ]
    },
    {
     "name": "stderr",
     "output_type": "stream",
     "text": [
      "143.248.53.23 - - [28/Feb/2023 19:36:13] \"GET /api/accelerometer?x=-573.00&y=243.00&z=-823.00 HTTP/1.1\" 200 -\n",
      "143.248.53.23 - - [28/Feb/2023 19:36:13] \"GET /api/accelerometer?x=-573.00&y=243.00&z=-825.00 HTTP/1.1\" 200 -\n"
     ]
    },
    {
     "name": "stdout",
     "output_type": "stream",
     "text": [
      "Received !!!\n",
      "x =  -573.00 y =  243.00  and z=  -823.00\n",
      "Received !!!\n",
      "x =  -573.00 y =  243.00  and z=  -825.00\n"
     ]
    },
    {
     "name": "stderr",
     "output_type": "stream",
     "text": [
      "143.248.53.23 - - [28/Feb/2023 19:36:14] \"GET /api/accelerometer?x=-571.00&y=244.00&z=-823.00 HTTP/1.1\" 200 -\n",
      "143.248.53.23 - - [28/Feb/2023 19:36:14] \"GET /api/accelerometer?x=-572.00&y=241.00&z=-823.00 HTTP/1.1\" 200 -\n"
     ]
    },
    {
     "name": "stdout",
     "output_type": "stream",
     "text": [
      "Received !!!\n",
      "x =  -571.00 y =  244.00  and z=  -823.00\n",
      "Received !!!\n",
      "x =  -572.00 y =  241.00  and z=  -823.00\n"
     ]
    },
    {
     "name": "stderr",
     "output_type": "stream",
     "text": [
      "143.248.53.23 - - [28/Feb/2023 19:36:14] \"GET /api/accelerometer?x=-575.00&y=243.00&z=-823.00 HTTP/1.1\" 200 -\n",
      "143.248.53.23 - - [28/Feb/2023 19:36:14] \"GET /api/accelerometer?x=-571.00&y=245.00&z=-824.00 HTTP/1.1\" 200 -\n"
     ]
    },
    {
     "name": "stdout",
     "output_type": "stream",
     "text": [
      "Received !!!\n",
      "x =  -575.00 y =  243.00  and z=  -823.00\n",
      "Received !!!\n",
      "x =  -571.00 y =  245.00  and z=  -824.00\n"
     ]
    },
    {
     "name": "stderr",
     "output_type": "stream",
     "text": [
      "143.248.53.23 - - [28/Feb/2023 19:36:14] \"GET /api/accelerometer?x=-571.00&y=243.00&z=-823.00 HTTP/1.1\" 200 -\n",
      "143.248.53.23 - - [28/Feb/2023 19:36:14] \"GET /api/accelerometer?x=-572.00&y=244.00&z=-824.00 HTTP/1.1\" 200 -\n"
     ]
    },
    {
     "name": "stdout",
     "output_type": "stream",
     "text": [
      "Received !!!\n",
      "x =  -571.00 y =  243.00  and z=  -823.00\n",
      "Received !!!\n",
      "x =  -572.00 y =  244.00  and z=  -824.00\n"
     ]
    },
    {
     "name": "stderr",
     "output_type": "stream",
     "text": [
      "143.248.53.23 - - [28/Feb/2023 19:36:15] \"GET /api/accelerometer?x=-573.00&y=244.00&z=-825.00 HTTP/1.1\" 200 -\n"
     ]
    },
    {
     "name": "stdout",
     "output_type": "stream",
     "text": [
      "Received !!!\n",
      "x =  -573.00 y =  244.00  and z=  -825.00\n"
     ]
    },
    {
     "name": "stderr",
     "output_type": "stream",
     "text": [
      "143.248.53.23 - - [28/Feb/2023 19:36:15] \"GET /api/accelerometer?x=-572.00&y=244.00&z=-825.00 HTTP/1.1\" 200 -\n"
     ]
    },
    {
     "name": "stdout",
     "output_type": "stream",
     "text": [
      "Received !!!\n",
      "x =  -572.00 y =  244.00  and z=  -825.00\n"
     ]
    },
    {
     "name": "stderr",
     "output_type": "stream",
     "text": [
      "143.248.53.23 - - [28/Feb/2023 19:36:15] \"GET /api/accelerometer?x=-572.00&y=244.00&z=-824.00 HTTP/1.1\" 200 -\n",
      "143.248.53.23 - - [28/Feb/2023 19:36:15] \"GET /api/accelerometer?x=-573.00&y=244.00&z=-824.00 HTTP/1.1\" 200 -\n"
     ]
    },
    {
     "name": "stdout",
     "output_type": "stream",
     "text": [
      "Received !!!\n",
      "x =  -572.00 y =  244.00  and z=  -824.00\n",
      "Received !!!\n",
      "x =  -573.00 y =  244.00  and z=  -824.00\n"
     ]
    },
    {
     "name": "stderr",
     "output_type": "stream",
     "text": [
      "143.248.53.23 - - [28/Feb/2023 19:36:15] \"GET /api/accelerometer?x=-573.00&y=242.00&z=-823.00 HTTP/1.1\" 200 -\n",
      "143.248.53.23 - - [28/Feb/2023 19:36:16] \"GET /api/accelerometer?x=-573.00&y=243.00&z=-824.00 HTTP/1.1\" 200 -\n"
     ]
    },
    {
     "name": "stdout",
     "output_type": "stream",
     "text": [
      "Received !!!\n",
      "x =  -573.00 y =  242.00  and z=  -823.00\n",
      "Received !!!\n",
      "x =  -573.00 y =  243.00  and z=  -824.00\n"
     ]
    },
    {
     "name": "stderr",
     "output_type": "stream",
     "text": [
      "143.248.53.23 - - [28/Feb/2023 19:36:16] \"GET /api/accelerometer?x=-571.00&y=245.00&z=-824.00 HTTP/1.1\" 200 -\n",
      "143.248.53.23 - - [28/Feb/2023 19:36:16] \"GET /api/accelerometer?x=-571.00&y=243.00&z=-824.00 HTTP/1.1\" 200 -\n"
     ]
    },
    {
     "name": "stdout",
     "output_type": "stream",
     "text": [
      "Received !!!\n",
      "x =  -571.00 y =  245.00  and z=  -824.00\n",
      "Received !!!\n",
      "x =  -571.00 y =  243.00  and z=  -824.00\n"
     ]
    },
    {
     "name": "stderr",
     "output_type": "stream",
     "text": [
      "143.248.53.23 - - [28/Feb/2023 19:36:16] \"GET /api/accelerometer?x=-571.00&y=242.00&z=-825.00 HTTP/1.1\" 200 -\n"
     ]
    },
    {
     "name": "stdout",
     "output_type": "stream",
     "text": [
      "Received !!!\n",
      "x =  -571.00 y =  242.00  and z=  -825.00\n"
     ]
    },
    {
     "name": "stderr",
     "output_type": "stream",
     "text": [
      "143.248.53.23 - - [28/Feb/2023 19:36:16] \"GET /api/accelerometer?x=-572.00&y=244.00&z=-824.00 HTTP/1.1\" 200 -\n",
      "143.248.53.23 - - [28/Feb/2023 19:36:16] \"GET /api/accelerometer?x=-572.00&y=243.00&z=-823.00 HTTP/1.1\" 200 -\n"
     ]
    },
    {
     "name": "stdout",
     "output_type": "stream",
     "text": [
      "Received !!!\n",
      "x =  -572.00 y =  244.00  and z=  -824.00\n",
      "Received !!!\n",
      "x =  -572.00 y =  243.00  and z=  -823.00\n"
     ]
    },
    {
     "name": "stderr",
     "output_type": "stream",
     "text": [
      "143.248.53.23 - - [28/Feb/2023 19:36:17] \"GET /api/accelerometer?x=-571.00&y=246.00&z=-824.00 HTTP/1.1\" 200 -\n",
      "143.248.53.23 - - [28/Feb/2023 19:36:17] \"GET /api/accelerometer?x=-572.00&y=244.00&z=-824.00 HTTP/1.1\" 200 -\n"
     ]
    },
    {
     "name": "stdout",
     "output_type": "stream",
     "text": [
      "Received !!!\n",
      "x =  -571.00 y =  246.00  and z=  -824.00\n",
      "Received !!!\n",
      "x =  -572.00 y =  244.00  and z=  -824.00\n"
     ]
    },
    {
     "name": "stderr",
     "output_type": "stream",
     "text": [
      "143.248.53.23 - - [28/Feb/2023 19:36:17] \"GET /api/accelerometer?x=-572.00&y=244.00&z=-825.00 HTTP/1.1\" 200 -\n",
      "143.248.53.23 - - [28/Feb/2023 19:36:17] \"GET /api/accelerometer?x=-571.00&y=243.00&z=-824.00 HTTP/1.1\" 200 -\n"
     ]
    },
    {
     "name": "stdout",
     "output_type": "stream",
     "text": [
      "Received !!!\n",
      "x =  -572.00 y =  244.00  and z=  -825.00\n",
      "Received !!!\n",
      "x =  -571.00 y =  243.00  and z=  -824.00\n"
     ]
    },
    {
     "name": "stderr",
     "output_type": "stream",
     "text": [
      "143.248.53.23 - - [28/Feb/2023 19:36:17] \"GET /api/accelerometer?x=-571.00&y=245.00&z=-822.00 HTTP/1.1\" 200 -\n",
      "143.248.53.23 - - [28/Feb/2023 19:36:18] \"GET /api/accelerometer?x=-573.00&y=244.00&z=-823.00 HTTP/1.1\" 200 -\n"
     ]
    },
    {
     "name": "stdout",
     "output_type": "stream",
     "text": [
      "Received !!!\n",
      "x =  -571.00 y =  245.00  and z=  -822.00\n",
      "Received !!!\n",
      "x =  -573.00 y =  244.00  and z=  -823.00\n"
     ]
    },
    {
     "name": "stderr",
     "output_type": "stream",
     "text": [
      "143.248.53.23 - - [28/Feb/2023 19:36:18] \"GET /api/accelerometer?x=-573.00&y=244.00&z=-825.00 HTTP/1.1\" 200 -\n",
      "143.248.53.23 - - [28/Feb/2023 19:36:18] \"GET /api/accelerometer?x=-571.00&y=245.00&z=-825.00 HTTP/1.1\" 200 -\n"
     ]
    },
    {
     "name": "stdout",
     "output_type": "stream",
     "text": [
      "Received !!!\n",
      "x =  -573.00 y =  244.00  and z=  -825.00\n",
      "Received !!!\n",
      "x =  -571.00 y =  245.00  and z=  -825.00\n"
     ]
    },
    {
     "name": "stderr",
     "output_type": "stream",
     "text": [
      "143.248.53.23 - - [28/Feb/2023 19:36:18] \"GET /api/accelerometer?x=-572.00&y=244.00&z=-824.00 HTTP/1.1\" 200 -\n",
      "143.248.53.23 - - [28/Feb/2023 19:36:18] \"GET /api/accelerometer?x=-572.00&y=246.00&z=-823.00 HTTP/1.1\" 200 -\n"
     ]
    },
    {
     "name": "stdout",
     "output_type": "stream",
     "text": [
      "Received !!!\n",
      "x =  -572.00 y =  244.00  and z=  -824.00\n",
      "Received !!!\n",
      "x =  -572.00 y =  246.00  and z=  -823.00\n"
     ]
    },
    {
     "name": "stderr",
     "output_type": "stream",
     "text": [
      "143.248.53.23 - - [28/Feb/2023 19:36:18] \"GET /api/accelerometer?x=-571.00&y=245.00&z=-823.00 HTTP/1.1\" 200 -\n",
      "143.248.53.23 - - [28/Feb/2023 19:36:19] \"GET /api/accelerometer?x=-573.00&y=243.00&z=-823.00 HTTP/1.1\" 200 -\n"
     ]
    },
    {
     "name": "stdout",
     "output_type": "stream",
     "text": [
      "Received !!!\n",
      "x =  -571.00 y =  245.00  and z=  -823.00\n",
      "Received !!!\n",
      "x =  -573.00 y =  243.00  and z=  -823.00\n"
     ]
    },
    {
     "name": "stderr",
     "output_type": "stream",
     "text": [
      "143.248.53.23 - - [28/Feb/2023 19:36:19] \"GET /api/accelerometer?x=-571.00&y=243.00&z=-825.00 HTTP/1.1\" 200 -\n",
      "143.248.53.23 - - [28/Feb/2023 19:36:19] \"GET /api/accelerometer?x=-570.00&y=245.00&z=-826.00 HTTP/1.1\" 200 -\n"
     ]
    },
    {
     "name": "stdout",
     "output_type": "stream",
     "text": [
      "Received !!!\n",
      "x =  -571.00 y =  243.00  and z=  -825.00\n",
      "Received !!!\n",
      "x =  -570.00 y =  245.00  and z=  -826.00\n"
     ]
    },
    {
     "name": "stderr",
     "output_type": "stream",
     "text": [
      "143.248.53.23 - - [28/Feb/2023 19:36:19] \"GET /api/accelerometer?x=-572.00&y=243.00&z=-824.00 HTTP/1.1\" 200 -\n",
      "143.248.53.23 - - [28/Feb/2023 19:36:19] \"GET /api/accelerometer?x=-573.00&y=244.00&z=-824.00 HTTP/1.1\" 200 -\n"
     ]
    },
    {
     "name": "stdout",
     "output_type": "stream",
     "text": [
      "Received !!!\n",
      "x =  -572.00 y =  243.00  and z=  -824.00\n",
      "Received !!!\n",
      "x =  -573.00 y =  244.00  and z=  -824.00\n"
     ]
    },
    {
     "name": "stderr",
     "output_type": "stream",
     "text": [
      "143.248.53.23 - - [28/Feb/2023 19:36:20] \"GET /api/accelerometer?x=-572.00&y=244.00&z=-824.00 HTTP/1.1\" 200 -\n",
      "143.248.53.23 - - [28/Feb/2023 19:36:20] \"GET /api/accelerometer?x=-571.00&y=245.00&z=-824.00 HTTP/1.1\" 200 -\n"
     ]
    },
    {
     "name": "stdout",
     "output_type": "stream",
     "text": [
      "Received !!!\n",
      "x =  -572.00 y =  244.00  and z=  -824.00\n",
      "Received !!!\n",
      "x =  -571.00 y =  245.00  and z=  -824.00\n"
     ]
    },
    {
     "name": "stderr",
     "output_type": "stream",
     "text": [
      "143.248.53.23 - - [28/Feb/2023 19:36:20] \"GET /api/accelerometer?x=-571.00&y=247.00&z=-825.00 HTTP/1.1\" 200 -\n",
      "143.248.53.23 - - [28/Feb/2023 19:36:20] \"GET /api/accelerometer?x=-572.00&y=243.00&z=-824.00 HTTP/1.1\" 200 -\n"
     ]
    },
    {
     "name": "stdout",
     "output_type": "stream",
     "text": [
      "Received !!!\n",
      "x =  -571.00 y =  247.00  and z=  -825.00\n",
      "Received !!!\n",
      "x =  -572.00 y =  243.00  and z=  -824.00\n"
     ]
    },
    {
     "name": "stderr",
     "output_type": "stream",
     "text": [
      "143.248.53.23 - - [28/Feb/2023 19:36:20] \"GET /api/accelerometer?x=-573.00&y=245.00&z=-824.00 HTTP/1.1\" 200 -\n",
      "143.248.53.23 - - [28/Feb/2023 19:36:20] \"GET /api/accelerometer?x=-570.00&y=243.00&z=-823.00 HTTP/1.1\" 200 -\n"
     ]
    },
    {
     "name": "stdout",
     "output_type": "stream",
     "text": [
      "Received !!!\n",
      "x =  -573.00 y =  245.00  and z=  -824.00\n",
      "Received !!!\n",
      "x =  -570.00 y =  243.00  and z=  -823.00\n"
     ]
    },
    {
     "name": "stderr",
     "output_type": "stream",
     "text": [
      "143.248.53.23 - - [28/Feb/2023 19:36:21] \"GET /api/accelerometer?x=-571.00&y=243.00&z=-824.00 HTTP/1.1\" 200 -\n"
     ]
    },
    {
     "name": "stdout",
     "output_type": "stream",
     "text": [
      "Received !!!\n",
      "x =  -571.00 y =  243.00  and z=  -824.00\n"
     ]
    },
    {
     "name": "stderr",
     "output_type": "stream",
     "text": [
      "143.248.53.23 - - [28/Feb/2023 19:36:21] \"GET /api/accelerometer?x=-572.00&y=242.00&z=-824.00 HTTP/1.1\" 200 -\n"
     ]
    },
    {
     "name": "stdout",
     "output_type": "stream",
     "text": [
      "Received !!!\n",
      "x =  -572.00 y =  242.00  and z=  -824.00\n"
     ]
    },
    {
     "name": "stderr",
     "output_type": "stream",
     "text": [
      "143.248.53.23 - - [28/Feb/2023 19:36:21] \"GET /api/accelerometer?x=-572.00&y=245.00&z=-824.00 HTTP/1.1\" 200 -\n"
     ]
    },
    {
     "name": "stdout",
     "output_type": "stream",
     "text": [
      "Received !!!\n",
      "x =  -572.00 y =  245.00  and z=  -824.00\n"
     ]
    },
    {
     "name": "stderr",
     "output_type": "stream",
     "text": [
      "143.248.53.23 - - [28/Feb/2023 19:36:21] \"GET /api/accelerometer?x=-573.00&y=244.00&z=-824.00 HTTP/1.1\" 200 -\n",
      "143.248.53.23 - - [28/Feb/2023 19:36:21] \"GET /api/accelerometer?x=-573.00&y=243.00&z=-825.00 HTTP/1.1\" 200 -\n"
     ]
    },
    {
     "name": "stdout",
     "output_type": "stream",
     "text": [
      "Received !!!\n",
      "x =  -573.00 y =  244.00  and z=  -824.00\n",
      "Received !!!\n",
      "x =  -573.00 y =  243.00  and z=  -825.00\n"
     ]
    },
    {
     "name": "stderr",
     "output_type": "stream",
     "text": [
      "143.248.53.23 - - [28/Feb/2023 19:36:22] \"GET /api/accelerometer?x=-572.00&y=243.00&z=-824.00 HTTP/1.1\" 200 -\n",
      "143.248.53.23 - - [28/Feb/2023 19:36:22] \"GET /api/accelerometer?x=-572.00&y=245.00&z=-824.00 HTTP/1.1\" 200 -\n"
     ]
    },
    {
     "name": "stdout",
     "output_type": "stream",
     "text": [
      "Received !!!\n",
      "x =  -572.00 y =  243.00  and z=  -824.00\n",
      "Received !!!\n",
      "x =  -572.00 y =  245.00  and z=  -824.00\n"
     ]
    },
    {
     "name": "stderr",
     "output_type": "stream",
     "text": [
      "143.248.53.23 - - [28/Feb/2023 19:36:22] \"GET /api/accelerometer?x=-572.00&y=244.00&z=-825.00 HTTP/1.1\" 200 -\n",
      "143.248.53.23 - - [28/Feb/2023 19:36:22] \"GET /api/accelerometer?x=-571.00&y=244.00&z=-824.00 HTTP/1.1\" 200 -\n"
     ]
    },
    {
     "name": "stdout",
     "output_type": "stream",
     "text": [
      "Received !!!\n",
      "x =  -572.00 y =  244.00  and z=  -825.00\n",
      "Received !!!\n",
      "x =  -571.00 y =  244.00  and z=  -824.00\n"
     ]
    },
    {
     "name": "stderr",
     "output_type": "stream",
     "text": [
      "143.248.53.23 - - [28/Feb/2023 19:36:22] \"GET /api/accelerometer?x=-571.00&y=244.00&z=-824.00 HTTP/1.1\" 200 -\n"
     ]
    },
    {
     "name": "stdout",
     "output_type": "stream",
     "text": [
      "Received !!!\n",
      "x =  -571.00 y =  244.00  and z=  -824.00\n",
      "Received !!!\n",
      "x =  -573.00 y =  243.00  and z=  -824.00\n"
     ]
    },
    {
     "name": "stderr",
     "output_type": "stream",
     "text": [
      "143.248.53.23 - - [28/Feb/2023 19:36:22] \"GET /api/accelerometer?x=-573.00&y=243.00&z=-824.00 HTTP/1.1\" 200 -\n",
      "143.248.53.23 - - [28/Feb/2023 19:36:23] \"GET /api/accelerometer?x=-571.00&y=242.00&z=-825.00 HTTP/1.1\" 200 -\n",
      "143.248.53.23 - - [28/Feb/2023 19:36:23] \"GET /api/accelerometer?x=-572.00&y=244.00&z=-824.00 HTTP/1.1\" 200 -\n"
     ]
    },
    {
     "name": "stdout",
     "output_type": "stream",
     "text": [
      "Received !!!\n",
      "x =  -571.00 y =  242.00  and z=  -825.00\n",
      "Received !!!\n",
      "x =  -572.00 y =  244.00  and z=  -824.00\n"
     ]
    },
    {
     "name": "stderr",
     "output_type": "stream",
     "text": [
      "143.248.53.23 - - [28/Feb/2023 19:36:23] \"GET /api/accelerometer?x=-573.00&y=244.00&z=-823.00 HTTP/1.1\" 200 -\n",
      "143.248.53.23 - - [28/Feb/2023 19:36:23] \"GET /api/accelerometer?x=-572.00&y=244.00&z=-825.00 HTTP/1.1\" 200 -\n"
     ]
    },
    {
     "name": "stdout",
     "output_type": "stream",
     "text": [
      "Received !!!\n",
      "x =  -573.00 y =  244.00  and z=  -823.00\n",
      "Received !!!\n",
      "x =  -572.00 y =  244.00  and z=  -825.00\n"
     ]
    },
    {
     "name": "stderr",
     "output_type": "stream",
     "text": [
      "143.248.53.23 - - [28/Feb/2023 19:36:23] \"GET /api/accelerometer?x=-572.00&y=244.00&z=-825.00 HTTP/1.1\" 200 -\n",
      "143.248.53.23 - - [28/Feb/2023 19:36:24] \"GET /api/accelerometer?x=-570.00&y=241.00&z=-824.00 HTTP/1.1\" 200 -\n"
     ]
    },
    {
     "name": "stdout",
     "output_type": "stream",
     "text": [
      "Received !!!\n",
      "x =  -572.00 y =  244.00  and z=  -825.00\n",
      "Received !!!\n",
      "x =  -570.00 y =  241.00  and z=  -824.00\n"
     ]
    },
    {
     "name": "stderr",
     "output_type": "stream",
     "text": [
      "143.248.53.23 - - [28/Feb/2023 19:36:24] \"GET /api/accelerometer?x=-571.00&y=244.00&z=-826.00 HTTP/1.1\" 200 -\n",
      "143.248.53.23 - - [28/Feb/2023 19:36:24] \"GET /api/accelerometer?x=-571.00&y=243.00&z=-824.00 HTTP/1.1\" 200 -\n"
     ]
    },
    {
     "name": "stdout",
     "output_type": "stream",
     "text": [
      "Received !!!\n",
      "x =  -571.00 y =  244.00  and z=  -826.00\n",
      "Received !!!\n",
      "x =  -571.00 y =  243.00  and z=  -824.00\n"
     ]
    },
    {
     "name": "stderr",
     "output_type": "stream",
     "text": [
      "143.248.53.23 - - [28/Feb/2023 19:36:24] \"GET /api/accelerometer?x=-572.00&y=243.00&z=-824.00 HTTP/1.1\" 200 -\n",
      "143.248.53.23 - - [28/Feb/2023 19:36:24] \"GET /api/accelerometer?x=-572.00&y=244.00&z=-824.00 HTTP/1.1\" 200 -\n"
     ]
    },
    {
     "name": "stdout",
     "output_type": "stream",
     "text": [
      "Received !!!\n",
      "x =  -572.00 y =  243.00  and z=  -824.00\n",
      "Received !!!\n",
      "x =  -572.00 y =  244.00  and z=  -824.00\n"
     ]
    },
    {
     "name": "stderr",
     "output_type": "stream",
     "text": [
      "143.248.53.23 - - [28/Feb/2023 19:36:24] \"GET /api/accelerometer?x=-571.00&y=243.00&z=-822.00 HTTP/1.1\" 200 -\n",
      "143.248.53.23 - - [28/Feb/2023 19:36:25] \"GET /api/accelerometer?x=-572.00&y=244.00&z=-824.00 HTTP/1.1\" 200 -\n"
     ]
    },
    {
     "name": "stdout",
     "output_type": "stream",
     "text": [
      "Received !!!\n",
      "x =  -571.00 y =  243.00  and z=  -822.00\n",
      "Received !!!\n",
      "x =  -572.00 y =  244.00  and z=  -824.00\n"
     ]
    },
    {
     "name": "stderr",
     "output_type": "stream",
     "text": [
      "143.248.53.23 - - [28/Feb/2023 19:36:25] \"GET /api/accelerometer?x=-573.00&y=243.00&z=-824.00 HTTP/1.1\" 200 -\n",
      "143.248.53.23 - - [28/Feb/2023 19:36:25] \"GET /api/accelerometer?x=-571.00&y=243.00&z=-824.00 HTTP/1.1\" 200 -\n"
     ]
    },
    {
     "name": "stdout",
     "output_type": "stream",
     "text": [
      "Received !!!\n",
      "x =  -573.00 y =  243.00  and z=  -824.00\n",
      "Received !!!\n",
      "x =  -571.00 y =  243.00  and z=  -824.00\n"
     ]
    },
    {
     "name": "stderr",
     "output_type": "stream",
     "text": [
      "143.248.53.23 - - [28/Feb/2023 19:36:25] \"GET /api/accelerometer?x=-571.00&y=245.00&z=-824.00 HTTP/1.1\" 200 -\n",
      "143.248.53.23 - - [28/Feb/2023 19:36:25] \"GET /api/accelerometer?x=-571.00&y=243.00&z=-825.00 HTTP/1.1\" 200 -\n"
     ]
    },
    {
     "name": "stdout",
     "output_type": "stream",
     "text": [
      "Received !!!\n",
      "x =  -571.00 y =  245.00  and z=  -824.00\n",
      "Received !!!\n",
      "x =  -571.00 y =  243.00  and z=  -825.00\n"
     ]
    },
    {
     "name": "stderr",
     "output_type": "stream",
     "text": [
      "143.248.53.23 - - [28/Feb/2023 19:36:25] \"GET /api/accelerometer?x=-572.00&y=245.00&z=-822.00 HTTP/1.1\" 200 -\n",
      "143.248.53.23 - - [28/Feb/2023 19:36:26] \"GET /api/accelerometer?x=-571.00&y=243.00&z=-825.00 HTTP/1.1\" 200 -\n"
     ]
    },
    {
     "name": "stdout",
     "output_type": "stream",
     "text": [
      "Received !!!\n",
      "x =  -572.00 y =  245.00  and z=  -822.00\n",
      "Received !!!\n",
      "x =  -571.00 y =  243.00  and z=  -825.00\n"
     ]
    },
    {
     "name": "stderr",
     "output_type": "stream",
     "text": [
      "143.248.53.23 - - [28/Feb/2023 19:36:26] \"GET /api/accelerometer?x=-571.00&y=245.00&z=-824.00 HTTP/1.1\" 200 -\n",
      "143.248.53.23 - - [28/Feb/2023 19:36:26] \"GET /api/accelerometer?x=-571.00&y=244.00&z=-824.00 HTTP/1.1\" 200 -\n"
     ]
    },
    {
     "name": "stdout",
     "output_type": "stream",
     "text": [
      "Received !!!\n",
      "x =  -571.00 y =  245.00  and z=  -824.00\n",
      "Received !!!\n",
      "x =  -571.00 y =  244.00  and z=  -824.00\n"
     ]
    },
    {
     "name": "stderr",
     "output_type": "stream",
     "text": [
      "143.248.53.23 - - [28/Feb/2023 19:36:26] \"GET /api/accelerometer?x=-573.00&y=244.00&z=-825.00 HTTP/1.1\" 200 -\n"
     ]
    },
    {
     "name": "stdout",
     "output_type": "stream",
     "text": [
      "Received !!!\n",
      "x =  -573.00 y =  244.00  and z=  -825.00\n"
     ]
    },
    {
     "name": "stderr",
     "output_type": "stream",
     "text": [
      "143.248.53.23 - - [28/Feb/2023 19:36:27] \"GET /api/accelerometer?x=-572.00&y=243.00&z=-823.00 HTTP/1.1\" 200 -\n",
      "143.248.53.23 - - [28/Feb/2023 19:36:27] \"GET /api/accelerometer?x=-572.00&y=245.00&z=-824.00 HTTP/1.1\" 200 -\n"
     ]
    },
    {
     "name": "stdout",
     "output_type": "stream",
     "text": [
      "Received !!!\n",
      "x =  -572.00 y =  243.00  and z=  -823.00\n",
      "Received !!!\n",
      "x =  -572.00 y =  245.00  and z=  -824.00\n"
     ]
    },
    {
     "name": "stderr",
     "output_type": "stream",
     "text": [
      "143.248.53.23 - - [28/Feb/2023 19:36:27] \"GET /api/accelerometer?x=-571.00&y=242.00&z=-824.00 HTTP/1.1\" 200 -\n",
      "143.248.53.23 - - [28/Feb/2023 19:36:27] \"GET /api/accelerometer?x=-571.00&y=243.00&z=-825.00 HTTP/1.1\" 200 -\n"
     ]
    },
    {
     "name": "stdout",
     "output_type": "stream",
     "text": [
      "Received !!!\n",
      "x =  -571.00 y =  242.00  and z=  -824.00\n",
      "Received !!!\n",
      "x =  -571.00 y =  243.00  and z=  -825.00\n"
     ]
    },
    {
     "name": "stderr",
     "output_type": "stream",
     "text": [
      "143.248.53.23 - - [28/Feb/2023 19:36:27] \"GET /api/accelerometer?x=-571.00&y=243.00&z=-825.00 HTTP/1.1\" 200 -\n",
      "143.248.53.23 - - [28/Feb/2023 19:36:27] \"GET /api/accelerometer?x=-571.00&y=245.00&z=-825.00 HTTP/1.1\" 200 -\n"
     ]
    },
    {
     "name": "stdout",
     "output_type": "stream",
     "text": [
      "Received !!!\n",
      "x =  -571.00 y =  243.00  and z=  -825.00\n",
      "Received !!!\n",
      "x =  -571.00 y =  245.00  and z=  -825.00\n"
     ]
    },
    {
     "name": "stderr",
     "output_type": "stream",
     "text": [
      "143.248.53.23 - - [28/Feb/2023 19:36:28] \"GET /api/accelerometer?x=-571.00&y=241.00&z=-823.00 HTTP/1.1\" 200 -\n",
      "143.248.53.23 - - [28/Feb/2023 19:36:28] \"GET /api/accelerometer?x=-573.00&y=243.00&z=-825.00 HTTP/1.1\" 200 -\n"
     ]
    },
    {
     "name": "stdout",
     "output_type": "stream",
     "text": [
      "Received !!!\n",
      "x =  -571.00 y =  241.00  and z=  -823.00\n",
      "Received !!!\n",
      "x =  -573.00 y =  243.00  and z=  -825.00\n"
     ]
    },
    {
     "name": "stderr",
     "output_type": "stream",
     "text": [
      "143.248.53.23 - - [28/Feb/2023 19:36:28] \"GET /api/accelerometer?x=-570.00&y=243.00&z=-824.00 HTTP/1.1\" 200 -\n",
      "143.248.53.23 - - [28/Feb/2023 19:36:28] \"GET /api/accelerometer?x=-571.00&y=245.00&z=-824.00 HTTP/1.1\" 200 -\n"
     ]
    },
    {
     "name": "stdout",
     "output_type": "stream",
     "text": [
      "Received !!!\n",
      "x =  -570.00 y =  243.00  and z=  -824.00\n",
      "Received !!!\n",
      "x =  -571.00 y =  245.00  and z=  -824.00\n"
     ]
    },
    {
     "name": "stderr",
     "output_type": "stream",
     "text": [
      "143.248.53.23 - - [28/Feb/2023 19:36:28] \"GET /api/accelerometer?x=-571.00&y=246.00&z=-824.00 HTTP/1.1\" 200 -\n",
      "143.248.53.23 - - [28/Feb/2023 19:36:29] \"GET /api/accelerometer?x=-572.00&y=244.00&z=-824.00 HTTP/1.1\" 200 -\n"
     ]
    },
    {
     "name": "stdout",
     "output_type": "stream",
     "text": [
      "Received !!!\n",
      "x =  -571.00 y =  246.00  and z=  -824.00\n",
      "Received !!!\n",
      "x =  -572.00 y =  244.00  and z=  -824.00\n"
     ]
    },
    {
     "name": "stderr",
     "output_type": "stream",
     "text": [
      "143.248.53.23 - - [28/Feb/2023 19:36:29] \"GET /api/accelerometer?x=-572.00&y=243.00&z=-824.00 HTTP/1.1\" 200 -\n",
      "143.248.53.23 - - [28/Feb/2023 19:36:29] \"GET /api/accelerometer?x=-572.00&y=244.00&z=-826.00 HTTP/1.1\" 200 -\n"
     ]
    },
    {
     "name": "stdout",
     "output_type": "stream",
     "text": [
      "Received !!!\n",
      "x =  -572.00 y =  243.00  and z=  -824.00\n",
      "Received !!!\n",
      "x =  -572.00 y =  244.00  and z=  -826.00\n"
     ]
    },
    {
     "name": "stderr",
     "output_type": "stream",
     "text": [
      "143.248.53.23 - - [28/Feb/2023 19:36:29] \"GET /api/accelerometer?x=-571.00&y=245.00&z=-824.00 HTTP/1.1\" 200 -\n",
      "143.248.53.23 - - [28/Feb/2023 19:36:29] \"GET /api/accelerometer?x=-572.00&y=244.00&z=-824.00 HTTP/1.1\" 200 -\n"
     ]
    },
    {
     "name": "stdout",
     "output_type": "stream",
     "text": [
      "Received !!!\n",
      "x =  -571.00 y =  245.00  and z=  -824.00\n",
      "Received !!!\n",
      "x =  -572.00 y =  244.00  and z=  -824.00\n"
     ]
    },
    {
     "name": "stderr",
     "output_type": "stream",
     "text": [
      "143.248.53.23 - - [28/Feb/2023 19:36:30] \"GET /api/accelerometer?x=-573.00&y=245.00&z=-824.00 HTTP/1.1\" 200 -\n",
      "143.248.53.23 - - [28/Feb/2023 19:36:30] \"GET /api/accelerometer?x=-572.00&y=245.00&z=-824.00 HTTP/1.1\" 200 -\n"
     ]
    },
    {
     "name": "stdout",
     "output_type": "stream",
     "text": [
      "Received !!!\n",
      "x =  -573.00 y =  245.00  and z=  -824.00\n",
      "Received !!!\n",
      "x =  -572.00 y =  245.00  and z=  -824.00\n"
     ]
    },
    {
     "name": "stderr",
     "output_type": "stream",
     "text": [
      "143.248.53.23 - - [28/Feb/2023 19:36:30] \"GET /api/accelerometer?x=-571.00&y=244.00&z=-823.00 HTTP/1.1\" 200 -\n",
      "143.248.53.23 - - [28/Feb/2023 19:36:30] \"GET /api/accelerometer?x=-572.00&y=243.00&z=-825.00 HTTP/1.1\" 200 -\n"
     ]
    },
    {
     "name": "stdout",
     "output_type": "stream",
     "text": [
      "Received !!!\n",
      "x =  -571.00 y =  244.00  and z=  -823.00\n",
      "Received !!!\n",
      "x =  -572.00 y =  243.00  and z=  -825.00\n"
     ]
    },
    {
     "name": "stderr",
     "output_type": "stream",
     "text": [
      "143.248.53.23 - - [28/Feb/2023 19:36:30] \"GET /api/accelerometer?x=-563.00&y=235.00&z=-814.00 HTTP/1.1\" 200 -\n",
      "143.248.53.23 - - [28/Feb/2023 19:36:30] \"GET /api/accelerometer?x=-572.00&y=239.00&z=-820.00 HTTP/1.1\" 200 -\n"
     ]
    },
    {
     "name": "stdout",
     "output_type": "stream",
     "text": [
      "Received !!!\n",
      "x =  -563.00 y =  235.00  and z=  -814.00\n",
      "Received !!!\n",
      "x =  -572.00 y =  239.00  and z=  -820.00\n"
     ]
    },
    {
     "name": "stderr",
     "output_type": "stream",
     "text": [
      "143.248.53.23 - - [28/Feb/2023 19:36:31] \"GET /api/accelerometer?x=-576.00&y=244.00&z=-817.00 HTTP/1.1\" 200 -\n",
      "143.248.53.23 - - [28/Feb/2023 19:36:31] \"GET /api/accelerometer?x=-572.00&y=245.00&z=-826.00 HTTP/1.1\" 200 -\n"
     ]
    },
    {
     "name": "stdout",
     "output_type": "stream",
     "text": [
      "Received !!!\n",
      "x =  -576.00 y =  244.00  and z=  -817.00\n",
      "Received !!!\n",
      "x =  -572.00 y =  245.00  and z=  -826.00\n"
     ]
    },
    {
     "name": "stderr",
     "output_type": "stream",
     "text": [
      "143.248.53.23 - - [28/Feb/2023 19:36:31] \"GET /api/accelerometer?x=-571.00&y=244.00&z=-826.00 HTTP/1.1\" 200 -\n",
      "143.248.53.23 - - [28/Feb/2023 19:36:31] \"GET /api/accelerometer?x=-573.00&y=245.00&z=-823.00 HTTP/1.1\" 200 -\n"
     ]
    },
    {
     "name": "stdout",
     "output_type": "stream",
     "text": [
      "Received !!!\n",
      "x =  -571.00 y =  244.00  and z=  -826.00\n",
      "Received !!!\n",
      "x =  -573.00 y =  245.00  and z=  -823.00\n"
     ]
    },
    {
     "name": "stderr",
     "output_type": "stream",
     "text": [
      "143.248.53.23 - - [28/Feb/2023 19:36:31] \"GET /api/accelerometer?x=-571.00&y=243.00&z=-825.00 HTTP/1.1\" 200 -\n",
      "143.248.53.23 - - [28/Feb/2023 19:36:31] \"GET /api/accelerometer?x=-571.00&y=244.00&z=-824.00 HTTP/1.1\" 200 -\n"
     ]
    },
    {
     "name": "stdout",
     "output_type": "stream",
     "text": [
      "Received !!!\n",
      "x =  -571.00 y =  243.00  and z=  -825.00\n",
      "Received !!!\n",
      "x =  -571.00 y =  244.00  and z=  -824.00\n"
     ]
    },
    {
     "name": "stderr",
     "output_type": "stream",
     "text": [
      "143.248.53.23 - - [28/Feb/2023 19:36:32] \"GET /api/accelerometer?x=-572.00&y=246.00&z=-823.00 HTTP/1.1\" 200 -\n",
      "143.248.53.23 - - [28/Feb/2023 19:36:32] \"GET /api/accelerometer?x=-572.00&y=244.00&z=-824.00 HTTP/1.1\" 200 -\n"
     ]
    },
    {
     "name": "stdout",
     "output_type": "stream",
     "text": [
      "Received !!!\n",
      "x =  -572.00 y =  246.00  and z=  -823.00\n",
      "Received !!!\n",
      "x =  -572.00 y =  244.00  and z=  -824.00\n"
     ]
    },
    {
     "name": "stderr",
     "output_type": "stream",
     "text": [
      "143.248.53.23 - - [28/Feb/2023 19:36:32] \"GET /api/accelerometer?x=-571.00&y=244.00&z=-826.00 HTTP/1.1\" 200 -\n",
      "143.248.53.23 - - [28/Feb/2023 19:36:32] \"GET /api/accelerometer?x=-569.00&y=240.00&z=-824.00 HTTP/1.1\" 200 -\n"
     ]
    },
    {
     "name": "stdout",
     "output_type": "stream",
     "text": [
      "Received !!!\n",
      "x =  -571.00 y =  244.00  and z=  -826.00\n",
      "Received !!!\n",
      "x =  -569.00 y =  240.00  and z=  -824.00\n"
     ]
    },
    {
     "name": "stderr",
     "output_type": "stream",
     "text": [
      "143.248.53.23 - - [28/Feb/2023 19:36:32] \"GET /api/accelerometer?x=-570.00&y=243.00&z=-824.00 HTTP/1.1\" 200 -\n",
      "143.248.53.23 - - [28/Feb/2023 19:36:32] \"GET /api/accelerometer?x=-569.00&y=243.00&z=-823.00 HTTP/1.1\" 200 -\n"
     ]
    },
    {
     "name": "stdout",
     "output_type": "stream",
     "text": [
      "Received !!!\n",
      "x =  -570.00 y =  243.00  and z=  -824.00\n",
      "Received !!!\n",
      "x =  -569.00 y =  243.00  and z=  -823.00\n"
     ]
    },
    {
     "name": "stderr",
     "output_type": "stream",
     "text": [
      "143.248.53.23 - - [28/Feb/2023 19:36:33] \"GET /api/accelerometer?x=-572.00&y=244.00&z=-824.00 HTTP/1.1\" 200 -\n",
      "143.248.53.23 - - [28/Feb/2023 19:36:33] \"GET /api/accelerometer?x=-573.00&y=243.00&z=-824.00 HTTP/1.1\" 200 -\n"
     ]
    },
    {
     "name": "stdout",
     "output_type": "stream",
     "text": [
      "Received !!!\n",
      "x =  -572.00 y =  244.00  and z=  -824.00\n",
      "Received !!!\n",
      "x =  -573.00 y =  243.00  and z=  -824.00\n"
     ]
    },
    {
     "name": "stderr",
     "output_type": "stream",
     "text": [
      "143.248.53.23 - - [28/Feb/2023 19:36:33] \"GET /api/accelerometer?x=-570.00&y=242.00&z=-826.00 HTTP/1.1\" 200 -\n",
      "143.248.53.23 - - [28/Feb/2023 19:36:33] \"GET /api/accelerometer?x=-571.00&y=241.00&z=-825.00 HTTP/1.1\" 200 -\n"
     ]
    },
    {
     "name": "stdout",
     "output_type": "stream",
     "text": [
      "Received !!!\n",
      "x =  -570.00 y =  242.00  and z=  -826.00\n",
      "Received !!!\n",
      "x =  -571.00 y =  241.00  and z=  -825.00\n"
     ]
    },
    {
     "name": "stderr",
     "output_type": "stream",
     "text": [
      "143.248.53.23 - - [28/Feb/2023 19:36:33] \"GET /api/accelerometer?x=-574.00&y=244.00&z=-825.00 HTTP/1.1\" 200 -\n",
      "143.248.53.23 - - [28/Feb/2023 19:36:33] \"GET /api/accelerometer?x=-572.00&y=244.00&z=-824.00 HTTP/1.1\" 200 -\n"
     ]
    },
    {
     "name": "stdout",
     "output_type": "stream",
     "text": [
      "Received !!!\n",
      "x =  -574.00 y =  244.00  and z=  -825.00\n",
      "Received !!!\n",
      "x =  -572.00 y =  244.00  and z=  -824.00\n"
     ]
    },
    {
     "name": "stderr",
     "output_type": "stream",
     "text": [
      "143.248.53.23 - - [28/Feb/2023 19:36:34] \"GET /api/accelerometer?x=-572.00&y=243.00&z=-823.00 HTTP/1.1\" 200 -\n",
      "143.248.53.23 - - [28/Feb/2023 19:36:34] \"GET /api/accelerometer?x=-572.00&y=243.00&z=-825.00 HTTP/1.1\" 200 -\n"
     ]
    },
    {
     "name": "stdout",
     "output_type": "stream",
     "text": [
      "Received !!!\n",
      "x =  -572.00 y =  243.00  and z=  -823.00\n",
      "Received !!!\n",
      "x =  -572.00 y =  243.00  and z=  -825.00\n"
     ]
    },
    {
     "name": "stderr",
     "output_type": "stream",
     "text": [
      "143.248.53.23 - - [28/Feb/2023 19:36:34] \"GET /api/accelerometer?x=-571.00&y=242.00&z=-823.00 HTTP/1.1\" 200 -\n",
      "143.248.53.23 - - [28/Feb/2023 19:36:34] \"GET /api/accelerometer?x=-573.00&y=244.00&z=-823.00 HTTP/1.1\" 200 -\n"
     ]
    },
    {
     "name": "stdout",
     "output_type": "stream",
     "text": [
      "Received !!!\n",
      "x =  -571.00 y =  242.00  and z=  -823.00\n",
      "Received !!!\n",
      "x =  -573.00 y =  244.00  and z=  -823.00\n"
     ]
    },
    {
     "name": "stderr",
     "output_type": "stream",
     "text": [
      "143.248.53.23 - - [28/Feb/2023 19:36:34] \"GET /api/accelerometer?x=-571.00&y=244.00&z=-824.00 HTTP/1.1\" 200 -\n",
      "143.248.53.23 - - [28/Feb/2023 19:36:35] \"GET /api/accelerometer?x=-572.00&y=244.00&z=-825.00 HTTP/1.1\" 200 -\n"
     ]
    },
    {
     "name": "stdout",
     "output_type": "stream",
     "text": [
      "Received !!!\n",
      "x =  -571.00 y =  244.00  and z=  -824.00\n",
      "Received !!!\n",
      "x =  -572.00 y =  244.00  and z=  -825.00\n"
     ]
    },
    {
     "name": "stderr",
     "output_type": "stream",
     "text": [
      "143.248.53.23 - - [28/Feb/2023 19:36:35] \"GET /api/accelerometer?x=-571.00&y=243.00&z=-825.00 HTTP/1.1\" 200 -\n",
      "143.248.53.23 - - [28/Feb/2023 19:36:35] \"GET /api/accelerometer?x=-572.00&y=243.00&z=-825.00 HTTP/1.1\" 200 -\n"
     ]
    },
    {
     "name": "stdout",
     "output_type": "stream",
     "text": [
      "Received !!!\n",
      "x =  -571.00 y =  243.00  and z=  -825.00\n",
      "Received !!!\n",
      "x =  -572.00 y =  243.00  and z=  -825.00\n"
     ]
    },
    {
     "name": "stderr",
     "output_type": "stream",
     "text": [
      "143.248.53.23 - - [28/Feb/2023 19:36:35] \"GET /api/accelerometer?x=-572.00&y=243.00&z=-824.00 HTTP/1.1\" 200 -\n",
      "143.248.53.23 - - [28/Feb/2023 19:36:35] \"GET /api/accelerometer?x=-571.00&y=245.00&z=-824.00 HTTP/1.1\" 200 -\n"
     ]
    },
    {
     "name": "stdout",
     "output_type": "stream",
     "text": [
      "Received !!!\n",
      "x =  -572.00 y =  243.00  and z=  -824.00\n",
      "Received !!!\n",
      "x =  -571.00 y =  245.00  and z=  -824.00\n"
     ]
    },
    {
     "name": "stderr",
     "output_type": "stream",
     "text": [
      "143.248.53.23 - - [28/Feb/2023 19:36:35] \"GET /api/accelerometer?x=-571.00&y=243.00&z=-824.00 HTTP/1.1\" 200 -\n",
      "143.248.53.23 - - [28/Feb/2023 19:36:36] \"GET /api/accelerometer?x=-571.00&y=244.00&z=-824.00 HTTP/1.1\" 200 -\n"
     ]
    },
    {
     "name": "stdout",
     "output_type": "stream",
     "text": [
      "Received !!!\n",
      "x =  -571.00 y =  243.00  and z=  -824.00\n",
      "Received !!!\n",
      "x =  -571.00 y =  244.00  and z=  -824.00\n"
     ]
    },
    {
     "name": "stderr",
     "output_type": "stream",
     "text": [
      "143.248.53.23 - - [28/Feb/2023 19:36:36] \"GET /api/accelerometer?x=-572.00&y=245.00&z=-826.00 HTTP/1.1\" 200 -\n",
      "143.248.53.23 - - [28/Feb/2023 19:36:36] \"GET /api/accelerometer?x=-571.00&y=243.00&z=-824.00 HTTP/1.1\" 200 -\n"
     ]
    },
    {
     "name": "stdout",
     "output_type": "stream",
     "text": [
      "Received !!!\n",
      "x =  -572.00 y =  245.00  and z=  -826.00\n",
      "Received !!!\n",
      "x =  -571.00 y =  243.00  and z=  -824.00\n"
     ]
    },
    {
     "name": "stderr",
     "output_type": "stream",
     "text": [
      "143.248.53.23 - - [28/Feb/2023 19:36:36] \"GET /api/accelerometer?x=-571.00&y=242.00&z=-825.00 HTTP/1.1\" 200 -\n",
      "143.248.53.23 - - [28/Feb/2023 19:36:36] \"GET /api/accelerometer?x=-571.00&y=244.00&z=-824.00 HTTP/1.1\" 200 -\n"
     ]
    },
    {
     "name": "stdout",
     "output_type": "stream",
     "text": [
      "Received !!!\n",
      "x =  -571.00 y =  242.00  and z=  -825.00\n",
      "Received !!!\n",
      "x =  -571.00 y =  244.00  and z=  -824.00\n"
     ]
    },
    {
     "name": "stderr",
     "output_type": "stream",
     "text": [
      "143.248.53.23 - - [28/Feb/2023 19:36:37] \"GET /api/accelerometer?x=-572.00&y=244.00&z=-824.00 HTTP/1.1\" 200 -\n",
      "143.248.53.23 - - [28/Feb/2023 19:36:37] \"GET /api/accelerometer?x=-571.00&y=244.00&z=-825.00 HTTP/1.1\" 200 -\n"
     ]
    },
    {
     "name": "stdout",
     "output_type": "stream",
     "text": [
      "Received !!!\n",
      "x =  -572.00 y =  244.00  and z=  -824.00\n",
      "Received !!!\n",
      "x =  -571.00 y =  244.00  and z=  -825.00\n"
     ]
    },
    {
     "name": "stderr",
     "output_type": "stream",
     "text": [
      "143.248.53.23 - - [28/Feb/2023 19:36:37] \"GET /api/accelerometer?x=-572.00&y=245.00&z=-825.00 HTTP/1.1\" 200 -\n",
      "143.248.53.23 - - [28/Feb/2023 19:36:37] \"GET /api/accelerometer?x=-571.00&y=244.00&z=-826.00 HTTP/1.1\" 200 -\n"
     ]
    },
    {
     "name": "stdout",
     "output_type": "stream",
     "text": [
      "Received !!!\n",
      "x =  -572.00 y =  245.00  and z=  -825.00\n",
      "Received !!!\n",
      "x =  -571.00 y =  244.00  and z=  -826.00\n"
     ]
    },
    {
     "name": "stderr",
     "output_type": "stream",
     "text": [
      "143.248.53.23 - - [28/Feb/2023 19:36:38] \"GET /api/accelerometer?x=-572.00&y=245.00&z=-825.00 HTTP/1.1\" 200 -\n",
      "143.248.53.23 - - [28/Feb/2023 19:36:38] \"GET /api/accelerometer?x=-572.00&y=245.00&z=-825.00 HTTP/1.1\" 200 -\n"
     ]
    },
    {
     "name": "stdout",
     "output_type": "stream",
     "text": [
      "Received !!!\n",
      "x =  -572.00 y =  245.00  and z=  -825.00\n",
      "Received !!!\n",
      "x =  -572.00 y =  245.00  and z=  -825.00\n"
     ]
    },
    {
     "name": "stderr",
     "output_type": "stream",
     "text": [
      "143.248.53.23 - - [28/Feb/2023 19:36:38] \"GET /api/accelerometer?x=-572.00&y=244.00&z=-824.00 HTTP/1.1\" 200 -\n",
      "143.248.53.23 - - [28/Feb/2023 19:36:38] \"GET /api/accelerometer?x=-571.00&y=245.00&z=-825.00 HTTP/1.1\" 200 -\n"
     ]
    },
    {
     "name": "stdout",
     "output_type": "stream",
     "text": [
      "Received !!!\n",
      "x =  -572.00 y =  244.00  and z=  -824.00\n",
      "Received !!!\n",
      "x =  -571.00 y =  245.00  and z=  -825.00\n"
     ]
    },
    {
     "name": "stderr",
     "output_type": "stream",
     "text": [
      "143.248.53.23 - - [28/Feb/2023 19:36:38] \"GET /api/accelerometer?x=-571.00&y=244.00&z=-822.00 HTTP/1.1\" 200 -\n"
     ]
    },
    {
     "name": "stdout",
     "output_type": "stream",
     "text": [
      "Received !!!\n",
      "x =  -571.00 y =  244.00  and z=  -822.00\n"
     ]
    },
    {
     "name": "stderr",
     "output_type": "stream",
     "text": [
      "143.248.53.23 - - [28/Feb/2023 19:36:39] \"GET /api/accelerometer?x=-570.00&y=244.00&z=-824.00 HTTP/1.1\" 200 -\n",
      "143.248.53.23 - - [28/Feb/2023 19:36:39] \"GET /api/accelerometer?x=-572.00&y=244.00&z=-823.00 HTTP/1.1\" 200 -\n"
     ]
    },
    {
     "name": "stdout",
     "output_type": "stream",
     "text": [
      "Received !!!\n",
      "x =  -570.00 y =  244.00  and z=  -824.00\n",
      "Received !!!\n",
      "x =  -572.00 y =  244.00  and z=  -823.00\n"
     ]
    },
    {
     "name": "stderr",
     "output_type": "stream",
     "text": [
      "143.248.53.23 - - [28/Feb/2023 19:36:39] \"GET /api/accelerometer?x=-572.00&y=243.00&z=-825.00 HTTP/1.1\" 200 -\n",
      "143.248.53.23 - - [28/Feb/2023 19:36:39] \"GET /api/accelerometer?x=-571.00&y=243.00&z=-825.00 HTTP/1.1\" 200 -\n"
     ]
    },
    {
     "name": "stdout",
     "output_type": "stream",
     "text": [
      "Received !!!\n",
      "x =  -572.00 y =  243.00  and z=  -825.00\n",
      "Received !!!\n",
      "x =  -571.00 y =  243.00  and z=  -825.00\n"
     ]
    },
    {
     "name": "stderr",
     "output_type": "stream",
     "text": [
      "143.248.53.23 - - [28/Feb/2023 19:36:39] \"GET /api/accelerometer?x=-571.00&y=244.00&z=-823.00 HTTP/1.1\" 200 -\n",
      "143.248.53.23 - - [28/Feb/2023 19:36:40] \"GET /api/accelerometer?x=-571.00&y=243.00&z=-824.00 HTTP/1.1\" 200 -\n"
     ]
    },
    {
     "name": "stdout",
     "output_type": "stream",
     "text": [
      "Received !!!\n",
      "x =  -571.00 y =  244.00  and z=  -823.00\n",
      "Received !!!\n",
      "x =  -571.00 y =  243.00  and z=  -824.00\n"
     ]
    },
    {
     "name": "stderr",
     "output_type": "stream",
     "text": [
      "143.248.53.23 - - [28/Feb/2023 19:36:40] \"GET /api/accelerometer?x=-572.00&y=244.00&z=-824.00 HTTP/1.1\" 200 -\n",
      "143.248.53.23 - - [28/Feb/2023 19:36:40] \"GET /api/accelerometer?x=-571.00&y=244.00&z=-822.00 HTTP/1.1\" 200 -\n"
     ]
    },
    {
     "name": "stdout",
     "output_type": "stream",
     "text": [
      "Received !!!\n",
      "x =  -572.00 y =  244.00  and z=  -824.00\n",
      "Received !!!\n",
      "x =  -571.00 y =  244.00  and z=  -822.00\n"
     ]
    },
    {
     "name": "stderr",
     "output_type": "stream",
     "text": [
      "143.248.53.23 - - [28/Feb/2023 19:36:40] \"GET /api/accelerometer?x=-571.00&y=244.00&z=-824.00 HTTP/1.1\" 200 -\n",
      "143.248.53.23 - - [28/Feb/2023 19:36:40] \"GET /api/accelerometer?x=-572.00&y=243.00&z=-826.00 HTTP/1.1\" 200 -\n"
     ]
    },
    {
     "name": "stdout",
     "output_type": "stream",
     "text": [
      "Received !!!\n",
      "x =  -571.00 y =  244.00  and z=  -824.00\n",
      "Received !!!\n",
      "x =  -572.00 y =  243.00  and z=  -826.00\n"
     ]
    },
    {
     "name": "stderr",
     "output_type": "stream",
     "text": [
      "143.248.53.23 - - [28/Feb/2023 19:36:40] \"GET /api/accelerometer?x=-571.00&y=243.00&z=-824.00 HTTP/1.1\" 200 -\n"
     ]
    },
    {
     "name": "stdout",
     "output_type": "stream",
     "text": [
      "Received !!!\n",
      "x =  -571.00 y =  243.00  and z=  -824.00\n"
     ]
    },
    {
     "name": "stderr",
     "output_type": "stream",
     "text": [
      "143.248.53.23 - - [28/Feb/2023 19:36:41] \"GET /api/accelerometer?x=-572.00&y=243.00&z=-824.00 HTTP/1.1\" 200 -\n",
      "143.248.53.23 - - [28/Feb/2023 19:36:41] \"GET /api/accelerometer?x=-571.00&y=245.00&z=-826.00 HTTP/1.1\" 200 -\n"
     ]
    },
    {
     "name": "stdout",
     "output_type": "stream",
     "text": [
      "Received !!!\n",
      "x =  -572.00 y =  243.00  and z=  -824.00\n",
      "Received !!!\n",
      "x =  -571.00 y =  245.00  and z=  -826.00\n"
     ]
    },
    {
     "name": "stderr",
     "output_type": "stream",
     "text": [
      "143.248.53.23 - - [28/Feb/2023 19:36:41] \"GET /api/accelerometer?x=-572.00&y=244.00&z=-826.00 HTTP/1.1\" 200 -\n",
      "143.248.53.23 - - [28/Feb/2023 19:36:41] \"GET /api/accelerometer?x=-571.00&y=244.00&z=-825.00 HTTP/1.1\" 200 -\n"
     ]
    },
    {
     "name": "stdout",
     "output_type": "stream",
     "text": [
      "Received !!!\n",
      "x =  -572.00 y =  244.00  and z=  -826.00\n",
      "Received !!!\n",
      "x =  -571.00 y =  244.00  and z=  -825.00\n"
     ]
    },
    {
     "name": "stderr",
     "output_type": "stream",
     "text": [
      "143.248.53.23 - - [28/Feb/2023 19:36:41] \"GET /api/accelerometer?x=-573.00&y=245.00&z=-824.00 HTTP/1.1\" 200 -\n",
      "143.248.53.23 - - [28/Feb/2023 19:36:41] \"GET /api/accelerometer?x=-571.00&y=244.00&z=-825.00 HTTP/1.1\" 200 -\n"
     ]
    },
    {
     "name": "stdout",
     "output_type": "stream",
     "text": [
      "Received !!!\n",
      "x =  -573.00 y =  245.00  and z=  -824.00\n",
      "Received !!!\n",
      "x =  -571.00 y =  244.00  and z=  -825.00\n"
     ]
    },
    {
     "name": "stderr",
     "output_type": "stream",
     "text": [
      "143.248.53.23 - - [28/Feb/2023 19:36:42] \"GET /api/accelerometer?x=-571.00&y=245.00&z=-824.00 HTTP/1.1\" 200 -\n",
      "143.248.53.23 - - [28/Feb/2023 19:36:42] \"GET /api/accelerometer?x=-571.00&y=244.00&z=-824.00 HTTP/1.1\" 200 -\n"
     ]
    },
    {
     "name": "stdout",
     "output_type": "stream",
     "text": [
      "Received !!!\n",
      "x =  -571.00 y =  245.00  and z=  -824.00\n",
      "Received !!!\n",
      "x =  -571.00 y =  244.00  and z=  -824.00\n"
     ]
    },
    {
     "name": "stderr",
     "output_type": "stream",
     "text": [
      "143.248.53.23 - - [28/Feb/2023 19:36:42] \"GET /api/accelerometer?x=-570.00&y=243.00&z=-824.00 HTTP/1.1\" 200 -\n",
      "143.248.53.23 - - [28/Feb/2023 19:36:42] \"GET /api/accelerometer?x=-571.00&y=245.00&z=-824.00 HTTP/1.1\" 200 -\n"
     ]
    },
    {
     "name": "stdout",
     "output_type": "stream",
     "text": [
      "Received !!!\n",
      "x =  -570.00 y =  243.00  and z=  -824.00\n",
      "Received !!!\n",
      "x =  -571.00 y =  245.00  and z=  -824.00\n"
     ]
    },
    {
     "name": "stderr",
     "output_type": "stream",
     "text": [
      "143.248.53.23 - - [28/Feb/2023 19:36:42] \"GET /api/accelerometer?x=-570.00&y=244.00&z=-824.00 HTTP/1.1\" 200 -\n",
      "143.248.53.23 - - [28/Feb/2023 19:36:42] \"GET /api/accelerometer?x=-572.00&y=243.00&z=-823.00 HTTP/1.1\" 200 -\n"
     ]
    },
    {
     "name": "stdout",
     "output_type": "stream",
     "text": [
      "Received !!!\n",
      "x =  -570.00 y =  244.00  and z=  -824.00\n",
      "Received !!!\n",
      "x =  -572.00 y =  243.00  and z=  -823.00\n"
     ]
    },
    {
     "name": "stderr",
     "output_type": "stream",
     "text": [
      "143.248.53.23 - - [28/Feb/2023 19:36:43] \"GET /api/accelerometer?x=-571.00&y=244.00&z=-824.00 HTTP/1.1\" 200 -\n",
      "143.248.53.23 - - [28/Feb/2023 19:36:43] \"GET /api/accelerometer?x=-570.00&y=244.00&z=-824.00 HTTP/1.1\" 200 -\n"
     ]
    },
    {
     "name": "stdout",
     "output_type": "stream",
     "text": [
      "Received !!!\n",
      "x =  -571.00 y =  244.00  and z=  -824.00\n",
      "Received !!!\n",
      "x =  -570.00 y =  244.00  and z=  -824.00\n"
     ]
    },
    {
     "name": "stderr",
     "output_type": "stream",
     "text": [
      "143.248.53.23 - - [28/Feb/2023 19:36:43] \"GET /api/accelerometer?x=-571.00&y=244.00&z=-824.00 HTTP/1.1\" 200 -\n"
     ]
    },
    {
     "name": "stdout",
     "output_type": "stream",
     "text": [
      "Received !!!\n",
      "x =  -571.00 y =  244.00  and z=  -824.00\n"
     ]
    },
    {
     "name": "stderr",
     "output_type": "stream",
     "text": [
      "143.248.53.23 - - [28/Feb/2023 19:36:44] \"GET /api/accelerometer?x=-573.00&y=244.00&z=-824.00 HTTP/1.1\" 200 -\n",
      "143.248.53.23 - - [28/Feb/2023 19:36:44] \"GET /api/accelerometer?x=-570.00&y=243.00&z=-825.00 HTTP/1.1\" 200 -\n"
     ]
    },
    {
     "name": "stdout",
     "output_type": "stream",
     "text": [
      "Received !!!\n",
      "x =  -573.00 y =  244.00  and z=  -824.00\n",
      "Received !!!\n",
      "x =  -570.00 y =  243.00  and z=  -825.00\n"
     ]
    },
    {
     "name": "stderr",
     "output_type": "stream",
     "text": [
      "143.248.53.23 - - [28/Feb/2023 19:36:44] \"GET /api/accelerometer?x=-572.00&y=244.00&z=-824.00 HTTP/1.1\" 200 -\n",
      "143.248.53.23 - - [28/Feb/2023 19:36:44] \"GET /api/accelerometer?x=-570.00&y=244.00&z=-824.00 HTTP/1.1\" 200 -\n"
     ]
    },
    {
     "name": "stdout",
     "output_type": "stream",
     "text": [
      "Received !!!\n",
      "x =  -572.00 y =  244.00  and z=  -824.00\n",
      "Received !!!\n",
      "x =  -570.00 y =  244.00  and z=  -824.00\n"
     ]
    },
    {
     "name": "stderr",
     "output_type": "stream",
     "text": [
      "143.248.53.23 - - [28/Feb/2023 19:36:44] \"GET /api/accelerometer?x=-572.00&y=245.00&z=-823.00 HTTP/1.1\" 200 -\n",
      "143.248.53.23 - - [28/Feb/2023 19:36:44] \"GET /api/accelerometer?x=-572.00&y=244.00&z=-824.00 HTTP/1.1\" 200 -\n"
     ]
    },
    {
     "name": "stdout",
     "output_type": "stream",
     "text": [
      "Received !!!\n",
      "x =  -572.00 y =  245.00  and z=  -823.00\n",
      "Received !!!\n",
      "x =  -572.00 y =  244.00  and z=  -824.00\n"
     ]
    },
    {
     "name": "stderr",
     "output_type": "stream",
     "text": [
      "143.248.53.23 - - [28/Feb/2023 19:36:45] \"GET /api/accelerometer?x=-571.00&y=243.00&z=-825.00 HTTP/1.1\" 200 -\n",
      "143.248.53.23 - - [28/Feb/2023 19:36:45] \"GET /api/accelerometer?x=-571.00&y=244.00&z=-825.00 HTTP/1.1\" 200 -\n"
     ]
    },
    {
     "name": "stdout",
     "output_type": "stream",
     "text": [
      "Received !!!\n",
      "x =  -571.00 y =  243.00  and z=  -825.00\n",
      "Received !!!\n",
      "x =  -571.00 y =  244.00  and z=  -825.00\n"
     ]
    },
    {
     "name": "stderr",
     "output_type": "stream",
     "text": [
      "143.248.53.23 - - [28/Feb/2023 19:36:45] \"GET /api/accelerometer?x=-572.00&y=245.00&z=-826.00 HTTP/1.1\" 200 -\n"
     ]
    },
    {
     "name": "stdout",
     "output_type": "stream",
     "text": [
      "Received !!!\n",
      "x =  -572.00 y =  245.00  and z=  -826.00\n"
     ]
    },
    {
     "name": "stderr",
     "output_type": "stream",
     "text": [
      "143.248.53.23 - - [28/Feb/2023 19:36:45] \"GET /api/accelerometer?x=-571.00&y=244.00&z=-825.00 HTTP/1.1\" 200 -\n",
      "143.248.53.23 - - [28/Feb/2023 19:36:45] \"GET /api/accelerometer?x=-571.00&y=244.00&z=-824.00 HTTP/1.1\" 200 -\n"
     ]
    },
    {
     "name": "stdout",
     "output_type": "stream",
     "text": [
      "Received !!!\n",
      "x =  -571.00 y =  244.00  and z=  -825.00\n",
      "Received !!!\n",
      "x =  -571.00 y =  244.00  and z=  -824.00\n"
     ]
    },
    {
     "name": "stderr",
     "output_type": "stream",
     "text": [
      "143.248.53.23 - - [28/Feb/2023 19:36:46] \"GET /api/accelerometer?x=-571.00&y=243.00&z=-825.00 HTTP/1.1\" 200 -\n"
     ]
    },
    {
     "name": "stdout",
     "output_type": "stream",
     "text": [
      "Received !!!\n",
      "x =  -571.00 y =  243.00  and z=  -825.00\n"
     ]
    },
    {
     "name": "stderr",
     "output_type": "stream",
     "text": [
      "143.248.53.23 - - [28/Feb/2023 19:36:46] \"GET /api/accelerometer?x=-572.00&y=245.00&z=-826.00 HTTP/1.1\" 200 -\n"
     ]
    },
    {
     "name": "stdout",
     "output_type": "stream",
     "text": [
      "Received !!!\n",
      "x =  -572.00 y =  245.00  and z=  -826.00\n"
     ]
    },
    {
     "name": "stderr",
     "output_type": "stream",
     "text": [
      "143.248.53.23 - - [28/Feb/2023 19:36:46] \"GET /api/accelerometer?x=-571.00&y=242.00&z=-824.00 HTTP/1.1\" 200 -\n",
      "143.248.53.23 - - [28/Feb/2023 19:36:46] \"GET /api/accelerometer?x=-572.00&y=243.00&z=-825.00 HTTP/1.1\" 200 -\n"
     ]
    },
    {
     "name": "stdout",
     "output_type": "stream",
     "text": [
      "Received !!!\n",
      "x =  -571.00 y =  242.00  and z=  -824.00\n",
      "Received !!!\n",
      "x =  -572.00 y =  243.00  and z=  -825.00\n"
     ]
    },
    {
     "name": "stderr",
     "output_type": "stream",
     "text": [
      "143.248.53.23 - - [28/Feb/2023 19:36:46] \"GET /api/accelerometer?x=-571.00&y=243.00&z=-824.00 HTTP/1.1\" 200 -\n",
      "143.248.53.23 - - [28/Feb/2023 19:36:47] \"GET /api/accelerometer?x=-571.00&y=243.00&z=-825.00 HTTP/1.1\" 200 -\n"
     ]
    },
    {
     "name": "stdout",
     "output_type": "stream",
     "text": [
      "Received !!!\n",
      "x =  -571.00 y =  243.00  and z=  -824.00\n",
      "Received !!!\n",
      "x =  -571.00 y =  243.00  and z=  -825.00\n"
     ]
    },
    {
     "name": "stderr",
     "output_type": "stream",
     "text": [
      "143.248.53.23 - - [28/Feb/2023 19:36:47] \"GET /api/accelerometer?x=-572.00&y=244.00&z=-823.00 HTTP/1.1\" 200 -\n",
      "143.248.53.23 - - [28/Feb/2023 19:36:47] \"GET /api/accelerometer?x=-572.00&y=243.00&z=-825.00 HTTP/1.1\" 200 -\n"
     ]
    },
    {
     "name": "stdout",
     "output_type": "stream",
     "text": [
      "Received !!!\n",
      "x =  -572.00 y =  244.00  and z=  -823.00\n",
      "Received !!!\n",
      "x =  -572.00 y =  243.00  and z=  -825.00\n"
     ]
    },
    {
     "name": "stderr",
     "output_type": "stream",
     "text": [
      "143.248.53.23 - - [28/Feb/2023 19:36:47] \"GET /api/accelerometer?x=-571.00&y=242.00&z=-827.00 HTTP/1.1\" 200 -\n",
      "143.248.53.23 - - [28/Feb/2023 19:36:47] \"GET /api/accelerometer?x=-571.00&y=244.00&z=-826.00 HTTP/1.1\" 200 -\n"
     ]
    },
    {
     "name": "stdout",
     "output_type": "stream",
     "text": [
      "Received !!!\n",
      "x =  -571.00 y =  242.00  and z=  -827.00\n",
      "Received !!!\n",
      "x =  -571.00 y =  244.00  and z=  -826.00\n"
     ]
    },
    {
     "name": "stderr",
     "output_type": "stream",
     "text": [
      "143.248.53.23 - - [28/Feb/2023 19:36:48] \"GET /api/accelerometer?x=-572.00&y=243.00&z=-824.00 HTTP/1.1\" 200 -\n",
      "143.248.53.23 - - [28/Feb/2023 19:36:48] \"GET /api/accelerometer?x=-571.00&y=244.00&z=-825.00 HTTP/1.1\" 200 -\n"
     ]
    },
    {
     "name": "stdout",
     "output_type": "stream",
     "text": [
      "Received !!!\n",
      "x =  -572.00 y =  243.00  and z=  -824.00\n",
      "Received !!!\n",
      "x =  -571.00 y =  244.00  and z=  -825.00\n"
     ]
    },
    {
     "name": "stderr",
     "output_type": "stream",
     "text": [
      "143.248.53.23 - - [28/Feb/2023 19:36:48] \"GET /api/accelerometer?x=-571.00&y=243.00&z=-823.00 HTTP/1.1\" 200 -\n",
      "143.248.53.23 - - [28/Feb/2023 19:36:48] \"GET /api/accelerometer?x=-570.00&y=245.00&z=-825.00 HTTP/1.1\" 200 -\n"
     ]
    },
    {
     "name": "stdout",
     "output_type": "stream",
     "text": [
      "Received !!!\n",
      "x =  -571.00 y =  243.00  and z=  -823.00\n",
      "Received !!!\n",
      "x =  -570.00 y =  245.00  and z=  -825.00\n"
     ]
    },
    {
     "name": "stderr",
     "output_type": "stream",
     "text": [
      "143.248.53.23 - - [28/Feb/2023 19:36:48] \"GET /api/accelerometer?x=-570.00&y=244.00&z=-827.00 HTTP/1.1\" 200 -\n",
      "143.248.53.23 - - [28/Feb/2023 19:36:48] \"GET /api/accelerometer?x=-572.00&y=243.00&z=-824.00 HTTP/1.1\" 200 -\n"
     ]
    },
    {
     "name": "stdout",
     "output_type": "stream",
     "text": [
      "Received !!!\n",
      "x =  -570.00 y =  244.00  and z=  -827.00\n",
      "Received !!!\n",
      "x =  -572.00 y =  243.00  and z=  -824.00\n"
     ]
    },
    {
     "name": "stderr",
     "output_type": "stream",
     "text": [
      "143.248.53.23 - - [28/Feb/2023 19:36:49] \"GET /api/accelerometer?x=-572.00&y=243.00&z=-824.00 HTTP/1.1\" 200 -\n"
     ]
    },
    {
     "name": "stdout",
     "output_type": "stream",
     "text": [
      "Received !!!\n",
      "x =  -572.00 y =  243.00  and z=  -824.00\n"
     ]
    },
    {
     "name": "stderr",
     "output_type": "stream",
     "text": [
      "143.248.53.23 - - [28/Feb/2023 19:36:49] \"GET /api/accelerometer?x=-572.00&y=242.00&z=-826.00 HTTP/1.1\" 200 -\n"
     ]
    },
    {
     "name": "stdout",
     "output_type": "stream",
     "text": [
      "Received !!!\n",
      "x =  -572.00 y =  242.00  and z=  -826.00\n"
     ]
    },
    {
     "name": "stderr",
     "output_type": "stream",
     "text": [
      "143.248.53.23 - - [28/Feb/2023 19:36:49] \"GET /api/accelerometer?x=-570.00&y=243.00&z=-824.00 HTTP/1.1\" 200 -\n",
      "143.248.53.23 - - [28/Feb/2023 19:36:49] \"GET /api/accelerometer?x=-569.00&y=243.00&z=-828.00 HTTP/1.1\" 200 -\n"
     ]
    },
    {
     "name": "stdout",
     "output_type": "stream",
     "text": [
      "Received !!!\n",
      "x =  -570.00 y =  243.00  and z=  -824.00\n",
      "Received !!!\n",
      "x =  -569.00 y =  243.00  and z=  -828.00\n"
     ]
    },
    {
     "name": "stderr",
     "output_type": "stream",
     "text": [
      "143.248.53.23 - - [28/Feb/2023 19:36:50] \"GET /api/accelerometer?x=-571.00&y=244.00&z=-825.00 HTTP/1.1\" 200 -\n",
      "143.248.53.23 - - [28/Feb/2023 19:36:50] \"GET /api/accelerometer?x=-571.00&y=244.00&z=-824.00 HTTP/1.1\" 200 -\n"
     ]
    },
    {
     "name": "stdout",
     "output_type": "stream",
     "text": [
      "Received !!!\n",
      "x =  -571.00 y =  244.00  and z=  -825.00\n",
      "Received !!!\n",
      "x =  -571.00 y =  244.00  and z=  -824.00\n"
     ]
    },
    {
     "name": "stderr",
     "output_type": "stream",
     "text": [
      "143.248.53.23 - - [28/Feb/2023 19:36:50] \"GET /api/accelerometer?x=-570.00&y=244.00&z=-823.00 HTTP/1.1\" 200 -\n",
      "143.248.53.23 - - [28/Feb/2023 19:36:50] \"GET /api/accelerometer?x=-570.00&y=242.00&z=-823.00 HTTP/1.1\" 200 -\n"
     ]
    },
    {
     "name": "stdout",
     "output_type": "stream",
     "text": [
      "Received !!!\n",
      "x =  -570.00 y =  244.00  and z=  -823.00\n",
      "Received !!!\n",
      "x =  -570.00 y =  242.00  and z=  -823.00\n"
     ]
    },
    {
     "name": "stderr",
     "output_type": "stream",
     "text": [
      "143.248.53.23 - - [28/Feb/2023 19:36:50] \"GET /api/accelerometer?x=-571.00&y=243.00&z=-825.00 HTTP/1.1\" 200 -\n"
     ]
    },
    {
     "name": "stdout",
     "output_type": "stream",
     "text": [
      "Received !!!\n",
      "x =  -571.00 y =  243.00  and z=  -825.00\n"
     ]
    },
    {
     "name": "stderr",
     "output_type": "stream",
     "text": [
      "143.248.53.23 - - [28/Feb/2023 19:36:50] \"GET /api/accelerometer?x=-570.00&y=243.00&z=-824.00 HTTP/1.1\" 200 -\n",
      "143.248.53.23 - - [28/Feb/2023 19:36:51] \"GET /api/accelerometer?x=-569.00&y=245.00&z=-823.00 HTTP/1.1\" 200 -\n"
     ]
    },
    {
     "name": "stdout",
     "output_type": "stream",
     "text": [
      "Received !!!\n",
      "x =  -570.00 y =  243.00  and z=  -824.00\n",
      "Received !!!\n",
      "x =  -569.00 y =  245.00  and z=  -823.00\n"
     ]
    },
    {
     "name": "stderr",
     "output_type": "stream",
     "text": [
      "143.248.53.23 - - [28/Feb/2023 19:36:51] \"GET /api/accelerometer?x=-571.00&y=243.00&z=-825.00 HTTP/1.1\" 200 -\n",
      "143.248.53.23 - - [28/Feb/2023 19:36:51] \"GET /api/accelerometer?x=-571.00&y=244.00&z=-823.00 HTTP/1.1\" 200 -\n"
     ]
    },
    {
     "name": "stdout",
     "output_type": "stream",
     "text": [
      "Received !!!\n",
      "x =  -571.00 y =  243.00  and z=  -825.00\n",
      "Received !!!\n",
      "x =  -571.00 y =  244.00  and z=  -823.00\n"
     ]
    },
    {
     "name": "stderr",
     "output_type": "stream",
     "text": [
      "143.248.53.23 - - [28/Feb/2023 19:36:51] \"GET /api/accelerometer?x=-572.00&y=243.00&z=-825.00 HTTP/1.1\" 200 -\n",
      "143.248.53.23 - - [28/Feb/2023 19:36:51] \"GET /api/accelerometer?x=-572.00&y=244.00&z=-826.00 HTTP/1.1\" 200 -\n"
     ]
    },
    {
     "name": "stdout",
     "output_type": "stream",
     "text": [
      "Received !!!\n",
      "x =  -572.00 y =  243.00  and z=  -825.00\n",
      "Received !!!\n",
      "x =  -572.00 y =  244.00  and z=  -826.00\n"
     ]
    },
    {
     "name": "stderr",
     "output_type": "stream",
     "text": [
      "143.248.53.23 - - [28/Feb/2023 19:36:52] \"GET /api/accelerometer?x=-571.00&y=243.00&z=-825.00 HTTP/1.1\" 200 -\n",
      "143.248.53.23 - - [28/Feb/2023 19:36:52] \"GET /api/accelerometer?x=-570.00&y=243.00&z=-824.00 HTTP/1.1\" 200 -\n"
     ]
    },
    {
     "name": "stdout",
     "output_type": "stream",
     "text": [
      "Received !!!\n",
      "x =  -571.00 y =  243.00  and z=  -825.00\n",
      "Received !!!\n",
      "x =  -570.00 y =  243.00  and z=  -824.00\n"
     ]
    },
    {
     "name": "stderr",
     "output_type": "stream",
     "text": [
      "143.248.53.23 - - [28/Feb/2023 19:36:52] \"GET /api/accelerometer?x=-571.00&y=245.00&z=-824.00 HTTP/1.1\" 200 -\n"
     ]
    },
    {
     "name": "stdout",
     "output_type": "stream",
     "text": [
      "Received !!!\n",
      "x =  -571.00 y =  245.00  and z=  -824.00\n"
     ]
    },
    {
     "name": "stderr",
     "output_type": "stream",
     "text": [
      "143.248.53.23 - - [28/Feb/2023 19:36:52] \"GET /api/accelerometer?x=-573.00&y=244.00&z=-825.00 HTTP/1.1\" 200 -\n",
      "143.248.53.23 - - [28/Feb/2023 19:36:52] \"GET /api/accelerometer?x=-571.00&y=243.00&z=-825.00 HTTP/1.1\" 200 -\n"
     ]
    },
    {
     "name": "stdout",
     "output_type": "stream",
     "text": [
      "Received !!!\n",
      "x =  -573.00 y =  244.00  and z=  -825.00\n",
      "Received !!!\n",
      "x =  -571.00 y =  243.00  and z=  -825.00\n"
     ]
    },
    {
     "name": "stderr",
     "output_type": "stream",
     "text": [
      "143.248.53.23 - - [28/Feb/2023 19:36:53] \"GET /api/accelerometer?x=-570.00&y=241.00&z=-823.00 HTTP/1.1\" 200 -\n",
      "143.248.53.23 - - [28/Feb/2023 19:36:53] \"GET /api/accelerometer?x=-572.00&y=244.00&z=-825.00 HTTP/1.1\" 200 -\n"
     ]
    },
    {
     "name": "stdout",
     "output_type": "stream",
     "text": [
      "Received !!!\n",
      "x =  -570.00 y =  241.00  and z=  -823.00\n",
      "Received !!!\n",
      "x =  -572.00 y =  244.00  and z=  -825.00\n"
     ]
    },
    {
     "name": "stderr",
     "output_type": "stream",
     "text": [
      "143.248.53.23 - - [28/Feb/2023 19:36:53] \"GET /api/accelerometer?x=-571.00&y=242.00&z=-824.00 HTTP/1.1\" 200 -\n",
      "143.248.53.23 - - [28/Feb/2023 19:36:53] \"GET /api/accelerometer?x=-571.00&y=242.00&z=-825.00 HTTP/1.1\" 200 -\n"
     ]
    },
    {
     "name": "stdout",
     "output_type": "stream",
     "text": [
      "Received !!!\n",
      "x =  -571.00 y =  242.00  and z=  -824.00\n",
      "Received !!!\n",
      "x =  -571.00 y =  242.00  and z=  -825.00\n"
     ]
    },
    {
     "name": "stderr",
     "output_type": "stream",
     "text": [
      "143.248.53.23 - - [28/Feb/2023 19:36:53] \"GET /api/accelerometer?x=-571.00&y=243.00&z=-827.00 HTTP/1.1\" 200 -\n",
      "143.248.53.23 - - [28/Feb/2023 19:36:54] \"GET /api/accelerometer?x=-572.00&y=245.00&z=-824.00 HTTP/1.1\" 200 -\n"
     ]
    },
    {
     "name": "stdout",
     "output_type": "stream",
     "text": [
      "Received !!!\n",
      "x =  -571.00 y =  243.00  and z=  -827.00\n",
      "Received !!!\n",
      "x =  -572.00 y =  245.00  and z=  -824.00\n"
     ]
    },
    {
     "name": "stderr",
     "output_type": "stream",
     "text": [
      "143.248.53.23 - - [28/Feb/2023 19:36:54] \"GET /api/accelerometer?x=-571.00&y=243.00&z=-825.00 HTTP/1.1\" 200 -\n",
      "143.248.53.23 - - [28/Feb/2023 19:36:54] \"GET /api/accelerometer?x=-572.00&y=244.00&z=-824.00 HTTP/1.1\" 200 -\n"
     ]
    },
    {
     "name": "stdout",
     "output_type": "stream",
     "text": [
      "Received !!!\n",
      "x =  -571.00 y =  243.00  and z=  -825.00\n",
      "Received !!!\n",
      "x =  -572.00 y =  244.00  and z=  -824.00\n"
     ]
    },
    {
     "name": "stderr",
     "output_type": "stream",
     "text": [
      "143.248.53.23 - - [28/Feb/2023 19:36:54] \"GET /api/accelerometer?x=-571.00&y=241.00&z=-825.00 HTTP/1.1\" 200 -\n",
      "143.248.53.23 - - [28/Feb/2023 19:36:54] \"GET /api/accelerometer?x=-571.00&y=243.00&z=-825.00 HTTP/1.1\" 200 -\n"
     ]
    },
    {
     "name": "stdout",
     "output_type": "stream",
     "text": [
      "Received !!!\n",
      "x =  -571.00 y =  241.00  and z=  -825.00\n",
      "Received !!!\n",
      "x =  -571.00 y =  243.00  and z=  -825.00\n"
     ]
    },
    {
     "name": "stderr",
     "output_type": "stream",
     "text": [
      "143.248.53.23 - - [28/Feb/2023 19:36:55] \"GET /api/accelerometer?x=-572.00&y=243.00&z=-824.00 HTTP/1.1\" 200 -\n",
      "143.248.53.23 - - [28/Feb/2023 19:36:55] \"GET /api/accelerometer?x=-570.00&y=244.00&z=-824.00 HTTP/1.1\" 200 -\n"
     ]
    },
    {
     "name": "stdout",
     "output_type": "stream",
     "text": [
      "Received !!!\n",
      "x =  -572.00 y =  243.00  and z=  -824.00\n",
      "Received !!!\n",
      "x =  -570.00 y =  244.00  and z=  -824.00\n"
     ]
    },
    {
     "name": "stderr",
     "output_type": "stream",
     "text": [
      "143.248.53.23 - - [28/Feb/2023 19:36:55] \"GET /api/accelerometer?x=-571.00&y=244.00&z=-825.00 HTTP/1.1\" 200 -\n",
      "143.248.53.23 - - [28/Feb/2023 19:36:55] \"GET /api/accelerometer?x=-570.00&y=243.00&z=-823.00 HTTP/1.1\" 200 -\n"
     ]
    },
    {
     "name": "stdout",
     "output_type": "stream",
     "text": [
      "Received !!!\n",
      "x =  -571.00 y =  244.00  and z=  -825.00\n",
      "Received !!!\n",
      "x =  -570.00 y =  243.00  and z=  -823.00\n"
     ]
    },
    {
     "name": "stderr",
     "output_type": "stream",
     "text": [
      "143.248.53.23 - - [28/Feb/2023 19:36:55] \"GET /api/accelerometer?x=-571.00&y=243.00&z=-826.00 HTTP/1.1\" 200 -\n",
      "143.248.53.23 - - [28/Feb/2023 19:36:55] \"GET /api/accelerometer?x=-570.00&y=243.00&z=-825.00 HTTP/1.1\" 200 -\n"
     ]
    },
    {
     "name": "stdout",
     "output_type": "stream",
     "text": [
      "Received !!!\n",
      "x =  -571.00 y =  243.00  and z=  -826.00\n",
      "Received !!!\n",
      "x =  -570.00 y =  243.00  and z=  -825.00\n"
     ]
    },
    {
     "name": "stderr",
     "output_type": "stream",
     "text": [
      "143.248.53.23 - - [28/Feb/2023 19:36:56] \"GET /api/accelerometer?x=-570.00&y=245.00&z=-825.00 HTTP/1.1\" 200 -\n",
      "143.248.53.23 - - [28/Feb/2023 19:36:56] \"GET /api/accelerometer?x=-572.00&y=245.00&z=-825.00 HTTP/1.1\" 200 -\n"
     ]
    },
    {
     "name": "stdout",
     "output_type": "stream",
     "text": [
      "Received !!!\n",
      "x =  -570.00 y =  245.00  and z=  -825.00\n",
      "Received !!!\n",
      "x =  -572.00 y =  245.00  and z=  -825.00\n"
     ]
    },
    {
     "name": "stderr",
     "output_type": "stream",
     "text": [
      "143.248.53.23 - - [28/Feb/2023 19:36:56] \"GET /api/accelerometer?x=-573.00&y=243.00&z=-824.00 HTTP/1.1\" 200 -\n",
      "143.248.53.23 - - [28/Feb/2023 19:36:56] \"GET /api/accelerometer?x=-573.00&y=242.00&z=-825.00 HTTP/1.1\" 200 -\n"
     ]
    },
    {
     "name": "stdout",
     "output_type": "stream",
     "text": [
      "Received !!!\n",
      "x =  -573.00 y =  243.00  and z=  -824.00\n",
      "Received !!!\n",
      "x =  -573.00 y =  242.00  and z=  -825.00\n"
     ]
    },
    {
     "name": "stderr",
     "output_type": "stream",
     "text": [
      "143.248.53.23 - - [28/Feb/2023 19:36:56] \"GET /api/accelerometer?x=-573.00&y=243.00&z=-824.00 HTTP/1.1\" 200 -\n"
     ]
    },
    {
     "name": "stdout",
     "output_type": "stream",
     "text": [
      "Received !!!\n",
      "x =  -573.00 y =  243.00  and z=  -824.00\n"
     ]
    },
    {
     "name": "stderr",
     "output_type": "stream",
     "text": [
      "143.248.53.23 - - [28/Feb/2023 19:36:56] \"GET /api/accelerometer?x=-570.00&y=245.00&z=-825.00 HTTP/1.1\" 200 -\n",
      "143.248.53.23 - - [28/Feb/2023 19:36:57] \"GET /api/accelerometer?x=-571.00&y=245.00&z=-825.00 HTTP/1.1\" 200 -\n"
     ]
    },
    {
     "name": "stdout",
     "output_type": "stream",
     "text": [
      "Received !!!\n",
      "x =  -570.00 y =  245.00  and z=  -825.00\n",
      "Received !!!\n",
      "x =  -571.00 y =  245.00  and z=  -825.00\n"
     ]
    },
    {
     "name": "stderr",
     "output_type": "stream",
     "text": [
      "143.248.53.23 - - [28/Feb/2023 19:36:57] \"GET /api/accelerometer?x=-571.00&y=245.00&z=-826.00 HTTP/1.1\" 200 -\n",
      "143.248.53.23 - - [28/Feb/2023 19:36:57] \"GET /api/accelerometer?x=-571.00&y=242.00&z=-824.00 HTTP/1.1\" 200 -\n"
     ]
    },
    {
     "name": "stdout",
     "output_type": "stream",
     "text": [
      "Received !!!\n",
      "x =  -571.00 y =  245.00  and z=  -826.00\n",
      "Received !!!\n",
      "x =  -571.00 y =  242.00  and z=  -824.00\n"
     ]
    },
    {
     "name": "stderr",
     "output_type": "stream",
     "text": [
      "143.248.53.23 - - [28/Feb/2023 19:36:57] \"GET /api/accelerometer?x=-571.00&y=244.00&z=-825.00 HTTP/1.1\" 200 -\n",
      "143.248.53.23 - - [28/Feb/2023 19:36:57] \"GET /api/accelerometer?x=-572.00&y=245.00&z=-826.00 HTTP/1.1\" 200 -\n"
     ]
    },
    {
     "name": "stdout",
     "output_type": "stream",
     "text": [
      "Received !!!\n",
      "x =  -571.00 y =  244.00  and z=  -825.00\n",
      "Received !!!\n",
      "x =  -572.00 y =  245.00  and z=  -826.00\n"
     ]
    },
    {
     "name": "stderr",
     "output_type": "stream",
     "text": [
      "143.248.53.23 - - [28/Feb/2023 19:36:58] \"GET /api/accelerometer?x=-571.00&y=243.00&z=-823.00 HTTP/1.1\" 200 -\n",
      "143.248.53.23 - - [28/Feb/2023 19:36:58] \"GET /api/accelerometer?x=-572.00&y=245.00&z=-824.00 HTTP/1.1\" 200 -\n"
     ]
    },
    {
     "name": "stdout",
     "output_type": "stream",
     "text": [
      "Received !!!\n",
      "x =  -571.00 y =  243.00  and z=  -823.00\n",
      "Received !!!\n",
      "x =  -572.00 y =  245.00  and z=  -824.00\n"
     ]
    },
    {
     "name": "stderr",
     "output_type": "stream",
     "text": [
      "143.248.53.23 - - [28/Feb/2023 19:36:58] \"GET /api/accelerometer?x=-572.00&y=246.00&z=-825.00 HTTP/1.1\" 200 -\n",
      "143.248.53.23 - - [28/Feb/2023 19:36:58] \"GET /api/accelerometer?x=-571.00&y=244.00&z=-825.00 HTTP/1.1\" 200 -\n"
     ]
    },
    {
     "name": "stdout",
     "output_type": "stream",
     "text": [
      "Received !!!\n",
      "x =  -572.00 y =  246.00  and z=  -825.00\n",
      "Received !!!\n",
      "x =  -571.00 y =  244.00  and z=  -825.00\n"
     ]
    },
    {
     "name": "stderr",
     "output_type": "stream",
     "text": [
      "143.248.53.23 - - [28/Feb/2023 19:36:58] \"GET /api/accelerometer?x=-572.00&y=244.00&z=-827.00 HTTP/1.1\" 200 -\n",
      "143.248.53.23 - - [28/Feb/2023 19:36:59] \"GET /api/accelerometer?x=-571.00&y=243.00&z=-825.00 HTTP/1.1\" 200 -\n"
     ]
    },
    {
     "name": "stdout",
     "output_type": "stream",
     "text": [
      "Received !!!\n",
      "x =  -572.00 y =  244.00  and z=  -827.00\n",
      "Received !!!\n",
      "x =  -571.00 y =  243.00  and z=  -825.00\n"
     ]
    },
    {
     "name": "stderr",
     "output_type": "stream",
     "text": [
      "143.248.53.23 - - [28/Feb/2023 19:36:59] \"GET /api/accelerometer?x=-571.00&y=242.00&z=-825.00 HTTP/1.1\" 200 -\n",
      "143.248.53.23 - - [28/Feb/2023 19:36:59] \"GET /api/accelerometer?x=-571.00&y=244.00&z=-824.00 HTTP/1.1\" 200 -\n"
     ]
    },
    {
     "name": "stdout",
     "output_type": "stream",
     "text": [
      "Received !!!\n",
      "x =  -571.00 y =  242.00  and z=  -825.00\n",
      "Received !!!\n",
      "x =  -571.00 y =  244.00  and z=  -824.00\n"
     ]
    },
    {
     "name": "stderr",
     "output_type": "stream",
     "text": [
      "143.248.53.23 - - [28/Feb/2023 19:36:59] \"GET /api/accelerometer?x=-570.00&y=244.00&z=-824.00 HTTP/1.1\" 200 -\n",
      "143.248.53.23 - - [28/Feb/2023 19:36:59] \"GET /api/accelerometer?x=-570.00&y=245.00&z=-825.00 HTTP/1.1\" 200 -\n"
     ]
    },
    {
     "name": "stdout",
     "output_type": "stream",
     "text": [
      "Received !!!\n",
      "x =  -570.00 y =  244.00  and z=  -824.00\n",
      "Received !!!\n",
      "x =  -570.00 y =  245.00  and z=  -825.00\n"
     ]
    },
    {
     "name": "stderr",
     "output_type": "stream",
     "text": [
      "143.248.53.23 - - [28/Feb/2023 19:36:59] \"GET /api/accelerometer?x=-572.00&y=244.00&z=-824.00 HTTP/1.1\" 200 -\n",
      "143.248.53.23 - - [28/Feb/2023 19:37:00] \"GET /api/accelerometer?x=-569.00&y=245.00&z=-826.00 HTTP/1.1\" 200 -\n"
     ]
    },
    {
     "name": "stdout",
     "output_type": "stream",
     "text": [
      "Received !!!\n",
      "x =  -572.00 y =  244.00  and z=  -824.00\n",
      "Received !!!\n",
      "x =  -569.00 y =  245.00  and z=  -826.00\n"
     ]
    },
    {
     "name": "stderr",
     "output_type": "stream",
     "text": [
      "143.248.53.23 - - [28/Feb/2023 19:37:00] \"GET /api/accelerometer?x=-571.00&y=245.00&z=-825.00 HTTP/1.1\" 200 -\n",
      "143.248.53.23 - - [28/Feb/2023 19:37:00] \"GET /api/accelerometer?x=-572.00&y=244.00&z=-825.00 HTTP/1.1\" 200 -\n"
     ]
    },
    {
     "name": "stdout",
     "output_type": "stream",
     "text": [
      "Received !!!\n",
      "x =  -571.00 y =  245.00  and z=  -825.00\n",
      "Received !!!\n",
      "x =  -572.00 y =  244.00  and z=  -825.00\n"
     ]
    },
    {
     "name": "stderr",
     "output_type": "stream",
     "text": [
      "143.248.53.23 - - [28/Feb/2023 19:37:00] \"GET /api/accelerometer?x=-572.00&y=244.00&z=-826.00 HTTP/1.1\" 200 -\n",
      "143.248.53.23 - - [28/Feb/2023 19:37:00] \"GET /api/accelerometer?x=-571.00&y=244.00&z=-824.00 HTTP/1.1\" 200 -\n"
     ]
    },
    {
     "name": "stdout",
     "output_type": "stream",
     "text": [
      "Received !!!\n",
      "x =  -572.00 y =  244.00  and z=  -826.00\n",
      "Received !!!\n",
      "x =  -571.00 y =  244.00  and z=  -824.00\n"
     ]
    },
    {
     "name": "stderr",
     "output_type": "stream",
     "text": [
      "143.248.53.23 - - [28/Feb/2023 19:37:01] \"GET /api/accelerometer?x=-572.00&y=244.00&z=-824.00 HTTP/1.1\" 200 -\n",
      "143.248.53.23 - - [28/Feb/2023 19:37:01] \"GET /api/accelerometer?x=-573.00&y=244.00&z=-826.00 HTTP/1.1\" 200 -\n"
     ]
    },
    {
     "name": "stdout",
     "output_type": "stream",
     "text": [
      "Received !!!\n",
      "x =  -572.00 y =  244.00  and z=  -824.00\n",
      "Received !!!\n",
      "x =  -573.00 y =  244.00  and z=  -826.00\n"
     ]
    },
    {
     "name": "stderr",
     "output_type": "stream",
     "text": [
      "143.248.53.23 - - [28/Feb/2023 19:37:01] \"GET /api/accelerometer?x=-570.00&y=243.00&z=-825.00 HTTP/1.1\" 200 -\n",
      "143.248.53.23 - - [28/Feb/2023 19:37:01] \"GET /api/accelerometer?x=-571.00&y=243.00&z=-826.00 HTTP/1.1\" 200 -\n"
     ]
    },
    {
     "name": "stdout",
     "output_type": "stream",
     "text": [
      "Received !!!\n",
      "x =  -570.00 y =  243.00  and z=  -825.00\n",
      "Received !!!\n",
      "x =  -571.00 y =  243.00  and z=  -826.00\n"
     ]
    },
    {
     "name": "stderr",
     "output_type": "stream",
     "text": [
      "143.248.53.23 - - [28/Feb/2023 19:37:01] \"GET /api/accelerometer?x=-570.00&y=243.00&z=-824.00 HTTP/1.1\" 200 -\n",
      "143.248.53.23 - - [28/Feb/2023 19:37:01] \"GET /api/accelerometer?x=-571.00&y=243.00&z=-825.00 HTTP/1.1\" 200 -\n"
     ]
    },
    {
     "name": "stdout",
     "output_type": "stream",
     "text": [
      "Received !!!\n",
      "x =  -570.00 y =  243.00  and z=  -824.00\n",
      "Received !!!\n",
      "x =  -571.00 y =  243.00  and z=  -825.00\n"
     ]
    },
    {
     "name": "stderr",
     "output_type": "stream",
     "text": [
      "143.248.53.23 - - [28/Feb/2023 19:37:02] \"GET /api/accelerometer?x=-572.00&y=245.00&z=-825.00 HTTP/1.1\" 200 -\n",
      "143.248.53.23 - - [28/Feb/2023 19:37:02] \"GET /api/accelerometer?x=-571.00&y=245.00&z=-824.00 HTTP/1.1\" 200 -\n"
     ]
    },
    {
     "name": "stdout",
     "output_type": "stream",
     "text": [
      "Received !!!\n",
      "x =  -572.00 y =  245.00  and z=  -825.00\n",
      "Received !!!\n",
      "x =  -571.00 y =  245.00  and z=  -824.00\n"
     ]
    },
    {
     "name": "stderr",
     "output_type": "stream",
     "text": [
      "143.248.53.23 - - [28/Feb/2023 19:37:02] \"GET /api/accelerometer?x=-572.00&y=244.00&z=-824.00 HTTP/1.1\" 200 -\n",
      "143.248.53.23 - - [28/Feb/2023 19:37:02] \"GET /api/accelerometer?x=-571.00&y=243.00&z=-826.00 HTTP/1.1\" 200 -\n"
     ]
    },
    {
     "name": "stdout",
     "output_type": "stream",
     "text": [
      "Received !!!\n",
      "x =  -572.00 y =  244.00  and z=  -824.00\n",
      "Received !!!\n",
      "x =  -571.00 y =  243.00  and z=  -826.00\n"
     ]
    },
    {
     "name": "stderr",
     "output_type": "stream",
     "text": [
      "143.248.53.23 - - [28/Feb/2023 19:37:02] \"GET /api/accelerometer?x=-570.00&y=242.00&z=-825.00 HTTP/1.1\" 200 -\n",
      "143.248.53.23 - - [28/Feb/2023 19:37:02] \"GET /api/accelerometer?x=-570.00&y=241.00&z=-825.00 HTTP/1.1\" 200 -\n"
     ]
    },
    {
     "name": "stdout",
     "output_type": "stream",
     "text": [
      "Received !!!\n",
      "x =  -570.00 y =  242.00  and z=  -825.00\n",
      "Received !!!\n",
      "x =  -570.00 y =  241.00  and z=  -825.00\n"
     ]
    },
    {
     "name": "stderr",
     "output_type": "stream",
     "text": [
      "143.248.53.23 - - [28/Feb/2023 19:37:03] \"GET /api/accelerometer?x=-572.00&y=243.00&z=-826.00 HTTP/1.1\" 200 -\n",
      "143.248.53.23 - - [28/Feb/2023 19:37:03] \"GET /api/accelerometer?x=-571.00&y=243.00&z=-825.00 HTTP/1.1\" 200 -\n"
     ]
    },
    {
     "name": "stdout",
     "output_type": "stream",
     "text": [
      "Received !!!\n",
      "x =  -572.00 y =  243.00  and z=  -826.00\n",
      "Received !!!\n",
      "x =  -571.00 y =  243.00  and z=  -825.00\n"
     ]
    },
    {
     "name": "stderr",
     "output_type": "stream",
     "text": [
      "143.248.53.23 - - [28/Feb/2023 19:37:03] \"GET /api/accelerometer?x=-572.00&y=244.00&z=-824.00 HTTP/1.1\" 200 -\n",
      "143.248.53.23 - - [28/Feb/2023 19:37:03] \"GET /api/accelerometer?x=-571.00&y=244.00&z=-825.00 HTTP/1.1\" 200 -\n"
     ]
    },
    {
     "name": "stdout",
     "output_type": "stream",
     "text": [
      "Received !!!\n",
      "x =  -572.00 y =  244.00  and z=  -824.00\n",
      "Received !!!\n",
      "x =  -571.00 y =  244.00  and z=  -825.00\n"
     ]
    },
    {
     "name": "stderr",
     "output_type": "stream",
     "text": [
      "143.248.53.23 - - [28/Feb/2023 19:37:04] \"GET /api/accelerometer?x=-572.00&y=243.00&z=-824.00 HTTP/1.1\" 200 -\n",
      "143.248.53.23 - - [28/Feb/2023 19:37:04] \"GET /api/accelerometer?x=-570.00&y=243.00&z=-826.00 HTTP/1.1\" 200 -\n"
     ]
    },
    {
     "name": "stdout",
     "output_type": "stream",
     "text": [
      "Received !!!\n",
      "x =  -572.00 y =  243.00  and z=  -824.00\n",
      "Received !!!\n",
      "x =  -570.00 y =  243.00  and z=  -826.00\n"
     ]
    },
    {
     "name": "stderr",
     "output_type": "stream",
     "text": [
      "143.248.53.23 - - [28/Feb/2023 19:37:04] \"GET /api/accelerometer?x=-571.00&y=244.00&z=-824.00 HTTP/1.1\" 200 -\n",
      "143.248.53.23 - - [28/Feb/2023 19:37:04] \"GET /api/accelerometer?x=-571.00&y=242.00&z=-826.00 HTTP/1.1\" 200 -\n"
     ]
    },
    {
     "name": "stdout",
     "output_type": "stream",
     "text": [
      "Received !!!\n",
      "x =  -571.00 y =  244.00  and z=  -824.00\n",
      "Received !!!\n",
      "x =  -571.00 y =  242.00  and z=  -826.00\n"
     ]
    },
    {
     "name": "stderr",
     "output_type": "stream",
     "text": [
      "143.248.53.23 - - [28/Feb/2023 19:37:04] \"GET /api/accelerometer?x=-569.00&y=244.00&z=-825.00 HTTP/1.1\" 200 -\n"
     ]
    },
    {
     "name": "stdout",
     "output_type": "stream",
     "text": [
      "Received !!!\n",
      "x =  -569.00 y =  244.00  and z=  -825.00\n"
     ]
    },
    {
     "name": "stderr",
     "output_type": "stream",
     "text": [
      "143.248.53.23 - - [28/Feb/2023 19:37:04] \"GET /api/accelerometer?x=-572.00&y=245.00&z=-823.00 HTTP/1.1\" 200 -\n"
     ]
    },
    {
     "name": "stdout",
     "output_type": "stream",
     "text": [
      "Received !!!\n",
      "x =  -572.00 y =  245.00  and z=  -823.00\n"
     ]
    },
    {
     "name": "stderr",
     "output_type": "stream",
     "text": [
      "143.248.53.23 - - [28/Feb/2023 19:37:05] \"GET /api/accelerometer?x=-570.00&y=243.00&z=-826.00 HTTP/1.1\" 200 -\n",
      "143.248.53.23 - - [28/Feb/2023 19:37:05] \"GET /api/accelerometer?x=-571.00&y=245.00&z=-825.00 HTTP/1.1\" 200 -\n"
     ]
    },
    {
     "name": "stdout",
     "output_type": "stream",
     "text": [
      "Received !!!\n",
      "x =  -570.00 y =  243.00  and z=  -826.00\n",
      "Received !!!\n",
      "x =  -571.00 y =  245.00  and z=  -825.00\n"
     ]
    },
    {
     "name": "stderr",
     "output_type": "stream",
     "text": [
      "143.248.53.23 - - [28/Feb/2023 19:37:05] \"GET /api/accelerometer?x=-571.00&y=244.00&z=-824.00 HTTP/1.1\" 200 -\n"
     ]
    },
    {
     "name": "stdout",
     "output_type": "stream",
     "text": [
      "Received !!!\n",
      "x =  -571.00 y =  244.00  and z=  -824.00\n",
      "Received !!!\n",
      "x =  -571.00 y =  243.00  and z=  -823.00\n"
     ]
    },
    {
     "name": "stderr",
     "output_type": "stream",
     "text": [
      "143.248.53.23 - - [28/Feb/2023 19:37:05] \"GET /api/accelerometer?x=-571.00&y=243.00&z=-823.00 HTTP/1.1\" 200 -\n",
      "143.248.53.23 - - [28/Feb/2023 19:37:06] \"GET /api/accelerometer?x=-571.00&y=242.00&z=-825.00 HTTP/1.1\" 200 -\n",
      "143.248.53.23 - - [28/Feb/2023 19:37:06] \"GET /api/accelerometer?x=-572.00&y=244.00&z=-825.00 HTTP/1.1\" 200 -\n"
     ]
    },
    {
     "name": "stdout",
     "output_type": "stream",
     "text": [
      "Received !!!\n",
      "x =  -571.00 y =  242.00  and z=  -825.00\n",
      "Received !!!\n",
      "x =  -572.00 y =  244.00  and z=  -825.00\n"
     ]
    },
    {
     "name": "stderr",
     "output_type": "stream",
     "text": [
      "143.248.53.23 - - [28/Feb/2023 19:37:06] \"GET /api/accelerometer?x=-571.00&y=243.00&z=-824.00 HTTP/1.1\" 200 -\n",
      "143.248.53.23 - - [28/Feb/2023 19:37:06] \"GET /api/accelerometer?x=-569.00&y=244.00&z=-825.00 HTTP/1.1\" 200 -\n"
     ]
    },
    {
     "name": "stdout",
     "output_type": "stream",
     "text": [
      "Received !!!\n",
      "x =  -571.00 y =  243.00  and z=  -824.00\n",
      "Received !!!\n",
      "x =  -569.00 y =  244.00  and z=  -825.00\n"
     ]
    },
    {
     "name": "stderr",
     "output_type": "stream",
     "text": [
      "143.248.53.23 - - [28/Feb/2023 19:37:06] \"GET /api/accelerometer?x=-571.00&y=244.00&z=-825.00 HTTP/1.1\" 200 -\n"
     ]
    },
    {
     "name": "stdout",
     "output_type": "stream",
     "text": [
      "Received !!!\n",
      "x =  -571.00 y =  244.00  and z=  -825.00\n"
     ]
    },
    {
     "name": "stderr",
     "output_type": "stream",
     "text": [
      "143.248.53.23 - - [28/Feb/2023 19:37:07] \"GET /api/accelerometer?x=-572.00&y=244.00&z=-824.00 HTTP/1.1\" 200 -\n",
      "143.248.53.23 - - [28/Feb/2023 19:37:07] \"GET /api/accelerometer?x=-570.00&y=243.00&z=-824.00 HTTP/1.1\" 200 -\n"
     ]
    },
    {
     "name": "stdout",
     "output_type": "stream",
     "text": [
      "Received !!!\n",
      "x =  -572.00 y =  244.00  and z=  -824.00\n",
      "Received !!!\n",
      "x =  -570.00 y =  243.00  and z=  -824.00\n"
     ]
    },
    {
     "name": "stderr",
     "output_type": "stream",
     "text": [
      "143.248.53.23 - - [28/Feb/2023 19:37:07] \"GET /api/accelerometer?x=-570.00&y=245.00&z=-825.00 HTTP/1.1\" 200 -\n",
      "143.248.53.23 - - [28/Feb/2023 19:37:07] \"GET /api/accelerometer?x=-571.00&y=243.00&z=-826.00 HTTP/1.1\" 200 -\n"
     ]
    },
    {
     "name": "stdout",
     "output_type": "stream",
     "text": [
      "Received !!!\n",
      "x =  -570.00 y =  245.00  and z=  -825.00\n",
      "Received !!!\n",
      "x =  -571.00 y =  243.00  and z=  -826.00\n"
     ]
    },
    {
     "name": "stderr",
     "output_type": "stream",
     "text": [
      "143.248.53.23 - - [28/Feb/2023 19:37:07] \"GET /api/accelerometer?x=-571.00&y=242.00&z=-826.00 HTTP/1.1\" 200 -\n",
      "143.248.53.23 - - [28/Feb/2023 19:37:07] \"GET /api/accelerometer?x=-571.00&y=243.00&z=-826.00 HTTP/1.1\" 200 -\n"
     ]
    },
    {
     "name": "stdout",
     "output_type": "stream",
     "text": [
      "Received !!!\n",
      "x =  -571.00 y =  242.00  and z=  -826.00\n",
      "Received !!!\n",
      "x =  -571.00 y =  243.00  and z=  -826.00\n"
     ]
    },
    {
     "name": "stderr",
     "output_type": "stream",
     "text": [
      "143.248.53.23 - - [28/Feb/2023 19:37:08] \"GET /api/accelerometer?x=-571.00&y=244.00&z=-825.00 HTTP/1.1\" 200 -\n",
      "143.248.53.23 - - [28/Feb/2023 19:37:08] \"GET /api/accelerometer?x=-570.00&y=242.00&z=-823.00 HTTP/1.1\" 200 -\n"
     ]
    },
    {
     "name": "stdout",
     "output_type": "stream",
     "text": [
      "Received !!!\n",
      "x =  -571.00 y =  244.00  and z=  -825.00\n",
      "Received !!!\n",
      "x =  -570.00 y =  242.00  and z=  -823.00\n"
     ]
    },
    {
     "name": "stderr",
     "output_type": "stream",
     "text": [
      "143.248.53.23 - - [28/Feb/2023 19:37:08] \"GET /api/accelerometer?x=-571.00&y=244.00&z=-824.00 HTTP/1.1\" 200 -\n",
      "143.248.53.23 - - [28/Feb/2023 19:37:08] \"GET /api/accelerometer?x=-571.00&y=243.00&z=-825.00 HTTP/1.1\" 200 -\n"
     ]
    },
    {
     "name": "stdout",
     "output_type": "stream",
     "text": [
      "Received !!!\n",
      "x =  -571.00 y =  244.00  and z=  -824.00\n",
      "Received !!!\n",
      "x =  -571.00 y =  243.00  and z=  -825.00\n"
     ]
    },
    {
     "name": "stderr",
     "output_type": "stream",
     "text": [
      "143.248.53.23 - - [28/Feb/2023 19:37:08] \"GET /api/accelerometer?x=-570.00&y=245.00&z=-826.00 HTTP/1.1\" 200 -\n"
     ]
    },
    {
     "name": "stdout",
     "output_type": "stream",
     "text": [
      "Received !!!\n",
      "x =  -570.00 y =  245.00  and z=  -826.00\n"
     ]
    },
    {
     "name": "stderr",
     "output_type": "stream",
     "text": [
      "143.248.53.23 - - [28/Feb/2023 19:37:09] \"GET /api/accelerometer?x=-571.00&y=244.00&z=-825.00 HTTP/1.1\" 200 -\n",
      "143.248.53.23 - - [28/Feb/2023 19:37:09] \"GET /api/accelerometer?x=-572.00&y=242.00&z=-825.00 HTTP/1.1\" 200 -\n"
     ]
    },
    {
     "name": "stdout",
     "output_type": "stream",
     "text": [
      "Received !!!\n",
      "x =  -571.00 y =  244.00  and z=  -825.00\n",
      "Received !!!\n",
      "x =  -572.00 y =  242.00  and z=  -825.00\n"
     ]
    },
    {
     "name": "stderr",
     "output_type": "stream",
     "text": [
      "143.248.53.23 - - [28/Feb/2023 19:37:09] \"GET /api/accelerometer?x=-570.00&y=243.00&z=-825.00 HTTP/1.1\" 200 -\n",
      "143.248.53.23 - - [28/Feb/2023 19:37:09] \"GET /api/accelerometer?x=-569.00&y=243.00&z=-825.00 HTTP/1.1\" 200 -\n"
     ]
    },
    {
     "name": "stdout",
     "output_type": "stream",
     "text": [
      "Received !!!\n",
      "x =  -570.00 y =  243.00  and z=  -825.00\n",
      "Received !!!\n",
      "x =  -569.00 y =  243.00  and z=  -825.00\n"
     ]
    },
    {
     "name": "stderr",
     "output_type": "stream",
     "text": [
      "143.248.53.23 - - [28/Feb/2023 19:37:09] \"GET /api/accelerometer?x=-571.00&y=245.00&z=-825.00 HTTP/1.1\" 200 -\n"
     ]
    },
    {
     "name": "stdout",
     "output_type": "stream",
     "text": [
      "Received !!!\n",
      "x =  -571.00 y =  245.00  and z=  -825.00\n"
     ]
    },
    {
     "name": "stderr",
     "output_type": "stream",
     "text": [
      "143.248.53.23 - - [28/Feb/2023 19:37:09] \"GET /api/accelerometer?x=-571.00&y=243.00&z=-824.00 HTTP/1.1\" 200 -\n",
      "143.248.53.23 - - [28/Feb/2023 19:37:10] \"GET /api/accelerometer?x=-571.00&y=244.00&z=-823.00 HTTP/1.1\" 200 -\n"
     ]
    },
    {
     "name": "stdout",
     "output_type": "stream",
     "text": [
      "Received !!!\n",
      "x =  -571.00 y =  243.00  and z=  -824.00\n",
      "Received !!!\n",
      "x =  -571.00 y =  244.00  and z=  -823.00\n"
     ]
    },
    {
     "name": "stderr",
     "output_type": "stream",
     "text": [
      "143.248.53.23 - - [28/Feb/2023 19:37:10] \"GET /api/accelerometer?x=-571.00&y=243.00&z=-825.00 HTTP/1.1\" 200 -\n",
      "143.248.53.23 - - [28/Feb/2023 19:37:10] \"GET /api/accelerometer?x=-572.00&y=244.00&z=-827.00 HTTP/1.1\" 200 -\n"
     ]
    },
    {
     "name": "stdout",
     "output_type": "stream",
     "text": [
      "Received !!!\n",
      "x =  -571.00 y =  243.00  and z=  -825.00\n",
      "Received !!!\n",
      "x =  -572.00 y =  244.00  and z=  -827.00\n"
     ]
    },
    {
     "name": "stderr",
     "output_type": "stream",
     "text": [
      "143.248.53.23 - - [28/Feb/2023 19:37:10] \"GET /api/accelerometer?x=-570.00&y=242.00&z=-824.00 HTTP/1.1\" 200 -\n",
      "143.248.53.23 - - [28/Feb/2023 19:37:10] \"GET /api/accelerometer?x=-570.00&y=243.00&z=-825.00 HTTP/1.1\" 200 -\n"
     ]
    },
    {
     "name": "stdout",
     "output_type": "stream",
     "text": [
      "Received !!!\n",
      "x =  -570.00 y =  242.00  and z=  -824.00\n",
      "Received !!!\n",
      "x =  -570.00 y =  243.00  and z=  -825.00\n"
     ]
    },
    {
     "name": "stderr",
     "output_type": "stream",
     "text": [
      "143.248.53.23 - - [28/Feb/2023 19:37:10] \"GET /api/accelerometer?x=-570.00&y=242.00&z=-825.00 HTTP/1.1\" 200 -\n",
      "143.248.53.23 - - [28/Feb/2023 19:37:11] \"GET /api/accelerometer?x=-571.00&y=244.00&z=-823.00 HTTP/1.1\" 200 -\n"
     ]
    },
    {
     "name": "stdout",
     "output_type": "stream",
     "text": [
      "Received !!!\n",
      "x =  -570.00 y =  242.00  and z=  -825.00\n",
      "Received !!!\n",
      "x =  -571.00 y =  244.00  and z=  -823.00\n"
     ]
    },
    {
     "name": "stderr",
     "output_type": "stream",
     "text": [
      "143.248.53.23 - - [28/Feb/2023 19:37:11] \"GET /api/accelerometer?x=-573.00&y=245.00&z=-826.00 HTTP/1.1\" 200 -\n",
      "143.248.53.23 - - [28/Feb/2023 19:37:11] \"GET /api/accelerometer?x=-571.00&y=244.00&z=-826.00 HTTP/1.1\" 200 -\n"
     ]
    },
    {
     "name": "stdout",
     "output_type": "stream",
     "text": [
      "Received !!!\n",
      "x =  -573.00 y =  245.00  and z=  -826.00\n",
      "Received !!!\n",
      "x =  -571.00 y =  244.00  and z=  -826.00\n"
     ]
    },
    {
     "name": "stderr",
     "output_type": "stream",
     "text": [
      "143.248.53.23 - - [28/Feb/2023 19:37:11] \"GET /api/accelerometer?x=-569.00&y=244.00&z=-826.00 HTTP/1.1\" 200 -\n"
     ]
    },
    {
     "name": "stdout",
     "output_type": "stream",
     "text": [
      "Received !!!\n",
      "x =  -569.00 y =  244.00  and z=  -826.00\n"
     ]
    },
    {
     "name": "stderr",
     "output_type": "stream",
     "text": [
      "143.248.53.23 - - [28/Feb/2023 19:37:11] \"GET /api/accelerometer?x=-573.00&y=244.00&z=-822.00 HTTP/1.1\" 200 -\n"
     ]
    },
    {
     "name": "stdout",
     "output_type": "stream",
     "text": [
      "Received !!!\n",
      "x =  -573.00 y =  244.00  and z=  -822.00\n"
     ]
    },
    {
     "name": "stderr",
     "output_type": "stream",
     "text": [
      "143.248.53.23 - - [28/Feb/2023 19:37:12] \"GET /api/accelerometer?x=-572.00&y=244.00&z=-824.00 HTTP/1.1\" 200 -\n",
      "143.248.53.23 - - [28/Feb/2023 19:37:12] \"GET /api/accelerometer?x=-573.00&y=245.00&z=-822.00 HTTP/1.1\" 200 -\n"
     ]
    },
    {
     "name": "stdout",
     "output_type": "stream",
     "text": [
      "Received !!!\n",
      "x =  -572.00 y =  244.00  and z=  -824.00\n",
      "Received !!!\n",
      "x =  -573.00 y =  245.00  and z=  -822.00\n"
     ]
    },
    {
     "name": "stderr",
     "output_type": "stream",
     "text": [
      "143.248.53.23 - - [28/Feb/2023 19:37:12] \"GET /api/accelerometer?x=-570.00&y=244.00&z=-825.00 HTTP/1.1\" 200 -\n"
     ]
    },
    {
     "name": "stdout",
     "output_type": "stream",
     "text": [
      "Received !!!\n",
      "x =  -570.00 y =  244.00  and z=  -825.00\n"
     ]
    },
    {
     "name": "stderr",
     "output_type": "stream",
     "text": [
      "143.248.53.23 - - [28/Feb/2023 19:37:12] \"GET /api/accelerometer?x=-571.00&y=244.00&z=-826.00 HTTP/1.1\" 200 -\n"
     ]
    },
    {
     "name": "stdout",
     "output_type": "stream",
     "text": [
      "Received !!!\n",
      "x =  -571.00 y =  244.00  and z=  -826.00\n"
     ]
    },
    {
     "name": "stderr",
     "output_type": "stream",
     "text": [
      "143.248.53.23 - - [28/Feb/2023 19:37:12] \"GET /api/accelerometer?x=-571.00&y=244.00&z=-826.00 HTTP/1.1\" 200 -\n",
      "143.248.53.23 - - [28/Feb/2023 19:37:13] \"GET /api/accelerometer?x=-572.00&y=244.00&z=-825.00 HTTP/1.1\" 200 -\n"
     ]
    },
    {
     "name": "stdout",
     "output_type": "stream",
     "text": [
      "Received !!!\n",
      "x =  -571.00 y =  244.00  and z=  -826.00\n",
      "Received !!!\n",
      "x =  -572.00 y =  244.00  and z=  -825.00\n"
     ]
    },
    {
     "name": "stderr",
     "output_type": "stream",
     "text": [
      "143.248.53.23 - - [28/Feb/2023 19:37:13] \"GET /api/accelerometer?x=-570.00&y=242.00&z=-826.00 HTTP/1.1\" 200 -\n",
      "143.248.53.23 - - [28/Feb/2023 19:37:13] \"GET /api/accelerometer?x=-571.00&y=243.00&z=-823.00 HTTP/1.1\" 200 -\n"
     ]
    },
    {
     "name": "stdout",
     "output_type": "stream",
     "text": [
      "Received !!!\n",
      "x =  -570.00 y =  242.00  and z=  -826.00\n",
      "Received !!!\n",
      "x =  -571.00 y =  243.00  and z=  -823.00\n"
     ]
    },
    {
     "name": "stderr",
     "output_type": "stream",
     "text": [
      "143.248.53.23 - - [28/Feb/2023 19:37:13] \"GET /api/accelerometer?x=-568.00&y=243.00&z=-825.00 HTTP/1.1\" 200 -\n",
      "143.248.53.23 - - [28/Feb/2023 19:37:13] \"GET /api/accelerometer?x=-571.00&y=245.00&z=-826.00 HTTP/1.1\" 200 -\n"
     ]
    },
    {
     "name": "stdout",
     "output_type": "stream",
     "text": [
      "Received !!!\n",
      "x =  -568.00 y =  243.00  and z=  -825.00\n",
      "Received !!!\n",
      "x =  -571.00 y =  245.00  and z=  -826.00\n"
     ]
    },
    {
     "name": "stderr",
     "output_type": "stream",
     "text": [
      "143.248.53.23 - - [28/Feb/2023 19:37:13] \"GET /api/accelerometer?x=-570.00&y=243.00&z=-825.00 HTTP/1.1\" 200 -\n",
      "143.248.53.23 - - [28/Feb/2023 19:37:14] \"GET /api/accelerometer?x=-571.00&y=242.00&z=-825.00 HTTP/1.1\" 200 -\n"
     ]
    },
    {
     "name": "stdout",
     "output_type": "stream",
     "text": [
      "Received !!!\n",
      "x =  -570.00 y =  243.00  and z=  -825.00\n",
      "Received !!!\n",
      "x =  -571.00 y =  242.00  and z=  -825.00\n"
     ]
    },
    {
     "name": "stderr",
     "output_type": "stream",
     "text": [
      "143.248.53.23 - - [28/Feb/2023 19:37:14] \"GET /api/accelerometer?x=-572.00&y=244.00&z=-826.00 HTTP/1.1\" 200 -\n"
     ]
    },
    {
     "name": "stdout",
     "output_type": "stream",
     "text": [
      "Received !!!\n",
      "x =  -572.00 y =  244.00  and z=  -826.00\n"
     ]
    },
    {
     "name": "stderr",
     "output_type": "stream",
     "text": [
      "143.248.53.23 - - [28/Feb/2023 19:37:14] \"GET /api/accelerometer?x=-571.00&y=241.00&z=-826.00 HTTP/1.1\" 200 -\n",
      "143.248.53.23 - - [28/Feb/2023 19:37:14] \"GET /api/accelerometer?x=-570.00&y=243.00&z=-826.00 HTTP/1.1\" 200 -\n"
     ]
    },
    {
     "name": "stdout",
     "output_type": "stream",
     "text": [
      "Received !!!\n",
      "x =  -571.00 y =  241.00  and z=  -826.00\n",
      "Received !!!\n",
      "x =  -570.00 y =  243.00  and z=  -826.00\n"
     ]
    },
    {
     "name": "stderr",
     "output_type": "stream",
     "text": [
      "143.248.53.23 - - [28/Feb/2023 19:37:14] \"GET /api/accelerometer?x=-571.00&y=242.00&z=-826.00 HTTP/1.1\" 200 -\n",
      "143.248.53.23 - - [28/Feb/2023 19:37:15] \"GET /api/accelerometer?x=-571.00&y=243.00&z=-825.00 HTTP/1.1\" 200 -\n"
     ]
    },
    {
     "name": "stdout",
     "output_type": "stream",
     "text": [
      "Received !!!\n",
      "x =  -571.00 y =  242.00  and z=  -826.00\n",
      "Received !!!\n",
      "x =  -571.00 y =  243.00  and z=  -825.00\n"
     ]
    },
    {
     "name": "stderr",
     "output_type": "stream",
     "text": [
      "143.248.53.23 - - [28/Feb/2023 19:37:15] \"GET /api/accelerometer?x=-570.00&y=243.00&z=-827.00 HTTP/1.1\" 200 -\n",
      "143.248.53.23 - - [28/Feb/2023 19:37:15] \"GET /api/accelerometer?x=-571.00&y=242.00&z=-825.00 HTTP/1.1\" 200 -\n"
     ]
    },
    {
     "name": "stdout",
     "output_type": "stream",
     "text": [
      "Received !!!\n",
      "x =  -570.00 y =  243.00  and z=  -827.00\n",
      "Received !!!\n",
      "x =  -571.00 y =  242.00  and z=  -825.00\n"
     ]
    },
    {
     "name": "stderr",
     "output_type": "stream",
     "text": [
      "143.248.53.23 - - [28/Feb/2023 19:37:15] \"GET /api/accelerometer?x=-572.00&y=243.00&z=-826.00 HTTP/1.1\" 200 -\n",
      "143.248.53.23 - - [28/Feb/2023 19:37:15] \"GET /api/accelerometer?x=-570.00&y=242.00&z=-824.00 HTTP/1.1\" 200 -\n"
     ]
    },
    {
     "name": "stdout",
     "output_type": "stream",
     "text": [
      "Received !!!\n",
      "x =  -572.00 y =  243.00  and z=  -826.00\n",
      "Received !!!\n",
      "x =  -570.00 y =  242.00  and z=  -824.00\n"
     ]
    },
    {
     "name": "stderr",
     "output_type": "stream",
     "text": [
      "143.248.53.23 - - [28/Feb/2023 19:37:16] \"GET /api/accelerometer?x=-572.00&y=244.00&z=-825.00 HTTP/1.1\" 200 -\n",
      "143.248.53.23 - - [28/Feb/2023 19:37:16] \"GET /api/accelerometer?x=-570.00&y=244.00&z=-825.00 HTTP/1.1\" 200 -\n"
     ]
    },
    {
     "name": "stdout",
     "output_type": "stream",
     "text": [
      "Received !!!\n",
      "x =  -572.00 y =  244.00  and z=  -825.00\n",
      "Received !!!\n",
      "x =  -570.00 y =  244.00  and z=  -825.00\n"
     ]
    },
    {
     "name": "stderr",
     "output_type": "stream",
     "text": [
      "143.248.53.23 - - [28/Feb/2023 19:37:16] \"GET /api/accelerometer?x=-570.00&y=243.00&z=-826.00 HTTP/1.1\" 200 -\n",
      "143.248.53.23 - - [28/Feb/2023 19:37:16] \"GET /api/accelerometer?x=-571.00&y=242.00&z=-824.00 HTTP/1.1\" 200 -\n"
     ]
    },
    {
     "name": "stdout",
     "output_type": "stream",
     "text": [
      "Received !!!\n",
      "x =  -570.00 y =  243.00  and z=  -826.00\n",
      "Received !!!\n",
      "x =  -571.00 y =  242.00  and z=  -824.00\n"
     ]
    },
    {
     "name": "stderr",
     "output_type": "stream",
     "text": [
      "143.248.53.23 - - [28/Feb/2023 19:37:16] \"GET /api/accelerometer?x=-571.00&y=244.00&z=-824.00 HTTP/1.1\" 200 -\n",
      "143.248.53.23 - - [28/Feb/2023 19:37:16] \"GET /api/accelerometer?x=-571.00&y=244.00&z=-827.00 HTTP/1.1\" 200 -\n"
     ]
    },
    {
     "name": "stdout",
     "output_type": "stream",
     "text": [
      "Received !!!\n",
      "x =  -571.00 y =  244.00  and z=  -824.00\n",
      "Received !!!\n",
      "x =  -571.00 y =  244.00  and z=  -827.00\n"
     ]
    },
    {
     "name": "stderr",
     "output_type": "stream",
     "text": [
      "143.248.53.23 - - [28/Feb/2023 19:37:17] \"GET /api/accelerometer?x=-571.00&y=244.00&z=-826.00 HTTP/1.1\" 200 -\n"
     ]
    },
    {
     "name": "stdout",
     "output_type": "stream",
     "text": [
      "Received !!!\n",
      "x =  -571.00 y =  244.00  and z=  -826.00\n"
     ]
    },
    {
     "name": "stderr",
     "output_type": "stream",
     "text": [
      "143.248.53.23 - - [28/Feb/2023 19:37:17] \"GET /api/accelerometer?x=-571.00&y=244.00&z=-825.00 HTTP/1.1\" 200 -\n"
     ]
    },
    {
     "name": "stdout",
     "output_type": "stream",
     "text": [
      "Received !!!\n",
      "x =  -571.00 y =  244.00  and z=  -825.00\n"
     ]
    },
    {
     "name": "stderr",
     "output_type": "stream",
     "text": [
      "143.248.53.23 - - [28/Feb/2023 19:37:17] \"GET /api/accelerometer?x=-570.00&y=243.00&z=-826.00 HTTP/1.1\" 200 -\n",
      "143.248.53.23 - - [28/Feb/2023 19:37:17] \"GET /api/accelerometer?x=-570.00&y=243.00&z=-824.00 HTTP/1.1\" 200 -\n"
     ]
    },
    {
     "name": "stdout",
     "output_type": "stream",
     "text": [
      "Received !!!\n",
      "x =  -570.00 y =  243.00  and z=  -826.00\n",
      "Received !!!\n",
      "x =  -570.00 y =  243.00  and z=  -824.00\n"
     ]
    },
    {
     "name": "stderr",
     "output_type": "stream",
     "text": [
      "143.248.53.23 - - [28/Feb/2023 19:37:17] \"GET /api/accelerometer?x=-569.00&y=245.00&z=-826.00 HTTP/1.1\" 200 -\n",
      "143.248.53.23 - - [28/Feb/2023 19:37:17] \"GET /api/accelerometer?x=-572.00&y=242.00&z=-826.00 HTTP/1.1\" 200 -\n"
     ]
    },
    {
     "name": "stdout",
     "output_type": "stream",
     "text": [
      "Received !!!\n",
      "x =  -569.00 y =  245.00  and z=  -826.00\n",
      "Received !!!\n",
      "x =  -572.00 y =  242.00  and z=  -826.00\n"
     ]
    },
    {
     "name": "stderr",
     "output_type": "stream",
     "text": [
      "143.248.53.23 - - [28/Feb/2023 19:37:18] \"GET /api/accelerometer?x=-572.00&y=242.00&z=-827.00 HTTP/1.1\" 200 -\n",
      "143.248.53.23 - - [28/Feb/2023 19:37:18] \"GET /api/accelerometer?x=-570.00&y=244.00&z=-826.00 HTTP/1.1\" 200 -\n"
     ]
    },
    {
     "name": "stdout",
     "output_type": "stream",
     "text": [
      "Received !!!\n",
      "x =  -572.00 y =  242.00  and z=  -827.00\n",
      "Received !!!\n",
      "x =  -570.00 y =  244.00  and z=  -826.00\n"
     ]
    },
    {
     "name": "stderr",
     "output_type": "stream",
     "text": [
      "143.248.53.23 - - [28/Feb/2023 19:37:18] \"GET /api/accelerometer?x=-570.00&y=242.00&z=-824.00 HTTP/1.1\" 200 -\n",
      "143.248.53.23 - - [28/Feb/2023 19:37:18] \"GET /api/accelerometer?x=-569.00&y=244.00&z=-827.00 HTTP/1.1\" 200 -\n"
     ]
    },
    {
     "name": "stdout",
     "output_type": "stream",
     "text": [
      "Received !!!\n",
      "x =  -570.00 y =  242.00  and z=  -824.00\n",
      "Received !!!\n",
      "x =  -569.00 y =  244.00  and z=  -827.00\n"
     ]
    },
    {
     "name": "stderr",
     "output_type": "stream",
     "text": [
      "143.248.53.23 - - [28/Feb/2023 19:37:18] \"GET /api/accelerometer?x=-571.00&y=243.00&z=-823.00 HTTP/1.1\" 200 -\n",
      "143.248.53.23 - - [28/Feb/2023 19:37:18] \"GET /api/accelerometer?x=-564.00&y=240.00&z=-838.00 HTTP/1.1\" 200 -\n"
     ]
    },
    {
     "name": "stdout",
     "output_type": "stream",
     "text": [
      "Received !!!\n",
      "x =  -571.00 y =  243.00  and z=  -823.00\n",
      "Received !!!\n",
      "x =  -564.00 y =  240.00  and z=  -838.00\n"
     ]
    },
    {
     "name": "stderr",
     "output_type": "stream",
     "text": [
      "143.248.53.23 - - [28/Feb/2023 19:37:19] \"GET /api/accelerometer?x=-572.00&y=244.00&z=-822.00 HTTP/1.1\" 200 -\n",
      "143.248.53.23 - - [28/Feb/2023 19:37:19] \"GET /api/accelerometer?x=-570.00&y=244.00&z=-827.00 HTTP/1.1\" 200 -\n"
     ]
    },
    {
     "name": "stdout",
     "output_type": "stream",
     "text": [
      "Received !!!\n",
      "x =  -572.00 y =  244.00  and z=  -822.00\n",
      "Received !!!\n",
      "x =  -570.00 y =  244.00  and z=  -827.00\n"
     ]
    },
    {
     "name": "stderr",
     "output_type": "stream",
     "text": [
      "143.248.53.23 - - [28/Feb/2023 19:37:19] \"GET /api/accelerometer?x=-572.00&y=244.00&z=-823.00 HTTP/1.1\" 200 -\n",
      "143.248.53.23 - - [28/Feb/2023 19:37:19] \"GET /api/accelerometer?x=-570.00&y=243.00&z=-827.00 HTTP/1.1\" 200 -\n"
     ]
    },
    {
     "name": "stdout",
     "output_type": "stream",
     "text": [
      "Received !!!\n",
      "x =  -572.00 y =  244.00  and z=  -823.00\n",
      "Received !!!\n",
      "x =  -570.00 y =  243.00  and z=  -827.00\n"
     ]
    },
    {
     "name": "stderr",
     "output_type": "stream",
     "text": [
      "143.248.53.23 - - [28/Feb/2023 19:37:19] \"GET /api/accelerometer?x=-571.00&y=243.00&z=-826.00 HTTP/1.1\" 200 -\n",
      "143.248.53.23 - - [28/Feb/2023 19:37:19] \"GET /api/accelerometer?x=-571.00&y=243.00&z=-825.00 HTTP/1.1\" 200 -\n"
     ]
    },
    {
     "name": "stdout",
     "output_type": "stream",
     "text": [
      "Received !!!\n",
      "x =  -571.00 y =  243.00  and z=  -826.00\n",
      "Received !!!\n",
      "x =  -571.00 y =  243.00  and z=  -825.00\n"
     ]
    },
    {
     "name": "stderr",
     "output_type": "stream",
     "text": [
      "143.248.53.23 - - [28/Feb/2023 19:37:20] \"GET /api/accelerometer?x=-569.00&y=243.00&z=-825.00 HTTP/1.1\" 200 -\n",
      "143.248.53.23 - - [28/Feb/2023 19:37:20] \"GET /api/accelerometer?x=-571.00&y=242.00&z=-826.00 HTTP/1.1\" 200 -\n"
     ]
    },
    {
     "name": "stdout",
     "output_type": "stream",
     "text": [
      "Received !!!\n",
      "x =  -569.00 y =  243.00  and z=  -825.00\n",
      "Received !!!\n",
      "x =  -571.00 y =  242.00  and z=  -826.00\n"
     ]
    },
    {
     "name": "stderr",
     "output_type": "stream",
     "text": [
      "143.248.53.23 - - [28/Feb/2023 19:37:20] \"GET /api/accelerometer?x=-570.00&y=242.00&z=-825.00 HTTP/1.1\" 200 -\n",
      "143.248.53.23 - - [28/Feb/2023 19:37:20] \"GET /api/accelerometer?x=-569.00&y=243.00&z=-825.00 HTTP/1.1\" 200 -\n"
     ]
    },
    {
     "name": "stdout",
     "output_type": "stream",
     "text": [
      "Received !!!\n",
      "x =  -570.00 y =  242.00  and z=  -825.00\n",
      "Received !!!\n",
      "x =  -569.00 y =  243.00  and z=  -825.00\n"
     ]
    },
    {
     "name": "stderr",
     "output_type": "stream",
     "text": [
      "143.248.53.23 - - [28/Feb/2023 19:37:20] \"GET /api/accelerometer?x=-570.00&y=243.00&z=-825.00 HTTP/1.1\" 200 -\n",
      "143.248.53.23 - - [28/Feb/2023 19:37:20] \"GET /api/accelerometer?x=-571.00&y=244.00&z=-825.00 HTTP/1.1\" 200 -\n"
     ]
    },
    {
     "name": "stdout",
     "output_type": "stream",
     "text": [
      "Received !!!\n",
      "x =  -570.00 y =  243.00  and z=  -825.00\n",
      "Received !!!\n",
      "x =  -571.00 y =  244.00  and z=  -825.00\n"
     ]
    },
    {
     "name": "stderr",
     "output_type": "stream",
     "text": [
      "143.248.53.23 - - [28/Feb/2023 19:37:21] \"GET /api/accelerometer?x=-570.00&y=242.00&z=-826.00 HTTP/1.1\" 200 -\n",
      "143.248.53.23 - - [28/Feb/2023 19:37:21] \"GET /api/accelerometer?x=-570.00&y=244.00&z=-826.00 HTTP/1.1\" 200 -\n"
     ]
    },
    {
     "name": "stdout",
     "output_type": "stream",
     "text": [
      "Received !!!\n",
      "x =  -570.00 y =  242.00  and z=  -826.00\n",
      "Received !!!\n",
      "x =  -570.00 y =  244.00  and z=  -826.00\n"
     ]
    },
    {
     "name": "stderr",
     "output_type": "stream",
     "text": [
      "143.248.53.23 - - [28/Feb/2023 19:37:21] \"GET /api/accelerometer?x=-570.00&y=243.00&z=-823.00 HTTP/1.1\" 200 -\n",
      "143.248.53.23 - - [28/Feb/2023 19:37:21] \"GET /api/accelerometer?x=-570.00&y=242.00&z=-825.00 HTTP/1.1\" 200 -\n"
     ]
    },
    {
     "name": "stdout",
     "output_type": "stream",
     "text": [
      "Received !!!\n",
      "x =  -570.00 y =  243.00  and z=  -823.00\n",
      "Received !!!\n",
      "x =  -570.00 y =  242.00  and z=  -825.00\n"
     ]
    },
    {
     "name": "stderr",
     "output_type": "stream",
     "text": [
      "143.248.53.23 - - [28/Feb/2023 19:37:21] \"GET /api/accelerometer?x=-571.00&y=242.00&z=-825.00 HTTP/1.1\" 200 -\n",
      "143.248.53.23 - - [28/Feb/2023 19:37:22] \"GET /api/accelerometer?x=-569.00&y=244.00&z=-826.00 HTTP/1.1\" 200 -\n"
     ]
    },
    {
     "name": "stdout",
     "output_type": "stream",
     "text": [
      "Received !!!\n",
      "x =  -571.00 y =  242.00  and z=  -825.00\n",
      "Received !!!\n",
      "x =  -569.00 y =  244.00  and z=  -826.00\n"
     ]
    },
    {
     "name": "stderr",
     "output_type": "stream",
     "text": [
      "143.248.53.23 - - [28/Feb/2023 19:37:22] \"GET /api/accelerometer?x=-571.00&y=244.00&z=-826.00 HTTP/1.1\" 200 -\n",
      "143.248.53.23 - - [28/Feb/2023 19:37:22] \"GET /api/accelerometer?x=-571.00&y=245.00&z=-824.00 HTTP/1.1\" 200 -\n"
     ]
    },
    {
     "name": "stdout",
     "output_type": "stream",
     "text": [
      "Received !!!\n",
      "x =  -571.00 y =  244.00  and z=  -826.00\n",
      "Received !!!\n",
      "x =  -571.00 y =  245.00  and z=  -824.00\n"
     ]
    },
    {
     "name": "stderr",
     "output_type": "stream",
     "text": [
      "143.248.53.23 - - [28/Feb/2023 19:37:22] \"GET /api/accelerometer?x=-576.00&y=242.00&z=-824.00 HTTP/1.1\" 200 -\n"
     ]
    },
    {
     "name": "stdout",
     "output_type": "stream",
     "text": [
      "Received !!!\n",
      "x =  -576.00 y =  242.00  and z=  -824.00\n"
     ]
    },
    {
     "name": "stderr",
     "output_type": "stream",
     "text": [
      "143.248.53.23 - - [28/Feb/2023 19:37:22] \"GET /api/accelerometer?x=-577.00&y=244.00&z=-811.00 HTTP/1.1\" 200 -\n",
      "143.248.53.23 - - [28/Feb/2023 19:37:23] \"GET /api/accelerometer?x=-571.00&y=242.00&z=-825.00 HTTP/1.1\" 200 -\n"
     ]
    },
    {
     "name": "stdout",
     "output_type": "stream",
     "text": [
      "Received !!!\n",
      "x =  -577.00 y =  244.00  and z=  -811.00\n",
      "Received !!!\n",
      "x =  -571.00 y =  242.00  and z=  -825.00\n"
     ]
    },
    {
     "name": "stderr",
     "output_type": "stream",
     "text": [
      "143.248.53.23 - - [28/Feb/2023 19:37:23] \"GET /api/accelerometer?x=-571.00&y=244.00&z=-825.00 HTTP/1.1\" 200 -\n",
      "143.248.53.23 - - [28/Feb/2023 19:37:23] \"GET /api/accelerometer?x=-570.00&y=245.00&z=-824.00 HTTP/1.1\" 200 -\n"
     ]
    },
    {
     "name": "stdout",
     "output_type": "stream",
     "text": [
      "Received !!!\n",
      "x =  -571.00 y =  244.00  and z=  -825.00\n",
      "Received !!!\n",
      "x =  -570.00 y =  245.00  and z=  -824.00\n"
     ]
    },
    {
     "name": "stderr",
     "output_type": "stream",
     "text": [
      "143.248.53.23 - - [28/Feb/2023 19:37:23] \"GET /api/accelerometer?x=-569.00&y=243.00&z=-826.00 HTTP/1.1\" 200 -\n",
      "143.248.53.23 - - [28/Feb/2023 19:37:23] \"GET /api/accelerometer?x=-570.00&y=242.00&z=-825.00 HTTP/1.1\" 200 -\n"
     ]
    },
    {
     "name": "stdout",
     "output_type": "stream",
     "text": [
      "Received !!!\n",
      "x =  -569.00 y =  243.00  and z=  -826.00\n",
      "Received !!!\n",
      "x =  -570.00 y =  242.00  and z=  -825.00\n"
     ]
    },
    {
     "name": "stderr",
     "output_type": "stream",
     "text": [
      "143.248.53.23 - - [28/Feb/2023 19:37:23] \"GET /api/accelerometer?x=-568.00&y=245.00&z=-826.00 HTTP/1.1\" 200 -\n",
      "143.248.53.23 - - [28/Feb/2023 19:37:24] \"GET /api/accelerometer?x=-571.00&y=243.00&z=-825.00 HTTP/1.1\" 200 -\n"
     ]
    },
    {
     "name": "stdout",
     "output_type": "stream",
     "text": [
      "Received !!!\n",
      "x =  -568.00 y =  245.00  and z=  -826.00\n",
      "Received !!!\n",
      "x =  -571.00 y =  243.00  and z=  -825.00\n"
     ]
    },
    {
     "name": "stderr",
     "output_type": "stream",
     "text": [
      "143.248.53.23 - - [28/Feb/2023 19:37:24] \"GET /api/accelerometer?x=-572.00&y=242.00&z=-827.00 HTTP/1.1\" 200 -\n",
      "143.248.53.23 - - [28/Feb/2023 19:37:24] \"GET /api/accelerometer?x=-572.00&y=244.00&z=-827.00 HTTP/1.1\" 200 -\n"
     ]
    },
    {
     "name": "stdout",
     "output_type": "stream",
     "text": [
      "Received !!!\n",
      "x =  -572.00 y =  242.00  and z=  -827.00\n",
      "Received !!!\n",
      "x =  -572.00 y =  244.00  and z=  -827.00\n"
     ]
    },
    {
     "name": "stderr",
     "output_type": "stream",
     "text": [
      "143.248.53.23 - - [28/Feb/2023 19:37:24] \"GET /api/accelerometer?x=-571.00&y=244.00&z=-825.00 HTTP/1.1\" 200 -\n",
      "143.248.53.23 - - [28/Feb/2023 19:37:24] \"GET /api/accelerometer?x=-571.00&y=243.00&z=-826.00 HTTP/1.1\" 200 -\n"
     ]
    },
    {
     "name": "stdout",
     "output_type": "stream",
     "text": [
      "Received !!!\n",
      "x =  -571.00 y =  244.00  and z=  -825.00\n",
      "Received !!!\n",
      "x =  -571.00 y =  243.00  and z=  -826.00\n"
     ]
    },
    {
     "name": "stderr",
     "output_type": "stream",
     "text": [
      "143.248.53.23 - - [28/Feb/2023 19:37:24] \"GET /api/accelerometer?x=-569.00&y=242.00&z=-825.00 HTTP/1.1\" 200 -\n",
      "143.248.53.23 - - [28/Feb/2023 19:37:25] \"GET /api/accelerometer?x=-571.00&y=242.00&z=-824.00 HTTP/1.1\" 200 -\n"
     ]
    },
    {
     "name": "stdout",
     "output_type": "stream",
     "text": [
      "Received !!!\n",
      "x =  -569.00 y =  242.00  and z=  -825.00\n",
      "Received !!!\n",
      "x =  -571.00 y =  242.00  and z=  -824.00\n"
     ]
    },
    {
     "name": "stderr",
     "output_type": "stream",
     "text": [
      "143.248.53.23 - - [28/Feb/2023 19:37:25] \"GET /api/accelerometer?x=-571.00&y=243.00&z=-824.00 HTTP/1.1\" 200 -\n",
      "143.248.53.23 - - [28/Feb/2023 19:37:25] \"GET /api/accelerometer?x=-571.00&y=242.00&z=-824.00 HTTP/1.1\" 200 -\n"
     ]
    },
    {
     "name": "stdout",
     "output_type": "stream",
     "text": [
      "Received !!!\n",
      "x =  -571.00 y =  243.00  and z=  -824.00\n",
      "Received !!!\n",
      "x =  -571.00 y =  242.00  and z=  -824.00\n"
     ]
    },
    {
     "name": "stderr",
     "output_type": "stream",
     "text": [
      "143.248.53.23 - - [28/Feb/2023 19:37:25] \"GET /api/accelerometer?x=-569.00&y=242.00&z=-825.00 HTTP/1.1\" 200 -\n",
      "143.248.53.23 - - [28/Feb/2023 19:37:25] \"GET /api/accelerometer?x=-569.00&y=244.00&z=-824.00 HTTP/1.1\" 200 -\n"
     ]
    },
    {
     "name": "stdout",
     "output_type": "stream",
     "text": [
      "Received !!!\n",
      "x =  -569.00 y =  242.00  and z=  -825.00\n",
      "Received !!!\n",
      "x =  -569.00 y =  244.00  and z=  -824.00\n"
     ]
    },
    {
     "name": "stderr",
     "output_type": "stream",
     "text": [
      "143.248.53.23 - - [28/Feb/2023 19:37:26] \"GET /api/accelerometer?x=-571.00&y=243.00&z=-824.00 HTTP/1.1\" 200 -\n",
      "143.248.53.23 - - [28/Feb/2023 19:37:26] \"GET /api/accelerometer?x=-571.00&y=242.00&z=-826.00 HTTP/1.1\" 200 -\n"
     ]
    },
    {
     "name": "stdout",
     "output_type": "stream",
     "text": [
      "Received !!!\n",
      "x =  -571.00 y =  243.00  and z=  -824.00\n",
      "Received !!!\n",
      "x =  -571.00 y =  242.00  and z=  -826.00\n"
     ]
    },
    {
     "name": "stderr",
     "output_type": "stream",
     "text": [
      "143.248.53.23 - - [28/Feb/2023 19:37:26] \"GET /api/accelerometer?x=-571.00&y=243.00&z=-825.00 HTTP/1.1\" 200 -\n",
      "143.248.53.23 - - [28/Feb/2023 19:37:26] \"GET /api/accelerometer?x=-570.00&y=243.00&z=-825.00 HTTP/1.1\" 200 -\n"
     ]
    },
    {
     "name": "stdout",
     "output_type": "stream",
     "text": [
      "Received !!!\n",
      "x =  -571.00 y =  243.00  and z=  -825.00\n",
      "Received !!!\n",
      "x =  -570.00 y =  243.00  and z=  -825.00\n"
     ]
    },
    {
     "name": "stderr",
     "output_type": "stream",
     "text": [
      "143.248.53.23 - - [28/Feb/2023 19:37:26] \"GET /api/accelerometer?x=-572.00&y=243.00&z=-825.00 HTTP/1.1\" 200 -\n",
      "143.248.53.23 - - [28/Feb/2023 19:37:26] \"GET /api/accelerometer?x=-569.00&y=242.00&z=-826.00 HTTP/1.1\" 200 -\n"
     ]
    },
    {
     "name": "stdout",
     "output_type": "stream",
     "text": [
      "Received !!!\n",
      "x =  -572.00 y =  243.00  and z=  -825.00\n",
      "Received !!!\n",
      "x =  -569.00 y =  242.00  and z=  -826.00\n"
     ]
    },
    {
     "name": "stderr",
     "output_type": "stream",
     "text": [
      "143.248.53.23 - - [28/Feb/2023 19:37:27] \"GET /api/accelerometer?x=-569.00&y=242.00&z=-826.00 HTTP/1.1\" 200 -\n",
      "143.248.53.23 - - [28/Feb/2023 19:37:27] \"GET /api/accelerometer?x=-571.00&y=242.00&z=-826.00 HTTP/1.1\" 200 -\n"
     ]
    },
    {
     "name": "stdout",
     "output_type": "stream",
     "text": [
      "Received !!!\n",
      "x =  -569.00 y =  242.00  and z=  -826.00\n",
      "Received !!!\n",
      "x =  -571.00 y =  242.00  and z=  -826.00\n"
     ]
    },
    {
     "name": "stderr",
     "output_type": "stream",
     "text": [
      "143.248.53.23 - - [28/Feb/2023 19:37:27] \"GET /api/accelerometer?x=-571.00&y=241.00&z=-826.00 HTTP/1.1\" 200 -\n",
      "143.248.53.23 - - [28/Feb/2023 19:37:27] \"GET /api/accelerometer?x=-574.00&y=242.00&z=-819.00 HTTP/1.1\" 200 -\n"
     ]
    },
    {
     "name": "stdout",
     "output_type": "stream",
     "text": [
      "Received !!!\n",
      "x =  -571.00 y =  241.00  and z=  -826.00\n",
      "Received !!!\n",
      "x =  -574.00 y =  242.00  and z=  -819.00\n"
     ]
    },
    {
     "name": "stderr",
     "output_type": "stream",
     "text": [
      "143.248.53.23 - - [28/Feb/2023 19:37:27] \"GET /api/accelerometer?x=-570.00&y=244.00&z=-827.00 HTTP/1.1\" 200 -\n"
     ]
    },
    {
     "name": "stdout",
     "output_type": "stream",
     "text": [
      "Received !!!\n",
      "x =  -570.00 y =  244.00  and z=  -827.00\n"
     ]
    },
    {
     "name": "stderr",
     "output_type": "stream",
     "text": [
      "143.248.53.23 - - [28/Feb/2023 19:37:28] \"GET /api/accelerometer?x=-571.00&y=242.00&z=-825.00 HTTP/1.1\" 200 -\n",
      "143.248.53.23 - - [28/Feb/2023 19:37:28] \"GET /api/accelerometer?x=-570.00&y=243.00&z=-824.00 HTTP/1.1\" 200 -\n"
     ]
    },
    {
     "name": "stdout",
     "output_type": "stream",
     "text": [
      "Received !!!\n",
      "x =  -571.00 y =  242.00  and z=  -825.00\n",
      "Received !!!\n",
      "x =  -570.00 y =  243.00  and z=  -824.00\n"
     ]
    },
    {
     "name": "stderr",
     "output_type": "stream",
     "text": [
      "143.248.53.23 - - [28/Feb/2023 19:37:28] \"GET /api/accelerometer?x=-571.00&y=243.00&z=-826.00 HTTP/1.1\" 200 -\n",
      "143.248.53.23 - - [28/Feb/2023 19:37:28] \"GET /api/accelerometer?x=-571.00&y=244.00&z=-826.00 HTTP/1.1\" 200 -\n"
     ]
    },
    {
     "name": "stdout",
     "output_type": "stream",
     "text": [
      "Received !!!\n",
      "x =  -571.00 y =  243.00  and z=  -826.00\n",
      "Received !!!\n",
      "x =  -571.00 y =  244.00  and z=  -826.00\n"
     ]
    },
    {
     "name": "stderr",
     "output_type": "stream",
     "text": [
      "143.248.53.23 - - [28/Feb/2023 19:37:28] \"GET /api/accelerometer?x=-572.00&y=246.00&z=-825.00 HTTP/1.1\" 200 -\n",
      "143.248.53.23 - - [28/Feb/2023 19:37:29] \"GET /api/accelerometer?x=-570.00&y=242.00&z=-825.00 HTTP/1.1\" 200 -\n"
     ]
    },
    {
     "name": "stdout",
     "output_type": "stream",
     "text": [
      "Received !!!\n",
      "x =  -572.00 y =  246.00  and z=  -825.00\n",
      "Received !!!\n",
      "x =  -570.00 y =  242.00  and z=  -825.00\n"
     ]
    },
    {
     "name": "stderr",
     "output_type": "stream",
     "text": [
      "143.248.53.23 - - [28/Feb/2023 19:37:29] \"GET /api/accelerometer?x=-570.00&y=241.00&z=-824.00 HTTP/1.1\" 200 -\n",
      "143.248.53.23 - - [28/Feb/2023 19:37:29] \"GET /api/accelerometer?x=-569.00&y=244.00&z=-826.00 HTTP/1.1\" 200 -\n"
     ]
    },
    {
     "name": "stdout",
     "output_type": "stream",
     "text": [
      "Received !!!\n",
      "x =  -570.00 y =  241.00  and z=  -824.00\n",
      "Received !!!\n",
      "x =  -569.00 y =  244.00  and z=  -826.00\n"
     ]
    },
    {
     "name": "stderr",
     "output_type": "stream",
     "text": [
      "143.248.53.23 - - [28/Feb/2023 19:37:29] \"GET /api/accelerometer?x=-569.00&y=243.00&z=-828.00 HTTP/1.1\" 200 -\n",
      "143.248.53.23 - - [28/Feb/2023 19:37:29] \"GET /api/accelerometer?x=-570.00&y=244.00&z=-826.00 HTTP/1.1\" 200 -\n"
     ]
    },
    {
     "name": "stdout",
     "output_type": "stream",
     "text": [
      "Received !!!\n",
      "x =  -569.00 y =  243.00  and z=  -828.00\n",
      "Received !!!\n",
      "x =  -570.00 y =  244.00  and z=  -826.00\n"
     ]
    },
    {
     "name": "stderr",
     "output_type": "stream",
     "text": [
      "143.248.53.23 - - [28/Feb/2023 19:37:29] \"GET /api/accelerometer?x=-570.00&y=244.00&z=-825.00 HTTP/1.1\" 200 -\n",
      "143.248.53.23 - - [28/Feb/2023 19:37:30] \"GET /api/accelerometer?x=-569.00&y=244.00&z=-825.00 HTTP/1.1\" 200 -\n"
     ]
    },
    {
     "name": "stdout",
     "output_type": "stream",
     "text": [
      "Received !!!\n",
      "x =  -570.00 y =  244.00  and z=  -825.00\n",
      "Received !!!\n",
      "x =  -569.00 y =  244.00  and z=  -825.00\n"
     ]
    },
    {
     "name": "stderr",
     "output_type": "stream",
     "text": [
      "143.248.53.23 - - [28/Feb/2023 19:37:30] \"GET /api/accelerometer?x=-570.00&y=243.00&z=-825.00 HTTP/1.1\" 200 -\n"
     ]
    },
    {
     "name": "stdout",
     "output_type": "stream",
     "text": [
      "Received !!!\n",
      "x =  -570.00 y =  243.00  and z=  -825.00\n"
     ]
    },
    {
     "name": "stderr",
     "output_type": "stream",
     "text": [
      "143.248.53.23 - - [28/Feb/2023 19:37:30] \"GET /api/accelerometer?x=-572.00&y=243.00&z=-824.00 HTTP/1.1\" 200 -\n",
      "143.248.53.23 - - [28/Feb/2023 19:37:30] \"GET /api/accelerometer?x=-571.00&y=243.00&z=-825.00 HTTP/1.1\" 200 -\n"
     ]
    },
    {
     "name": "stdout",
     "output_type": "stream",
     "text": [
      "Received !!!\n",
      "x =  -572.00 y =  243.00  and z=  -824.00\n",
      "Received !!!\n",
      "x =  -571.00 y =  243.00  and z=  -825.00\n"
     ]
    },
    {
     "name": "stderr",
     "output_type": "stream",
     "text": [
      "143.248.53.23 - - [28/Feb/2023 19:37:30] \"GET /api/accelerometer?x=-570.00&y=244.00&z=-826.00 HTTP/1.1\" 200 -\n",
      "143.248.53.23 - - [28/Feb/2023 19:37:30] \"GET /api/accelerometer?x=-570.00&y=244.00&z=-825.00 HTTP/1.1\" 200 -\n"
     ]
    },
    {
     "name": "stdout",
     "output_type": "stream",
     "text": [
      "Received !!!\n",
      "x =  -570.00 y =  244.00  and z=  -826.00\n",
      "Received !!!\n",
      "x =  -570.00 y =  244.00  and z=  -825.00\n"
     ]
    },
    {
     "name": "stderr",
     "output_type": "stream",
     "text": [
      "143.248.53.23 - - [28/Feb/2023 19:37:31] \"GET /api/accelerometer?x=-570.00&y=242.00&z=-826.00 HTTP/1.1\" 200 -\n",
      "143.248.53.23 - - [28/Feb/2023 19:37:31] \"GET /api/accelerometer?x=-571.00&y=244.00&z=-826.00 HTTP/1.1\" 200 -\n"
     ]
    },
    {
     "name": "stdout",
     "output_type": "stream",
     "text": [
      "Received !!!\n",
      "x =  -570.00 y =  242.00  and z=  -826.00\n",
      "Received !!!\n",
      "x =  -571.00 y =  244.00  and z=  -826.00\n"
     ]
    },
    {
     "name": "stderr",
     "output_type": "stream",
     "text": [
      "143.248.53.23 - - [28/Feb/2023 19:37:31] \"GET /api/accelerometer?x=-571.00&y=244.00&z=-825.00 HTTP/1.1\" 200 -\n",
      "143.248.53.23 - - [28/Feb/2023 19:37:31] \"GET /api/accelerometer?x=-571.00&y=244.00&z=-825.00 HTTP/1.1\" 200 -\n"
     ]
    },
    {
     "name": "stdout",
     "output_type": "stream",
     "text": [
      "Received !!!\n",
      "x =  -571.00 y =  244.00  and z=  -825.00\n",
      "Received !!!\n",
      "x =  -571.00 y =  244.00  and z=  -825.00\n"
     ]
    },
    {
     "name": "stderr",
     "output_type": "stream",
     "text": [
      "143.248.53.23 - - [28/Feb/2023 19:37:31] \"GET /api/accelerometer?x=-569.00&y=243.00&z=-826.00 HTTP/1.1\" 200 -\n"
     ]
    },
    {
     "name": "stdout",
     "output_type": "stream",
     "text": [
      "Received !!!\n",
      "x =  -569.00 y =  243.00  and z=  -826.00\n"
     ]
    }
   ],
   "source": [
    "from flask import Flask, request, jsonify\n",
    "\n",
    "app = Flask(__name__)\n",
    "\n",
    "@app.route('/api/accelerometer', methods=['GET'])\n",
    "def predict_activity():\n",
    "    x = request.args.get('x')\n",
    "    y = request.args.get('y')\n",
    "    z = request.args.get('z')\n",
    "    print(\"Received !!!\")\n",
    "    print(\"x = \",x, \"y = \",y,\" and z= \", z)\n",
    "    # TODO: Add your prediction code here\n",
    "    # Replace 'walking' with your actual prediction\n",
    "    prediction = 'Static'\n",
    "    \n",
    "    return jsonify({'prediction': prediction})\n",
    "\n",
    "if __name__ == '__main__':\n",
    "    app.run(host='0.0.0.0', port=11111)\n"
   ]
  }
 ],
 "metadata": {
  "kernelspec": {
   "display_name": "keras",
   "language": "python",
   "name": "python3"
  },
  "language_info": {
   "codemirror_mode": {
    "name": "ipython",
    "version": 3
   },
   "file_extension": ".py",
   "mimetype": "text/x-python",
   "name": "python",
   "nbconvert_exporter": "python",
   "pygments_lexer": "ipython3",
   "version": "3.10.9 (main, Jan 11 2023, 15:21:40) [GCC 11.2.0]"
  },
  "orig_nbformat": 4,
  "vscode": {
   "interpreter": {
    "hash": "ca570e0bcc01bc02b8e82ff47e1cc27ea4cfaeb62d34415ed49a21c808390c88"
   }
  }
 },
 "nbformat": 4,
 "nbformat_minor": 2
}
