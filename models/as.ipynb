{
 "cells": [
  {
   "cell_type": "code",
   "execution_count": 6,
   "metadata": {},
   "outputs": [
    {
     "name": "stdout",
     "output_type": "stream",
     "text": [
      " * Serving Flask app '__main__'\n",
      " * Debug mode: off\n"
     ]
    },
    {
     "name": "stderr",
     "output_type": "stream",
     "text": [
      "\u001b[31m\u001b[1mWARNING: This is a development server. Do not use it in a production deployment. Use a production WSGI server instead.\u001b[0m\n",
      " * Running on all addresses (0.0.0.0)\n",
      " * Running on http://127.0.0.1:8888\n",
      " * Running on http://143.248.57.55:8888\n",
      "\u001b[33mPress CTRL+C to quit\u001b[0m\n"
     ]
    }
   ],
   "source": [
    "from flask import Flask, request, jsonify\n",
    "\n",
    "app = Flask(__name__)\n",
    "\n",
    "@app.route('/api/accelerometer', methods=['POST'])\n",
    "def predict_activity():\n",
    "    data = request.get_json()\n",
    "    x = data['x']\n",
    "    y = data['y']\n",
    "    z = data['z']\n",
    "    \n",
    "    # TODO: Add your prediction code here\n",
    "    # Replace 'walking' with your actual prediction\n",
    "    prediction = 'walking'\n",
    "    \n",
    "    return jsonify({'prediction': prediction})\n",
    "\n",
    "if __name__ == '__main__':\n",
    "    #app.run()\n",
    "    app.run(host='0.0.0.0', port=8888)\n"
   ]
  },
  {
   "cell_type": "code",
   "execution_count": 2,
   "metadata": {},
   "outputs": [
    {
     "name": "stdout",
     "output_type": "stream",
     "text": [
      " * Serving Flask app \"__main__\" (lazy loading)\n",
      " * Environment: production\n",
      "\u001b[31m   WARNING: This is a development server. Do not use it in a production deployment.\u001b[0m\n",
      "\u001b[2m   Use a production WSGI server instead.\u001b[0m\n",
      " * Debug mode: off\n"
     ]
    },
    {
     "name": "stderr",
     "output_type": "stream",
     "text": [
      " * Running on all addresses.\n",
      "   WARNING: This is a development server. Do not use it in a production deployment.\n",
      " * Running on http://143.248.57.55:11111/ (Press CTRL+C to quit)\n",
      "143.248.53.23 - - [01/Mar/2023 17:02:50] \"GET /api/accelerometer?x=-55.00&y=192.00&z=-1002.00 HTTP/1.1\" 200 -\n"
     ]
    },
    {
     "name": "stdout",
     "output_type": "stream",
     "text": [
      "Received !!!\n",
      "x =  -55.00 y =  192.00  and z=  -1002.00\n"
     ]
    },
    {
     "name": "stderr",
     "output_type": "stream",
     "text": [
      "143.248.53.23 - - [01/Mar/2023 17:02:50] \"GET /api/accelerometer?x=-55.00&y=191.00&z=-1002.00 HTTP/1.1\" 200 -\n",
      "143.248.53.23 - - [01/Mar/2023 17:02:50] \"GET /api/accelerometer?x=-57.00&y=191.00&z=-1002.00 HTTP/1.1\" 200 -\n"
     ]
    },
    {
     "name": "stdout",
     "output_type": "stream",
     "text": [
      "Received !!!\n",
      "x =  -55.00 y =  191.00  and z=  -1002.00\n",
      "Received !!!\n",
      "x =  -57.00 y =  191.00  and z=  -1002.00\n"
     ]
    },
    {
     "name": "stderr",
     "output_type": "stream",
     "text": [
      "143.248.53.23 - - [01/Mar/2023 17:02:51] \"GET /api/accelerometer?x=-55.00&y=191.00&z=-1001.00 HTTP/1.1\" 200 -\n",
      "143.248.53.23 - - [01/Mar/2023 17:02:51] \"GET /api/accelerometer?x=-55.00&y=190.00&z=-1000.00 HTTP/1.1\" 200 -\n"
     ]
    },
    {
     "name": "stdout",
     "output_type": "stream",
     "text": [
      "Received !!!\n",
      "x =  -55.00 y =  191.00  and z=  -1001.00\n",
      "Received !!!\n",
      "x =  -55.00 y =  190.00  and z=  -1000.00\n"
     ]
    },
    {
     "name": "stderr",
     "output_type": "stream",
     "text": [
      "143.248.53.23 - - [01/Mar/2023 17:02:51] \"GET /api/accelerometer?x=-55.00&y=191.00&z=-1001.00 HTTP/1.1\" 200 -\n"
     ]
    },
    {
     "name": "stdout",
     "output_type": "stream",
     "text": [
      "Received !!!\n",
      "x =  -55.00 y =  191.00  and z=  -1001.00\n"
     ]
    },
    {
     "name": "stderr",
     "output_type": "stream",
     "text": [
      "143.248.53.23 - - [01/Mar/2023 17:02:51] \"GET /api/accelerometer?x=-56.00&y=191.00&z=-1003.00 HTTP/1.1\" 200 -\n"
     ]
    },
    {
     "name": "stdout",
     "output_type": "stream",
     "text": [
      "Received !!!\n",
      "x =  -56.00 y =  191.00  and z=  -1003.00\n"
     ]
    },
    {
     "name": "stderr",
     "output_type": "stream",
     "text": [
      "143.248.53.23 - - [01/Mar/2023 17:02:52] \"GET /api/accelerometer?x=-56.00&y=192.00&z=-1003.00 HTTP/1.1\" 200 -\n"
     ]
    },
    {
     "name": "stdout",
     "output_type": "stream",
     "text": [
      "Received !!!\n",
      "x =  -56.00 y =  192.00  and z=  -1003.00\n"
     ]
    },
    {
     "name": "stderr",
     "output_type": "stream",
     "text": [
      "143.248.53.23 - - [01/Mar/2023 17:02:52] \"GET /api/accelerometer?x=-55.00&y=191.00&z=-1003.00 HTTP/1.1\" 200 -\n"
     ]
    },
    {
     "name": "stdout",
     "output_type": "stream",
     "text": [
      "Received !!!\n",
      "x =  -55.00 y =  191.00  and z=  -1003.00\n"
     ]
    },
    {
     "name": "stderr",
     "output_type": "stream",
     "text": [
      "143.248.53.23 - - [01/Mar/2023 17:02:52] \"GET /api/accelerometer?x=-55.00&y=190.00&z=-1003.00 HTTP/1.1\" 200 -\n"
     ]
    },
    {
     "name": "stdout",
     "output_type": "stream",
     "text": [
      "Received !!!\n",
      "x =  -55.00 y =  190.00  and z=  -1003.00\n",
      "Received !!!\n",
      "x =  -56.00 y =  191.00  and z=  -1002.00\n"
     ]
    },
    {
     "name": "stderr",
     "output_type": "stream",
     "text": [
      "143.248.53.23 - - [01/Mar/2023 17:02:52] \"GET /api/accelerometer?x=-56.00&y=191.00&z=-1002.00 HTTP/1.1\" 200 -\n",
      "143.248.53.23 - - [01/Mar/2023 17:02:52] \"GET /api/accelerometer?x=-55.00&y=191.00&z=-1001.00 HTTP/1.1\" 200 -\n"
     ]
    },
    {
     "name": "stdout",
     "output_type": "stream",
     "text": [
      "Received !!!\n",
      "x =  -55.00 y =  191.00  and z=  -1001.00\n"
     ]
    },
    {
     "name": "stderr",
     "output_type": "stream",
     "text": [
      "143.248.53.23 - - [01/Mar/2023 17:02:53] \"GET /api/accelerometer?x=-56.00&y=191.00&z=-1001.00 HTTP/1.1\" 200 -\n"
     ]
    },
    {
     "name": "stdout",
     "output_type": "stream",
     "text": [
      "Received !!!\n",
      "x =  -56.00 y =  191.00  and z=  -1001.00\n"
     ]
    },
    {
     "name": "stderr",
     "output_type": "stream",
     "text": [
      "143.248.53.23 - - [01/Mar/2023 17:02:53] \"GET /api/accelerometer?x=-55.00&y=189.00&z=-1002.00 HTTP/1.1\" 200 -\n",
      "143.248.53.23 - - [01/Mar/2023 17:02:53] \"GET /api/accelerometer?x=-56.00&y=191.00&z=-1001.00 HTTP/1.1\" 200 -\n"
     ]
    },
    {
     "name": "stdout",
     "output_type": "stream",
     "text": [
      "Received !!!\n",
      "x =  -55.00 y =  189.00  and z=  -1002.00\n",
      "Received !!!\n",
      "x =  -56.00 y =  191.00  and z=  -1001.00\n"
     ]
    },
    {
     "name": "stderr",
     "output_type": "stream",
     "text": [
      "143.248.53.23 - - [01/Mar/2023 17:02:53] \"GET /api/accelerometer?x=-56.00&y=189.00&z=-999.00 HTTP/1.1\" 200 -\n",
      "143.248.53.23 - - [01/Mar/2023 17:02:53] \"GET /api/accelerometer?x=-56.00&y=192.00&z=-1001.00 HTTP/1.1\" 200 -\n"
     ]
    },
    {
     "name": "stdout",
     "output_type": "stream",
     "text": [
      "Received !!!\n",
      "x =  -56.00 y =  189.00  and z=  -999.00\n",
      "Received !!!\n",
      "x =  -56.00 y =  192.00  and z=  -1001.00\n"
     ]
    },
    {
     "name": "stderr",
     "output_type": "stream",
     "text": [
      "143.248.53.23 - - [01/Mar/2023 17:02:54] \"GET /api/accelerometer?x=-57.00&y=190.00&z=-1002.00 HTTP/1.1\" 200 -\n"
     ]
    },
    {
     "name": "stdout",
     "output_type": "stream",
     "text": [
      "Received !!!\n",
      "x =  -57.00 y =  190.00  and z=  -1002.00\n"
     ]
    },
    {
     "name": "stderr",
     "output_type": "stream",
     "text": [
      "143.248.53.23 - - [01/Mar/2023 17:02:54] \"GET /api/accelerometer?x=-56.00&y=192.00&z=-1002.00 HTTP/1.1\" 200 -\n",
      "143.248.53.23 - - [01/Mar/2023 17:02:54] \"GET /api/accelerometer?x=-54.00&y=191.00&z=-997.00 HTTP/1.1\" 200 -\n"
     ]
    },
    {
     "name": "stdout",
     "output_type": "stream",
     "text": [
      "Received !!!\n",
      "x =  -56.00 y =  192.00  and z=  -1002.00\n",
      "Received !!!\n",
      "x =  -54.00 y =  191.00  and z=  -997.00\n"
     ]
    },
    {
     "name": "stderr",
     "output_type": "stream",
     "text": [
      "143.248.53.23 - - [01/Mar/2023 17:02:55] \"GET /api/accelerometer?x=-54.00&y=191.00&z=-1000.00 HTTP/1.1\" 200 -\n"
     ]
    },
    {
     "name": "stdout",
     "output_type": "stream",
     "text": [
      "Received !!!\n",
      "x =  -54.00 y =  191.00  and z=  -1000.00\n"
     ]
    },
    {
     "name": "stderr",
     "output_type": "stream",
     "text": [
      "143.248.53.23 - - [01/Mar/2023 17:02:55] \"GET /api/accelerometer?x=-54.00&y=192.00&z=-997.00 HTTP/1.1\" 200 -\n",
      "143.248.53.23 - - [01/Mar/2023 17:02:55] \"GET /api/accelerometer?x=-55.00&y=191.00&z=-999.00 HTTP/1.1\" 200 -\n"
     ]
    },
    {
     "name": "stdout",
     "output_type": "stream",
     "text": [
      "Received !!!\n",
      "x =  -54.00 y =  192.00  and z=  -997.00\n",
      "Received !!!\n",
      "x =  -55.00 y =  191.00  and z=  -999.00\n"
     ]
    },
    {
     "name": "stderr",
     "output_type": "stream",
     "text": [
      "143.248.53.23 - - [01/Mar/2023 17:02:55] \"GET /api/accelerometer?x=-54.00&y=192.00&z=-998.00 HTTP/1.1\" 200 -\n"
     ]
    },
    {
     "name": "stdout",
     "output_type": "stream",
     "text": [
      "Received !!!\n",
      "x =  -54.00 y =  192.00  and z=  -998.00\n"
     ]
    },
    {
     "name": "stderr",
     "output_type": "stream",
     "text": [
      "143.248.53.23 - - [01/Mar/2023 17:02:55] \"GET /api/accelerometer?x=-55.00&y=192.00&z=-1003.00 HTTP/1.1\" 200 -\n"
     ]
    },
    {
     "name": "stdout",
     "output_type": "stream",
     "text": [
      "Received !!!\n",
      "x =  -55.00 y =  192.00  and z=  -1003.00\n"
     ]
    },
    {
     "name": "stderr",
     "output_type": "stream",
     "text": [
      "143.248.53.23 - - [01/Mar/2023 17:02:56] \"GET /api/accelerometer?x=-55.00&y=191.00&z=-1003.00 HTTP/1.1\" 200 -\n"
     ]
    },
    {
     "name": "stdout",
     "output_type": "stream",
     "text": [
      "Received !!!\n",
      "x =  -55.00 y =  191.00  and z=  -1003.00\n"
     ]
    },
    {
     "name": "stderr",
     "output_type": "stream",
     "text": [
      "143.248.53.23 - - [01/Mar/2023 17:02:56] \"GET /api/accelerometer?x=-56.00&y=192.00&z=-1002.00 HTTP/1.1\" 200 -\n"
     ]
    },
    {
     "name": "stdout",
     "output_type": "stream",
     "text": [
      "Received !!!\n",
      "x =  -56.00 y =  192.00  and z=  -1002.00\n"
     ]
    },
    {
     "name": "stderr",
     "output_type": "stream",
     "text": [
      "143.248.53.23 - - [01/Mar/2023 17:02:56] \"GET /api/accelerometer?x=-55.00&y=190.00&z=-1002.00 HTTP/1.1\" 200 -\n"
     ]
    },
    {
     "name": "stdout",
     "output_type": "stream",
     "text": [
      "Received !!!\n",
      "x =  -55.00 y =  190.00  and z=  -1002.00\n"
     ]
    },
    {
     "name": "stderr",
     "output_type": "stream",
     "text": [
      "143.248.53.23 - - [01/Mar/2023 17:02:56] \"GET /api/accelerometer?x=-56.00&y=192.00&z=-1003.00 HTTP/1.1\" 200 -\n",
      "143.248.53.23 - - [01/Mar/2023 17:02:57] \"GET /api/accelerometer?x=-57.00&y=189.00&z=-1005.00 HTTP/1.1\" 200 -\n"
     ]
    },
    {
     "name": "stdout",
     "output_type": "stream",
     "text": [
      "Received !!!\n",
      "x =  -56.00 y =  192.00  and z=  -1003.00\n",
      "Received !!!\n",
      "x =  -57.00 y =  189.00  and z=  -1005.00\n"
     ]
    },
    {
     "name": "stderr",
     "output_type": "stream",
     "text": [
      "143.248.53.23 - - [01/Mar/2023 17:02:57] \"GET /api/accelerometer?x=-55.00&y=191.00&z=-999.00 HTTP/1.1\" 200 -\n"
     ]
    },
    {
     "name": "stdout",
     "output_type": "stream",
     "text": [
      "Received !!!\n",
      "x =  -55.00 y =  191.00  and z=  -999.00\n"
     ]
    },
    {
     "name": "stderr",
     "output_type": "stream",
     "text": [
      "143.248.53.23 - - [01/Mar/2023 17:02:57] \"GET /api/accelerometer?x=-54.00&y=192.00&z=-1002.00 HTTP/1.1\" 200 -\n"
     ]
    },
    {
     "name": "stdout",
     "output_type": "stream",
     "text": [
      "Received !!!\n",
      "x =  -54.00 y =  192.00  and z=  -1002.00\n"
     ]
    },
    {
     "name": "stderr",
     "output_type": "stream",
     "text": [
      "143.248.53.23 - - [01/Mar/2023 17:02:57] \"GET /api/accelerometer?x=-55.00&y=191.00&z=-1002.00 HTTP/1.1\" 200 -\n",
      "143.248.53.23 - - [01/Mar/2023 17:02:57] \"GET /api/accelerometer?x=-56.00&y=191.00&z=-1002.00 HTTP/1.1\" 200 -\n"
     ]
    },
    {
     "name": "stdout",
     "output_type": "stream",
     "text": [
      "Received !!!\n",
      "x =  -55.00 y =  191.00  and z=  -1002.00\n",
      "Received !!!\n",
      "x =  -56.00 y =  191.00  and z=  -1002.00\n"
     ]
    },
    {
     "name": "stderr",
     "output_type": "stream",
     "text": [
      "143.248.53.23 - - [01/Mar/2023 17:02:58] \"GET /api/accelerometer?x=-54.00&y=191.00&z=-1001.00 HTTP/1.1\" 200 -\n"
     ]
    },
    {
     "name": "stdout",
     "output_type": "stream",
     "text": [
      "Received !!!\n",
      "x =  -54.00 y =  191.00  and z=  -1001.00\n"
     ]
    },
    {
     "name": "stderr",
     "output_type": "stream",
     "text": [
      "143.248.53.23 - - [01/Mar/2023 17:02:58] \"GET /api/accelerometer?x=-56.00&y=192.00&z=-1001.00 HTTP/1.1\" 200 -\n"
     ]
    },
    {
     "name": "stdout",
     "output_type": "stream",
     "text": [
      "Received !!!\n",
      "x =  -56.00 y =  192.00  and z=  -1001.00\n"
     ]
    },
    {
     "name": "stderr",
     "output_type": "stream",
     "text": [
      "143.248.53.23 - - [01/Mar/2023 17:02:58] \"GET /api/accelerometer?x=-54.00&y=192.00&z=-1000.00 HTTP/1.1\" 200 -\n",
      "143.248.53.23 - - [01/Mar/2023 17:02:58] \"GET /api/accelerometer?x=-54.00&y=190.00&z=-1001.00 HTTP/1.1\" 200 -\n"
     ]
    },
    {
     "name": "stdout",
     "output_type": "stream",
     "text": [
      "Received !!!\n",
      "x =  -54.00 y =  192.00  and z=  -1000.00\n",
      "Received !!!\n",
      "x =  -54.00 y =  190.00  and z=  -1001.00\n"
     ]
    },
    {
     "name": "stderr",
     "output_type": "stream",
     "text": [
      "143.248.53.23 - - [01/Mar/2023 17:02:58] \"GET /api/accelerometer?x=-55.00&y=190.00&z=-1001.00 HTTP/1.1\" 200 -\n"
     ]
    },
    {
     "name": "stdout",
     "output_type": "stream",
     "text": [
      "Received !!!\n",
      "x =  -55.00 y =  190.00  and z=  -1001.00\n"
     ]
    },
    {
     "name": "stderr",
     "output_type": "stream",
     "text": [
      "143.248.53.23 - - [01/Mar/2023 17:02:59] \"GET /api/accelerometer?x=-54.00&y=191.00&z=-1001.00 HTTP/1.1\" 200 -\n",
      "143.248.53.23 - - [01/Mar/2023 17:02:59] \"GET /api/accelerometer?x=-55.00&y=192.00&z=-1004.00 HTTP/1.1\" 200 -\n"
     ]
    },
    {
     "name": "stdout",
     "output_type": "stream",
     "text": [
      "Received !!!\n",
      "x =  -54.00 y =  191.00  and z=  -1001.00\n",
      "Received !!!\n",
      "x =  -55.00 y =  192.00  and z=  -1004.00\n"
     ]
    },
    {
     "name": "stderr",
     "output_type": "stream",
     "text": [
      "143.248.53.23 - - [01/Mar/2023 17:02:59] \"GET /api/accelerometer?x=-56.00&y=190.00&z=-1000.00 HTTP/1.1\" 200 -\n",
      "143.248.53.23 - - [01/Mar/2023 17:02:59] \"GET /api/accelerometer?x=-55.00&y=191.00&z=-1002.00 HTTP/1.1\" 200 -\n"
     ]
    },
    {
     "name": "stdout",
     "output_type": "stream",
     "text": [
      "Received !!!\n",
      "x =  -56.00 y =  190.00  and z=  -1000.00\n",
      "Received !!!\n",
      "x =  -55.00 y =  191.00  and z=  -1002.00\n"
     ]
    },
    {
     "name": "stderr",
     "output_type": "stream",
     "text": [
      "143.248.53.23 - - [01/Mar/2023 17:02:59] \"GET /api/accelerometer?x=-56.00&y=190.00&z=-999.00 HTTP/1.1\" 200 -\n"
     ]
    },
    {
     "name": "stdout",
     "output_type": "stream",
     "text": [
      "Received !!!\n",
      "x =  -56.00 y =  190.00  and z=  -999.00\n"
     ]
    },
    {
     "name": "stderr",
     "output_type": "stream",
     "text": [
      "143.248.53.23 - - [01/Mar/2023 17:03:00] \"GET /api/accelerometer?x=-56.00&y=192.00&z=-1001.00 HTTP/1.1\" 200 -\n"
     ]
    },
    {
     "name": "stdout",
     "output_type": "stream",
     "text": [
      "Received !!!\n",
      "x =  -56.00 y =  192.00  and z=  -1001.00\n"
     ]
    },
    {
     "name": "stderr",
     "output_type": "stream",
     "text": [
      "143.248.53.23 - - [01/Mar/2023 17:03:00] \"GET /api/accelerometer?x=-55.00&y=190.00&z=-1000.00 HTTP/1.1\" 200 -\n"
     ]
    },
    {
     "name": "stdout",
     "output_type": "stream",
     "text": [
      "Received !!!\n",
      "x =  -55.00 y =  190.00  and z=  -1000.00\n"
     ]
    },
    {
     "name": "stderr",
     "output_type": "stream",
     "text": [
      "143.248.53.23 - - [01/Mar/2023 17:03:00] \"GET /api/accelerometer?x=-55.00&y=190.00&z=-1000.00 HTTP/1.1\" 200 -\n"
     ]
    },
    {
     "name": "stdout",
     "output_type": "stream",
     "text": [
      "Received !!!\n",
      "x =  -55.00 y =  190.00  and z=  -1000.00\n"
     ]
    },
    {
     "name": "stderr",
     "output_type": "stream",
     "text": [
      "143.248.53.23 - - [01/Mar/2023 17:03:00] \"GET /api/accelerometer?x=-55.00&y=191.00&z=-1004.00 HTTP/1.1\" 200 -\n"
     ]
    },
    {
     "name": "stdout",
     "output_type": "stream",
     "text": [
      "Received !!!\n",
      "x =  -55.00 y =  191.00  and z=  -1004.00\n",
      "Received !!!\n",
      "x =  -55.00 y =  189.00  and z=  -1001.00\n"
     ]
    },
    {
     "name": "stderr",
     "output_type": "stream",
     "text": [
      "143.248.53.23 - - [01/Mar/2023 17:03:01] \"GET /api/accelerometer?x=-55.00&y=189.00&z=-1001.00 HTTP/1.1\" 200 -\n",
      "143.248.53.23 - - [01/Mar/2023 17:03:01] \"GET /api/accelerometer?x=-55.00&y=192.00&z=-1001.00 HTTP/1.1\" 200 -\n"
     ]
    },
    {
     "name": "stdout",
     "output_type": "stream",
     "text": [
      "Received !!!\n",
      "x =  -55.00 y =  192.00  and z=  -1001.00\n"
     ]
    },
    {
     "name": "stderr",
     "output_type": "stream",
     "text": [
      "143.248.53.23 - - [01/Mar/2023 17:03:01] \"GET /api/accelerometer?x=-56.00&y=190.00&z=-1001.00 HTTP/1.1\" 200 -\n"
     ]
    },
    {
     "name": "stdout",
     "output_type": "stream",
     "text": [
      "Received !!!\n",
      "x =  -56.00 y =  190.00  and z=  -1001.00\n"
     ]
    },
    {
     "name": "stderr",
     "output_type": "stream",
     "text": [
      "143.248.53.23 - - [01/Mar/2023 17:03:01] \"GET /api/accelerometer?x=-56.00&y=189.00&z=-999.00 HTTP/1.1\" 200 -\n"
     ]
    },
    {
     "name": "stdout",
     "output_type": "stream",
     "text": [
      "Received !!!\n",
      "x =  -56.00 y =  189.00  and z=  -999.00\n"
     ]
    },
    {
     "name": "stderr",
     "output_type": "stream",
     "text": [
      "143.248.53.23 - - [01/Mar/2023 17:03:02] \"GET /api/accelerometer?x=-53.00&y=193.00&z=-1005.00 HTTP/1.1\" 200 -\n"
     ]
    },
    {
     "name": "stdout",
     "output_type": "stream",
     "text": [
      "Received !!!\n",
      "x =  -53.00 y =  193.00  and z=  -1005.00\n"
     ]
    },
    {
     "name": "stderr",
     "output_type": "stream",
     "text": [
      "143.248.53.23 - - [01/Mar/2023 17:03:02] \"GET /api/accelerometer?x=-55.00&y=190.00&z=-1001.00 HTTP/1.1\" 200 -\n",
      "143.248.53.23 - - [01/Mar/2023 17:03:02] \"GET /api/accelerometer?x=-56.00&y=191.00&z=-1003.00 HTTP/1.1\" 200 -\n"
     ]
    },
    {
     "name": "stdout",
     "output_type": "stream",
     "text": [
      "Received !!!\n",
      "x =  -55.00 y =  190.00  and z=  -1001.00\n",
      "Received !!!\n",
      "x =  -56.00 y =  191.00  and z=  -1003.00\n"
     ]
    },
    {
     "name": "stderr",
     "output_type": "stream",
     "text": [
      "143.248.53.23 - - [01/Mar/2023 17:03:02] \"GET /api/accelerometer?x=-56.00&y=191.00&z=-1000.00 HTTP/1.1\" 200 -\n"
     ]
    },
    {
     "name": "stdout",
     "output_type": "stream",
     "text": [
      "Received !!!\n",
      "x =  -56.00 y =  191.00  and z=  -1000.00\n"
     ]
    },
    {
     "name": "stderr",
     "output_type": "stream",
     "text": [
      "143.248.53.23 - - [01/Mar/2023 17:03:02] \"GET /api/accelerometer?x=-58.00&y=189.00&z=-998.00 HTTP/1.1\" 200 -\n",
      "143.248.53.23 - - [01/Mar/2023 17:03:03] \"GET /api/accelerometer?x=-56.00&y=191.00&z=-1005.00 HTTP/1.1\" 200 -\n"
     ]
    },
    {
     "name": "stdout",
     "output_type": "stream",
     "text": [
      "Received !!!\n",
      "x =  -58.00 y =  189.00  and z=  -998.00\n",
      "Received !!!\n",
      "x =  -56.00 y =  191.00  and z=  -1005.00\n"
     ]
    },
    {
     "name": "stderr",
     "output_type": "stream",
     "text": [
      "143.248.53.23 - - [01/Mar/2023 17:03:03] \"GET /api/accelerometer?x=-57.00&y=190.00&z=-999.00 HTTP/1.1\" 200 -\n",
      "143.248.53.23 - - [01/Mar/2023 17:03:03] \"GET /api/accelerometer?x=-54.00&y=191.00&z=-1002.00 HTTP/1.1\" 200 -\n"
     ]
    },
    {
     "name": "stdout",
     "output_type": "stream",
     "text": [
      "Received !!!\n",
      "x =  -57.00 y =  190.00  and z=  -999.00\n",
      "Received !!!\n",
      "x =  -54.00 y =  191.00  and z=  -1002.00\n"
     ]
    },
    {
     "name": "stderr",
     "output_type": "stream",
     "text": [
      "143.248.53.23 - - [01/Mar/2023 17:03:03] \"GET /api/accelerometer?x=-55.00&y=190.00&z=-1001.00 HTTP/1.1\" 200 -\n"
     ]
    },
    {
     "name": "stdout",
     "output_type": "stream",
     "text": [
      "Received !!!\n",
      "x =  -55.00 y =  190.00  and z=  -1001.00\n"
     ]
    },
    {
     "name": "stderr",
     "output_type": "stream",
     "text": [
      "143.248.53.23 - - [01/Mar/2023 17:03:03] \"GET /api/accelerometer?x=-56.00&y=191.00&z=-1000.00 HTTP/1.1\" 200 -\n"
     ]
    },
    {
     "name": "stdout",
     "output_type": "stream",
     "text": [
      "Received !!!\n",
      "x =  -56.00 y =  191.00  and z=  -1000.00\n"
     ]
    },
    {
     "name": "stderr",
     "output_type": "stream",
     "text": [
      "143.248.53.23 - - [01/Mar/2023 17:03:04] \"GET /api/accelerometer?x=-55.00&y=191.00&z=-1001.00 HTTP/1.1\" 200 -\n"
     ]
    },
    {
     "name": "stdout",
     "output_type": "stream",
     "text": [
      "Received !!!\n",
      "x =  -55.00 y =  191.00  and z=  -1001.00\n"
     ]
    },
    {
     "name": "stderr",
     "output_type": "stream",
     "text": [
      "143.248.53.23 - - [01/Mar/2023 17:03:04] \"GET /api/accelerometer?x=-55.00&y=191.00&z=-1002.00 HTTP/1.1\" 200 -\n",
      "143.248.53.23 - - [01/Mar/2023 17:03:04] \"GET /api/accelerometer?x=-57.00&y=191.00&z=-1000.00 HTTP/1.1\" 200 -\n"
     ]
    },
    {
     "name": "stdout",
     "output_type": "stream",
     "text": [
      "Received !!!\n",
      "x =  -55.00 y =  191.00  and z=  -1002.00\n",
      "Received !!!\n",
      "x =  -57.00 y =  191.00  and z=  -1000.00\n"
     ]
    }
   ],
   "source": [
    "from flask import Flask, request, jsonify\n",
    "\n",
    "app = Flask(__name__)\n",
    "\n",
    "@app.route('/api/accelerometer', methods=['GET'])\n",
    "def predict_activity():\n",
    "    x = request.args.get('x')\n",
    "    y = request.args.get('y')\n",
    "    z = request.args.get('z')\n",
    "    print(\"Received !!!\")\n",
    "    print(\"x = \",x, \"y = \",y,\" and z= \", z)\n",
    "    # TODO: Add your prediction code here\n",
    "    # Replace 'walking' with your actual prediction\n",
    "    prediction = 'Anything'\n",
    "    \n",
    "    return jsonify({'prediction': prediction})\n",
    "\n",
    "if __name__ == '__main__':\n",
    "    app.run(host='0.0.0.0', port=11111)\n"
   ]
  }
 ],
 "metadata": {
  "kernelspec": {
   "display_name": "keras",
   "language": "python",
   "name": "python3"
  },
  "language_info": {
   "codemirror_mode": {
    "name": "ipython",
    "version": 3
   },
   "file_extension": ".py",
   "mimetype": "text/x-python",
   "name": "python",
   "nbconvert_exporter": "python",
   "pygments_lexer": "ipython3",
   "version": "3.10.9 (main, Jan 11 2023, 15:21:40) [GCC 11.2.0]"
  },
  "orig_nbformat": 4,
  "vscode": {
   "interpreter": {
    "hash": "ca570e0bcc01bc02b8e82ff47e1cc27ea4cfaeb62d34415ed49a21c808390c88"
   }
  }
 },
 "nbformat": 4,
 "nbformat_minor": 2
}
